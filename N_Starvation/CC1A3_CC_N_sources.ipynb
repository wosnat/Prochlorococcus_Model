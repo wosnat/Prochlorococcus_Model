{
 "cells": [
  {
   "cell_type": "markdown",
   "metadata": {},
   "source": [
    "# N starvation \n",
    "\n",
    "## Which N sources allow MED4 to grow"
   ]
  },
  {
   "cell_type": "markdown",
   "metadata": {},
   "source": [
    "check out Escher visualization https://escher.readthedocs.io/en/latest/getting_started.html"
   ]
  },
  {
   "cell_type": "code",
   "execution_count": 1,
   "metadata": {
    "ExecuteTime": {
     "end_time": "2020-12-15T09:30:48.353507Z",
     "start_time": "2020-12-15T09:30:43.130260Z"
    }
   },
   "outputs": [],
   "source": [
    "import pandas as pd\n",
    "import matplotlib.pyplot as plt\n",
    "import cobra\n",
    "import numpy as np\n",
    "import seaborn as sns\n",
    "import itertools\n",
    "from matplotlib.colors import LogNorm, Normalize\n"
   ]
  },
  {
   "cell_type": "code",
   "execution_count": 2,
   "metadata": {},
   "outputs": [],
   "source": [
    "import subprocess\n",
    "import time\n"
   ]
  },
  {
   "cell_type": "code",
   "execution_count": 3,
   "metadata": {},
   "outputs": [],
   "source": [
    "from cobra.flux_analysis import flux_variability_analysis\n",
    "from cobra.flux_analysis import production_envelope\n"
   ]
  },
  {
   "cell_type": "code",
   "execution_count": 4,
   "metadata": {},
   "outputs": [],
   "source": [
    "from cobra.flux_analysis import (\n",
    "    single_gene_deletion, single_reaction_deletion, double_gene_deletion,\n",
    "    double_reaction_deletion)"
   ]
  },
  {
   "cell_type": "code",
   "execution_count": 5,
   "metadata": {
    "ExecuteTime": {
     "end_time": "2020-12-15T09:30:48.389369Z",
     "start_time": "2020-12-15T09:30:48.353507Z"
    }
   },
   "outputs": [
    {
     "data": {
      "text/plain": [
       "<function seaborn.palettes.hls_palette(n_colors=6, h=0.01, l=0.6, s=0.65, as_cmap=False)>"
      ]
     },
     "execution_count": 5,
     "metadata": {},
     "output_type": "execute_result"
    }
   ],
   "source": [
    "sns.hls_palette"
   ]
  },
  {
   "cell_type": "code",
   "execution_count": 6,
   "metadata": {},
   "outputs": [],
   "source": [
    "# values from Ofaim at el.\n",
    "\n",
    "PARAMETER_VALUES = [#\"Name\",     \"Reaction ID\",          \"Lower bound\", \"UpperBound\"\n",
    "                   [\"HCO3\",      \"HCO3EXcar\",            -8,            0],\n",
    "                   #[\"Nitrogen\",  \"AmmoniaEX\",            -0.56,         0],\n",
    "                   #[\"Phosphate\", \"FAKEOrthophosphateEX\", -0.1,          0],\n",
    "                   [\"Light\",     \"LightEX\",              -150,          0]]\n",
    "CO2MAX = 0.82\n",
    "\n",
    "# Block fake reactions\n",
    "FAKE_TRANSPORT = [\"AminosugarsOUT\", \"FAKEAAOUT\", \"FAKEABPOUT\", \"FAKEacpTRANS\", \"FAKEApoacpTRANS\", \"FAKEThioredoxinTRANS\", \n",
    "                  \"FreefattyacidsOUT\", \"7NMeth7carbOUT\", \"ArtificialproteinOUT\", \"FADOUT\", \"LipoylproteinTRANS\", \"MenaquinoneOUT\", \n",
    "                  \"NicotinateOUT\", \"THFpolyglutOUT\", \"Thiamin_dpOUT\"]\n"
   ]
  },
  {
   "cell_type": "code",
   "execution_count": null,
   "metadata": {},
   "outputs": [],
   "source": []
  },
  {
   "cell_type": "code",
   "execution_count": 7,
   "metadata": {},
   "outputs": [],
   "source": [
    "def get_elements(rid):\n",
    "    r = model.reactions.get_by_id(rid)\n",
    "    m = r.reactants[0]    \n",
    "    elements = m.elements.copy()\n",
    "    \n",
    "    res = {\n",
    "        'reaction'   : rid,\n",
    "        'metabolite' : m.name,\n",
    "        'mid'        : m.id,\n",
    "        'N'          : 'N' in elements,\n",
    "        'C'          : 'C' in elements,\n",
    "        \n",
    "    }\n",
    "    return pd.Series(res)"
   ]
  },
  {
   "cell_type": "code",
   "execution_count": 8,
   "metadata": {},
   "outputs": [],
   "source": [
    "def alt_get_elements(rid):\n",
    "    r = alt_model.reactions.get_by_id(rid)\n",
    "    m = r.reactants[0]    \n",
    "    elements = m.elements.copy()\n",
    "    \n",
    "    res = {\n",
    "        'reaction'   : rid,\n",
    "        'metabolite' : m.name,\n",
    "        'mid'        : m.id,\n",
    "        'N'          : 'N' in elements,\n",
    "        'C'          : 'C' in elements,\n",
    "        \n",
    "    }\n",
    "    return pd.Series(res)"
   ]
  },
  {
   "cell_type": "code",
   "execution_count": 100,
   "metadata": {},
   "outputs": [],
   "source": [
    "def uni_get_elements(model, rid):\n",
    "    r = model.reactions.get_by_id(rid)\n",
    "    m = r.reactants[0]    \n",
    "    elements = m.elements.copy()\n",
    "    \n",
    "    res = {\n",
    "        'reaction'   : rid,\n",
    "        'metabolite' : m.name,\n",
    "        'mid'        : m.id,\n",
    "        'N'          : 'N' in elements,\n",
    "        'C'          : 'C' in elements,\n",
    "        \n",
    "    }\n",
    "    return pd.Series(res)"
   ]
  },
  {
   "cell_type": "markdown",
   "metadata": {},
   "source": [
    "# Import model and manipulate based on Ofaim at el"
   ]
  },
  {
   "cell_type": "code",
   "execution_count": 9,
   "metadata": {},
   "outputs": [],
   "source": [
    "import os\n",
    "model_dpath = os.path.join('..', 'Model_files')\n",
    "model_fname = 'iSO595v7_with_formula.xml'\n",
    "model_fpath = os.path.join(model_dpath, model_fname)\n"
   ]
  },
  {
   "cell_type": "code",
   "execution_count": 10,
   "metadata": {
    "ExecuteTime": {
     "end_time": "2020-12-15T09:30:49.550482Z",
     "start_time": "2020-12-15T09:30:48.441726Z"
    }
   },
   "outputs": [
    {
     "name": "stdout",
     "output_type": "stream",
     "text": [
      "Set parameter Username\n",
      "Academic license - for non-commercial use only - expires 2023-07-13\n"
     ]
    }
   ],
   "source": [
    "model = cobra.io.read_sbml_model(model_fpath)"
   ]
  },
  {
   "cell_type": "code",
   "execution_count": 11,
   "metadata": {},
   "outputs": [],
   "source": [
    "# manipulations copied from Ofaim at el.\n",
    "\n",
    "remove_blocked = False\n",
    "\n",
    "# Block H2S\n",
    "model.reactions.H2SEX.lower_bound = 0\n",
    "\n",
    "# Block fake transports\n",
    "for rid in FAKE_TRANSPORT:\n",
    "    model.reactions.get_by_id(rid).bounds = (0,0)\n",
    "\n",
    "# Remove blocked reactions\n",
    "if remove_blocked:\n",
    "    blocked = cobra.flux_analysis.find_blocked_reactions(model, open_exchanges = True)\n",
    "    print('blocked', len(blocked), blocked)\n",
    "    model.remove_reactions([model.reactions.get_by_id(r_id) for r_id in blocked])\n",
    "\n",
    "# Block maximum CO2 production\n",
    "model.reactions.CO2EX.bounds = (0, CO2MAX)\n",
    "\n",
    "for i, row in enumerate(PARAMETER_VALUES):\n",
    "    # Row: Name, Reaction ID, lower bound, upper bound\n",
    "    key = row[0]\n",
    "    reaction_id = row[1]\n",
    "    lower_bound = row[2]\n",
    "    upper_bound = row[3]\n",
    "    r = model.reactions.get_by_id(reaction_id)\n",
    "    # Fix flux\n",
    "    r.bounds = (lower_bound, upper_bound)"
   ]
  },
  {
   "cell_type": "code",
   "execution_count": 12,
   "metadata": {},
   "outputs": [],
   "source": [
    "exchange_ids = [r.id for r in model.exchanges] # + [\"R00024\"]"
   ]
  },
  {
   "cell_type": "code",
   "execution_count": 13,
   "metadata": {},
   "outputs": [
    {
     "name": "stdout",
     "output_type": "stream",
     "text": [
      "reactions 994\n",
      "metabolites 802\n",
      "genes 595\n"
     ]
    }
   ],
   "source": [
    "print('reactions', len(model.reactions))\n",
    "print('metabolites', len(model.metabolites))\n",
    "print('genes', len(model.genes))"
   ]
  },
  {
   "cell_type": "code",
   "execution_count": 14,
   "metadata": {},
   "outputs": [
    {
     "data": {
      "text/html": [
       "\n",
       "        <table>\n",
       "            <tr>\n",
       "                <td><strong>Name</strong></td>\n",
       "                <td>COBRAModel</td>\n",
       "            </tr><tr>\n",
       "                <td><strong>Memory address</strong></td>\n",
       "                <td>0x07ff365661490</td>\n",
       "            </tr><tr>\n",
       "                <td><strong>Number of metabolites</strong></td>\n",
       "                <td>802</td>\n",
       "            </tr><tr>\n",
       "                <td><strong>Number of reactions</strong></td>\n",
       "                <td>994</td>\n",
       "            </tr><tr>\n",
       "                <td><strong>Number of groups</strong></td>\n",
       "                <td>55</td>\n",
       "            </tr><tr>\n",
       "                <td><strong>Objective expression</strong></td>\n",
       "                <td>1.0*BIOMASS - 1.0*BIOMASS_reverse_69053</td>\n",
       "            </tr><tr>\n",
       "                <td><strong>Compartments</strong></td>\n",
       "                <td>Cytoplasm, Extracellular, unknownCompartment2, Periplasm, unknownCompartment5</td>\n",
       "            </tr>\n",
       "          </table>"
      ],
      "text/plain": [
       "<Model COBRAModel at 0x7ff365661490>"
      ]
     },
     "execution_count": 14,
     "metadata": {},
     "output_type": "execute_result"
    }
   ],
   "source": [
    "model"
   ]
  },
  {
   "cell_type": "code",
   "execution_count": 15,
   "metadata": {},
   "outputs": [
    {
     "data": {
      "text/html": [
       "\n",
       "        <table>\n",
       "            <tr>\n",
       "                <td><strong>Metabolite identifier</strong></td><td>Carbamate[c]</td>\n",
       "            </tr><tr>\n",
       "                <td><strong>Name</strong></td><td>Carbamate</td>\n",
       "            </tr><tr>\n",
       "                <td><strong>Memory address</strong></td>\n",
       "                <td>0x7ff365628f40</td>\n",
       "            </tr><tr>\n",
       "                <td><strong>Formula</strong></td><td>CH3NO2</td>\n",
       "            </tr><tr>\n",
       "                <td><strong>Compartment</strong></td><td>c</td>\n",
       "            </tr><tr>\n",
       "                <td><strong>In 4 reaction(s)</strong></td><td>\n",
       "                    R03546, R01395, R10949, R07316\n",
       "                    </td>\n",
       "            </tr>\n",
       "        </table>"
      ],
      "text/plain": [
       "<Metabolite Carbamate[c] at 0x7ff365628f40>"
      ]
     },
     "execution_count": 15,
     "metadata": {},
     "output_type": "execute_result"
    }
   ],
   "source": [
    "model.metabolites.get_by_id('Carbamate[c]')"
   ]
  },
  {
   "cell_type": "code",
   "execution_count": 16,
   "metadata": {},
   "outputs": [
    {
     "data": {
      "text/html": [
       "\n",
       "<table>\n",
       "  <thead>\n",
       "    <tr>\n",
       "      <td><strong>Attribute</strong></td>\n",
       "      <td><strong>Description</strong></td>\n",
       "      <td><strong>Value</strong></td>\n",
       "    </tr>\n",
       "  </thead>\n",
       "  <tbody>\n",
       "    <tr>\n",
       "      <td><pre>solver</pre></td>\n",
       "      <td>Mathematical optimization solver</td>\n",
       "      <td>gurobi</td>\n",
       "    </tr>\n",
       "    <tr>\n",
       "        <td><pre>tolerance</pre></td>\n",
       "        <td>General solver tolerance (feasibility, integrality, etc.)</td>\n",
       "        <td>1e-07</td>\n",
       "    </tr>\n",
       "    <tr>\n",
       "        <td><pre>lower_bound</pre></td>\n",
       "        <td>Default reaction lower bound</td>\n",
       "        <td>-1000.0</td>\n",
       "    </tr>\n",
       "    <tr>\n",
       "        <td><pre>upper_bound</pre></td>\n",
       "        <td>Default reaction upper bound</td>\n",
       "        <td>1000.0</td>\n",
       "    </tr>\n",
       "    <tr>\n",
       "        <td><pre>processes</pre></td>\n",
       "        <td>Number of parallel processes</td>\n",
       "        <td>11</td>\n",
       "    </tr>\n",
       "    <tr>\n",
       "        <td><pre>cache_directory</pre></td>\n",
       "        <td>Path for the model cache</td>\n",
       "        <td>/home/oweissberg/.cache/cobrapy</td>\n",
       "    </tr>\n",
       "    <tr>\n",
       "        <td><pre>max_cache_size</pre></td>\n",
       "        <td>Maximum cache size in bytes</td>\n",
       "        <td>104857600</td>\n",
       "    </tr>\n",
       "    <tr>\n",
       "        <td><pre>cache_expiration</pre></td>\n",
       "        <td>Model cache expiration time in seconds (if any)</td>\n",
       "        <td>None</td>\n",
       "    </tr>\n",
       "  </tbody>\n",
       "</table>\n"
      ],
      "text/plain": [
       "\n",
       "solver: gurobi\n",
       "tolerance: 1e-07\n",
       "lower_bound: -1000.0\n",
       "upper_bound: 1000.0\n",
       "processes: 11\n",
       "cache_directory: /home/oweissberg/.cache/cobrapy\n",
       "max_cache_size: 104857600\n",
       "cache_expiration: None"
      ]
     },
     "execution_count": 16,
     "metadata": {},
     "output_type": "execute_result"
    }
   ],
   "source": [
    "cobra.Configuration()"
   ]
  },
  {
   "cell_type": "code",
   "execution_count": 17,
   "metadata": {},
   "outputs": [
    {
     "data": {
      "text/html": [
       "\n",
       "        <table>\n",
       "            <tr>\n",
       "                <td><strong>Reaction identifier</strong></td><td>BIOMASS</td>\n",
       "            </tr><tr>\n",
       "                <td><strong>Name</strong></td><td>Biomass formation</td>\n",
       "            </tr><tr>\n",
       "                <td><strong>Memory address</strong></td>\n",
       "                <td>0x7ff3654336a0</td>\n",
       "            </tr><tr>\n",
       "                <td><strong>Stoichiometry</strong></td>\n",
       "                <td>\n",
       "                    <p style='text-align:right'>104.0 ATP[c] + 0.0324116276714271 BioPool[c] + 0.0268408791654006 Bmineral[c] + 0.0559910868023904 Cell_wall[c] + 0.00111921401802897 Free_nucleic_acids[c] + 104.0 H2O[c] + 0.649245416793275...</p>\n",
       "                    <p style='text-align:right'>104.0 ATP + 0.0324116276714271 BioPool + 0.0268408791654006 Trace metals and minerals + 0.0559910868023904 Cell wall Biomass precursor + 0.00111921401802897 Free nucleic acids + 104.0 H2O +...</p>\n",
       "                </td>\n",
       "            </tr><tr>\n",
       "                <td><strong>GPR</strong></td><td></td>\n",
       "            </tr><tr>\n",
       "                <td><strong>Lower bound</strong></td><td>0.0</td>\n",
       "            </tr><tr>\n",
       "                <td><strong>Upper bound</strong></td><td>1000.0</td>\n",
       "            </tr>\n",
       "        </table>\n",
       "        "
      ],
      "text/plain": [
       "<Reaction BIOMASS at 0x7ff3654336a0>"
      ]
     },
     "execution_count": 17,
     "metadata": {},
     "output_type": "execute_result"
    }
   ],
   "source": [
    "model.reactions.get_by_id('BIOMASS')"
   ]
  },
  {
   "cell_type": "markdown",
   "metadata": {},
   "source": [
    "# Get a map of med4 metabolites to BiGG ids"
   ]
  },
  {
   "cell_type": "code",
   "execution_count": 18,
   "metadata": {},
   "outputs": [],
   "source": [
    "bigg_df =  pd.read_excel('MED4_to_Bigg.xlsx',)"
   ]
  },
  {
   "cell_type": "code",
   "execution_count": 19,
   "metadata": {},
   "outputs": [],
   "source": [
    "bigg_df = bigg_df.loc[~(bigg_df.mid.isin(['D_Glucose[e]']) & bigg_df.BiggID.isna())]"
   ]
  },
  {
   "cell_type": "markdown",
   "metadata": {},
   "source": [
    "# get ref info on all compounds"
   ]
  },
  {
   "cell_type": "code",
   "execution_count": 20,
   "metadata": {},
   "outputs": [
    {
     "name": "stderr",
     "output_type": "stream",
     "text": [
      "/tmp/ipykernel_118218/2212162129.py:2: DtypeWarning: Columns (4,10) have mixed types. Specify dtype option on import or set low_memory=False.\n",
      "  ref_df = pd.read_csv(fpath, sep='\\t')\n"
     ]
    }
   ],
   "source": [
    "fpath = '~/work/tools//ModelSEEDDatabase/Biochemistry/compounds.tsv'\n",
    "ref_df = pd.read_csv(fpath, sep='\\t')"
   ]
  },
  {
   "cell_type": "code",
   "execution_count": 21,
   "metadata": {},
   "outputs": [],
   "source": [
    "kegg_compound_df = pd.read_csv('/home/oweissberg/work/CC1A3/genomes/kegg_compounds.csv', )\n"
   ]
  },
  {
   "cell_type": "code",
   "execution_count": 22,
   "metadata": {},
   "outputs": [],
   "source": [
    "ref_df['BiggID'] = ref_df.aliases.str.extract(r'BiGG: ([^;\\|\\:]+)')\n",
    "ref_df = ref_df.loc[ref_df.source.isin(['Primary Database'])]\n",
    "ref_df['kegg_id'] = ref_df.aliases.str.extract(r'KEGG: ([^;\\|\\:]+)')"
   ]
  },
  {
   "cell_type": "code",
   "execution_count": 23,
   "metadata": {},
   "outputs": [],
   "source": [
    "ref_df = pd.merge(ref_df, kegg_compound_df, left_on='kegg_id', right_on='compound_id', how='left')"
   ]
  },
  {
   "cell_type": "code",
   "execution_count": 24,
   "metadata": {},
   "outputs": [
    {
     "data": {
      "text/html": [
       "<div>\n",
       "<style scoped>\n",
       "    .dataframe tbody tr th:only-of-type {\n",
       "        vertical-align: middle;\n",
       "    }\n",
       "\n",
       "    .dataframe tbody tr th {\n",
       "        vertical-align: top;\n",
       "    }\n",
       "\n",
       "    .dataframe thead th {\n",
       "        text-align: right;\n",
       "    }\n",
       "</style>\n",
       "<table border=\"1\" class=\"dataframe\">\n",
       "  <thead>\n",
       "    <tr style=\"text-align: right;\">\n",
       "      <th></th>\n",
       "      <th>id</th>\n",
       "      <th>abbreviation</th>\n",
       "      <th>name</th>\n",
       "      <th>formula</th>\n",
       "      <th>mass</th>\n",
       "      <th>source</th>\n",
       "      <th>inchikey</th>\n",
       "      <th>charge</th>\n",
       "      <th>is_core</th>\n",
       "      <th>is_obsolete</th>\n",
       "      <th>...</th>\n",
       "      <th>smiles</th>\n",
       "      <th>notes</th>\n",
       "      <th>BiggID</th>\n",
       "      <th>kegg_id</th>\n",
       "      <th>Unnamed: 0</th>\n",
       "      <th>main</th>\n",
       "      <th>sub</th>\n",
       "      <th>path</th>\n",
       "      <th>ecpath</th>\n",
       "      <th>compound_id</th>\n",
       "    </tr>\n",
       "  </thead>\n",
       "  <tbody>\n",
       "    <tr>\n",
       "      <th>0</th>\n",
       "      <td>cpd00001</td>\n",
       "      <td>h2o</td>\n",
       "      <td>H2O</td>\n",
       "      <td>H2O</td>\n",
       "      <td>18.0</td>\n",
       "      <td>Primary Database</td>\n",
       "      <td>XLYOFNOQVPJJNP-UHFFFAOYSA-N</td>\n",
       "      <td>0</td>\n",
       "      <td>1</td>\n",
       "      <td>0</td>\n",
       "      <td>...</td>\n",
       "      <td>O</td>\n",
       "      <td>GC|EQ|EQU</td>\n",
       "      <td>h2o</td>\n",
       "      <td>C00001</td>\n",
       "      <td>NaN</td>\n",
       "      <td>NaN</td>\n",
       "      <td>NaN</td>\n",
       "      <td>NaN</td>\n",
       "      <td>NaN</td>\n",
       "      <td>NaN</td>\n",
       "    </tr>\n",
       "    <tr>\n",
       "      <th>1</th>\n",
       "      <td>cpd00002</td>\n",
       "      <td>atp</td>\n",
       "      <td>ATP</td>\n",
       "      <td>C10H13N5O13P3</td>\n",
       "      <td>504.0</td>\n",
       "      <td>Primary Database</td>\n",
       "      <td>ZKHQWZAMYRWXGA-KQYNXXCUSA-K</td>\n",
       "      <td>-3</td>\n",
       "      <td>1</td>\n",
       "      <td>0</td>\n",
       "      <td>...</td>\n",
       "      <td>Nc1ncnc2c1ncn2[C@@H]1O[C@H](COP(=O)([O-])OP(=O...</td>\n",
       "      <td>GC|EQ|EQU</td>\n",
       "      <td>atp</td>\n",
       "      <td>C00002</td>\n",
       "      <td>255.0</td>\n",
       "      <td>Nucleic acids</td>\n",
       "      <td>Nucleotides [Fig]</td>\n",
       "      <td>Ribonucleotides</td>\n",
       "      <td>C00002  ATP</td>\n",
       "      <td>C00002</td>\n",
       "    </tr>\n",
       "    <tr>\n",
       "      <th>2</th>\n",
       "      <td>cpd00002</td>\n",
       "      <td>atp</td>\n",
       "      <td>ATP</td>\n",
       "      <td>C10H13N5O13P3</td>\n",
       "      <td>504.0</td>\n",
       "      <td>Primary Database</td>\n",
       "      <td>ZKHQWZAMYRWXGA-KQYNXXCUSA-K</td>\n",
       "      <td>-3</td>\n",
       "      <td>1</td>\n",
       "      <td>0</td>\n",
       "      <td>...</td>\n",
       "      <td>Nc1ncnc2c1ncn2[C@@H]1O[C@H](COP(=O)([O-])OP(=O...</td>\n",
       "      <td>GC|EQ|EQU</td>\n",
       "      <td>atp</td>\n",
       "      <td>C00002</td>\n",
       "      <td>390.0</td>\n",
       "      <td>Vitamins and cofactors</td>\n",
       "      <td>Cofactors</td>\n",
       "      <td>Coenzymes [Fig]</td>\n",
       "      <td>C00002  ATP</td>\n",
       "      <td>C00002</td>\n",
       "    </tr>\n",
       "    <tr>\n",
       "      <th>3</th>\n",
       "      <td>cpd00003</td>\n",
       "      <td>nad</td>\n",
       "      <td>NAD</td>\n",
       "      <td>C21H26N7O14P2</td>\n",
       "      <td>662.0</td>\n",
       "      <td>Primary Database</td>\n",
       "      <td>BAWFJGJZGIEFAR-NNYOXOHSSA-M</td>\n",
       "      <td>-1</td>\n",
       "      <td>1</td>\n",
       "      <td>0</td>\n",
       "      <td>...</td>\n",
       "      <td>NC(=O)c1ccc[n+]([C@@H]2O[C@H](COP(=O)([O-])OP(...</td>\n",
       "      <td>GC|EQ|EQU</td>\n",
       "      <td>nad</td>\n",
       "      <td>C00003</td>\n",
       "      <td>384.0</td>\n",
       "      <td>Vitamins and cofactors</td>\n",
       "      <td>Cofactors</td>\n",
       "      <td>Coenzymes [Fig]</td>\n",
       "      <td>C00003  NAD</td>\n",
       "      <td>C00003</td>\n",
       "    </tr>\n",
       "    <tr>\n",
       "      <th>4</th>\n",
       "      <td>cpd00004</td>\n",
       "      <td>nadh</td>\n",
       "      <td>NADH</td>\n",
       "      <td>C21H27N7O14P2</td>\n",
       "      <td>663.0</td>\n",
       "      <td>Primary Database</td>\n",
       "      <td>BOPGDPNILDQYTO-NNYOXOHSSA-L</td>\n",
       "      <td>-2</td>\n",
       "      <td>1</td>\n",
       "      <td>0</td>\n",
       "      <td>...</td>\n",
       "      <td>NC(=O)C1=CN([C@@H]2O[C@H](COP(=O)([O-])OP(=O)(...</td>\n",
       "      <td>GC|EQ|EQU</td>\n",
       "      <td>nadh</td>\n",
       "      <td>C00004</td>\n",
       "      <td>NaN</td>\n",
       "      <td>NaN</td>\n",
       "      <td>NaN</td>\n",
       "      <td>NaN</td>\n",
       "      <td>NaN</td>\n",
       "      <td>NaN</td>\n",
       "    </tr>\n",
       "    <tr>\n",
       "      <th>...</th>\n",
       "      <td>...</td>\n",
       "      <td>...</td>\n",
       "      <td>...</td>\n",
       "      <td>...</td>\n",
       "      <td>...</td>\n",
       "      <td>...</td>\n",
       "      <td>...</td>\n",
       "      <td>...</td>\n",
       "      <td>...</td>\n",
       "      <td>...</td>\n",
       "      <td>...</td>\n",
       "      <td>...</td>\n",
       "      <td>...</td>\n",
       "      <td>...</td>\n",
       "      <td>...</td>\n",
       "      <td>...</td>\n",
       "      <td>...</td>\n",
       "      <td>...</td>\n",
       "      <td>...</td>\n",
       "      <td>...</td>\n",
       "      <td>...</td>\n",
       "    </tr>\n",
       "    <tr>\n",
       "      <th>30641</th>\n",
       "      <td>cpd37265</td>\n",
       "      <td>phosphoethanolamine-cellulose</td>\n",
       "      <td>phosphoethanolamine-cellulose</td>\n",
       "      <td>C28H52N2O25P2R2</td>\n",
       "      <td>10000000.0</td>\n",
       "      <td>Primary Database</td>\n",
       "      <td>NaN</td>\n",
       "      <td>0</td>\n",
       "      <td>0</td>\n",
       "      <td>0</td>\n",
       "      <td>...</td>\n",
       "      <td>*[C@@H]1O[C@H](COP(=O)([O-])OCC[NH3+])[C@@H](O...</td>\n",
       "      <td>GC</td>\n",
       "      <td>NaN</td>\n",
       "      <td>NaN</td>\n",
       "      <td>NaN</td>\n",
       "      <td>NaN</td>\n",
       "      <td>NaN</td>\n",
       "      <td>NaN</td>\n",
       "      <td>NaN</td>\n",
       "      <td>NaN</td>\n",
       "    </tr>\n",
       "    <tr>\n",
       "      <th>30642</th>\n",
       "      <td>cpd37266</td>\n",
       "      <td>11Z-3-oxo-icos-11-enoyl-ACPs</td>\n",
       "      <td>11Z-3-oxo-icos-11-enoyl-ACPs</td>\n",
       "      <td>C31H54N2O9PRS</td>\n",
       "      <td>10000000.0</td>\n",
       "      <td>Primary Database</td>\n",
       "      <td>NaN</td>\n",
       "      <td>-2</td>\n",
       "      <td>0</td>\n",
       "      <td>0</td>\n",
       "      <td>...</td>\n",
       "      <td>*[NH2+][C@@H](COP(=O)([O-])OCC(C)(C)[C@@H](O)C...</td>\n",
       "      <td>GC</td>\n",
       "      <td>NaN</td>\n",
       "      <td>NaN</td>\n",
       "      <td>NaN</td>\n",
       "      <td>NaN</td>\n",
       "      <td>NaN</td>\n",
       "      <td>NaN</td>\n",
       "      <td>NaN</td>\n",
       "      <td>NaN</td>\n",
       "    </tr>\n",
       "    <tr>\n",
       "      <th>30643</th>\n",
       "      <td>cpd37267</td>\n",
       "      <td>DNA-with-3-prime-pp-5-prime-A-cap</td>\n",
       "      <td>DNA-with-3-prime-pp-5-prime-A-cap</td>\n",
       "      <td>C15H19N5O15P3R2</td>\n",
       "      <td>10000000.0</td>\n",
       "      <td>Primary Database</td>\n",
       "      <td>NaN</td>\n",
       "      <td>-3</td>\n",
       "      <td>0</td>\n",
       "      <td>0</td>\n",
       "      <td>...</td>\n",
       "      <td>*OP(=O)([O-])OC[C@H]1O[C@@H](*)C[C@@H]1OP(=O)(...</td>\n",
       "      <td>GC</td>\n",
       "      <td>NaN</td>\n",
       "      <td>NaN</td>\n",
       "      <td>NaN</td>\n",
       "      <td>NaN</td>\n",
       "      <td>NaN</td>\n",
       "      <td>NaN</td>\n",
       "      <td>NaN</td>\n",
       "      <td>NaN</td>\n",
       "    </tr>\n",
       "    <tr>\n",
       "      <th>30644</th>\n",
       "      <td>cpd37268</td>\n",
       "      <td>L-Threonyl-Threonyl-Carrier-Proteins</td>\n",
       "      <td>L-Threonyl-Threonyl-Carrier-Proteins</td>\n",
       "      <td>C18H34N4O10PR2S</td>\n",
       "      <td>10000000.0</td>\n",
       "      <td>Primary Database</td>\n",
       "      <td>NaN</td>\n",
       "      <td>1</td>\n",
       "      <td>0</td>\n",
       "      <td>0</td>\n",
       "      <td>...</td>\n",
       "      <td>*[NH2+][C@@H](COP(=O)([O-])OCC(C)(C)[C@@H](O)C...</td>\n",
       "      <td>GC</td>\n",
       "      <td>NaN</td>\n",
       "      <td>NaN</td>\n",
       "      <td>NaN</td>\n",
       "      <td>NaN</td>\n",
       "      <td>NaN</td>\n",
       "      <td>NaN</td>\n",
       "      <td>NaN</td>\n",
       "      <td>NaN</td>\n",
       "    </tr>\n",
       "    <tr>\n",
       "      <th>30645</th>\n",
       "      <td>cpd37269</td>\n",
       "      <td>N6-Pup-gamma-L-glutamyl-protein-L-lysine</td>\n",
       "      <td>N6-Pup-gamma-L-glutamyl-protein-L-lysine</td>\n",
       "      <td>C11H19N3O4R3</td>\n",
       "      <td>10000000.0</td>\n",
       "      <td>Primary Database</td>\n",
       "      <td>NaN</td>\n",
       "      <td>1</td>\n",
       "      <td>0</td>\n",
       "      <td>0</td>\n",
       "      <td>...</td>\n",
       "      <td>*[NH2+][C@@H](CCCCNC(=O)CC[C@H]([NH2+]*)C(=O)[...</td>\n",
       "      <td>GC</td>\n",
       "      <td>NaN</td>\n",
       "      <td>NaN</td>\n",
       "      <td>NaN</td>\n",
       "      <td>NaN</td>\n",
       "      <td>NaN</td>\n",
       "      <td>NaN</td>\n",
       "      <td>NaN</td>\n",
       "      <td>NaN</td>\n",
       "    </tr>\n",
       "  </tbody>\n",
       "</table>\n",
       "<p>30646 rows × 29 columns</p>\n",
       "</div>"
      ],
      "text/plain": [
       "             id                              abbreviation  \\\n",
       "0      cpd00001                                       h2o   \n",
       "1      cpd00002                                       atp   \n",
       "2      cpd00002                                       atp   \n",
       "3      cpd00003                                       nad   \n",
       "4      cpd00004                                      nadh   \n",
       "...         ...                                       ...   \n",
       "30641  cpd37265             phosphoethanolamine-cellulose   \n",
       "30642  cpd37266              11Z-3-oxo-icos-11-enoyl-ACPs   \n",
       "30643  cpd37267         DNA-with-3-prime-pp-5-prime-A-cap   \n",
       "30644  cpd37268      L-Threonyl-Threonyl-Carrier-Proteins   \n",
       "30645  cpd37269  N6-Pup-gamma-L-glutamyl-protein-L-lysine   \n",
       "\n",
       "                                           name          formula        mass  \\\n",
       "0                                           H2O              H2O        18.0   \n",
       "1                                           ATP    C10H13N5O13P3       504.0   \n",
       "2                                           ATP    C10H13N5O13P3       504.0   \n",
       "3                                           NAD    C21H26N7O14P2       662.0   \n",
       "4                                          NADH    C21H27N7O14P2       663.0   \n",
       "...                                         ...              ...         ...   \n",
       "30641             phosphoethanolamine-cellulose  C28H52N2O25P2R2  10000000.0   \n",
       "30642              11Z-3-oxo-icos-11-enoyl-ACPs    C31H54N2O9PRS  10000000.0   \n",
       "30643         DNA-with-3-prime-pp-5-prime-A-cap  C15H19N5O15P3R2  10000000.0   \n",
       "30644      L-Threonyl-Threonyl-Carrier-Proteins  C18H34N4O10PR2S  10000000.0   \n",
       "30645  N6-Pup-gamma-L-glutamyl-protein-L-lysine     C11H19N3O4R3  10000000.0   \n",
       "\n",
       "                 source                     inchikey  charge  is_core  \\\n",
       "0      Primary Database  XLYOFNOQVPJJNP-UHFFFAOYSA-N       0        1   \n",
       "1      Primary Database  ZKHQWZAMYRWXGA-KQYNXXCUSA-K      -3        1   \n",
       "2      Primary Database  ZKHQWZAMYRWXGA-KQYNXXCUSA-K      -3        1   \n",
       "3      Primary Database  BAWFJGJZGIEFAR-NNYOXOHSSA-M      -1        1   \n",
       "4      Primary Database  BOPGDPNILDQYTO-NNYOXOHSSA-L      -2        1   \n",
       "...                 ...                          ...     ...      ...   \n",
       "30641  Primary Database                          NaN       0        0   \n",
       "30642  Primary Database                          NaN      -2        0   \n",
       "30643  Primary Database                          NaN      -3        0   \n",
       "30644  Primary Database                          NaN       1        0   \n",
       "30645  Primary Database                          NaN       1        0   \n",
       "\n",
       "       is_obsolete  ...                                             smiles  \\\n",
       "0                0  ...                                                  O   \n",
       "1                0  ...  Nc1ncnc2c1ncn2[C@@H]1O[C@H](COP(=O)([O-])OP(=O...   \n",
       "2                0  ...  Nc1ncnc2c1ncn2[C@@H]1O[C@H](COP(=O)([O-])OP(=O...   \n",
       "3                0  ...  NC(=O)c1ccc[n+]([C@@H]2O[C@H](COP(=O)([O-])OP(...   \n",
       "4                0  ...  NC(=O)C1=CN([C@@H]2O[C@H](COP(=O)([O-])OP(=O)(...   \n",
       "...            ...  ...                                                ...   \n",
       "30641            0  ...  *[C@@H]1O[C@H](COP(=O)([O-])OCC[NH3+])[C@@H](O...   \n",
       "30642            0  ...  *[NH2+][C@@H](COP(=O)([O-])OCC(C)(C)[C@@H](O)C...   \n",
       "30643            0  ...  *OP(=O)([O-])OC[C@H]1O[C@@H](*)C[C@@H]1OP(=O)(...   \n",
       "30644            0  ...  *[NH2+][C@@H](COP(=O)([O-])OCC(C)(C)[C@@H](O)C...   \n",
       "30645            0  ...  *[NH2+][C@@H](CCCCNC(=O)CC[C@H]([NH2+]*)C(=O)[...   \n",
       "\n",
       "           notes  BiggID  kegg_id Unnamed: 0                    main  \\\n",
       "0      GC|EQ|EQU     h2o   C00001        NaN                     NaN   \n",
       "1      GC|EQ|EQU     atp   C00002      255.0           Nucleic acids   \n",
       "2      GC|EQ|EQU     atp   C00002      390.0  Vitamins and cofactors   \n",
       "3      GC|EQ|EQU     nad   C00003      384.0  Vitamins and cofactors   \n",
       "4      GC|EQ|EQU    nadh   C00004        NaN                     NaN   \n",
       "...          ...     ...      ...        ...                     ...   \n",
       "30641         GC     NaN      NaN        NaN                     NaN   \n",
       "30642         GC     NaN      NaN        NaN                     NaN   \n",
       "30643         GC     NaN      NaN        NaN                     NaN   \n",
       "30644         GC     NaN      NaN        NaN                     NaN   \n",
       "30645         GC     NaN      NaN        NaN                     NaN   \n",
       "\n",
       "                     sub             path       ecpath compound_id  \n",
       "0                    NaN              NaN          NaN         NaN  \n",
       "1      Nucleotides [Fig]  Ribonucleotides  C00002  ATP      C00002  \n",
       "2              Cofactors  Coenzymes [Fig]  C00002  ATP      C00002  \n",
       "3              Cofactors  Coenzymes [Fig]  C00003  NAD      C00003  \n",
       "4                    NaN              NaN          NaN         NaN  \n",
       "...                  ...              ...          ...         ...  \n",
       "30641                NaN              NaN          NaN         NaN  \n",
       "30642                NaN              NaN          NaN         NaN  \n",
       "30643                NaN              NaN          NaN         NaN  \n",
       "30644                NaN              NaN          NaN         NaN  \n",
       "30645                NaN              NaN          NaN         NaN  \n",
       "\n",
       "[30646 rows x 29 columns]"
      ]
     },
     "execution_count": 24,
     "metadata": {},
     "output_type": "execute_result"
    }
   ],
   "source": [
    "ref_df"
   ]
  },
  {
   "cell_type": "code",
   "execution_count": 25,
   "metadata": {},
   "outputs": [
    {
     "data": {
      "text/html": [
       "<div>\n",
       "<style scoped>\n",
       "    .dataframe tbody tr th:only-of-type {\n",
       "        vertical-align: middle;\n",
       "    }\n",
       "\n",
       "    .dataframe tbody tr th {\n",
       "        vertical-align: top;\n",
       "    }\n",
       "\n",
       "    .dataframe thead th {\n",
       "        text-align: right;\n",
       "    }\n",
       "</style>\n",
       "<table border=\"1\" class=\"dataframe\">\n",
       "  <thead>\n",
       "    <tr style=\"text-align: right;\">\n",
       "      <th></th>\n",
       "      <th>Unnamed: 0</th>\n",
       "      <th>main</th>\n",
       "      <th>sub</th>\n",
       "      <th>path</th>\n",
       "      <th>ecpath</th>\n",
       "      <th>compound_id</th>\n",
       "    </tr>\n",
       "  </thead>\n",
       "  <tbody>\n",
       "  </tbody>\n",
       "</table>\n",
       "</div>"
      ],
      "text/plain": [
       "Empty DataFrame\n",
       "Columns: [Unnamed: 0, main, sub, path, ecpath, compound_id]\n",
       "Index: []"
      ]
     },
     "execution_count": 25,
     "metadata": {},
     "output_type": "execute_result"
    }
   ],
   "source": [
    "kegg_compound_df.loc[kegg_compound_df.compound_id.isin(['C00004'])]"
   ]
  },
  {
   "cell_type": "markdown",
   "metadata": {},
   "source": [
    "# Compare exchange reactions/metabolites of the two models"
   ]
  },
  {
   "cell_type": "code",
   "execution_count": 26,
   "metadata": {},
   "outputs": [],
   "source": [
    "exchange_ids = [r.id for r in model.exchanges] \n",
    "pro_med_df = pd.DataFrame({'mediumExchange' : exchange_ids})\n",
    "pro_med_df = pro_med_df.mediumExchange.apply(get_elements)\n"
   ]
  },
  {
   "cell_type": "code",
   "execution_count": 27,
   "metadata": {},
   "outputs": [],
   "source": [
    "#pro_df = pd.read_excel('PRO_N_sources.xlsx', sheet_name='secretion')\n",
    "alt_dpath = '../../HOT1A3-model/N_Starvation/'\n",
    "#alt_med_df = pd.read_excel(os.path.join(alt_dpath, 'HOT1A3_medium_NCBI.xlsx'))\n",
    "alt_model_dpath = os.path.join('../../HOT1A3-model', 'Models')\n",
    "alt_model_fname = 'HOT1A3_ncbi.xml'\n",
    "alt_model_fpath = os.path.join(alt_model_dpath, alt_model_fname)\n"
   ]
  },
  {
   "cell_type": "code",
   "execution_count": 117,
   "metadata": {},
   "outputs": [],
   "source": [
    "universal_bacteria_fpath = '/home/oweissberg/work/tools/anaconda3/lib/python3.9/site-packages/carveme/data/generated/universe_bacteria.xml.gz'\n",
    "#universal_bacteria_fpath = '/home/oweissberg/work/tools/anaconda3/lib/python3.9/site-packages/carveme/data/generated/universe_gramneg.xml.gz'\n",
    "#universal_bacteria_fpath = '/home/oweissberg/work/tools/anaconda3/lib/python3.9/site-packages/carveme/data/generated/universe_cyanobacteria.xml.gz'\n",
    "unibac_model = cobra.io.read_sbml_model(universal_bacteria_fpath)\n"
   ]
  },
  {
   "cell_type": "code",
   "execution_count": 127,
   "metadata": {},
   "outputs": [
    {
     "name": "stderr",
     "output_type": "stream",
     "text": [
      "No objective coefficients in model. Unclear what should be optimized\n"
     ]
    }
   ],
   "source": [
    "#universal_bacteria_fpath = '/home/oweissberg/work/tools/anaconda3/lib/python3.9/site-packages/carveme/data/generated/universe_bacteria.xml.gz'\n",
    "#universal_bacteria_fpath = '/home/oweissberg/work/tools/anaconda3/lib/python3.9/site-packages/carveme/data/generated/universe_gramneg.xml.gz'\n",
    "universal_cyano_fpath = '/home/oweissberg/work/tools/anaconda3/lib/python3.9/site-packages/carveme/data/generated/universe_cyanobacteria.xml.gz'\n",
    "unicyano_model = cobra.io.read_sbml_model(universal_cyano_fpath)\n"
   ]
  },
  {
   "cell_type": "code",
   "execution_count": 111,
   "metadata": {},
   "outputs": [],
   "source": [
    "alt_model = cobra.io.read_sbml_model(alt_model_fpath)\n",
    "alt_exchange_ids = [r.id for r in alt_model.exchanges] \n",
    "alt_med_df = pd.DataFrame({'mediumExchange' : alt_exchange_ids})\n",
    "alt_med_df = alt_med_df.mediumExchange.apply(alt_get_elements)\n"
   ]
  },
  {
   "cell_type": "code",
   "execution_count": 118,
   "metadata": {},
   "outputs": [],
   "source": [
    "uni_exchange_ids = [r.id for r in unibac_model.exchanges] \n",
    "uni_med_df = pd.DataFrame({'mediumExchange' : uni_exchange_ids})\n",
    "uni_med_df = uni_med_df.mediumExchange.apply(lambda  x: uni_get_elements(unibac_model, x))\n"
   ]
  },
  {
   "cell_type": "code",
   "execution_count": 128,
   "metadata": {},
   "outputs": [],
   "source": [
    "cyano_exchange_ids = [r.id for r in unicyano_model.exchanges] \n",
    "cyano_med_df = pd.DataFrame({'mediumExchange' : cyano_exchange_ids})\n",
    "cyano_med_df = cyano_med_df.mediumExchange.apply(lambda  x: uni_get_elements(unicyano_model, x))\n"
   ]
  },
  {
   "cell_type": "code",
   "execution_count": 120,
   "metadata": {},
   "outputs": [
    {
     "data": {
      "text/html": [
       "<div>\n",
       "<style scoped>\n",
       "    .dataframe tbody tr th:only-of-type {\n",
       "        vertical-align: middle;\n",
       "    }\n",
       "\n",
       "    .dataframe tbody tr th {\n",
       "        vertical-align: top;\n",
       "    }\n",
       "\n",
       "    .dataframe thead th {\n",
       "        text-align: right;\n",
       "    }\n",
       "</style>\n",
       "<table border=\"1\" class=\"dataframe\">\n",
       "  <thead>\n",
       "    <tr style=\"text-align: right;\">\n",
       "      <th></th>\n",
       "      <th>reaction</th>\n",
       "      <th>metabolite</th>\n",
       "      <th>mid</th>\n",
       "      <th>N</th>\n",
       "      <th>C</th>\n",
       "    </tr>\n",
       "  </thead>\n",
       "  <tbody>\n",
       "    <tr>\n",
       "      <th>0</th>\n",
       "      <td>EX_12dgr160_e</td>\n",
       "      <td>1,2-Diacyl-sn-glycerol (dihexadecanoyl, n-C16:0)</td>\n",
       "      <td>12dgr160_e</td>\n",
       "      <td>False</td>\n",
       "      <td>True</td>\n",
       "    </tr>\n",
       "    <tr>\n",
       "      <th>1</th>\n",
       "      <td>EX_12dgr180_e</td>\n",
       "      <td>1,2-Diacyl-sn-glycerol (dioctadecanoyl, n-C18:0)</td>\n",
       "      <td>12dgr180_e</td>\n",
       "      <td>False</td>\n",
       "      <td>True</td>\n",
       "    </tr>\n",
       "    <tr>\n",
       "      <th>2</th>\n",
       "      <td>EX_12ppd__R_e</td>\n",
       "      <td>(R)-Propane-1,2-diol</td>\n",
       "      <td>12ppd__R_e</td>\n",
       "      <td>False</td>\n",
       "      <td>True</td>\n",
       "    </tr>\n",
       "    <tr>\n",
       "      <th>3</th>\n",
       "      <td>EX_12ppd__S_e</td>\n",
       "      <td>(S)-Propane-1,2-diol</td>\n",
       "      <td>12ppd__S_e</td>\n",
       "      <td>False</td>\n",
       "      <td>True</td>\n",
       "    </tr>\n",
       "    <tr>\n",
       "      <th>4</th>\n",
       "      <td>EX_13dampp_e</td>\n",
       "      <td>1 3 Diaminopropane C3H12N2</td>\n",
       "      <td>13dampp_e</td>\n",
       "      <td>True</td>\n",
       "      <td>True</td>\n",
       "    </tr>\n",
       "    <tr>\n",
       "      <th>...</th>\n",
       "      <td>...</td>\n",
       "      <td>...</td>\n",
       "      <td>...</td>\n",
       "      <td>...</td>\n",
       "      <td>...</td>\n",
       "    </tr>\n",
       "    <tr>\n",
       "      <th>640</th>\n",
       "      <td>EX_xylan4_e</td>\n",
       "      <td>Xylan (4 backbone units, 1 glcur side chain)</td>\n",
       "      <td>xylan4_e</td>\n",
       "      <td>False</td>\n",
       "      <td>True</td>\n",
       "    </tr>\n",
       "    <tr>\n",
       "      <th>641</th>\n",
       "      <td>EX_xylan8_e</td>\n",
       "      <td>Xylan (8 backbone units, 2 glcur side chain)</td>\n",
       "      <td>xylan8_e</td>\n",
       "      <td>False</td>\n",
       "      <td>True</td>\n",
       "    </tr>\n",
       "    <tr>\n",
       "      <th>642</th>\n",
       "      <td>EX_xylb_e</td>\n",
       "      <td>Xylobiose</td>\n",
       "      <td>xylb_e</td>\n",
       "      <td>False</td>\n",
       "      <td>True</td>\n",
       "    </tr>\n",
       "    <tr>\n",
       "      <th>643</th>\n",
       "      <td>EX_xylu__L_e</td>\n",
       "      <td>L-Xylulose</td>\n",
       "      <td>xylu__L_e</td>\n",
       "      <td>False</td>\n",
       "      <td>True</td>\n",
       "    </tr>\n",
       "    <tr>\n",
       "      <th>644</th>\n",
       "      <td>EX_zn2_e</td>\n",
       "      <td>Zinc</td>\n",
       "      <td>zn2_e</td>\n",
       "      <td>False</td>\n",
       "      <td>False</td>\n",
       "    </tr>\n",
       "  </tbody>\n",
       "</table>\n",
       "<p>645 rows × 5 columns</p>\n",
       "</div>"
      ],
      "text/plain": [
       "          reaction                                        metabolite  \\\n",
       "0    EX_12dgr160_e  1,2-Diacyl-sn-glycerol (dihexadecanoyl, n-C16:0)   \n",
       "1    EX_12dgr180_e  1,2-Diacyl-sn-glycerol (dioctadecanoyl, n-C18:0)   \n",
       "2    EX_12ppd__R_e                              (R)-Propane-1,2-diol   \n",
       "3    EX_12ppd__S_e                              (S)-Propane-1,2-diol   \n",
       "4     EX_13dampp_e                        1 3 Diaminopropane C3H12N2   \n",
       "..             ...                                               ...   \n",
       "640    EX_xylan4_e      Xylan (4 backbone units, 1 glcur side chain)   \n",
       "641    EX_xylan8_e      Xylan (8 backbone units, 2 glcur side chain)   \n",
       "642      EX_xylb_e                                         Xylobiose   \n",
       "643   EX_xylu__L_e                                        L-Xylulose   \n",
       "644       EX_zn2_e                                              Zinc   \n",
       "\n",
       "            mid      N      C  \n",
       "0    12dgr160_e  False   True  \n",
       "1    12dgr180_e  False   True  \n",
       "2    12ppd__R_e  False   True  \n",
       "3    12ppd__S_e  False   True  \n",
       "4     13dampp_e   True   True  \n",
       "..          ...    ...    ...  \n",
       "640    xylan4_e  False   True  \n",
       "641    xylan8_e  False   True  \n",
       "642      xylb_e  False   True  \n",
       "643   xylu__L_e  False   True  \n",
       "644       zn2_e  False  False  \n",
       "\n",
       "[645 rows x 5 columns]"
      ]
     },
     "execution_count": 120,
     "metadata": {},
     "output_type": "execute_result"
    }
   ],
   "source": [
    "uni_med_df"
   ]
  },
  {
   "cell_type": "code",
   "execution_count": 29,
   "metadata": {},
   "outputs": [],
   "source": [
    "pro_med_df = pd.merge(pro_med_df, bigg_df[['mid', 'BiggID']].drop_duplicates(), on='mid', how='left')"
   ]
  },
  {
   "cell_type": "code",
   "execution_count": 30,
   "metadata": {},
   "outputs": [],
   "source": [
    "pro_med_df.loc[pro_med_df.mid.isin(['Copper[e]']), 'BiggID'] = 'cu2'"
   ]
  },
  {
   "cell_type": "code",
   "execution_count": 31,
   "metadata": {},
   "outputs": [],
   "source": [
    "pro_med_df.loc[pro_med_df.mid.isin(['Ammonia[e]']), 'BiggID'] = 'nh4'"
   ]
  },
  {
   "cell_type": "code",
   "execution_count": 32,
   "metadata": {},
   "outputs": [
    {
     "data": {
      "text/html": [
       "<div>\n",
       "<style scoped>\n",
       "    .dataframe tbody tr th:only-of-type {\n",
       "        vertical-align: middle;\n",
       "    }\n",
       "\n",
       "    .dataframe tbody tr th {\n",
       "        vertical-align: top;\n",
       "    }\n",
       "\n",
       "    .dataframe thead th {\n",
       "        text-align: right;\n",
       "    }\n",
       "</style>\n",
       "<table border=\"1\" class=\"dataframe\">\n",
       "  <thead>\n",
       "    <tr style=\"text-align: right;\">\n",
       "      <th></th>\n",
       "      <th>reaction</th>\n",
       "      <th>metabolite</th>\n",
       "      <th>mid</th>\n",
       "      <th>N</th>\n",
       "      <th>C</th>\n",
       "      <th>BiggID</th>\n",
       "    </tr>\n",
       "  </thead>\n",
       "  <tbody>\n",
       "    <tr>\n",
       "      <th>0</th>\n",
       "      <td>AminosugarsEX</td>\n",
       "      <td>Amino sugars pool</td>\n",
       "      <td>Amino_sugars[e]</td>\n",
       "      <td>False</td>\n",
       "      <td>False</td>\n",
       "      <td>NaN</td>\n",
       "    </tr>\n",
       "    <tr>\n",
       "      <th>1</th>\n",
       "      <td>FAKEAAEX</td>\n",
       "      <td>amino_acid_pool_e</td>\n",
       "      <td>amino_acid_pool[e]</td>\n",
       "      <td>False</td>\n",
       "      <td>False</td>\n",
       "      <td>NaN</td>\n",
       "    </tr>\n",
       "    <tr>\n",
       "      <th>2</th>\n",
       "      <td>FAKEABPEX</td>\n",
       "      <td>Adenosine 3_5-bisphosphate</td>\n",
       "      <td>Adenosine_3_5_bisphosphate[e]</td>\n",
       "      <td>True</td>\n",
       "      <td>True</td>\n",
       "      <td>pap</td>\n",
       "    </tr>\n",
       "    <tr>\n",
       "      <th>3</th>\n",
       "      <td>FAKEacpEX</td>\n",
       "      <td>Acyl-carrier protein</td>\n",
       "      <td>Acyl_carrier_protein[e]</td>\n",
       "      <td>False</td>\n",
       "      <td>False</td>\n",
       "      <td>ACP</td>\n",
       "    </tr>\n",
       "    <tr>\n",
       "      <th>4</th>\n",
       "      <td>FAKEApoacpEX</td>\n",
       "      <td>Apo-(acyl-carrier-protein)</td>\n",
       "      <td>Apo_acyl_carrier_protein[e]</td>\n",
       "      <td>False</td>\n",
       "      <td>False</td>\n",
       "      <td>NaN</td>\n",
       "    </tr>\n",
       "  </tbody>\n",
       "</table>\n",
       "</div>"
      ],
      "text/plain": [
       "        reaction                  metabolite                            mid  \\\n",
       "0  AminosugarsEX           Amino sugars pool                Amino_sugars[e]   \n",
       "1       FAKEAAEX           amino_acid_pool_e             amino_acid_pool[e]   \n",
       "2      FAKEABPEX  Adenosine 3_5-bisphosphate  Adenosine_3_5_bisphosphate[e]   \n",
       "3      FAKEacpEX        Acyl-carrier protein        Acyl_carrier_protein[e]   \n",
       "4   FAKEApoacpEX  Apo-(acyl-carrier-protein)    Apo_acyl_carrier_protein[e]   \n",
       "\n",
       "       N      C BiggID  \n",
       "0  False  False    NaN  \n",
       "1  False  False    NaN  \n",
       "2   True   True    pap  \n",
       "3  False  False    ACP  \n",
       "4  False  False    NaN  "
      ]
     },
     "execution_count": 32,
     "metadata": {},
     "output_type": "execute_result"
    }
   ],
   "source": [
    "pro_med_df.head()"
   ]
  },
  {
   "cell_type": "code",
   "execution_count": 33,
   "metadata": {},
   "outputs": [
    {
     "data": {
      "text/html": [
       "<div>\n",
       "<style scoped>\n",
       "    .dataframe tbody tr th:only-of-type {\n",
       "        vertical-align: middle;\n",
       "    }\n",
       "\n",
       "    .dataframe tbody tr th {\n",
       "        vertical-align: top;\n",
       "    }\n",
       "\n",
       "    .dataframe thead th {\n",
       "        text-align: right;\n",
       "    }\n",
       "</style>\n",
       "<table border=\"1\" class=\"dataframe\">\n",
       "  <thead>\n",
       "    <tr style=\"text-align: right;\">\n",
       "      <th></th>\n",
       "      <th>reaction</th>\n",
       "      <th>metabolite</th>\n",
       "      <th>mid</th>\n",
       "      <th>N</th>\n",
       "      <th>C</th>\n",
       "    </tr>\n",
       "  </thead>\n",
       "  <tbody>\n",
       "    <tr>\n",
       "      <th>0</th>\n",
       "      <td>EX_14glucan_e</td>\n",
       "      <td>1,4-alpha-D-glucan</td>\n",
       "      <td>14glucan_e</td>\n",
       "      <td>False</td>\n",
       "      <td>True</td>\n",
       "    </tr>\n",
       "    <tr>\n",
       "      <th>1</th>\n",
       "      <td>EX_25dkglcn_e</td>\n",
       "      <td>2,5-diketo-D-gluconate</td>\n",
       "      <td>25dkglcn_e</td>\n",
       "      <td>False</td>\n",
       "      <td>True</td>\n",
       "    </tr>\n",
       "    <tr>\n",
       "      <th>2</th>\n",
       "      <td>EX_2ameph_e</td>\n",
       "      <td>2-Aminoethylphosphonate</td>\n",
       "      <td>2ameph_e</td>\n",
       "      <td>True</td>\n",
       "      <td>True</td>\n",
       "    </tr>\n",
       "    <tr>\n",
       "      <th>3</th>\n",
       "      <td>EX_2m35mdntha_e</td>\n",
       "      <td>N  2 methyl 3 5 dinitrophenyl  4 methyl 3 5 di...</td>\n",
       "      <td>2m35mdntha_e</td>\n",
       "      <td>True</td>\n",
       "      <td>False</td>\n",
       "    </tr>\n",
       "    <tr>\n",
       "      <th>4</th>\n",
       "      <td>EX_2pglyc_e</td>\n",
       "      <td>2-Phosphoglycolate</td>\n",
       "      <td>2pglyc_e</td>\n",
       "      <td>False</td>\n",
       "      <td>True</td>\n",
       "    </tr>\n",
       "  </tbody>\n",
       "</table>\n",
       "</div>"
      ],
      "text/plain": [
       "          reaction                                         metabolite  \\\n",
       "0    EX_14glucan_e                                 1,4-alpha-D-glucan   \n",
       "1    EX_25dkglcn_e                             2,5-diketo-D-gluconate   \n",
       "2      EX_2ameph_e                            2-Aminoethylphosphonate   \n",
       "3  EX_2m35mdntha_e  N  2 methyl 3 5 dinitrophenyl  4 methyl 3 5 di...   \n",
       "4      EX_2pglyc_e                                 2-Phosphoglycolate   \n",
       "\n",
       "            mid      N      C  \n",
       "0    14glucan_e  False   True  \n",
       "1    25dkglcn_e  False   True  \n",
       "2      2ameph_e   True   True  \n",
       "3  2m35mdntha_e   True  False  \n",
       "4      2pglyc_e  False   True  "
      ]
     },
     "execution_count": 33,
     "metadata": {},
     "output_type": "execute_result"
    }
   ],
   "source": [
    "alt_med_df.head()"
   ]
  },
  {
   "cell_type": "code",
   "execution_count": 34,
   "metadata": {},
   "outputs": [
    {
     "data": {
      "text/plain": [
       "(101, 6)"
      ]
     },
     "execution_count": 34,
     "metadata": {},
     "output_type": "execute_result"
    }
   ],
   "source": [
    "pro_med_df.shape"
   ]
  },
  {
   "cell_type": "code",
   "execution_count": 35,
   "metadata": {},
   "outputs": [
    {
     "data": {
      "text/plain": [
       "(257, 5)"
      ]
     },
     "execution_count": 35,
     "metadata": {},
     "output_type": "execute_result"
    }
   ],
   "source": [
    "alt_med_df.shape"
   ]
  },
  {
   "cell_type": "code",
   "execution_count": 36,
   "metadata": {},
   "outputs": [
    {
     "data": {
      "text/html": [
       "<div>\n",
       "<style scoped>\n",
       "    .dataframe tbody tr th:only-of-type {\n",
       "        vertical-align: middle;\n",
       "    }\n",
       "\n",
       "    .dataframe tbody tr th {\n",
       "        vertical-align: top;\n",
       "    }\n",
       "\n",
       "    .dataframe thead th {\n",
       "        text-align: right;\n",
       "    }\n",
       "</style>\n",
       "<table border=\"1\" class=\"dataframe\">\n",
       "  <thead>\n",
       "    <tr style=\"text-align: right;\">\n",
       "      <th></th>\n",
       "      <th>389</th>\n",
       "    </tr>\n",
       "  </thead>\n",
       "  <tbody>\n",
       "    <tr>\n",
       "      <th>Unnamed: 0</th>\n",
       "      <td>389</td>\n",
       "    </tr>\n",
       "    <tr>\n",
       "      <th>mid</th>\n",
       "      <td>2_Phosphoglycolate[c]</td>\n",
       "    </tr>\n",
       "    <tr>\n",
       "      <th>name</th>\n",
       "      <td>2-Phosphoglycolate</td>\n",
       "    </tr>\n",
       "    <tr>\n",
       "      <th>formula</th>\n",
       "      <td>C2H5O6P</td>\n",
       "    </tr>\n",
       "    <tr>\n",
       "      <th>charge</th>\n",
       "      <td>0</td>\n",
       "    </tr>\n",
       "    <tr>\n",
       "      <th>compartment_x</th>\n",
       "      <td>[c]</td>\n",
       "    </tr>\n",
       "    <tr>\n",
       "      <th>cleaned_name</th>\n",
       "      <td>2_phosphoglycolate</td>\n",
       "    </tr>\n",
       "    <tr>\n",
       "      <th>cleaned_mid</th>\n",
       "      <td>2_phosphoglycolate</td>\n",
       "    </tr>\n",
       "    <tr>\n",
       "      <th>id</th>\n",
       "      <td>cpd00727</td>\n",
       "    </tr>\n",
       "    <tr>\n",
       "      <th>BiggID</th>\n",
       "      <td>2pglyc</td>\n",
       "    </tr>\n",
       "    <tr>\n",
       "      <th>compartment_y</th>\n",
       "      <td>[c]</td>\n",
       "    </tr>\n",
       "    <tr>\n",
       "      <th>abbreviation</th>\n",
       "      <td>2pglyc</td>\n",
       "    </tr>\n",
       "    <tr>\n",
       "      <th>name_ref</th>\n",
       "      <td>2-Phosphoglycolate</td>\n",
       "    </tr>\n",
       "    <tr>\n",
       "      <th>formula_ref</th>\n",
       "      <td>C2H2O6P</td>\n",
       "    </tr>\n",
       "    <tr>\n",
       "      <th>mass</th>\n",
       "      <td>154.0</td>\n",
       "    </tr>\n",
       "    <tr>\n",
       "      <th>source</th>\n",
       "      <td>Primary Database</td>\n",
       "    </tr>\n",
       "    <tr>\n",
       "      <th>inchikey</th>\n",
       "      <td>ASCFNMCAHFUBCO-UHFFFAOYSA-K</td>\n",
       "    </tr>\n",
       "    <tr>\n",
       "      <th>charge_ref</th>\n",
       "      <td>-3.0</td>\n",
       "    </tr>\n",
       "    <tr>\n",
       "      <th>is_core</th>\n",
       "      <td>1.0</td>\n",
       "    </tr>\n",
       "    <tr>\n",
       "      <th>is_obsolete</th>\n",
       "      <td>0.0</td>\n",
       "    </tr>\n",
       "    <tr>\n",
       "      <th>linked_compound</th>\n",
       "      <td>NaN</td>\n",
       "    </tr>\n",
       "    <tr>\n",
       "      <th>is_cofactor</th>\n",
       "      <td>0.0</td>\n",
       "    </tr>\n",
       "    <tr>\n",
       "      <th>deltag</th>\n",
       "      <td>-305.86</td>\n",
       "    </tr>\n",
       "    <tr>\n",
       "      <th>deltagerr</th>\n",
       "      <td>0.3</td>\n",
       "    </tr>\n",
       "    <tr>\n",
       "      <th>pka</th>\n",
       "      <td>1:3:1.14;1:4:6.37;1:8:3.60</td>\n",
       "    </tr>\n",
       "    <tr>\n",
       "      <th>pkb</th>\n",
       "      <td>NaN</td>\n",
       "    </tr>\n",
       "    <tr>\n",
       "      <th>abstract_compound</th>\n",
       "      <td>NaN</td>\n",
       "    </tr>\n",
       "    <tr>\n",
       "      <th>comprised_of</th>\n",
       "      <td>NaN</td>\n",
       "    </tr>\n",
       "    <tr>\n",
       "      <th>aliases</th>\n",
       "      <td>Name: 2-P-glycolate; 2-Phosphoglycolate; 2-pho...</td>\n",
       "    </tr>\n",
       "    <tr>\n",
       "      <th>smiles</th>\n",
       "      <td>O=C([O-])COP(=O)([O-])[O-]</td>\n",
       "    </tr>\n",
       "    <tr>\n",
       "      <th>notes</th>\n",
       "      <td>GC|EQ|EQU</td>\n",
       "    </tr>\n",
       "    <tr>\n",
       "      <th>BiggID_ref</th>\n",
       "      <td>2pglyc</td>\n",
       "    </tr>\n",
       "    <tr>\n",
       "      <th>cleaned_name_ref</th>\n",
       "      <td>2_phosphoglycolate</td>\n",
       "    </tr>\n",
       "    <tr>\n",
       "      <th>alias</th>\n",
       "      <td>['Name', '2-P-glycolate', ' 2-Phosphoglycolate...</td>\n",
       "    </tr>\n",
       "  </tbody>\n",
       "</table>\n",
       "</div>"
      ],
      "text/plain": [
       "                                                                 389\n",
       "Unnamed: 0                                                       389\n",
       "mid                                            2_Phosphoglycolate[c]\n",
       "name                                              2-Phosphoglycolate\n",
       "formula                                                      C2H5O6P\n",
       "charge                                                             0\n",
       "compartment_x                                                    [c]\n",
       "cleaned_name                                      2_phosphoglycolate\n",
       "cleaned_mid                                       2_phosphoglycolate\n",
       "id                                                          cpd00727\n",
       "BiggID                                                        2pglyc\n",
       "compartment_y                                                    [c]\n",
       "abbreviation                                                  2pglyc\n",
       "name_ref                                          2-Phosphoglycolate\n",
       "formula_ref                                                  C2H2O6P\n",
       "mass                                                           154.0\n",
       "source                                              Primary Database\n",
       "inchikey                                 ASCFNMCAHFUBCO-UHFFFAOYSA-K\n",
       "charge_ref                                                      -3.0\n",
       "is_core                                                          1.0\n",
       "is_obsolete                                                      0.0\n",
       "linked_compound                                                  NaN\n",
       "is_cofactor                                                      0.0\n",
       "deltag                                                       -305.86\n",
       "deltagerr                                                        0.3\n",
       "pka                                       1:3:1.14;1:4:6.37;1:8:3.60\n",
       "pkb                                                              NaN\n",
       "abstract_compound                                                NaN\n",
       "comprised_of                                                     NaN\n",
       "aliases            Name: 2-P-glycolate; 2-Phosphoglycolate; 2-pho...\n",
       "smiles                                    O=C([O-])COP(=O)([O-])[O-]\n",
       "notes                                                      GC|EQ|EQU\n",
       "BiggID_ref                                                    2pglyc\n",
       "cleaned_name_ref                                  2_phosphoglycolate\n",
       "alias              ['Name', '2-P-glycolate', ' 2-Phosphoglycolate..."
      ]
     },
     "execution_count": 36,
     "metadata": {},
     "output_type": "execute_result"
    }
   ],
   "source": [
    "bigg_df.loc[bigg_df.BiggID.isin(['2pglyc'])].T"
   ]
  },
  {
   "cell_type": "code",
   "execution_count": 37,
   "metadata": {},
   "outputs": [
    {
     "data": {
      "text/plain": [
       "(Index(['reaction', 'metabolite', 'mid', 'N', 'C'], dtype='object'),\n",
       " Index(['reaction', 'metabolite', 'mid', 'N', 'C', 'BiggID'], dtype='object'))"
      ]
     },
     "execution_count": 37,
     "metadata": {},
     "output_type": "execute_result"
    }
   ],
   "source": [
    "alt_med_df.columns, pro_med_df.columns"
   ]
  },
  {
   "cell_type": "code",
   "execution_count": 38,
   "metadata": {},
   "outputs": [],
   "source": [
    "alt_med_df['BiggID'] = alt_med_df.mid.str.rpartition('_',)[0]"
   ]
  },
  {
   "cell_type": "code",
   "execution_count": 124,
   "metadata": {},
   "outputs": [],
   "source": [
    "uni_med_df['BiggID'] = uni_med_df.mid.str.rpartition('_',)[0]"
   ]
  },
  {
   "cell_type": "code",
   "execution_count": 130,
   "metadata": {},
   "outputs": [],
   "source": [
    "cyano_med_df['BiggID'] = cyano_med_df.mid.str.rpartition('_',)[0]"
   ]
  },
  {
   "cell_type": "code",
   "execution_count": 39,
   "metadata": {},
   "outputs": [],
   "source": [
    "exchange_df = pd.merge(pro_med_df, alt_med_df, left_on='BiggID', right_on='BiggID', how='outer', suffixes=['_pro', '_alt'])"
   ]
  },
  {
   "cell_type": "code",
   "execution_count": 40,
   "metadata": {},
   "outputs": [
    {
     "data": {
      "text/plain": [
       "False    291\n",
       "True      10\n",
       "Name: BiggID, dtype: int64"
      ]
     },
     "execution_count": 40,
     "metadata": {},
     "output_type": "execute_result"
    }
   ],
   "source": [
    "exchange_df.BiggID.isna().value_counts()"
   ]
  },
  {
   "cell_type": "code",
   "execution_count": 41,
   "metadata": {},
   "outputs": [
    {
     "data": {
      "text/html": [
       "<div>\n",
       "<style scoped>\n",
       "    .dataframe tbody tr th:only-of-type {\n",
       "        vertical-align: middle;\n",
       "    }\n",
       "\n",
       "    .dataframe tbody tr th {\n",
       "        vertical-align: top;\n",
       "    }\n",
       "\n",
       "    .dataframe thead th {\n",
       "        text-align: right;\n",
       "    }\n",
       "</style>\n",
       "<table border=\"1\" class=\"dataframe\">\n",
       "  <thead>\n",
       "    <tr style=\"text-align: right;\">\n",
       "      <th></th>\n",
       "      <th>reaction_pro</th>\n",
       "      <th>metabolite_pro</th>\n",
       "      <th>mid_pro</th>\n",
       "      <th>N_pro</th>\n",
       "      <th>C_pro</th>\n",
       "      <th>BiggID</th>\n",
       "      <th>reaction_alt</th>\n",
       "      <th>metabolite_alt</th>\n",
       "      <th>mid_alt</th>\n",
       "      <th>N_alt</th>\n",
       "      <th>C_alt</th>\n",
       "    </tr>\n",
       "  </thead>\n",
       "  <tbody>\n",
       "    <tr>\n",
       "      <th>54</th>\n",
       "      <td>L_AlanineEX</td>\n",
       "      <td>L-Alanine</td>\n",
       "      <td>L_Alanine[e]</td>\n",
       "      <td>True</td>\n",
       "      <td>True</td>\n",
       "      <td>ala__L</td>\n",
       "      <td>EX_ala__L_e</td>\n",
       "      <td>L-Alanine</td>\n",
       "      <td>ala__L_e</td>\n",
       "      <td>True</td>\n",
       "      <td>True</td>\n",
       "    </tr>\n",
       "    <tr>\n",
       "      <th>238</th>\n",
       "      <td>NaN</td>\n",
       "      <td>NaN</td>\n",
       "      <td>NaN</td>\n",
       "      <td>NaN</td>\n",
       "      <td>NaN</td>\n",
       "      <td>met_L_ala__L</td>\n",
       "      <td>EX_met_L_ala__L_e</td>\n",
       "      <td>Met L ala L C8H16N2O3S</td>\n",
       "      <td>met_L_ala__L_e</td>\n",
       "      <td>True</td>\n",
       "      <td>True</td>\n",
       "    </tr>\n",
       "  </tbody>\n",
       "</table>\n",
       "</div>"
      ],
      "text/plain": [
       "    reaction_pro metabolite_pro       mid_pro N_pro C_pro        BiggID  \\\n",
       "54   L_AlanineEX      L-Alanine  L_Alanine[e]  True  True        ala__L   \n",
       "238          NaN            NaN           NaN   NaN   NaN  met_L_ala__L   \n",
       "\n",
       "          reaction_alt          metabolite_alt         mid_alt N_alt C_alt  \n",
       "54         EX_ala__L_e               L-Alanine        ala__L_e  True  True  \n",
       "238  EX_met_L_ala__L_e  Met L ala L C8H16N2O3S  met_L_ala__L_e  True  True  "
      ]
     },
     "execution_count": 41,
     "metadata": {},
     "output_type": "execute_result"
    }
   ],
   "source": [
    "exchange_df.loc[exchange_df.BiggID.str.contains('ala__L', case=False, na=False)]"
   ]
  },
  {
   "cell_type": "code",
   "execution_count": 42,
   "metadata": {},
   "outputs": [
    {
     "data": {
      "text/plain": [
       "ALT only    200\n",
       "mapped       57\n",
       "PRO only     44\n",
       "Name: map_status, dtype: int64"
      ]
     },
     "execution_count": 42,
     "metadata": {},
     "output_type": "execute_result"
    }
   ],
   "source": [
    "exchange_df['map_status'] = 'mapped'\n",
    "exchange_df.loc[exchange_df.metabolite_alt.isna(), 'map_status'] = 'PRO only'\n",
    "exchange_df.loc[exchange_df.metabolite_pro.isna(), 'map_status'] = 'ALT only'\n",
    "exchange_df.map_status.value_counts()"
   ]
  },
  {
   "cell_type": "code",
   "execution_count": 43,
   "metadata": {},
   "outputs": [
    {
     "data": {
      "text/plain": [
       "reaction_pro      200\n",
       "metabolite_pro    200\n",
       "mid_pro           200\n",
       "N_pro             200\n",
       "C_pro             200\n",
       "BiggID             10\n",
       "reaction_alt       44\n",
       "metabolite_alt     44\n",
       "mid_alt            44\n",
       "N_alt              44\n",
       "C_alt              44\n",
       "map_status          0\n",
       "dtype: int64"
      ]
     },
     "execution_count": 43,
     "metadata": {},
     "output_type": "execute_result"
    }
   ],
   "source": [
    "exchange_df.isna().sum()"
   ]
  },
  {
   "cell_type": "raw",
   "metadata": {},
   "source": [
    "exchange_df[['metabolite_common','metabolite_pro', 'metabolite_alt', 'map_status', 'reaction_pro', 'reaction_alt']].to_excel('common_exchange.xlsx')"
   ]
  },
  {
   "cell_type": "markdown",
   "metadata": {},
   "source": [
    "# Look for potential cross feeding"
   ]
  },
  {
   "cell_type": "code",
   "execution_count": 44,
   "metadata": {},
   "outputs": [],
   "source": [
    "pro_df = pd.read_excel('data/PRO_N_sources.xlsx', sheet_name='secretion')\n",
    "alt_dpath = '../../HOT1A3-model/N_Starvation/'\n",
    "alt_df = pd.read_excel(os.path.join(alt_dpath, 'ALT_N_sources.xlsx'), sheet_name='secretion')\n",
    "alt2_df = pd.read_excel(os.path.join(alt_dpath, 'ALT_N_sources.xlsx'), sheet_name='secretion2')\n"
   ]
  },
  {
   "cell_type": "code",
   "execution_count": 45,
   "metadata": {},
   "outputs": [
    {
     "data": {
      "text/html": [
       "<div>\n",
       "<style scoped>\n",
       "    .dataframe tbody tr th:only-of-type {\n",
       "        vertical-align: middle;\n",
       "    }\n",
       "\n",
       "    .dataframe tbody tr th {\n",
       "        vertical-align: top;\n",
       "    }\n",
       "\n",
       "    .dataframe thead th {\n",
       "        text-align: right;\n",
       "    }\n",
       "</style>\n",
       "<table border=\"1\" class=\"dataframe\">\n",
       "  <thead>\n",
       "    <tr style=\"text-align: right;\">\n",
       "      <th></th>\n",
       "      <th>Unnamed: 0</th>\n",
       "      <th>secretion</th>\n",
       "      <th>minimum</th>\n",
       "      <th>maximum</th>\n",
       "      <th>uptake</th>\n",
       "      <th>metabolite_uptake</th>\n",
       "      <th>mid_uptake</th>\n",
       "      <th>N_uptake</th>\n",
       "      <th>C_uptake</th>\n",
       "      <th>metabolite_secretion</th>\n",
       "      <th>mid_secretion</th>\n",
       "      <th>N_secretion</th>\n",
       "      <th>C_secretion</th>\n",
       "    </tr>\n",
       "  </thead>\n",
       "  <tbody>\n",
       "    <tr>\n",
       "      <th>0</th>\n",
       "      <td>0</td>\n",
       "      <td>sink_2ohph_c</td>\n",
       "      <td>0.0</td>\n",
       "      <td>66.658441</td>\n",
       "      <td>EX_cytd_e</td>\n",
       "      <td>Cytidine</td>\n",
       "      <td>cytd_e</td>\n",
       "      <td>True</td>\n",
       "      <td>True</td>\n",
       "      <td>2-Octaprenyl-6-hydroxyphenol</td>\n",
       "      <td>2ohph_c</td>\n",
       "      <td>False</td>\n",
       "      <td>True</td>\n",
       "    </tr>\n",
       "    <tr>\n",
       "      <th>1</th>\n",
       "      <td>1</td>\n",
       "      <td>sink_4crsol_c</td>\n",
       "      <td>0.0</td>\n",
       "      <td>279.476874</td>\n",
       "      <td>EX_cytd_e</td>\n",
       "      <td>Cytidine</td>\n",
       "      <td>cytd_e</td>\n",
       "      <td>True</td>\n",
       "      <td>True</td>\n",
       "      <td>P-Cresol</td>\n",
       "      <td>4crsol_c</td>\n",
       "      <td>False</td>\n",
       "      <td>True</td>\n",
       "    </tr>\n",
       "    <tr>\n",
       "      <th>2</th>\n",
       "      <td>3</td>\n",
       "      <td>sink_hemeO_c</td>\n",
       "      <td>0.0</td>\n",
       "      <td>65.829612</td>\n",
       "      <td>EX_cytd_e</td>\n",
       "      <td>Cytidine</td>\n",
       "      <td>cytd_e</td>\n",
       "      <td>True</td>\n",
       "      <td>True</td>\n",
       "      <td>Heme O C49H56FeN4O5</td>\n",
       "      <td>hemeO_c</td>\n",
       "      <td>True</td>\n",
       "      <td>True</td>\n",
       "    </tr>\n",
       "    <tr>\n",
       "      <th>3</th>\n",
       "      <td>4</td>\n",
       "      <td>sink_mobd_c</td>\n",
       "      <td>0.0</td>\n",
       "      <td>1000.000000</td>\n",
       "      <td>EX_cytd_e</td>\n",
       "      <td>Cytidine</td>\n",
       "      <td>cytd_e</td>\n",
       "      <td>True</td>\n",
       "      <td>True</td>\n",
       "      <td>Molybdate</td>\n",
       "      <td>mobd_c</td>\n",
       "      <td>False</td>\n",
       "      <td>False</td>\n",
       "    </tr>\n",
       "    <tr>\n",
       "      <th>4</th>\n",
       "      <td>5</td>\n",
       "      <td>sink_sheme_c</td>\n",
       "      <td>0.0</td>\n",
       "      <td>95.624557</td>\n",
       "      <td>EX_cytd_e</td>\n",
       "      <td>Cytidine</td>\n",
       "      <td>cytd_e</td>\n",
       "      <td>True</td>\n",
       "      <td>True</td>\n",
       "      <td>Siroheme C42H36FeN4O16</td>\n",
       "      <td>sheme_c</td>\n",
       "      <td>True</td>\n",
       "      <td>True</td>\n",
       "    </tr>\n",
       "  </tbody>\n",
       "</table>\n",
       "</div>"
      ],
      "text/plain": [
       "   Unnamed: 0      secretion  minimum      maximum     uptake  \\\n",
       "0           0   sink_2ohph_c      0.0    66.658441  EX_cytd_e   \n",
       "1           1  sink_4crsol_c      0.0   279.476874  EX_cytd_e   \n",
       "2           3   sink_hemeO_c      0.0    65.829612  EX_cytd_e   \n",
       "3           4    sink_mobd_c      0.0  1000.000000  EX_cytd_e   \n",
       "4           5   sink_sheme_c      0.0    95.624557  EX_cytd_e   \n",
       "\n",
       "  metabolite_uptake mid_uptake  N_uptake  C_uptake  \\\n",
       "0          Cytidine     cytd_e      True      True   \n",
       "1          Cytidine     cytd_e      True      True   \n",
       "2          Cytidine     cytd_e      True      True   \n",
       "3          Cytidine     cytd_e      True      True   \n",
       "4          Cytidine     cytd_e      True      True   \n",
       "\n",
       "           metabolite_secretion mid_secretion  N_secretion  C_secretion  \n",
       "0  2-Octaprenyl-6-hydroxyphenol       2ohph_c        False         True  \n",
       "1                      P-Cresol      4crsol_c        False         True  \n",
       "2           Heme O C49H56FeN4O5       hemeO_c         True         True  \n",
       "3                     Molybdate        mobd_c        False        False  \n",
       "4        Siroheme C42H36FeN4O16       sheme_c         True         True  "
      ]
     },
     "execution_count": 45,
     "metadata": {},
     "output_type": "execute_result"
    }
   ],
   "source": [
    "alt_df.head()"
   ]
  },
  {
   "cell_type": "code",
   "execution_count": 46,
   "metadata": {},
   "outputs": [
    {
     "data": {
      "text/plain": [
       "253      Ammonium\n",
       "254      Ammonium\n",
       "255      Ammonium\n",
       "256      Ammonium\n",
       "257      Ammonium\n",
       "           ...   \n",
       "20191     Cyanate\n",
       "20192     Cyanate\n",
       "20193     Cyanate\n",
       "20194     Cyanate\n",
       "20195     Cyanate\n",
       "Name: metabolite_uptake, Length: 5880, dtype: object"
      ]
     },
     "execution_count": 46,
     "metadata": {},
     "output_type": "execute_result"
    }
   ],
   "source": [
    "alt2_df.loc[alt2_df.N_uptake, 'metabolite_uptake']"
   ]
  },
  {
   "cell_type": "code",
   "execution_count": 47,
   "metadata": {},
   "outputs": [
    {
     "data": {
      "text/html": [
       "<div>\n",
       "<style scoped>\n",
       "    .dataframe tbody tr th:only-of-type {\n",
       "        vertical-align: middle;\n",
       "    }\n",
       "\n",
       "    .dataframe tbody tr th {\n",
       "        vertical-align: top;\n",
       "    }\n",
       "\n",
       "    .dataframe thead th {\n",
       "        text-align: right;\n",
       "    }\n",
       "</style>\n",
       "<table border=\"1\" class=\"dataframe\">\n",
       "  <thead>\n",
       "    <tr style=\"text-align: right;\">\n",
       "      <th></th>\n",
       "      <th>Unnamed: 0</th>\n",
       "      <th>secretion</th>\n",
       "      <th>minimum</th>\n",
       "      <th>maximum</th>\n",
       "      <th>uptake</th>\n",
       "      <th>uptake2</th>\n",
       "      <th>metabolite_uptake</th>\n",
       "      <th>mid_uptake</th>\n",
       "      <th>N_uptake</th>\n",
       "      <th>C_uptake</th>\n",
       "      <th>metabolite_uptake2</th>\n",
       "      <th>mid_uptake2</th>\n",
       "      <th>N_uptake2</th>\n",
       "      <th>C_uptake2</th>\n",
       "      <th>metabolite_secretion</th>\n",
       "      <th>mid_secretion</th>\n",
       "      <th>N_secretion</th>\n",
       "      <th>C_secretion</th>\n",
       "    </tr>\n",
       "  </thead>\n",
       "  <tbody>\n",
       "    <tr>\n",
       "      <th>0</th>\n",
       "      <td>0</td>\n",
       "      <td>sink_2ohph_c</td>\n",
       "      <td>0.0</td>\n",
       "      <td>68.865821</td>\n",
       "      <td>EX_14glucan_e</td>\n",
       "      <td>EX_nh4_e</td>\n",
       "      <td>1,4-alpha-D-glucan</td>\n",
       "      <td>14glucan_e</td>\n",
       "      <td>False</td>\n",
       "      <td>True</td>\n",
       "      <td>Ammonium</td>\n",
       "      <td>nh4_e</td>\n",
       "      <td>True</td>\n",
       "      <td>False</td>\n",
       "      <td>2-Octaprenyl-6-hydroxyphenol</td>\n",
       "      <td>2ohph_c</td>\n",
       "      <td>False</td>\n",
       "      <td>True</td>\n",
       "    </tr>\n",
       "    <tr>\n",
       "      <th>1</th>\n",
       "      <td>1</td>\n",
       "      <td>sink_4crsol_c</td>\n",
       "      <td>0.0</td>\n",
       "      <td>308.174662</td>\n",
       "      <td>EX_14glucan_e</td>\n",
       "      <td>EX_nh4_e</td>\n",
       "      <td>1,4-alpha-D-glucan</td>\n",
       "      <td>14glucan_e</td>\n",
       "      <td>False</td>\n",
       "      <td>True</td>\n",
       "      <td>Ammonium</td>\n",
       "      <td>nh4_e</td>\n",
       "      <td>True</td>\n",
       "      <td>False</td>\n",
       "      <td>P-Cresol</td>\n",
       "      <td>4crsol_c</td>\n",
       "      <td>False</td>\n",
       "      <td>True</td>\n",
       "    </tr>\n",
       "    <tr>\n",
       "      <th>2</th>\n",
       "      <td>3</td>\n",
       "      <td>sink_hemeO_c</td>\n",
       "      <td>0.0</td>\n",
       "      <td>59.261590</td>\n",
       "      <td>EX_14glucan_e</td>\n",
       "      <td>EX_nh4_e</td>\n",
       "      <td>1,4-alpha-D-glucan</td>\n",
       "      <td>14glucan_e</td>\n",
       "      <td>False</td>\n",
       "      <td>True</td>\n",
       "      <td>Ammonium</td>\n",
       "      <td>nh4_e</td>\n",
       "      <td>True</td>\n",
       "      <td>False</td>\n",
       "      <td>Heme O C49H56FeN4O5</td>\n",
       "      <td>hemeO_c</td>\n",
       "      <td>True</td>\n",
       "      <td>True</td>\n",
       "    </tr>\n",
       "    <tr>\n",
       "      <th>3</th>\n",
       "      <td>4</td>\n",
       "      <td>sink_mobd_c</td>\n",
       "      <td>0.0</td>\n",
       "      <td>1000.000000</td>\n",
       "      <td>EX_14glucan_e</td>\n",
       "      <td>EX_nh4_e</td>\n",
       "      <td>1,4-alpha-D-glucan</td>\n",
       "      <td>14glucan_e</td>\n",
       "      <td>False</td>\n",
       "      <td>True</td>\n",
       "      <td>Ammonium</td>\n",
       "      <td>nh4_e</td>\n",
       "      <td>True</td>\n",
       "      <td>False</td>\n",
       "      <td>Molybdate</td>\n",
       "      <td>mobd_c</td>\n",
       "      <td>False</td>\n",
       "      <td>False</td>\n",
       "    </tr>\n",
       "    <tr>\n",
       "      <th>4</th>\n",
       "      <td>5</td>\n",
       "      <td>sink_sheme_c</td>\n",
       "      <td>0.0</td>\n",
       "      <td>77.873881</td>\n",
       "      <td>EX_14glucan_e</td>\n",
       "      <td>EX_nh4_e</td>\n",
       "      <td>1,4-alpha-D-glucan</td>\n",
       "      <td>14glucan_e</td>\n",
       "      <td>False</td>\n",
       "      <td>True</td>\n",
       "      <td>Ammonium</td>\n",
       "      <td>nh4_e</td>\n",
       "      <td>True</td>\n",
       "      <td>False</td>\n",
       "      <td>Siroheme C42H36FeN4O16</td>\n",
       "      <td>sheme_c</td>\n",
       "      <td>True</td>\n",
       "      <td>True</td>\n",
       "    </tr>\n",
       "  </tbody>\n",
       "</table>\n",
       "</div>"
      ],
      "text/plain": [
       "   Unnamed: 0      secretion  minimum      maximum         uptake   uptake2  \\\n",
       "0           0   sink_2ohph_c      0.0    68.865821  EX_14glucan_e  EX_nh4_e   \n",
       "1           1  sink_4crsol_c      0.0   308.174662  EX_14glucan_e  EX_nh4_e   \n",
       "2           3   sink_hemeO_c      0.0    59.261590  EX_14glucan_e  EX_nh4_e   \n",
       "3           4    sink_mobd_c      0.0  1000.000000  EX_14glucan_e  EX_nh4_e   \n",
       "4           5   sink_sheme_c      0.0    77.873881  EX_14glucan_e  EX_nh4_e   \n",
       "\n",
       "    metabolite_uptake  mid_uptake  N_uptake  C_uptake metabolite_uptake2  \\\n",
       "0  1,4-alpha-D-glucan  14glucan_e     False      True           Ammonium   \n",
       "1  1,4-alpha-D-glucan  14glucan_e     False      True           Ammonium   \n",
       "2  1,4-alpha-D-glucan  14glucan_e     False      True           Ammonium   \n",
       "3  1,4-alpha-D-glucan  14glucan_e     False      True           Ammonium   \n",
       "4  1,4-alpha-D-glucan  14glucan_e     False      True           Ammonium   \n",
       "\n",
       "  mid_uptake2  N_uptake2  C_uptake2          metabolite_secretion  \\\n",
       "0       nh4_e       True      False  2-Octaprenyl-6-hydroxyphenol   \n",
       "1       nh4_e       True      False                      P-Cresol   \n",
       "2       nh4_e       True      False           Heme O C49H56FeN4O5   \n",
       "3       nh4_e       True      False                     Molybdate   \n",
       "4       nh4_e       True      False        Siroheme C42H36FeN4O16   \n",
       "\n",
       "  mid_secretion  N_secretion  C_secretion  \n",
       "0       2ohph_c        False         True  \n",
       "1      4crsol_c        False         True  \n",
       "2       hemeO_c         True         True  \n",
       "3        mobd_c        False        False  \n",
       "4       sheme_c         True         True  "
      ]
     },
     "execution_count": 47,
     "metadata": {},
     "output_type": "execute_result"
    }
   ],
   "source": [
    "alt2_df.head()"
   ]
  },
  {
   "cell_type": "code",
   "execution_count": 48,
   "metadata": {},
   "outputs": [
    {
     "data": {
      "text/html": [
       "<div>\n",
       "<style scoped>\n",
       "    .dataframe tbody tr th:only-of-type {\n",
       "        vertical-align: middle;\n",
       "    }\n",
       "\n",
       "    .dataframe tbody tr th {\n",
       "        vertical-align: top;\n",
       "    }\n",
       "\n",
       "    .dataframe thead th {\n",
       "        text-align: right;\n",
       "    }\n",
       "</style>\n",
       "<table border=\"1\" class=\"dataframe\">\n",
       "  <thead>\n",
       "    <tr style=\"text-align: right;\">\n",
       "      <th></th>\n",
       "      <th>Unnamed: 0</th>\n",
       "      <th>secretion</th>\n",
       "      <th>minimum</th>\n",
       "      <th>maximum</th>\n",
       "      <th>uptake</th>\n",
       "      <th>metabolite_uptake</th>\n",
       "      <th>mid_uptake</th>\n",
       "      <th>N_uptake</th>\n",
       "      <th>C_uptake</th>\n",
       "      <th>metabolite_secretion</th>\n",
       "      <th>mid_secretion</th>\n",
       "      <th>N_secretion</th>\n",
       "      <th>C_secretion</th>\n",
       "    </tr>\n",
       "  </thead>\n",
       "  <tbody>\n",
       "    <tr>\n",
       "      <th>0</th>\n",
       "      <td>0</td>\n",
       "      <td>B12EX</td>\n",
       "      <td>0.000000</td>\n",
       "      <td>7.941910</td>\n",
       "      <td>GuanosineEX</td>\n",
       "      <td>Guanosine[e]</td>\n",
       "      <td>Guanosine[e]</td>\n",
       "      <td>True</td>\n",
       "      <td>True</td>\n",
       "      <td>Cobamide coenzyme</td>\n",
       "      <td>Cobamide_coenzyme[e]</td>\n",
       "      <td>True</td>\n",
       "      <td>True</td>\n",
       "    </tr>\n",
       "    <tr>\n",
       "      <th>1</th>\n",
       "      <td>1</td>\n",
       "      <td>BiotinEX</td>\n",
       "      <td>0.000000</td>\n",
       "      <td>1.985477</td>\n",
       "      <td>GuanosineEX</td>\n",
       "      <td>Guanosine[e]</td>\n",
       "      <td>Guanosine[e]</td>\n",
       "      <td>True</td>\n",
       "      <td>True</td>\n",
       "      <td>Biotin</td>\n",
       "      <td>Biotin[e]</td>\n",
       "      <td>True</td>\n",
       "      <td>True</td>\n",
       "    </tr>\n",
       "    <tr>\n",
       "      <th>2</th>\n",
       "      <td>2</td>\n",
       "      <td>MethanolEX</td>\n",
       "      <td>0.000042</td>\n",
       "      <td>1.985519</td>\n",
       "      <td>GuanosineEX</td>\n",
       "      <td>Guanosine[e]</td>\n",
       "      <td>Guanosine[e]</td>\n",
       "      <td>True</td>\n",
       "      <td>True</td>\n",
       "      <td>Methanol</td>\n",
       "      <td>Methanol[e]</td>\n",
       "      <td>False</td>\n",
       "      <td>True</td>\n",
       "    </tr>\n",
       "    <tr>\n",
       "      <th>3</th>\n",
       "      <td>3</td>\n",
       "      <td>SAdenosyl4methylthio2oxobutanoateEX</td>\n",
       "      <td>0.000042</td>\n",
       "      <td>1.985519</td>\n",
       "      <td>GuanosineEX</td>\n",
       "      <td>Guanosine[e]</td>\n",
       "      <td>Guanosine[e]</td>\n",
       "      <td>True</td>\n",
       "      <td>True</td>\n",
       "      <td>S-Adenosyl-4-methylthio-2-oxobutanoate</td>\n",
       "      <td>S_Adenosyl_4_methylthio_2_oxobutanoate[e]</td>\n",
       "      <td>True</td>\n",
       "      <td>True</td>\n",
       "    </tr>\n",
       "    <tr>\n",
       "      <th>4</th>\n",
       "      <td>4</td>\n",
       "      <td>SMethyl5thioDriboseEX</td>\n",
       "      <td>0.000000</td>\n",
       "      <td>15.884229</td>\n",
       "      <td>GuanosineEX</td>\n",
       "      <td>Guanosine[e]</td>\n",
       "      <td>Guanosine[e]</td>\n",
       "      <td>True</td>\n",
       "      <td>True</td>\n",
       "      <td>S-Methyl-5-thio-D-ribose</td>\n",
       "      <td>S_Methyl_5_thio_D_ribose[e]</td>\n",
       "      <td>False</td>\n",
       "      <td>True</td>\n",
       "    </tr>\n",
       "  </tbody>\n",
       "</table>\n",
       "</div>"
      ],
      "text/plain": [
       "   Unnamed: 0                            secretion   minimum    maximum  \\\n",
       "0           0                                B12EX  0.000000   7.941910   \n",
       "1           1                             BiotinEX  0.000000   1.985477   \n",
       "2           2                           MethanolEX  0.000042   1.985519   \n",
       "3           3  SAdenosyl4methylthio2oxobutanoateEX  0.000042   1.985519   \n",
       "4           4                SMethyl5thioDriboseEX  0.000000  15.884229   \n",
       "\n",
       "        uptake metabolite_uptake    mid_uptake  N_uptake  C_uptake  \\\n",
       "0  GuanosineEX      Guanosine[e]  Guanosine[e]      True      True   \n",
       "1  GuanosineEX      Guanosine[e]  Guanosine[e]      True      True   \n",
       "2  GuanosineEX      Guanosine[e]  Guanosine[e]      True      True   \n",
       "3  GuanosineEX      Guanosine[e]  Guanosine[e]      True      True   \n",
       "4  GuanosineEX      Guanosine[e]  Guanosine[e]      True      True   \n",
       "\n",
       "                     metabolite_secretion  \\\n",
       "0                       Cobamide coenzyme   \n",
       "1                                  Biotin   \n",
       "2                                Methanol   \n",
       "3  S-Adenosyl-4-methylthio-2-oxobutanoate   \n",
       "4                S-Methyl-5-thio-D-ribose   \n",
       "\n",
       "                               mid_secretion  N_secretion  C_secretion  \n",
       "0                       Cobamide_coenzyme[e]         True         True  \n",
       "1                                  Biotin[e]         True         True  \n",
       "2                                Methanol[e]        False         True  \n",
       "3  S_Adenosyl_4_methylthio_2_oxobutanoate[e]         True         True  \n",
       "4                S_Methyl_5_thio_D_ribose[e]        False         True  "
      ]
     },
     "execution_count": 48,
     "metadata": {},
     "output_type": "execute_result"
    }
   ],
   "source": [
    "pro_df.head()"
   ]
  },
  {
   "cell_type": "code",
   "execution_count": 49,
   "metadata": {},
   "outputs": [
    {
     "data": {
      "text/html": [
       "<div>\n",
       "<style scoped>\n",
       "    .dataframe tbody tr th:only-of-type {\n",
       "        vertical-align: middle;\n",
       "    }\n",
       "\n",
       "    .dataframe tbody tr th {\n",
       "        vertical-align: top;\n",
       "    }\n",
       "\n",
       "    .dataframe thead th {\n",
       "        text-align: right;\n",
       "    }\n",
       "</style>\n",
       "<table border=\"1\" class=\"dataframe\">\n",
       "  <thead>\n",
       "    <tr style=\"text-align: right;\">\n",
       "      <th></th>\n",
       "      <th>reaction_pro</th>\n",
       "      <th>metabolite_pro</th>\n",
       "      <th>mid_pro</th>\n",
       "      <th>N_pro</th>\n",
       "      <th>C_pro</th>\n",
       "      <th>BiggID</th>\n",
       "      <th>reaction_alt</th>\n",
       "      <th>metabolite_alt</th>\n",
       "      <th>mid_alt</th>\n",
       "      <th>N_alt</th>\n",
       "      <th>C_alt</th>\n",
       "      <th>map_status</th>\n",
       "    </tr>\n",
       "  </thead>\n",
       "  <tbody>\n",
       "    <tr>\n",
       "      <th>0</th>\n",
       "      <td>AminosugarsEX</td>\n",
       "      <td>Amino sugars pool</td>\n",
       "      <td>Amino_sugars[e]</td>\n",
       "      <td>False</td>\n",
       "      <td>False</td>\n",
       "      <td>NaN</td>\n",
       "      <td>NaN</td>\n",
       "      <td>NaN</td>\n",
       "      <td>NaN</td>\n",
       "      <td>NaN</td>\n",
       "      <td>NaN</td>\n",
       "      <td>PRO only</td>\n",
       "    </tr>\n",
       "    <tr>\n",
       "      <th>1</th>\n",
       "      <td>FAKEAAEX</td>\n",
       "      <td>amino_acid_pool_e</td>\n",
       "      <td>amino_acid_pool[e]</td>\n",
       "      <td>False</td>\n",
       "      <td>False</td>\n",
       "      <td>NaN</td>\n",
       "      <td>NaN</td>\n",
       "      <td>NaN</td>\n",
       "      <td>NaN</td>\n",
       "      <td>NaN</td>\n",
       "      <td>NaN</td>\n",
       "      <td>PRO only</td>\n",
       "    </tr>\n",
       "    <tr>\n",
       "      <th>2</th>\n",
       "      <td>FAKEApoacpEX</td>\n",
       "      <td>Apo-(acyl-carrier-protein)</td>\n",
       "      <td>Apo_acyl_carrier_protein[e]</td>\n",
       "      <td>False</td>\n",
       "      <td>False</td>\n",
       "      <td>NaN</td>\n",
       "      <td>NaN</td>\n",
       "      <td>NaN</td>\n",
       "      <td>NaN</td>\n",
       "      <td>NaN</td>\n",
       "      <td>NaN</td>\n",
       "      <td>PRO only</td>\n",
       "    </tr>\n",
       "    <tr>\n",
       "      <th>3</th>\n",
       "      <td>FreefattyacidsEX</td>\n",
       "      <td>Free fatty acids</td>\n",
       "      <td>Free_fatty_acids[e]</td>\n",
       "      <td>False</td>\n",
       "      <td>False</td>\n",
       "      <td>NaN</td>\n",
       "      <td>NaN</td>\n",
       "      <td>NaN</td>\n",
       "      <td>NaN</td>\n",
       "      <td>NaN</td>\n",
       "      <td>NaN</td>\n",
       "      <td>PRO only</td>\n",
       "    </tr>\n",
       "    <tr>\n",
       "      <th>4</th>\n",
       "      <td>ArtificialproteinEX</td>\n",
       "      <td>Artificial Protein biomass precursor</td>\n",
       "      <td>Artificial_protein[e]</td>\n",
       "      <td>False</td>\n",
       "      <td>False</td>\n",
       "      <td>NaN</td>\n",
       "      <td>NaN</td>\n",
       "      <td>NaN</td>\n",
       "      <td>NaN</td>\n",
       "      <td>NaN</td>\n",
       "      <td>NaN</td>\n",
       "      <td>PRO only</td>\n",
       "    </tr>\n",
       "  </tbody>\n",
       "</table>\n",
       "</div>"
      ],
      "text/plain": [
       "          reaction_pro                        metabolite_pro  \\\n",
       "0        AminosugarsEX                     Amino sugars pool   \n",
       "1             FAKEAAEX                     amino_acid_pool_e   \n",
       "2         FAKEApoacpEX            Apo-(acyl-carrier-protein)   \n",
       "3     FreefattyacidsEX                      Free fatty acids   \n",
       "4  ArtificialproteinEX  Artificial Protein biomass precursor   \n",
       "\n",
       "                       mid_pro  N_pro  C_pro BiggID reaction_alt  \\\n",
       "0              Amino_sugars[e]  False  False    NaN          NaN   \n",
       "1           amino_acid_pool[e]  False  False    NaN          NaN   \n",
       "2  Apo_acyl_carrier_protein[e]  False  False    NaN          NaN   \n",
       "3          Free_fatty_acids[e]  False  False    NaN          NaN   \n",
       "4        Artificial_protein[e]  False  False    NaN          NaN   \n",
       "\n",
       "  metabolite_alt mid_alt N_alt C_alt map_status  \n",
       "0            NaN     NaN   NaN   NaN   PRO only  \n",
       "1            NaN     NaN   NaN   NaN   PRO only  \n",
       "2            NaN     NaN   NaN   NaN   PRO only  \n",
       "3            NaN     NaN   NaN   NaN   PRO only  \n",
       "4            NaN     NaN   NaN   NaN   PRO only  "
      ]
     },
     "execution_count": 49,
     "metadata": {},
     "output_type": "execute_result"
    }
   ],
   "source": [
    "exchange_df.head()"
   ]
  },
  {
   "cell_type": "code",
   "execution_count": 50,
   "metadata": {},
   "outputs": [],
   "source": [
    "for i in ['PRO_UPTAKE', 'PRO_SECRETION', 'ALT_UPTAKE', 'ALT_SECRETION']:\n",
    "    exchange_df[i] = False\n",
    "\n",
    "exchange_df.loc[exchange_df.mid_pro.isin(pro_df.mid_uptake), 'PRO_UPTAKE'] = True\n",
    "exchange_df.loc[exchange_df.mid_pro.isin(pro_df.mid_secretion), 'PRO_SECRETION'] = True\n",
    "\n"
   ]
  },
  {
   "cell_type": "code",
   "execution_count": 51,
   "metadata": {},
   "outputs": [],
   "source": [
    "exchange_df.loc[exchange_df.mid_alt.isin(alt_df.mid_uptake), 'ALT_UPTAKE'] = True\n",
    "exchange_df.loc[exchange_df.mid_alt.isin(alt_df.mid_secretion), 'ALT_SECRETION'] = True\n",
    "exchange_df.loc[exchange_df.mid_alt.isin(alt2_df.mid_uptake), 'ALT_UPTAKE'] = True\n",
    "exchange_df.loc[exchange_df.mid_alt.isin(alt2_df.mid_uptake2), 'ALT_UPTAKE'] = True\n",
    "exchange_df.loc[exchange_df.mid_alt.isin(alt2_df.mid_secretion), 'ALT_SECRETION'] = True\n",
    "\n"
   ]
  },
  {
   "cell_type": "code",
   "execution_count": 52,
   "metadata": {},
   "outputs": [
    {
     "data": {
      "text/html": [
       "<div>\n",
       "<style scoped>\n",
       "    .dataframe tbody tr th:only-of-type {\n",
       "        vertical-align: middle;\n",
       "    }\n",
       "\n",
       "    .dataframe tbody tr th {\n",
       "        vertical-align: top;\n",
       "    }\n",
       "\n",
       "    .dataframe thead th {\n",
       "        text-align: right;\n",
       "    }\n",
       "</style>\n",
       "<table border=\"1\" class=\"dataframe\">\n",
       "  <thead>\n",
       "    <tr style=\"text-align: right;\">\n",
       "      <th></th>\n",
       "      <th>PRO_UPTAKE</th>\n",
       "      <th>PRO_SECRETION</th>\n",
       "      <th>ALT_UPTAKE</th>\n",
       "      <th>ALT_SECRETION</th>\n",
       "      <th>0</th>\n",
       "    </tr>\n",
       "  </thead>\n",
       "  <tbody>\n",
       "    <tr>\n",
       "      <th>0</th>\n",
       "      <td>False</td>\n",
       "      <td>False</td>\n",
       "      <td>False</td>\n",
       "      <td>False</td>\n",
       "      <td>99</td>\n",
       "    </tr>\n",
       "    <tr>\n",
       "      <th>1</th>\n",
       "      <td>False</td>\n",
       "      <td>False</td>\n",
       "      <td>False</td>\n",
       "      <td>True</td>\n",
       "      <td>23</td>\n",
       "    </tr>\n",
       "    <tr>\n",
       "      <th>2</th>\n",
       "      <td>False</td>\n",
       "      <td>False</td>\n",
       "      <td>True</td>\n",
       "      <td>False</td>\n",
       "      <td>110</td>\n",
       "    </tr>\n",
       "    <tr>\n",
       "      <th>3</th>\n",
       "      <td>False</td>\n",
       "      <td>False</td>\n",
       "      <td>True</td>\n",
       "      <td>True</td>\n",
       "      <td>12</td>\n",
       "    </tr>\n",
       "    <tr>\n",
       "      <th>4</th>\n",
       "      <td>False</td>\n",
       "      <td>True</td>\n",
       "      <td>False</td>\n",
       "      <td>False</td>\n",
       "      <td>21</td>\n",
       "    </tr>\n",
       "    <tr>\n",
       "      <th>5</th>\n",
       "      <td>False</td>\n",
       "      <td>True</td>\n",
       "      <td>False</td>\n",
       "      <td>True</td>\n",
       "      <td>2</td>\n",
       "    </tr>\n",
       "    <tr>\n",
       "      <th>6</th>\n",
       "      <td>False</td>\n",
       "      <td>True</td>\n",
       "      <td>True</td>\n",
       "      <td>False</td>\n",
       "      <td>13</td>\n",
       "    </tr>\n",
       "    <tr>\n",
       "      <th>7</th>\n",
       "      <td>False</td>\n",
       "      <td>True</td>\n",
       "      <td>True</td>\n",
       "      <td>True</td>\n",
       "      <td>5</td>\n",
       "    </tr>\n",
       "    <tr>\n",
       "      <th>8</th>\n",
       "      <td>True</td>\n",
       "      <td>False</td>\n",
       "      <td>True</td>\n",
       "      <td>False</td>\n",
       "      <td>1</td>\n",
       "    </tr>\n",
       "    <tr>\n",
       "      <th>9</th>\n",
       "      <td>True</td>\n",
       "      <td>True</td>\n",
       "      <td>False</td>\n",
       "      <td>False</td>\n",
       "      <td>3</td>\n",
       "    </tr>\n",
       "    <tr>\n",
       "      <th>10</th>\n",
       "      <td>True</td>\n",
       "      <td>True</td>\n",
       "      <td>False</td>\n",
       "      <td>True</td>\n",
       "      <td>1</td>\n",
       "    </tr>\n",
       "    <tr>\n",
       "      <th>11</th>\n",
       "      <td>True</td>\n",
       "      <td>True</td>\n",
       "      <td>True</td>\n",
       "      <td>False</td>\n",
       "      <td>6</td>\n",
       "    </tr>\n",
       "    <tr>\n",
       "      <th>12</th>\n",
       "      <td>True</td>\n",
       "      <td>True</td>\n",
       "      <td>True</td>\n",
       "      <td>True</td>\n",
       "      <td>5</td>\n",
       "    </tr>\n",
       "  </tbody>\n",
       "</table>\n",
       "</div>"
      ],
      "text/plain": [
       "    PRO_UPTAKE  PRO_SECRETION  ALT_UPTAKE  ALT_SECRETION    0\n",
       "0        False          False       False          False   99\n",
       "1        False          False       False           True   23\n",
       "2        False          False        True          False  110\n",
       "3        False          False        True           True   12\n",
       "4        False           True       False          False   21\n",
       "5        False           True       False           True    2\n",
       "6        False           True        True          False   13\n",
       "7        False           True        True           True    5\n",
       "8         True          False        True          False    1\n",
       "9         True           True       False          False    3\n",
       "10        True           True       False           True    1\n",
       "11        True           True        True          False    6\n",
       "12        True           True        True           True    5"
      ]
     },
     "execution_count": 52,
     "metadata": {},
     "output_type": "execute_result"
    }
   ],
   "source": [
    "exchange_df.groupby(['PRO_UPTAKE', 'PRO_SECRETION', 'ALT_UPTAKE', 'ALT_SECRETION']).size().reset_index()"
   ]
  },
  {
   "cell_type": "code",
   "execution_count": 53,
   "metadata": {},
   "outputs": [
    {
     "data": {
      "text/plain": [
       "PRO_UPTAKE        16\n",
       "PRO_SECRETION     56\n",
       "ALT_UPTAKE       152\n",
       "ALT_SECRETION     48\n",
       "dtype: int64"
      ]
     },
     "execution_count": 53,
     "metadata": {},
     "output_type": "execute_result"
    }
   ],
   "source": [
    "exchange_df[['PRO_UPTAKE', 'PRO_SECRETION', 'ALT_UPTAKE', 'ALT_SECRETION']].sum()\n"
   ]
  },
  {
   "cell_type": "code",
   "execution_count": 54,
   "metadata": {},
   "outputs": [
    {
     "data": {
      "text/plain": [
       "Index(['id', 'abbreviation', 'name', 'formula', 'mass', 'source', 'inchikey',\n",
       "       'charge', 'is_core', 'is_obsolete', 'linked_compound', 'is_cofactor',\n",
       "       'deltag', 'deltagerr', 'pka', 'pkb', 'abstract_compound',\n",
       "       'comprised_of', 'aliases', 'smiles', 'notes', 'BiggID', 'kegg_id',\n",
       "       'Unnamed: 0', 'main', 'sub', 'path', 'ecpath', 'compound_id'],\n",
       "      dtype='object')"
      ]
     },
     "execution_count": 54,
     "metadata": {},
     "output_type": "execute_result"
    }
   ],
   "source": [
    "ref_df.columns"
   ]
  },
  {
   "cell_type": "code",
   "execution_count": 55,
   "metadata": {},
   "outputs": [],
   "source": [
    "exchange_df = pd.merge(exchange_df, \n",
    "         ref_df[['BiggID', 'name', 'kegg_id', 'main', 'formula', 'aliases']].dropna(subset=['BiggID', 'kegg_id'], how='any'\n",
    "                                                             ).drop_duplicates(subset=['BiggID']), \n",
    "         on='BiggID', how='left')"
   ]
  },
  {
   "cell_type": "code",
   "execution_count": 56,
   "metadata": {},
   "outputs": [],
   "source": [
    "exchange_df.loc[exchange_df.name.isna() & ~exchange_df.metabolite_alt.isna(), 'name'] = exchange_df.loc[exchange_df.name.isna() & ~exchange_df.metabolite_alt.isna(), 'metabolite_alt']\n",
    "exchange_df.loc[exchange_df.name.isna() & ~exchange_df.metabolite_pro.isna(), 'name'] = exchange_df.loc[exchange_df.name.isna() & ~exchange_df.metabolite_pro.isna(), 'metabolite_pro']\n"
   ]
  },
  {
   "cell_type": "code",
   "execution_count": 57,
   "metadata": {},
   "outputs": [],
   "source": [
    "exchange_df['N'] = exchange_df.N_alt\n",
    "exchange_df.loc[exchange_df.N.isna(), 'N'] = exchange_df.loc[exchange_df.N.isna(), 'N_pro'] \n",
    "exchange_df['C'] = exchange_df.C_alt\n",
    "exchange_df.loc[exchange_df.C.isna(), 'C'] = exchange_df.loc[exchange_df.C.isna(), 'C_pro'] \n"
   ]
  },
  {
   "cell_type": "code",
   "execution_count": 58,
   "metadata": {},
   "outputs": [],
   "source": [
    "exchange_df.loc[(~exchange_df.C) & (~exchange_df.N), 'N/C'] = 'none'\n",
    "exchange_df.loc[exchange_df.C & exchange_df.N, 'N/C'] = 'N+C'\n",
    "exchange_df.loc[exchange_df.C & (~exchange_df.N), 'N/C'] = 'C'\n",
    "exchange_df.loc[(~exchange_df.C) & exchange_df.N, 'N/C'] = 'N'\n"
   ]
  },
  {
   "cell_type": "code",
   "execution_count": 82,
   "metadata": {},
   "outputs": [],
   "source": [
    "exchange_df.loc[exchange_df.main.isna(), 'main'] = ''"
   ]
  },
  {
   "cell_type": "code",
   "execution_count": 83,
   "metadata": {},
   "outputs": [
    {
     "data": {
      "text/html": [
       "<div>\n",
       "<style scoped>\n",
       "    .dataframe tbody tr th:only-of-type {\n",
       "        vertical-align: middle;\n",
       "    }\n",
       "\n",
       "    .dataframe tbody tr th {\n",
       "        vertical-align: top;\n",
       "    }\n",
       "\n",
       "    .dataframe thead th {\n",
       "        text-align: right;\n",
       "    }\n",
       "</style>\n",
       "<table border=\"1\" class=\"dataframe\">\n",
       "  <thead>\n",
       "    <tr style=\"text-align: right;\">\n",
       "      <th></th>\n",
       "      <th>N</th>\n",
       "      <th>C</th>\n",
       "      <th>N/C</th>\n",
       "      <th>0</th>\n",
       "    </tr>\n",
       "  </thead>\n",
       "  <tbody>\n",
       "    <tr>\n",
       "      <th>0</th>\n",
       "      <td>False</td>\n",
       "      <td>False</td>\n",
       "      <td>none</td>\n",
       "      <td>41</td>\n",
       "    </tr>\n",
       "    <tr>\n",
       "      <th>1</th>\n",
       "      <td>False</td>\n",
       "      <td>True</td>\n",
       "      <td>C</td>\n",
       "      <td>116</td>\n",
       "    </tr>\n",
       "    <tr>\n",
       "      <th>2</th>\n",
       "      <td>True</td>\n",
       "      <td>False</td>\n",
       "      <td>N</td>\n",
       "      <td>6</td>\n",
       "    </tr>\n",
       "    <tr>\n",
       "      <th>3</th>\n",
       "      <td>True</td>\n",
       "      <td>True</td>\n",
       "      <td>N+C</td>\n",
       "      <td>138</td>\n",
       "    </tr>\n",
       "  </tbody>\n",
       "</table>\n",
       "</div>"
      ],
      "text/plain": [
       "       N      C   N/C    0\n",
       "0  False  False  none   41\n",
       "1  False   True     C  116\n",
       "2   True  False     N    6\n",
       "3   True   True   N+C  138"
      ]
     },
     "execution_count": 83,
     "metadata": {},
     "output_type": "execute_result"
    }
   ],
   "source": [
    "exchange_df.groupby(['N', 'C', 'N/C']).size().reset_index()"
   ]
  },
  {
   "cell_type": "code",
   "execution_count": 84,
   "metadata": {},
   "outputs": [
    {
     "data": {
      "text/plain": [
       "Index(['reaction_pro', 'metabolite_pro', 'mid_pro', 'N_pro', 'C_pro', 'BiggID',\n",
       "       'reaction_alt', 'metabolite_alt', 'mid_alt', 'N_alt', 'C_alt',\n",
       "       'map_status', 'PRO_UPTAKE', 'PRO_SECRETION', 'ALT_UPTAKE',\n",
       "       'ALT_SECRETION', 'name', 'kegg_id', 'main', 'formula', 'aliases', 'N',\n",
       "       'C', 'N/C', 'PRO->ALT', 'ALT->PRO', 'PRO->ALT x', 'ALT->PRO x'],\n",
       "      dtype='object')"
      ]
     },
     "execution_count": 84,
     "metadata": {},
     "output_type": "execute_result"
    }
   ],
   "source": [
    "exchange_df.columns"
   ]
  },
  {
   "cell_type": "code",
   "execution_count": 85,
   "metadata": {},
   "outputs": [],
   "source": [
    "p2a_series = pd.Series(list(zip(exchange_df.map_status,  exchange_df.PRO_SECRETION,exchange_df.ALT_UPTAKE,)))\n",
    "\n",
    "p2a_map = {\n",
    "    # map_status, PRO_SECRETION, ALT_UPTAKE, \n",
    "    ('PRO only', False, False) : '|--- --X|', \n",
    "    ('PRO only', True,  False) : '|--> --X|', \n",
    "    ('mapped',   True,  False) : '|--> ---|', \n",
    "    ('mapped',   True,  True ) : '|--> -->|', \n",
    "    ('mapped',   False, False) : '|--- ---|', \n",
    "    ('mapped',   False, True ) : '|--- -->|', \n",
    "    ('ALT only', False, True ) : '|X-- -->|', \n",
    "    ('ALT only', False, False) : '|X-- ---|', \n",
    "}\n",
    "\n"
   ]
  },
  {
   "cell_type": "code",
   "execution_count": 86,
   "metadata": {},
   "outputs": [
    {
     "data": {
      "text/plain": [
       "array([('PRO only', False, False), ('mapped', False, False),\n",
       "       ('mapped', False, True), ('mapped', True, True),\n",
       "       ('mapped', True, False), ('PRO only', True, False),\n",
       "       ('ALT only', False, False), ('ALT only', False, True)],\n",
       "      dtype=object)"
      ]
     },
     "execution_count": 86,
     "metadata": {},
     "output_type": "execute_result"
    }
   ],
   "source": [
    "a2p_series = pd.Series(list(zip(exchange_df.map_status,  exchange_df.PRO_UPTAKE,exchange_df.ALT_SECRETION,)))\n",
    "\n",
    "a2p_map = {\n",
    "    # map_status,  PRO_UPTAKE,ALT_SECRETION\n",
    "    ('mapped',   False, False) : '|--- ---|', \n",
    "    ('PRO only', False, False) : '|--- --X|', \n",
    "    ('ALT only', False, False) : '|X-- ---|', \n",
    "    ('PRO only', True , False) : '|<-- --X|', \n",
    "    ('mapped',   False, True ) : '|--- <--|', \n",
    "    ('mapped',   True , False) : '|<-- ---|', \n",
    "    ('mapped',   True , True ) : '|<-- <--|', \n",
    "    ('ALT only', False, True ) : '|X-- <--|', \n",
    "}\n",
    "a2p_series.unique()"
   ]
  },
  {
   "cell_type": "code",
   "execution_count": 87,
   "metadata": {},
   "outputs": [],
   "source": [
    "exchange_df['PRO->ALT x'] = p2a_series.map(p2a_map)\n",
    "exchange_df['ALT->PRO x'] = a2p_series.map(a2p_map)"
   ]
  },
  {
   "cell_type": "code",
   "execution_count": 88,
   "metadata": {},
   "outputs": [],
   "source": [
    "exchange_df['PRO->ALT'] = exchange_df['PRO->ALT x'].str.replace('X', '-', regex=False)\n",
    "exchange_df['ALT->PRO'] = exchange_df['ALT->PRO x'].str.replace('X', '-', regex=False)"
   ]
  },
  {
   "cell_type": "code",
   "execution_count": 89,
   "metadata": {},
   "outputs": [
    {
     "data": {
      "text/html": [
       "<div>\n",
       "<style scoped>\n",
       "    .dataframe tbody tr th:only-of-type {\n",
       "        vertical-align: middle;\n",
       "    }\n",
       "\n",
       "    .dataframe tbody tr th {\n",
       "        vertical-align: top;\n",
       "    }\n",
       "\n",
       "    .dataframe thead th {\n",
       "        text-align: right;\n",
       "    }\n",
       "</style>\n",
       "<table border=\"1\" class=\"dataframe\">\n",
       "  <thead>\n",
       "    <tr style=\"text-align: right;\">\n",
       "      <th></th>\n",
       "      <th>main</th>\n",
       "      <th>N/C</th>\n",
       "      <th>PRO-&gt;ALT</th>\n",
       "      <th>ALT-&gt;PRO</th>\n",
       "      <th>0</th>\n",
       "    </tr>\n",
       "  </thead>\n",
       "  <tbody>\n",
       "    <tr>\n",
       "      <th>0</th>\n",
       "      <td></td>\n",
       "      <td>C</td>\n",
       "      <td>|--- ---|</td>\n",
       "      <td>|--- ---|</td>\n",
       "      <td>21</td>\n",
       "    </tr>\n",
       "    <tr>\n",
       "      <th>1</th>\n",
       "      <td></td>\n",
       "      <td>C</td>\n",
       "      <td>|--- ---|</td>\n",
       "      <td>|--- &lt;--|</td>\n",
       "      <td>8</td>\n",
       "    </tr>\n",
       "    <tr>\n",
       "      <th>2</th>\n",
       "      <td></td>\n",
       "      <td>C</td>\n",
       "      <td>|--- --&gt;|</td>\n",
       "      <td>|--- ---|</td>\n",
       "      <td>33</td>\n",
       "    </tr>\n",
       "    <tr>\n",
       "      <th>3</th>\n",
       "      <td></td>\n",
       "      <td>C</td>\n",
       "      <td>|--- --&gt;|</td>\n",
       "      <td>|--- &lt;--|</td>\n",
       "      <td>2</td>\n",
       "    </tr>\n",
       "    <tr>\n",
       "      <th>4</th>\n",
       "      <td></td>\n",
       "      <td>C</td>\n",
       "      <td>|--&gt; ---|</td>\n",
       "      <td>|--- ---|</td>\n",
       "      <td>3</td>\n",
       "    </tr>\n",
       "    <tr>\n",
       "      <th>...</th>\n",
       "      <td>...</td>\n",
       "      <td>...</td>\n",
       "      <td>...</td>\n",
       "      <td>...</td>\n",
       "      <td>...</td>\n",
       "    </tr>\n",
       "    <tr>\n",
       "      <th>56</th>\n",
       "      <td>Vitamins and cofactors</td>\n",
       "      <td>C</td>\n",
       "      <td>|--- --&gt;|</td>\n",
       "      <td>|--- ---|</td>\n",
       "      <td>1</td>\n",
       "    </tr>\n",
       "    <tr>\n",
       "      <th>57</th>\n",
       "      <td>Vitamins and cofactors</td>\n",
       "      <td>N+C</td>\n",
       "      <td>|--- ---|</td>\n",
       "      <td>|--- ---|</td>\n",
       "      <td>4</td>\n",
       "    </tr>\n",
       "    <tr>\n",
       "      <th>58</th>\n",
       "      <td>Vitamins and cofactors</td>\n",
       "      <td>N+C</td>\n",
       "      <td>|--- ---|</td>\n",
       "      <td>|--- &lt;--|</td>\n",
       "      <td>1</td>\n",
       "    </tr>\n",
       "    <tr>\n",
       "      <th>59</th>\n",
       "      <td>Vitamins and cofactors</td>\n",
       "      <td>N+C</td>\n",
       "      <td>|--&gt; ---|</td>\n",
       "      <td>|--- ---|</td>\n",
       "      <td>3</td>\n",
       "    </tr>\n",
       "    <tr>\n",
       "      <th>60</th>\n",
       "      <td>Vitamins and cofactors</td>\n",
       "      <td>N+C</td>\n",
       "      <td>|--&gt; --&gt;|</td>\n",
       "      <td>|&lt;-- ---|</td>\n",
       "      <td>1</td>\n",
       "    </tr>\n",
       "  </tbody>\n",
       "</table>\n",
       "<p>61 rows × 5 columns</p>\n",
       "</div>"
      ],
      "text/plain": [
       "                      main  N/C   PRO->ALT   ALT->PRO   0\n",
       "0                             C  |--- ---|  |--- ---|  21\n",
       "1                             C  |--- ---|  |--- <--|   8\n",
       "2                             C  |--- -->|  |--- ---|  33\n",
       "3                             C  |--- -->|  |--- <--|   2\n",
       "4                             C  |--> ---|  |--- ---|   3\n",
       "..                     ...  ...        ...        ...  ..\n",
       "56  Vitamins and cofactors    C  |--- -->|  |--- ---|   1\n",
       "57  Vitamins and cofactors  N+C  |--- ---|  |--- ---|   4\n",
       "58  Vitamins and cofactors  N+C  |--- ---|  |--- <--|   1\n",
       "59  Vitamins and cofactors  N+C  |--> ---|  |--- ---|   3\n",
       "60  Vitamins and cofactors  N+C  |--> -->|  |<-- ---|   1\n",
       "\n",
       "[61 rows x 5 columns]"
      ]
     },
     "execution_count": 89,
     "metadata": {},
     "output_type": "execute_result"
    }
   ],
   "source": [
    "exchange_df.groupby(['main', 'N/C', 'PRO->ALT', 'ALT->PRO'], dropna=False).size().reset_index()"
   ]
  },
  {
   "cell_type": "code",
   "execution_count": 139,
   "metadata": {},
   "outputs": [],
   "source": [
    "exchange_df.loc[exchange_df.BiggID.isin(uni_med_df.BiggID) & exchange_df.mid_alt.isna(), 'map_status'] = 'PRO and Universal not ALT'"
   ]
  },
  {
   "cell_type": "code",
   "execution_count": 140,
   "metadata": {},
   "outputs": [],
   "source": [
    "exchange_df.loc[exchange_df.BiggID.isin(cyano_med_df.BiggID) & exchange_df.mid_pro.isna(), 'map_status'] = 'ALT and Universal Cyano not PRO'"
   ]
  },
  {
   "cell_type": "code",
   "execution_count": 142,
   "metadata": {},
   "outputs": [
    {
     "data": {
      "text/plain": [
       "ALT and Universal Cyano not PRO    199\n",
       "mapped                              57\n",
       "PRO only                            28\n",
       "PRO and Universal not ALT           16\n",
       "ALT only                             1\n",
       "Name: map_status, dtype: int64"
      ]
     },
     "execution_count": 142,
     "metadata": {},
     "output_type": "execute_result"
    }
   ],
   "source": [
    "exchange_df.map_status.value_counts()"
   ]
  },
  {
   "cell_type": "code",
   "execution_count": 151,
   "metadata": {},
   "outputs": [],
   "source": [
    "exchange_df.loc[exchange_df.main.isin(['']), 'main'] = 'other'"
   ]
  },
  {
   "cell_type": "code",
   "execution_count": 152,
   "metadata": {},
   "outputs": [
    {
     "data": {
      "text/plain": [
       "array(['other', 'Vitamins and cofactors', 'Peptides', 'Carbohydrates',\n",
       "       'Organic acids', 'Nucleic acids', 'Lipids'], dtype=object)"
      ]
     },
     "execution_count": 152,
     "metadata": {},
     "output_type": "execute_result"
    }
   ],
   "source": [
    "exchange_df.main.unique()"
   ]
  },
  {
   "cell_type": "code",
   "execution_count": 153,
   "metadata": {},
   "outputs": [],
   "source": [
    "mini_exchange_df = exchange_df[['main', 'name', 'N/C', 'PRO->ALT x', 'ALT->PRO x', 'formula', 'aliases',\n",
    "             'map_status', 'PRO_UPTAKE', 'PRO_SECRETION', 'ALT_UPTAKE', 'ALT_SECRETION',\n",
    "             'BiggID','kegg_id',\n",
    "             'reaction_pro', 'metabolite_pro', 'mid_pro', 'N_pro', 'C_pro', \n",
    "             'reaction_alt', 'metabolite_alt', 'mid_alt', 'N_alt', 'C_alt',\n",
    "            ]]\n",
    "             "
   ]
  },
  {
   "cell_type": "code",
   "execution_count": 155,
   "metadata": {},
   "outputs": [
    {
     "data": {
      "text/plain": [
       "Index(['main', 'name', 'N/C', 'PRO->ALT x', 'ALT->PRO x', 'formula', 'aliases',\n",
       "       'map_status', 'PRO_UPTAKE', 'PRO_SECRETION', 'ALT_UPTAKE',\n",
       "       'ALT_SECRETION', 'BiggID', 'kegg_id', 'reaction_pro', 'metabolite_pro',\n",
       "       'mid_pro', 'N_pro', 'C_pro', 'reaction_alt', 'metabolite_alt',\n",
       "       'mid_alt', 'N_alt', 'C_alt'],\n",
       "      dtype='object')"
      ]
     },
     "execution_count": 155,
     "metadata": {},
     "output_type": "execute_result"
    }
   ],
   "source": [
    "mini_exchange_df.columns"
   ]
  },
  {
   "cell_type": "code",
   "execution_count": 156,
   "metadata": {},
   "outputs": [],
   "source": [
    "p2a_df = exchange_df.pivot_table(\n",
    "    index=['main', 'N/C', 'map_status'], columns=['PRO->ALT'], values='name', #dropna=False,\n",
    "    aggfunc=lambda x: ', '.join(x)\n",
    ")\n",
    "\n",
    "a2p_df = exchange_df.pivot_table(\n",
    "    index=['main', 'N/C', 'map_status'], columns=['ALT->PRO'], values='name',  #dropna=False,\n",
    "    aggfunc=lambda x: ', '.join(x)\n",
    ")"
   ]
  },
  {
   "cell_type": "code",
   "execution_count": 157,
   "metadata": {},
   "outputs": [],
   "source": [
    "with pd.ExcelWriter('CC1A3_exchanges.xlsx') as writer:  \n",
    "    p2a_df.to_excel(writer, sheet_name='P->A')\n",
    "    a2p_df.to_excel(writer, sheet_name='A->P')\n",
    "    mini_exchange_df.to_excel(writer, sheet_name='All')\n"
   ]
  },
  {
   "cell_type": "code",
   "execution_count": null,
   "metadata": {},
   "outputs": [],
   "source": []
  },
  {
   "cell_type": "code",
   "execution_count": null,
   "metadata": {},
   "outputs": [],
   "source": []
  },
  {
   "cell_type": "raw",
   "metadata": {},
   "source": [
    "exchange_df[['metabolite_common','metabolite_pro', 'metabolite_alt', 'map_status', 'reaction_pro', 'reaction_alt']].to_excel('common_exchange.xlsx')"
   ]
  },
  {
   "cell_type": "raw",
   "metadata": {},
   "source": [
    "p_map = pro_med_df['BiggID']\n",
    "p_map.index = pro_med_df['metabolite']\n",
    "pro_df['metabolite1_uptake'] = pro_df.metabolite_uptake.replace(p_map)\n",
    "pro_df['metabolite1_secretion'] = pro_df.metabolite_secretion.replace(p_map)\n"
   ]
  },
  {
   "cell_type": "raw",
   "metadata": {},
   "source": [
    "a_map = alt_med_df['metabolite_common']\n",
    "a_map.index = alt_med_df['metabolite']\n",
    "alt_df['metabolite1_uptake'] = alt_df.metabolite_uptake.replace(a_map)\n",
    "alt_df['metabolite1_secretion'] = alt_df.metabolite_secretion.replace(a_map)\n",
    "alt2_df['metabolite1_uptake'] = alt2_df.metabolite_uptake.replace(a_map)\n",
    "alt2_df['metabolite1_uptake2'] = alt2_df.metabolite_uptake2.replace(a_map)\n",
    "alt2_df['metabolite1_secretion'] = alt2_df.metabolite_secretion.replace(a_map)\n"
   ]
  },
  {
   "cell_type": "code",
   "execution_count": 67,
   "metadata": {},
   "outputs": [
    {
     "data": {
      "text/plain": [
       "True    2501\n",
       "Name: N_uptake, dtype: int64"
      ]
     },
     "execution_count": 67,
     "metadata": {},
     "output_type": "execute_result"
    }
   ],
   "source": [
    "alt_df.N_uptake.value_counts()"
   ]
  },
  {
   "cell_type": "code",
   "execution_count": 68,
   "metadata": {},
   "outputs": [
    {
     "ename": "AttributeError",
     "evalue": "'DataFrame' object has no attribute 'name_ref'",
     "output_type": "error",
     "traceback": [
      "\u001b[0;31m---------------------------------------------------------------------------\u001b[0m",
      "\u001b[0;31mAttributeError\u001b[0m                            Traceback (most recent call last)",
      "Input \u001b[0;32mIn [68]\u001b[0m, in \u001b[0;36m<cell line: 5>\u001b[0;34m()\u001b[0m\n\u001b[1;32m      3\u001b[0m alt1_uptake \u001b[38;5;241m=\u001b[39m \u001b[38;5;28mset\u001b[39m(alt_df\u001b[38;5;241m.\u001b[39mmetabolite_uptake\u001b[38;5;241m.\u001b[39munique()) \n\u001b[1;32m      4\u001b[0m alt2_uptake \u001b[38;5;241m=\u001b[39m \u001b[38;5;28mset\u001b[39m(alt2_df\u001b[38;5;241m.\u001b[39mmetabolite_uptake\u001b[38;5;241m.\u001b[39munique()) \u001b[38;5;241m|\u001b[39m \u001b[38;5;28mset\u001b[39m(alt2_df\u001b[38;5;241m.\u001b[39mmetabolite_uptake2\u001b[38;5;241m.\u001b[39munique())\n\u001b[0;32m----> 5\u001b[0m pro_uptake \u001b[38;5;241m=\u001b[39m \u001b[38;5;28mset\u001b[39m(\u001b[43mpro_df\u001b[49m\u001b[38;5;241;43m.\u001b[39;49m\u001b[43mname_ref\u001b[49m\u001b[38;5;241m.\u001b[39munique())\n\u001b[1;32m      6\u001b[0m alt_secretion \u001b[38;5;241m=\u001b[39m \u001b[38;5;28mset\u001b[39m(alt_df\u001b[38;5;241m.\u001b[39mmetabolite_secretion\u001b[38;5;241m.\u001b[39munique()) \u001b[38;5;241m|\u001b[39m \u001b[38;5;28mset\u001b[39m(alt2_df\u001b[38;5;241m.\u001b[39mmetabolite_secretion\u001b[38;5;241m.\u001b[39munique())\n\u001b[1;32m      7\u001b[0m pro_secretion \u001b[38;5;241m=\u001b[39m \u001b[38;5;28mset\u001b[39m(pro_df\u001b[38;5;241m.\u001b[39mname_ref_secretion\u001b[38;5;241m.\u001b[39munique())\n",
      "File \u001b[0;32m~/work/tools/anaconda3/lib/python3.9/site-packages/pandas/core/generic.py:5575\u001b[0m, in \u001b[0;36mNDFrame.__getattr__\u001b[0;34m(self, name)\u001b[0m\n\u001b[1;32m   5568\u001b[0m \u001b[38;5;28;01mif\u001b[39;00m (\n\u001b[1;32m   5569\u001b[0m     name \u001b[38;5;129;01mnot\u001b[39;00m \u001b[38;5;129;01min\u001b[39;00m \u001b[38;5;28mself\u001b[39m\u001b[38;5;241m.\u001b[39m_internal_names_set\n\u001b[1;32m   5570\u001b[0m     \u001b[38;5;129;01mand\u001b[39;00m name \u001b[38;5;129;01mnot\u001b[39;00m \u001b[38;5;129;01min\u001b[39;00m \u001b[38;5;28mself\u001b[39m\u001b[38;5;241m.\u001b[39m_metadata\n\u001b[1;32m   5571\u001b[0m     \u001b[38;5;129;01mand\u001b[39;00m name \u001b[38;5;129;01mnot\u001b[39;00m \u001b[38;5;129;01min\u001b[39;00m \u001b[38;5;28mself\u001b[39m\u001b[38;5;241m.\u001b[39m_accessors\n\u001b[1;32m   5572\u001b[0m     \u001b[38;5;129;01mand\u001b[39;00m \u001b[38;5;28mself\u001b[39m\u001b[38;5;241m.\u001b[39m_info_axis\u001b[38;5;241m.\u001b[39m_can_hold_identifiers_and_holds_name(name)\n\u001b[1;32m   5573\u001b[0m ):\n\u001b[1;32m   5574\u001b[0m     \u001b[38;5;28;01mreturn\u001b[39;00m \u001b[38;5;28mself\u001b[39m[name]\n\u001b[0;32m-> 5575\u001b[0m \u001b[38;5;28;01mreturn\u001b[39;00m \u001b[38;5;28;43mobject\u001b[39;49m\u001b[38;5;241;43m.\u001b[39;49m\u001b[38;5;21;43m__getattribute__\u001b[39;49m\u001b[43m(\u001b[49m\u001b[38;5;28;43mself\u001b[39;49m\u001b[43m,\u001b[49m\u001b[43m \u001b[49m\u001b[43mname\u001b[49m\u001b[43m)\u001b[49m\n",
      "\u001b[0;31mAttributeError\u001b[0m: 'DataFrame' object has no attribute 'name_ref'"
     ]
    }
   ],
   "source": [
    "alt_uptake = (set(alt_df.metabolite_uptake.unique()) | set(alt2_df.metabolite_uptake.unique()) | \n",
    "              set(alt2_df.metabolite_uptake2.unique()))\n",
    "alt1_uptake = set(alt_df.metabolite_uptake.unique()) \n",
    "alt2_uptake = set(alt2_df.metabolite_uptake.unique()) | set(alt2_df.metabolite_uptake2.unique())\n",
    "pro_uptake = set(pro_df.name_ref.unique())\n",
    "alt_secretion = set(alt_df.metabolite_secretion.unique()) | set(alt2_df.metabolite_secretion.unique())\n",
    "pro_secretion = set(pro_df.name_ref_secretion.unique())\n"
   ]
  },
  {
   "cell_type": "code",
   "execution_count": null,
   "metadata": {},
   "outputs": [],
   "source": [
    "pro_secretion_N = set(pro_df.loc[pro_df.N_secretion].name_ref_secretion.unique())\n",
    "pro_secretion_C = set(pro_df.loc[pro_df.C_secretion].name_ref_secretion.unique())\n"
   ]
  },
  {
   "cell_type": "code",
   "execution_count": null,
   "metadata": {},
   "outputs": [],
   "source": [
    "alt_no_uptake_all = set(exchange_df['metabolite_alt'].dropna().unique()) - alt_uptake\n",
    "alt_no_uptake_N_all = set(exchange_df.dropna(subset='N_alt').loc[exchange_df.N_alt == True, 'metabolite_alt'].dropna().unique()) - alt_uptake\n",
    "alt_no_uptake_C_all = set(exchange_df.dropna(subset='C_alt').loc[exchange_df.C_alt == True, 'metabolite_alt'].dropna().unique()) - alt_uptake\n",
    "alt_no_uptake_N = alt_no_uptake_N_all - alt_no_uptake_C_all\n",
    "alt_no_uptake_C = alt_no_uptake_C_all - alt_no_uptake_N_all\n",
    "alt_no_uptake_N_C = alt_no_uptake_C_all & alt_no_uptake_N_all\n",
    "alt_no_uptake_none = alt_no_uptake_all - (alt_no_uptake_C_all | alt_no_uptake_N_all)"
   ]
  },
  {
   "cell_type": "code",
   "execution_count": null,
   "metadata": {},
   "outputs": [],
   "source": []
  },
  {
   "cell_type": "code",
   "execution_count": null,
   "metadata": {},
   "outputs": [],
   "source": [
    "exchange_df.C_alt"
   ]
  },
  {
   "cell_type": "code",
   "execution_count": null,
   "metadata": {},
   "outputs": [],
   "source": [
    "alt2_N_metabolites = (\n",
    "    set(alt2_df.loc[alt2_df.N_uptake, 'metabolite_uptake'].unique()) | \n",
    "    set(alt2_df.loc[alt2_df.N_uptake2, 'metabolite_uptake2'].unique()) \n",
    ")\n",
    "alt2_C_metabolites = (\n",
    "    set(alt2_df.loc[alt2_df.C_uptake, 'metabolite_uptake'].unique()) | \n",
    "    set(alt2_df.loc[alt2_df.C_uptake2, 'metabolite_uptake2'].unique()) \n",
    ")\n",
    "\n",
    "alt_N_secretion = set(alt_df.loc[alt_df.N_secretion, 'metabolite_secretion']) | set(alt2_df.loc[alt2_df.N_secretion, 'metabolite_secretion'] )"
   ]
  },
  {
   "cell_type": "code",
   "execution_count": null,
   "metadata": {},
   "outputs": [],
   "source": [
    "print(\n",
    "    '\\nalt2_N_metabolites', len(alt2_N_metabolites), \n",
    "    '\\nalt2_C_metabolites', len(alt2_C_metabolites), \n",
    "    '\\nalt2_C+N_metabolites', len(alt2_C_metabolites & alt2_N_metabolites), \n",
    "    '\\nalt2_none_metabolites', len(alt2_uptake - (alt2_C_metabolites | alt2_N_metabolites)), \n",
    "    '\\nalt_N_secretion_metabolites', len(alt_N_secretion),\n",
    "    '\\nalt_no_uptake_N', len(alt_no_uptake_N) ,\n",
    "    '\\nalt_no_uptake_C', len(alt_no_uptake_C) ,\n",
    "    '\\nalt_no_uptake_N+C', len(alt_no_uptake_N_C),\n",
    "    '\\nalt_no_uptake_none', len(alt_no_uptake_none),\n",
    ")"
   ]
  },
  {
   "cell_type": "code",
   "execution_count": null,
   "metadata": {},
   "outputs": [],
   "source": [
    "', '.join(sorted(alt2_N_metabolites - alt2_C_metabolites))"
   ]
  },
  {
   "cell_type": "code",
   "execution_count": null,
   "metadata": {},
   "outputs": [],
   "source": [
    "', '.join(sorted(alt2_C_metabolites - alt2_N_metabolites))"
   ]
  },
  {
   "cell_type": "code",
   "execution_count": null,
   "metadata": {},
   "outputs": [],
   "source": [
    "', '.join(sorted(alt_uptake | (alt2_C_metabolites & alt2_N_metabolites)))"
   ]
  },
  {
   "cell_type": "code",
   "execution_count": null,
   "metadata": {},
   "outputs": [],
   "source": [
    "', '.join(sorted(alt2_uptake - (alt2_C_metabolites | alt2_N_metabolites)))"
   ]
  },
  {
   "cell_type": "code",
   "execution_count": null,
   "metadata": {},
   "outputs": [],
   "source": [
    "', '.join(sorted(alt_N_secretion))"
   ]
  },
  {
   "cell_type": "code",
   "execution_count": null,
   "metadata": {},
   "outputs": [],
   "source": [
    "', '.join(sorted(alt_no_uptake_N))"
   ]
  },
  {
   "cell_type": "code",
   "execution_count": null,
   "metadata": {},
   "outputs": [],
   "source": [
    "', '.join(sorted(alt_no_uptake_C))\n"
   ]
  },
  {
   "cell_type": "code",
   "execution_count": null,
   "metadata": {},
   "outputs": [],
   "source": [
    "', '.join(sorted(alt_no_uptake_N_C))\n"
   ]
  },
  {
   "cell_type": "code",
   "execution_count": null,
   "metadata": {},
   "outputs": [],
   "source": [
    "', '.join(sorted(alt_no_uptake_none))\n"
   ]
  },
  {
   "cell_type": "code",
   "execution_count": null,
   "metadata": {},
   "outputs": [],
   "source": [
    "print(\n",
    "    '\\nalt->pro', len(pro_uptake & alt_secretion), \n",
    "    '\\nalt_secretion', len(alt_secretion), \n",
    "    '\\nalt_secretion', len(alt_N_secretion), \n",
    "    '\\npro_uptake', len(pro_uptake), \n",
    "    '\\npro->alt', len(alt_uptake & pro_secretion), \n",
    "    '\\npro_secretion', len(pro_secretion),\n",
    "    '\\nalt_uptake', len(alt_uptake), \n",
    "    '\\nalt1_uptake', len(alt1_uptake), \n",
    "    '\\nalt2_uptake', len(alt2_uptake), \n",
    ")"
   ]
  },
  {
   "cell_type": "code",
   "execution_count": null,
   "metadata": {},
   "outputs": [],
   "source": [
    "', '.join(sorted(alt_uptake & pro_secretion))"
   ]
  },
  {
   "cell_type": "code",
   "execution_count": null,
   "metadata": {},
   "outputs": [],
   "source": [
    "', '.join(sorted(alt1_uptake))"
   ]
  },
  {
   "cell_type": "code",
   "execution_count": null,
   "metadata": {},
   "outputs": [],
   "source": [
    "', '.join(sorted(alt2_uptake))"
   ]
  },
  {
   "cell_type": "code",
   "execution_count": null,
   "metadata": {},
   "outputs": [],
   "source": [
    "', '.join(sorted(pro_secretion))"
   ]
  },
  {
   "cell_type": "code",
   "execution_count": null,
   "metadata": {},
   "outputs": [],
   "source": [
    "', '.join(sorted(pro_secretion_C -pro_secretion_N ))"
   ]
  },
  {
   "cell_type": "code",
   "execution_count": null,
   "metadata": {},
   "outputs": [],
   "source": [
    "', '.join(sorted(pro_secretion_N -pro_secretion_C ))"
   ]
  },
  {
   "cell_type": "code",
   "execution_count": null,
   "metadata": {},
   "outputs": [],
   "source": [
    "', '.join(sorted(pro_secretion_C))"
   ]
  },
  {
   "cell_type": "code",
   "execution_count": null,
   "metadata": {},
   "outputs": [],
   "source": [
    "', '.join(sorted(pro_secretion_C & pro_secretion_N))"
   ]
  },
  {
   "cell_type": "code",
   "execution_count": null,
   "metadata": {},
   "outputs": [],
   "source": [
    "', '.join(sorted(pro_secretion - (pro_secretion_C | pro_secretion_N)))"
   ]
  },
  {
   "cell_type": "code",
   "execution_count": null,
   "metadata": {},
   "outputs": [],
   "source": [
    "', '.join(sorted(pro_uptake & alt_secretion))"
   ]
  },
  {
   "cell_type": "code",
   "execution_count": null,
   "metadata": {},
   "outputs": [],
   "source": [
    "', '.join(sorted(pro_uptake))"
   ]
  },
  {
   "cell_type": "code",
   "execution_count": null,
   "metadata": {},
   "outputs": [],
   "source": [
    "', '.join(sorted(alt_secretion))"
   ]
  },
  {
   "cell_type": "code",
   "execution_count": null,
   "metadata": {
    "scrolled": true
   },
   "outputs": [],
   "source": [
    "alt_uptake | pro_uptake | alt_secretion | pro_secretion"
   ]
  },
  {
   "cell_type": "code",
   "execution_count": null,
   "metadata": {},
   "outputs": [],
   "source": [
    "pro_df.loc[pro_df.isna().sum(axis=1) > 0]"
   ]
  },
  {
   "cell_type": "code",
   "execution_count": null,
   "metadata": {},
   "outputs": [],
   "source": [
    "alt_df.loc[alt_df.isna().sum(axis=1) > 0]"
   ]
  },
  {
   "cell_type": "code",
   "execution_count": null,
   "metadata": {},
   "outputs": [],
   "source": [
    "set(alt_df.loc[alt_df.N_secretion, 'metabolite_secretion']) | set(alt2_df.loc[alt2_df.N_secretion, 'metabolite_secretion'] )"
   ]
  },
  {
   "cell_type": "code",
   "execution_count": null,
   "metadata": {},
   "outputs": [],
   "source": [
    "pro_df.loc[pro_df.name_ref_secretion == 'GSH']"
   ]
  },
  {
   "cell_type": "code",
   "execution_count": null,
   "metadata": {},
   "outputs": [],
   "source": []
  },
  {
   "cell_type": "code",
   "execution_count": null,
   "metadata": {},
   "outputs": [],
   "source": []
  },
  {
   "cell_type": "code",
   "execution_count": null,
   "metadata": {},
   "outputs": [],
   "source": []
  },
  {
   "cell_type": "code",
   "execution_count": null,
   "metadata": {},
   "outputs": [],
   "source": []
  },
  {
   "cell_type": "code",
   "execution_count": 158,
   "metadata": {},
   "outputs": [
    {
     "data": {
      "text/html": [
       "<h3>Objective</h3><p>1.0 Growth = 43.53062983388201</p><h4>Uptake</h4><table border=\"1\" class=\"dataframe\">\n",
       "  <thead>\n",
       "    <tr style=\"text-align: right;\">\n",
       "      <th>Metabolite</th>\n",
       "      <th>Reaction</th>\n",
       "      <th>Flux</th>\n",
       "      <th>C-Number</th>\n",
       "      <th>C-Flux</th>\n",
       "    </tr>\n",
       "  </thead>\n",
       "  <tbody>\n",
       "    <tr>\n",
       "      <td>14glucan_e</td>\n",
       "      <td>EX_14glucan_e</td>\n",
       "      <td>95.73</td>\n",
       "      <td>36</td>\n",
       "      <td>12.74%</td>\n",
       "    </tr>\n",
       "    <tr>\n",
       "      <td>abg4_e</td>\n",
       "      <td>EX_abg4_e</td>\n",
       "      <td>0.02912</td>\n",
       "      <td>12</td>\n",
       "      <td>0.00%</td>\n",
       "    </tr>\n",
       "    <tr>\n",
       "      <td>acald_e</td>\n",
       "      <td>EX_acald_e</td>\n",
       "      <td>1000</td>\n",
       "      <td>2</td>\n",
       "      <td>7.40%</td>\n",
       "    </tr>\n",
       "    <tr>\n",
       "      <td>adn_e</td>\n",
       "      <td>EX_adn_e</td>\n",
       "      <td>7.754</td>\n",
       "      <td>10</td>\n",
       "      <td>0.29%</td>\n",
       "    </tr>\n",
       "    <tr>\n",
       "      <td>ala_L_thr__L_e</td>\n",
       "      <td>EX_ala_L_thr__L_e</td>\n",
       "      <td>11.04</td>\n",
       "      <td>7</td>\n",
       "      <td>0.29%</td>\n",
       "    </tr>\n",
       "    <tr>\n",
       "      <td>arg__L_e</td>\n",
       "      <td>EX_arg__L_e</td>\n",
       "      <td>12.88</td>\n",
       "      <td>6</td>\n",
       "      <td>0.29%</td>\n",
       "    </tr>\n",
       "    <tr>\n",
       "      <td>bz_e</td>\n",
       "      <td>EX_bz_e</td>\n",
       "      <td>0.004353</td>\n",
       "      <td>7</td>\n",
       "      <td>0.00%</td>\n",
       "    </tr>\n",
       "    <tr>\n",
       "      <td>ca2_e</td>\n",
       "      <td>EX_ca2_e</td>\n",
       "      <td>0.2266</td>\n",
       "      <td>0</td>\n",
       "      <td>0.00%</td>\n",
       "    </tr>\n",
       "    <tr>\n",
       "      <td>cellb_e</td>\n",
       "      <td>EX_cellb_e</td>\n",
       "      <td>59.18</td>\n",
       "      <td>12</td>\n",
       "      <td>2.63%</td>\n",
       "    </tr>\n",
       "    <tr>\n",
       "      <td>cl_e</td>\n",
       "      <td>EX_cl_e</td>\n",
       "      <td>0.2266</td>\n",
       "      <td>0</td>\n",
       "      <td>0.00%</td>\n",
       "    </tr>\n",
       "    <tr>\n",
       "      <td>cobalt2_e</td>\n",
       "      <td>EX_cobalt2_e</td>\n",
       "      <td>0.004353</td>\n",
       "      <td>0</td>\n",
       "      <td>0.00%</td>\n",
       "    </tr>\n",
       "    <tr>\n",
       "      <td>csn_e</td>\n",
       "      <td>EX_csn_e</td>\n",
       "      <td>764.2</td>\n",
       "      <td>4</td>\n",
       "      <td>11.30%</td>\n",
       "    </tr>\n",
       "    <tr>\n",
       "      <td>cu2_e</td>\n",
       "      <td>EX_cu2_e</td>\n",
       "      <td>0.03086</td>\n",
       "      <td>0</td>\n",
       "      <td>0.00%</td>\n",
       "    </tr>\n",
       "    <tr>\n",
       "      <td>cytd_e</td>\n",
       "      <td>EX_cytd_e</td>\n",
       "      <td>13.26</td>\n",
       "      <td>9</td>\n",
       "      <td>0.44%</td>\n",
       "    </tr>\n",
       "    <tr>\n",
       "      <td>dad_2_e</td>\n",
       "      <td>EX_dad_2_e</td>\n",
       "      <td>1.139</td>\n",
       "      <td>10</td>\n",
       "      <td>0.04%</td>\n",
       "    </tr>\n",
       "    <tr>\n",
       "      <td>dgsn_e</td>\n",
       "      <td>EX_dgsn_e</td>\n",
       "      <td>1.176</td>\n",
       "      <td>10</td>\n",
       "      <td>0.04%</td>\n",
       "    </tr>\n",
       "    <tr>\n",
       "      <td>etoh_e</td>\n",
       "      <td>EX_etoh_e</td>\n",
       "      <td>472.1</td>\n",
       "      <td>2</td>\n",
       "      <td>3.49%</td>\n",
       "    </tr>\n",
       "    <tr>\n",
       "      <td>fe2_e</td>\n",
       "      <td>EX_fe2_e</td>\n",
       "      <td>0.6322</td>\n",
       "      <td>0</td>\n",
       "      <td>0.00%</td>\n",
       "    </tr>\n",
       "    <tr>\n",
       "      <td>g3ps_e</td>\n",
       "      <td>EX_g3ps_e</td>\n",
       "      <td>11.92</td>\n",
       "      <td>6</td>\n",
       "      <td>0.26%</td>\n",
       "    </tr>\n",
       "    <tr>\n",
       "      <td>gam_e</td>\n",
       "      <td>EX_gam_e</td>\n",
       "      <td>8.706</td>\n",
       "      <td>6</td>\n",
       "      <td>0.19%</td>\n",
       "    </tr>\n",
       "    <tr>\n",
       "      <td>gln__L_e</td>\n",
       "      <td>EX_gln__L_e</td>\n",
       "      <td>11.46</td>\n",
       "      <td>5</td>\n",
       "      <td>0.21%</td>\n",
       "    </tr>\n",
       "    <tr>\n",
       "      <td>gly_phe_e</td>\n",
       "      <td>EX_gly_phe_e</td>\n",
       "      <td>8.065</td>\n",
       "      <td>11</td>\n",
       "      <td>0.33%</td>\n",
       "    </tr>\n",
       "    <tr>\n",
       "      <td>gly_tyr_e</td>\n",
       "      <td>EX_gly_tyr_e</td>\n",
       "      <td>6.003</td>\n",
       "      <td>11</td>\n",
       "      <td>0.24%</td>\n",
       "    </tr>\n",
       "    <tr>\n",
       "      <td>gua_e</td>\n",
       "      <td>EX_gua_e</td>\n",
       "      <td>9.412</td>\n",
       "      <td>5</td>\n",
       "      <td>0.17%</td>\n",
       "    </tr>\n",
       "    <tr>\n",
       "      <td>hishis_e</td>\n",
       "      <td>EX_hishis_e</td>\n",
       "      <td>2.062</td>\n",
       "      <td>12</td>\n",
       "      <td>0.09%</td>\n",
       "    </tr>\n",
       "    <tr>\n",
       "      <td>ile__L_e</td>\n",
       "      <td>EX_ile__L_e</td>\n",
       "      <td>12.65</td>\n",
       "      <td>6</td>\n",
       "      <td>0.28%</td>\n",
       "    </tr>\n",
       "    <tr>\n",
       "      <td>indole_e</td>\n",
       "      <td>EX_indole_e</td>\n",
       "      <td>2.474</td>\n",
       "      <td>8</td>\n",
       "      <td>0.07%</td>\n",
       "    </tr>\n",
       "    <tr>\n",
       "      <td>k_e</td>\n",
       "      <td>EX_k_e</td>\n",
       "      <td>8.497</td>\n",
       "      <td>0</td>\n",
       "      <td>0.00%</td>\n",
       "    </tr>\n",
       "    <tr>\n",
       "      <td>leuleu_e</td>\n",
       "      <td>EX_leuleu_e</td>\n",
       "      <td>9.806</td>\n",
       "      <td>12</td>\n",
       "      <td>0.44%</td>\n",
       "    </tr>\n",
       "    <tr>\n",
       "      <td>lys__L_e</td>\n",
       "      <td>EX_lys__L_e</td>\n",
       "      <td>2.386</td>\n",
       "      <td>6</td>\n",
       "      <td>0.05%</td>\n",
       "    </tr>\n",
       "    <tr>\n",
       "      <td>lysglugly_e</td>\n",
       "      <td>EX_lysglugly_e</td>\n",
       "      <td>12.55</td>\n",
       "      <td>13</td>\n",
       "      <td>0.60%</td>\n",
       "    </tr>\n",
       "    <tr>\n",
       "      <td>met__L_e</td>\n",
       "      <td>EX_met__L_e</td>\n",
       "      <td>6.7</td>\n",
       "      <td>5</td>\n",
       "      <td>0.12%</td>\n",
       "    </tr>\n",
       "    <tr>\n",
       "      <td>mg2_e</td>\n",
       "      <td>EX_mg2_e</td>\n",
       "      <td>0.3776</td>\n",
       "      <td>0</td>\n",
       "      <td>0.00%</td>\n",
       "    </tr>\n",
       "    <tr>\n",
       "      <td>mn2_e</td>\n",
       "      <td>EX_mn2_e</td>\n",
       "      <td>0.03008</td>\n",
       "      <td>0</td>\n",
       "      <td>0.00%</td>\n",
       "    </tr>\n",
       "    <tr>\n",
       "      <td>nmn_e</td>\n",
       "      <td>EX_nmn_e</td>\n",
       "      <td>0.09916</td>\n",
       "      <td>11</td>\n",
       "      <td>0.00%</td>\n",
       "    </tr>\n",
       "    <tr>\n",
       "      <td>no2_e</td>\n",
       "      <td>EX_no2_e</td>\n",
       "      <td>272.7</td>\n",
       "      <td>0</td>\n",
       "      <td>0.00%</td>\n",
       "    </tr>\n",
       "    <tr>\n",
       "      <td>o2_e</td>\n",
       "      <td>EX_o2_e</td>\n",
       "      <td>503.5</td>\n",
       "      <td>0</td>\n",
       "      <td>0.00%</td>\n",
       "    </tr>\n",
       "    <tr>\n",
       "      <td>pro__L_e</td>\n",
       "      <td>EX_pro__L_e</td>\n",
       "      <td>38.22</td>\n",
       "      <td>5</td>\n",
       "      <td>0.71%</td>\n",
       "    </tr>\n",
       "    <tr>\n",
       "      <td>s_e</td>\n",
       "      <td>EX_s_e</td>\n",
       "      <td>4.012</td>\n",
       "      <td>0</td>\n",
       "      <td>0.00%</td>\n",
       "    </tr>\n",
       "    <tr>\n",
       "      <td>so4_e</td>\n",
       "      <td>EX_so4_e</td>\n",
       "      <td>0.1888</td>\n",
       "      <td>0</td>\n",
       "      <td>0.00%</td>\n",
       "    </tr>\n",
       "    <tr>\n",
       "      <td>thm_e</td>\n",
       "      <td>EX_thm_e</td>\n",
       "      <td>0.009707</td>\n",
       "      <td>12</td>\n",
       "      <td>0.00%</td>\n",
       "    </tr>\n",
       "    <tr>\n",
       "      <td>thymd_e</td>\n",
       "      <td>EX_thymd_e</td>\n",
       "      <td>1.139</td>\n",
       "      <td>10</td>\n",
       "      <td>0.04%</td>\n",
       "    </tr>\n",
       "    <tr>\n",
       "      <td>udcpdp_e</td>\n",
       "      <td>EX_udcpdp_e</td>\n",
       "      <td>281.4</td>\n",
       "      <td>55</td>\n",
       "      <td>57.22%</td>\n",
       "    </tr>\n",
       "    <tr>\n",
       "      <td>zn2_e</td>\n",
       "      <td>EX_zn2_e</td>\n",
       "      <td>0.01484</td>\n",
       "      <td>0</td>\n",
       "      <td>0.00%</td>\n",
       "    </tr>\n",
       "  </tbody>\n",
       "</table><h4>Secretion</h4><table border=\"1\" class=\"dataframe\">\n",
       "  <thead>\n",
       "    <tr style=\"text-align: right;\">\n",
       "      <th>Metabolite</th>\n",
       "      <th>Reaction</th>\n",
       "      <th>Flux</th>\n",
       "      <th>C-Number</th>\n",
       "      <th>C-Flux</th>\n",
       "    </tr>\n",
       "  </thead>\n",
       "  <tbody>\n",
       "    <tr>\n",
       "      <td>co2_e</td>\n",
       "      <td>EX_co2_e</td>\n",
       "      <td>-1000</td>\n",
       "      <td>1</td>\n",
       "      <td>3.97%</td>\n",
       "    </tr>\n",
       "    <tr>\n",
       "      <td>for_e</td>\n",
       "      <td>EX_for_e</td>\n",
       "      <td>-0.08737</td>\n",
       "      <td>1</td>\n",
       "      <td>0.00%</td>\n",
       "    </tr>\n",
       "    <tr>\n",
       "      <td>glc__D_e</td>\n",
       "      <td>EX_glc__D_e</td>\n",
       "      <td>-118.4</td>\n",
       "      <td>6</td>\n",
       "      <td>2.82%</td>\n",
       "    </tr>\n",
       "    <tr>\n",
       "      <td>glyc3p_e</td>\n",
       "      <td>EX_glyc3p_e</td>\n",
       "      <td>-11.92</td>\n",
       "      <td>3</td>\n",
       "      <td>0.14%</td>\n",
       "    </tr>\n",
       "    <tr>\n",
       "      <td>h2o_e</td>\n",
       "      <td>EX_h2o_e</td>\n",
       "      <td>-1000</td>\n",
       "      <td>0</td>\n",
       "      <td>0.00%</td>\n",
       "    </tr>\n",
       "    <tr>\n",
       "      <td>pi_e</td>\n",
       "      <td>EX_pi_e</td>\n",
       "      <td>-238.5</td>\n",
       "      <td>0</td>\n",
       "      <td>0.00%</td>\n",
       "    </tr>\n",
       "    <tr>\n",
       "      <td>udcpp_e</td>\n",
       "      <td>EX_udcpp_e</td>\n",
       "      <td>-281.4</td>\n",
       "      <td>55</td>\n",
       "      <td>61.44%</td>\n",
       "    </tr>\n",
       "    <tr>\n",
       "      <td>ura_e</td>\n",
       "      <td>EX_ura_e</td>\n",
       "      <td>-764.2</td>\n",
       "      <td>4</td>\n",
       "      <td>12.14%</td>\n",
       "    </tr>\n",
       "    <tr>\n",
       "      <td>val__L_e</td>\n",
       "      <td>EX_val__L_e</td>\n",
       "      <td>-981.6</td>\n",
       "      <td>5</td>\n",
       "      <td>19.49%</td>\n",
       "    </tr>\n",
       "  </tbody>\n",
       "</table>"
      ],
      "text/plain": [
       "<cobra.summary.model_summary.ModelSummary at 0x7ff353f46610>"
      ]
     },
     "execution_count": 158,
     "metadata": {},
     "output_type": "execute_result"
    }
   ],
   "source": [
    "alt_model.summary()"
   ]
  },
  {
   "cell_type": "code",
   "execution_count": 165,
   "metadata": {},
   "outputs": [
    {
     "data": {
      "text/html": [
       "\n",
       "        <table>\n",
       "            <tr>\n",
       "                <td><strong>Reaction identifier</strong></td><td>Growth</td>\n",
       "            </tr><tr>\n",
       "                <td><strong>Name</strong></td><td>Biomass reaction</td>\n",
       "            </tr><tr>\n",
       "                <td><strong>Memory address</strong></td>\n",
       "                <td>0x7ff361841820</td>\n",
       "            </tr><tr>\n",
       "                <td><strong>Stoichiometry</strong></td>\n",
       "                <td>\n",
       "                    <p style='text-align:right'>0.000223 10fthf_c + 0.513689 ala__L_c + 0.000223 amet_c + 0.295792 arg__L_c + 0.241055 asn__L_c + 0.241055 asp__L_c + 54.124831 atp_c + 0.005205 ca2_c + 0.005205 cl_c + 0.000576 coa_c + 0.0001...</p>\n",
       "                    <p style='text-align:right'>0.000223 10-Formyltetrahydrofolate + 0.513689 L-Alanine + 0.000223 S-Adenosyl-L-methionine + 0.295792 L-Arginine + 0.241055 L-Asparagine + 0.241055 L-Aspartate + 54.124831 ATP C10H12N5O13P3 +...</p>\n",
       "                </td>\n",
       "            </tr><tr>\n",
       "                <td><strong>GPR</strong></td><td></td>\n",
       "            </tr><tr>\n",
       "                <td><strong>Lower bound</strong></td><td>0.0</td>\n",
       "            </tr><tr>\n",
       "                <td><strong>Upper bound</strong></td><td>1000.0</td>\n",
       "            </tr>\n",
       "        </table>\n",
       "        "
      ],
      "text/plain": [
       "<Reaction Growth at 0x7ff361841820>"
      ]
     },
     "execution_count": 165,
     "metadata": {},
     "output_type": "execute_result"
    }
   ],
   "source": [
    "unibac_model.reactions.get_by_id('Growth')"
   ]
  },
  {
   "cell_type": "code",
   "execution_count": 160,
   "metadata": {},
   "outputs": [],
   "source": [
    "r = alt_model.reactions.get_by_id('Growth')"
   ]
  },
  {
   "cell_type": "code",
   "execution_count": 164,
   "metadata": {},
   "outputs": [
    {
     "name": "stdout",
     "output_type": "stream",
     "text": [
      "10-Formyltetrahydrofolate\n",
      "L-Alanine\n",
      "S-Adenosyl-L-methionine\n",
      "L-Arginine\n",
      "L-Asparagine\n",
      "L-Aspartate\n",
      "ATP C10H12N5O13P3\n",
      "Calcium\n",
      "Chloride\n",
      "Coenzyme A\n",
      "Co2+\n",
      "CTP C9H12N3O14P3\n",
      "Copper\n",
      "L-Cysteine\n",
      "DATP C10H12N5O12P3\n",
      "DCTP C9H12N3O13P3\n",
      "DGTP C10H12N5O13P3\n",
      "DTTP C10H13N2O14P3\n",
      "Flavin adenine dinucleotide oxidized\n",
      "Fe2+ mitochondria\n",
      "Iron (Fe3+)\n",
      "L-Glutamine\n",
      "L-Glutamate\n",
      "Glycine\n",
      "GTP C10H12N5O14P3\n",
      "H2O H2O\n",
      "L-Histidine\n",
      "L-Isoleucine\n",
      "Potassium\n",
      "L-Leucine\n",
      "L-Lysine\n",
      "L-Methionine\n",
      "Magnesium\n",
      "5,10-Methylenetetrahydrofolate\n",
      "Manganese\n",
      "Menaquinol 8\n",
      "Nicotinamide adenine dinucleotide\n",
      "Nicotinamide adenine dinucleotide phosphate\n",
      "L-Phenylalanine\n",
      "L-Proline\n",
      "Pyridoxal 5'-phosphate\n",
      "Riboflavin C17H20N4O6\n",
      "L-Serine\n",
      "Sulfate\n",
      "5,6,7,8-Tetrahydrofolate\n",
      "Thiamine diphosphate\n",
      "L-Threonine\n",
      "L-Tryptophan\n",
      "L-Tyrosine\n",
      "Undecaprenyl-diphospho-N-acetylmuramoyl-(N-acetylglucosamine)-L-ala-D-glu-meso-2,6-diaminopimeloyl-D-ala-D-ala\n",
      "UTP C9H11N2O15P3\n",
      "L-Valine\n",
      "Zinc\n",
      "ADP C10H12N5O10P2\n",
      "H+\n",
      "Phosphate\n",
      "Diphosphate\n"
     ]
    }
   ],
   "source": [
    "print('\\n'.join([m.name for m in r.metabolites]))"
   ]
  },
  {
   "cell_type": "code",
   "execution_count": 174,
   "metadata": {},
   "outputs": [],
   "source": [
    "r = alt_model.reactions.get_by_id('Growth')\n",
    "pd.DataFrame.from_records([{\n",
    "    'Metabolite' : m.name,\n",
    "    'Coefficient' : r.metabolites[m]\n",
    "}    for m in r.metabolites if r.metabolites[m] <= 0]).to_excel('Alteromonas_biomass_function.xlsx')"
   ]
  },
  {
   "cell_type": "code",
   "execution_count": 177,
   "metadata": {},
   "outputs": [
    {
     "data": {
      "text/plain": [
       "57"
      ]
     },
     "execution_count": 177,
     "metadata": {},
     "output_type": "execute_result"
    }
   ],
   "source": [
    "len(unibac_model.reactions.get_by_id('Growth').metabolites)"
   ]
  },
  {
   "cell_type": "code",
   "execution_count": null,
   "metadata": {},
   "outputs": [],
   "source": []
  }
 ],
 "metadata": {
  "kernelspec": {
   "display_name": "Python 3 (ipykernel)",
   "language": "python",
   "name": "python3"
  },
  "language_info": {
   "codemirror_mode": {
    "name": "ipython",
    "version": 3
   },
   "file_extension": ".py",
   "mimetype": "text/x-python",
   "name": "python",
   "nbconvert_exporter": "python",
   "pygments_lexer": "ipython3",
   "version": "3.9.7"
  }
 },
 "nbformat": 4,
 "nbformat_minor": 2
}
