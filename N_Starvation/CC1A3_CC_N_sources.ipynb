{
 "cells": [
  {
   "cell_type": "markdown",
   "metadata": {},
   "source": [
    "# N starvation \n",
    "\n",
    "## Which N sources allow MED4 to grow"
   ]
  },
  {
   "cell_type": "markdown",
   "metadata": {},
   "source": [
    "check out Escher visualization https://escher.readthedocs.io/en/latest/getting_started.html"
   ]
  },
  {
   "cell_type": "code",
   "execution_count": 1,
   "metadata": {
    "ExecuteTime": {
     "end_time": "2020-12-15T09:30:48.353507Z",
     "start_time": "2020-12-15T09:30:43.130260Z"
    }
   },
   "outputs": [],
   "source": [
    "import pandas as pd\n",
    "import matplotlib.pyplot as plt\n",
    "import cobra\n",
    "import numpy as np\n",
    "import seaborn as sns\n",
    "import itertools\n",
    "from matplotlib.colors import LogNorm, Normalize\n"
   ]
  },
  {
   "cell_type": "code",
   "execution_count": 2,
   "metadata": {},
   "outputs": [],
   "source": [
    "import subprocess\n",
    "import time\n"
   ]
  },
  {
   "cell_type": "code",
   "execution_count": 3,
   "metadata": {},
   "outputs": [],
   "source": [
    "from cobra.flux_analysis import flux_variability_analysis\n",
    "from cobra.flux_analysis import production_envelope\n"
   ]
  },
  {
   "cell_type": "code",
   "execution_count": 4,
   "metadata": {},
   "outputs": [],
   "source": [
    "from cobra.flux_analysis import (\n",
    "    single_gene_deletion, single_reaction_deletion, double_gene_deletion,\n",
    "    double_reaction_deletion)"
   ]
  },
  {
   "cell_type": "code",
   "execution_count": 5,
   "metadata": {
    "ExecuteTime": {
     "end_time": "2020-12-15T09:30:48.389369Z",
     "start_time": "2020-12-15T09:30:48.353507Z"
    }
   },
   "outputs": [
    {
     "data": {
      "text/plain": [
       "<function seaborn.palettes.hls_palette(n_colors=6, h=0.01, l=0.6, s=0.65, as_cmap=False)>"
      ]
     },
     "execution_count": 5,
     "metadata": {},
     "output_type": "execute_result"
    }
   ],
   "source": [
    "sns.hls_palette"
   ]
  },
  {
   "cell_type": "code",
   "execution_count": 6,
   "metadata": {},
   "outputs": [],
   "source": [
    "# values from Ofaim at el.\n",
    "\n",
    "PARAMETER_VALUES = [#\"Name\",     \"Reaction ID\",          \"Lower bound\", \"UpperBound\"\n",
    "                   [\"HCO3\",      \"HCO3EXcar\",            -8,            0],\n",
    "                   #[\"Nitrogen\",  \"AmmoniaEX\",            -0.56,         0],\n",
    "                   #[\"Phosphate\", \"FAKEOrthophosphateEX\", -0.1,          0],\n",
    "                   [\"Light\",     \"LightEX\",              -150,          0]]\n",
    "CO2MAX = 0.82\n",
    "\n",
    "# Block fake reactions\n",
    "FAKE_TRANSPORT = [\"AminosugarsOUT\", \"FAKEAAOUT\", \"FAKEABPOUT\", \"FAKEacpTRANS\", \"FAKEApoacpTRANS\", \"FAKEThioredoxinTRANS\", \n",
    "                  \"FreefattyacidsOUT\", \"7NMeth7carbOUT\", \"ArtificialproteinOUT\", \"FADOUT\", \"LipoylproteinTRANS\", \"MenaquinoneOUT\", \n",
    "                  \"NicotinateOUT\", \"THFpolyglutOUT\", \"Thiamin_dpOUT\"]\n"
   ]
  },
  {
   "cell_type": "code",
   "execution_count": null,
   "metadata": {},
   "outputs": [],
   "source": []
  },
  {
   "cell_type": "code",
   "execution_count": 7,
   "metadata": {},
   "outputs": [],
   "source": [
    "def get_elements(rid):\n",
    "    r = model.reactions.get_by_id(rid)\n",
    "    m = r.reactants[0]    \n",
    "    elements = m.elements.copy()\n",
    "    \n",
    "    res = {\n",
    "        'reaction' : rid,\n",
    "        'metabolite' : m.name,\n",
    "        'N' : 'N' in elements,\n",
    "        'C' : 'C' in elements,\n",
    "        \n",
    "    }\n",
    "    return pd.Series(res)"
   ]
  },
  {
   "cell_type": "markdown",
   "metadata": {},
   "source": [
    "# Import model and manipulate based on Ofaim at el"
   ]
  },
  {
   "cell_type": "code",
   "execution_count": 8,
   "metadata": {},
   "outputs": [],
   "source": [
    "import os\n",
    "model_dpath = os.path.join('..', 'Model_files')\n",
    "model_fname = 'iSO595v7.xml'\n",
    "model_fpath = os.path.join(model_dpath, model_fname)\n"
   ]
  },
  {
   "cell_type": "code",
   "execution_count": 9,
   "metadata": {
    "ExecuteTime": {
     "end_time": "2020-12-15T09:30:49.550482Z",
     "start_time": "2020-12-15T09:30:48.441726Z"
    }
   },
   "outputs": [
    {
     "name": "stdout",
     "output_type": "stream",
     "text": [
      "Set parameter Username\n",
      "Academic license - for non-commercial use only - expires 2023-07-13\n"
     ]
    }
   ],
   "source": [
    "model = cobra.io.read_sbml_model(model_fpath)"
   ]
  },
  {
   "cell_type": "raw",
   "metadata": {},
   "source": [
    "# fails with error! \n",
    "model.solver = 'gurobi'\n"
   ]
  },
  {
   "cell_type": "code",
   "execution_count": 10,
   "metadata": {},
   "outputs": [],
   "source": [
    "# manipulations copied from Ofaim at el.\n",
    "\n",
    "remove_blocked = False\n",
    "\n",
    "# Block H2S\n",
    "model.reactions.H2SEX.lower_bound = 0\n",
    "\n",
    "# Block fake transports\n",
    "for rid in FAKE_TRANSPORT:\n",
    "    model.reactions.get_by_id(rid).bounds = (0,0)\n",
    "\n",
    "# Remove blocked reactions\n",
    "if remove_blocked:\n",
    "    blocked = cobra.flux_analysis.find_blocked_reactions(model, open_exchanges = True)\n",
    "    print('blocked', len(blocked), blocked)\n",
    "    model.remove_reactions([model.reactions.get_by_id(r_id) for r_id in blocked])\n",
    "\n",
    "# Block maximum CO2 production\n",
    "model.reactions.CO2EX.bounds = (0, CO2MAX)\n",
    "\n",
    "for i, row in enumerate(PARAMETER_VALUES):\n",
    "    # Row: Name, Reaction ID, lower bound, upper bound\n",
    "    key = row[0]\n",
    "    reaction_id = row[1]\n",
    "    lower_bound = row[2]\n",
    "    upper_bound = row[3]\n",
    "    r = model.reactions.get_by_id(reaction_id)\n",
    "    # Fix flux\n",
    "    r.bounds = (lower_bound, upper_bound)"
   ]
  },
  {
   "cell_type": "code",
   "execution_count": 11,
   "metadata": {},
   "outputs": [],
   "source": [
    "exchange_ids = [r.id for r in model.exchanges] # + [\"R00024\"]"
   ]
  },
  {
   "cell_type": "code",
   "execution_count": 12,
   "metadata": {},
   "outputs": [
    {
     "name": "stdout",
     "output_type": "stream",
     "text": [
      "reactions 994\n",
      "metabolites 802\n",
      "genes 595\n"
     ]
    }
   ],
   "source": [
    "print('reactions', len(model.reactions))\n",
    "print('metabolites', len(model.metabolites))\n",
    "print('genes', len(model.genes))"
   ]
  },
  {
   "cell_type": "code",
   "execution_count": 13,
   "metadata": {},
   "outputs": [
    {
     "data": {
      "text/html": [
       "\n",
       "        <table>\n",
       "            <tr>\n",
       "                <td><strong>Name</strong></td>\n",
       "                <td>COBRAModel</td>\n",
       "            </tr><tr>\n",
       "                <td><strong>Memory address</strong></td>\n",
       "                <td>0x07f8c659568b0</td>\n",
       "            </tr><tr>\n",
       "                <td><strong>Number of metabolites</strong></td>\n",
       "                <td>802</td>\n",
       "            </tr><tr>\n",
       "                <td><strong>Number of reactions</strong></td>\n",
       "                <td>994</td>\n",
       "            </tr><tr>\n",
       "                <td><strong>Number of groups</strong></td>\n",
       "                <td>55</td>\n",
       "            </tr><tr>\n",
       "                <td><strong>Objective expression</strong></td>\n",
       "                <td>1.0*BIOMASS - 1.0*BIOMASS_reverse_69053</td>\n",
       "            </tr><tr>\n",
       "                <td><strong>Compartments</strong></td>\n",
       "                <td>Cytoplasm, Extracellular, unknownCompartment2, Periplasm, unknownCompartment5</td>\n",
       "            </tr>\n",
       "          </table>"
      ],
      "text/plain": [
       "<Model COBRAModel at 0x7f8c659568b0>"
      ]
     },
     "execution_count": 13,
     "metadata": {},
     "output_type": "execute_result"
    }
   ],
   "source": [
    "model"
   ]
  },
  {
   "cell_type": "code",
   "execution_count": 14,
   "metadata": {},
   "outputs": [
    {
     "data": {
      "text/html": [
       "\n",
       "        <table>\n",
       "            <tr>\n",
       "                <td><strong>Metabolite identifier</strong></td><td>Carbamate[c]</td>\n",
       "            </tr><tr>\n",
       "                <td><strong>Name</strong></td><td>Carbamate</td>\n",
       "            </tr><tr>\n",
       "                <td><strong>Memory address</strong></td>\n",
       "                <td>0x7f8c658f6c40</td>\n",
       "            </tr><tr>\n",
       "                <td><strong>Formula</strong></td><td>CH3NO2</td>\n",
       "            </tr><tr>\n",
       "                <td><strong>Compartment</strong></td><td>c</td>\n",
       "            </tr><tr>\n",
       "                <td><strong>In 4 reaction(s)</strong></td><td>\n",
       "                    R03546, R01395, R10949, R07316\n",
       "                    </td>\n",
       "            </tr>\n",
       "        </table>"
      ],
      "text/plain": [
       "<Metabolite Carbamate[c] at 0x7f8c658f6c40>"
      ]
     },
     "execution_count": 14,
     "metadata": {},
     "output_type": "execute_result"
    }
   ],
   "source": [
    "model.metabolites.get_by_id('Carbamate[c]')"
   ]
  },
  {
   "cell_type": "code",
   "execution_count": 15,
   "metadata": {},
   "outputs": [
    {
     "data": {
      "text/html": [
       "\n",
       "<table>\n",
       "  <thead>\n",
       "    <tr>\n",
       "      <td><strong>Attribute</strong></td>\n",
       "      <td><strong>Description</strong></td>\n",
       "      <td><strong>Value</strong></td>\n",
       "    </tr>\n",
       "  </thead>\n",
       "  <tbody>\n",
       "    <tr>\n",
       "      <td><pre>solver</pre></td>\n",
       "      <td>Mathematical optimization solver</td>\n",
       "      <td>gurobi</td>\n",
       "    </tr>\n",
       "    <tr>\n",
       "        <td><pre>tolerance</pre></td>\n",
       "        <td>General solver tolerance (feasibility, integrality, etc.)</td>\n",
       "        <td>1e-07</td>\n",
       "    </tr>\n",
       "    <tr>\n",
       "        <td><pre>lower_bound</pre></td>\n",
       "        <td>Default reaction lower bound</td>\n",
       "        <td>-1000.0</td>\n",
       "    </tr>\n",
       "    <tr>\n",
       "        <td><pre>upper_bound</pre></td>\n",
       "        <td>Default reaction upper bound</td>\n",
       "        <td>1000.0</td>\n",
       "    </tr>\n",
       "    <tr>\n",
       "        <td><pre>processes</pre></td>\n",
       "        <td>Number of parallel processes</td>\n",
       "        <td>11</td>\n",
       "    </tr>\n",
       "    <tr>\n",
       "        <td><pre>cache_directory</pre></td>\n",
       "        <td>Path for the model cache</td>\n",
       "        <td>/home/oweissberg/.cache/cobrapy</td>\n",
       "    </tr>\n",
       "    <tr>\n",
       "        <td><pre>max_cache_size</pre></td>\n",
       "        <td>Maximum cache size in bytes</td>\n",
       "        <td>104857600</td>\n",
       "    </tr>\n",
       "    <tr>\n",
       "        <td><pre>cache_expiration</pre></td>\n",
       "        <td>Model cache expiration time in seconds (if any)</td>\n",
       "        <td>None</td>\n",
       "    </tr>\n",
       "  </tbody>\n",
       "</table>\n"
      ],
      "text/plain": [
       "\n",
       "solver: gurobi\n",
       "tolerance: 1e-07\n",
       "lower_bound: -1000.0\n",
       "upper_bound: 1000.0\n",
       "processes: 11\n",
       "cache_directory: /home/oweissberg/.cache/cobrapy\n",
       "max_cache_size: 104857600\n",
       "cache_expiration: None"
      ]
     },
     "execution_count": 15,
     "metadata": {},
     "output_type": "execute_result"
    }
   ],
   "source": [
    "cobra.Configuration()"
   ]
  },
  {
   "cell_type": "code",
   "execution_count": 16,
   "metadata": {},
   "outputs": [
    {
     "data": {
      "text/html": [
       "\n",
       "        <table>\n",
       "            <tr>\n",
       "                <td><strong>Reaction identifier</strong></td><td>BIOMASS</td>\n",
       "            </tr><tr>\n",
       "                <td><strong>Name</strong></td><td>Biomass formation</td>\n",
       "            </tr><tr>\n",
       "                <td><strong>Memory address</strong></td>\n",
       "                <td>0x7f8c65726b20</td>\n",
       "            </tr><tr>\n",
       "                <td><strong>Stoichiometry</strong></td>\n",
       "                <td>\n",
       "                    <p style='text-align:right'>104.0 ATP[c] + 0.0324116276714271 BioPool[c] + 0.0268408791654006 Bmineral[c] + 0.0559910868023904 Cell_wall[c] + 0.00111921401802897 Free_nucleic_acids[c] + 104.0 H2O[c] + 0.649245416793275...</p>\n",
       "                    <p style='text-align:right'>104.0 ATP + 0.0324116276714271 BioPool + 0.0268408791654006 Trace metals and minerals + 0.0559910868023904 Cell wall Biomass precursor + 0.00111921401802897 Free nucleic acids + 104.0 H2O +...</p>\n",
       "                </td>\n",
       "            </tr><tr>\n",
       "                <td><strong>GPR</strong></td><td></td>\n",
       "            </tr><tr>\n",
       "                <td><strong>Lower bound</strong></td><td>0.0</td>\n",
       "            </tr><tr>\n",
       "                <td><strong>Upper bound</strong></td><td>1000.0</td>\n",
       "            </tr>\n",
       "        </table>\n",
       "        "
      ],
      "text/plain": [
       "<Reaction BIOMASS at 0x7f8c65726b20>"
      ]
     },
     "execution_count": 16,
     "metadata": {},
     "output_type": "execute_result"
    }
   ],
   "source": [
    "model.reactions.get_by_id('BIOMASS')"
   ]
  },
  {
   "cell_type": "markdown",
   "metadata": {},
   "source": [
    "# Get MED4 compound ids from KEGG and use Bigg to map to 1A3 metabolites"
   ]
  },
  {
   "cell_type": "markdown",
   "metadata": {},
   "source": [
    "Apparently, MED4 metabolites are taken from KEGG with light massaging of names (copied from Shany's Refill script)"
   ]
  },
  {
   "cell_type": "code",
   "execution_count": 1,
   "metadata": {},
   "outputs": [
    {
     "name": "stdout",
     "output_type": "stream",
     "text": [
      "Creating directory /home/oweissberg/.config/bioservices \n",
      "Creating directory /home/oweissberg/.cache/bioservices \n",
      "Welcome to Bioservices\n",
      "======================\n",
      "It looks like you do not have a configuration file.\n",
      "We are creating one with default values in /home/oweissberg/.config/bioservices/bioservices.cfg .\n",
      "Done\n"
     ]
    }
   ],
   "source": [
    "from bioservices.kegg import KEGG\n",
    "k = KEGG()\n",
    "k.organism='pmm'\n",
    "paths=k.pathwayIds\n"
   ]
  },
  {
   "cell_type": "code",
   "execution_count": 4,
   "metadata": {},
   "outputs": [],
   "source": [
    "k_compounds = k.compoundIds"
   ]
  },
  {
   "cell_type": "code",
   "execution_count": 7,
   "metadata": {
    "scrolled": false
   },
   "outputs": [
    {
     "name": "stdout",
     "output_type": "stream",
     "text": [
      "ENTRY       C00031                      Compound\n",
      "NAME        D-Glucose;\n",
      "            Grape sugar;\n",
      "            Dextrose;\n",
      "            Glucose;\n",
      "            D-Glucopyranose\n",
      "FORMULA     C6H12O6\n",
      "EXACT_MASS  180.0634\n",
      "MOL_WEIGHT  180.1559\n",
      "REMARK      Same as: D00009\n",
      "COMMENT     alpha-D-Glucose [CPD:C00267]\n",
      "            beta-D-Glucose [CPD:C00221]\n",
      "REACTION    R00010 R00015 R00028 R00049 R00063 R00299 R00300 R00301 \n",
      "            R00302 R00303 R00304 R00305 R00306 R00308 R00327 R00337 \n",
      "            R00503 R00534 R00550 R00725 R00801 R00837 R00838 R00839 \n",
      "            R00850 R00874 R00952 R00953 R00960 R01006 R01100 R01101 \n",
      "            R01139 R01444 R01460 R01498 R01555 R01718 R01790 R01791 \n",
      "            R02185 R02558 R02595 R02727 R02738 R02887 R02985 R03075 \n",
      "            R03323 R03527 R03604 R03703 R03801 R03802 R03820 R04006 \n",
      "            R04094 R04194 R04333 R04409 R04410 R04411 R04498 R04503 \n",
      "            R04949 R04998 R05061 R05140 R05141 R05142 R05196 R05804 \n",
      "            R05980 R05981 R06040 R06053 R06056 R06058 R06059 R06067 \n",
      "            R06069 R06079 R06080 R06087 R06091 R06103 R06104 R06105 \n",
      "            R06106 R06107 R06108 R06109 R06112 R06113 R06114 R06115 \n",
      "            R06135 R06204 R06620 R07147 R07264 R08404 R08432 R08514 \n",
      "            R08819 R08823 R08946 R09039 R09723 R09941 R09943 R10411 \n",
      "            R10494 R10525 R10530 R10580 R10581 R11215 R11306 R11682 \n",
      "            R11791 R11942 R12208 R12209 R12250 R12983 R12997\n",
      "PATHWAY     map00010  Glycolysis / Gluconeogenesis\n",
      "            map00030  Pentose phosphate pathway\n",
      "            map00052  Galactose metabolism\n",
      "            map00500  Starch and sucrose metabolism\n",
      "            map00520  Amino sugar and nucleotide sugar metabolism\n",
      "            map00521  Streptomycin biosynthesis\n",
      "            map00524  Neomycin, kanamycin and gentamicin biosynthesis\n",
      "            map00901  Indole alkaloid biosynthesis\n",
      "            map01100  Metabolic pathways\n",
      "            map01110  Biosynthesis of secondary metabolites\n",
      "            map02010  ABC transporters\n",
      "            map02020  Two-component system\n",
      "            map02060  Phosphotransferase system (PTS)\n",
      "            map04066  HIF-1 signaling pathway\n",
      "            map04068  FoxO signaling pathway\n",
      "            map04113  Meiosis - yeast\n",
      "            map04152  AMPK signaling pathway\n",
      "            map04742  Taste transduction\n",
      "            map04910  Insulin signaling pathway\n",
      "            map04911  Insulin secretion\n",
      "            map04917  Prolactin signaling pathway\n",
      "            map04922  Glucagon signaling pathway\n",
      "            map04930  Type II diabetes mellitus\n",
      "            map04931  Insulin resistance\n",
      "            map04932  Non-alcoholic fatty liver disease\n",
      "            map04933  AGE-RAGE signaling pathway in diabetic complications\n",
      "            map04973  Carbohydrate digestion and absorption\n",
      "            map04976  Bile secretion\n",
      "            map04978  Mineral absorption\n",
      "            map05111  Biofilm formation - Vibrio cholerae\n",
      "            map05230  Central carbon metabolism in cancer\n",
      "            map05415  Diabetic cardiomyopathy\n",
      "ENZYME      1.1.1.118       1.1.1.119       1.1.1.121       1.1.1.359       \n",
      "            1.1.1.360       1.1.1.432       1.1.3.10        1.1.5.2         \n",
      "            1.1.5.9         1.1.99.28       1.1.99.35       2.3.1.72        \n",
      "            2.3.1.90        2.3.1.91        2.3.1.92        2.3.1.103       \n",
      "            2.3.1.143       2.3.1.152       2.3.1.-         2.4.1.8         \n",
      "            2.4.1.9         2.4.1.10        2.4.1.20        2.4.1.22        \n",
      "            2.4.1.25        2.4.1.31        2.4.1.64        2.4.1.99        \n",
      "            2.4.1.230       2.4.1.245       2.4.1.279       2.4.1.281       \n",
      "            2.7.1.1         2.7.1.2         2.7.1.41        2.7.1.42        \n",
      "            2.7.1.61        2.7.1.62        2.7.1.63        2.7.1.142       \n",
      "            2.7.1.147       2.7.1.199       3.1.1.33        3.1.3.9         \n",
      "            3.1.3.10        3.1.3.58        3.1.4.48        3.1.6.3         \n",
      "            3.2.1.3         3.2.1.10        3.2.1.20        3.2.1.21        \n",
      "            3.2.1.22        3.2.1.23        3.2.1.26        3.2.1.28        \n",
      "            3.2.1.39        3.2.1.42        3.2.1.45        3.2.1.48        \n",
      "            3.2.1.58        3.2.1.74        3.2.1.86        3.2.1.93        \n",
      "            3.2.1.104       3.2.1.105       3.2.1.107       3.2.1.108       \n",
      "            3.2.1.117       3.2.1.118       3.2.1.122       3.2.1.125       \n",
      "            3.2.1.126       3.2.1.147       3.2.1.175       3.2.1.182       \n",
      "            3.2.1.186       3.2.1.188       3.2.1.189       3.2.1.205       \n",
      "            3.2.1.206       3.2.1.207       3.2.1.208       3.2.1.216       \n",
      "            3.2.1.-         4.2.99.22       4.2.99.23\n",
      "BRITE       Compounds with biological roles [BR:br08001]\n",
      "             Carbohydrates\n",
      "              Monosaccharides\n",
      "               Aldoses\n",
      "                C00031  D-Glucose\n",
      "            Anatomical Therapeutic Chemical (ATC) classification [BR:br08303]\n",
      "             B BLOOD AND BLOOD FORMING ORGANS\n",
      "              B05 BLOOD SUBSTITUTES AND PERFUSION SOLUTIONS\n",
      "               B05C IRRIGATING SOLUTIONS\n",
      "                B05CX Other irrigating solutions\n",
      "                 B05CX01 Glucose\n",
      "                  D00009  Glucose (JP18) &lt;JP&gt;\n",
      "             V VARIOUS\n",
      "              V04 DIAGNOSTIC AGENTS\n",
      "               V04C OTHER DIAGNOSTIC AGENTS\n",
      "                V04CA Tests for diabetes\n",
      "                 V04CA02 Glucose\n",
      "                  D00009  Glucose (JP18) &lt;JP&gt;\n",
      "              V06 GENERAL NUTRIENTS\n",
      "               V06D OTHER NUTRIENTS\n",
      "                V06DC Carbohydrates\n",
      "                 V06DC01 Glucose\n",
      "                  D00009  Glucose (JP18) &lt;JP&gt;\n",
      "            Therapeutic category of drugs in Japan [BR:br08301]\n",
      "             3  Agents affecting metabolism\n",
      "              32  Nutrients, tonics\n",
      "               323  Saccharide preparations\n",
      "                3231  Glucoses\n",
      "                 D00009  Glucose (JP18); Purified glucose (JP18)\n",
      "            Risk category of Japanese OTC drugs [BR:br08312]\n",
      "             Third-class OTC drugs\n",
      "              Inorganic and organic chemicals\n",
      "               Glucose\n",
      "                D00009  Glucose (JP18)\n",
      "            Animal drugs in Japan [BR:br08331]\n",
      "             96  Agents affecting metabolism\n",
      "              964  Saccharide preparations and blood substitutes\n",
      "               9641  Dextrose and preparations\n",
      "                C00031  D-Glucose\n",
      "            Drugs listed in the Japanese Pharmacopoeia [BR:br08311]\n",
      "             Chemicals\n",
      "              D00009  Glucose\n",
      "              D00009  Purified glucose\n",
      "              D00009  Glucose injection\n",
      "DBLINKS     CAS: 50-99-7 2280-44-6\n",
      "            PubChem: 3333\n",
      "            ChEBI: 4167\n",
      "            KNApSAcK: C00042470\n",
      "            PDB-CCD: BGC GLC\n",
      "            3DMET: B04623\n",
      "            NIKKAJI: J4.109B\n",
      "ATOM        12\n",
      "            1   C1y C    24.2781  -16.5372\n",
      "            2   C1y C    24.2781  -17.9377\n",
      "            3   O2x O    25.4860  -15.8370\n",
      "            4   C1b C    23.0643  -15.8370\n",
      "            5   C1y C    25.4860  -18.6379\n",
      "            6   O1a O    23.0643  -18.6379\n",
      "            7   C1y C    26.7055  -16.5372\n",
      "            8   O1a O    22.0023  -16.7474\n",
      "            9   C1y C    26.7055  -17.9377\n",
      "            10  O1a O    25.4860  -20.0383\n",
      "            11  O1a O    27.9134  -15.8370\n",
      "            12  O1a O    27.9134  -18.6379\n",
      "BOND        12\n",
      "            1     1   2 1\n",
      "            2     1   3 1\n",
      "            3     1   4 1 #Up\n",
      "            4     2   5 1\n",
      "            5     2   6 1 #Down\n",
      "            6     3   7 1\n",
      "            7     4   8 1\n",
      "            8     5   9 1\n",
      "            9     5  10 1 #Up\n",
      "            10    7  11 1 #Either\n",
      "            11    9  12 1 #Down\n",
      "            12    7   9 1\n",
      "///\n",
      "\n"
     ]
    }
   ],
   "source": [
    "print(k.get(k_compounds[30]))"
   ]
  },
  {
   "cell_type": "code",
   "execution_count": null,
   "metadata": {},
   "outputs": [],
   "source": []
  },
  {
   "cell_type": "code",
   "execution_count": null,
   "metadata": {},
   "outputs": [],
   "source": []
  },
  {
   "cell_type": "markdown",
   "metadata": {},
   "source": [
    "# Compare exchange reactions/metabolites of the two models"
   ]
  },
  {
   "cell_type": "code",
   "execution_count": 75,
   "metadata": {},
   "outputs": [],
   "source": [
    "exchange_ids = [r.id for r in model.exchanges] \n",
    "pro_med_df = pd.DataFrame({'mediumExchange' : exchange_ids})\n",
    "pro_med_df = pro_med_df.mediumExchange.apply(get_elements)\n"
   ]
  },
  {
   "cell_type": "code",
   "execution_count": 76,
   "metadata": {},
   "outputs": [],
   "source": [
    "#pro_df = pd.read_excel('PRO_N_sources.xlsx', sheet_name='secretion')\n",
    "alt_dpath = '../../HOT1A3-model/N_Starvation/'\n",
    "alt_med_df = pd.read_excel(os.path.join(alt_dpath, 'HOT1A3_medium_NCBI.xlsx'))\n"
   ]
  },
  {
   "cell_type": "code",
   "execution_count": 77,
   "metadata": {},
   "outputs": [
    {
     "data": {
      "text/html": [
       "<div>\n",
       "<style scoped>\n",
       "    .dataframe tbody tr th:only-of-type {\n",
       "        vertical-align: middle;\n",
       "    }\n",
       "\n",
       "    .dataframe tbody tr th {\n",
       "        vertical-align: top;\n",
       "    }\n",
       "\n",
       "    .dataframe thead th {\n",
       "        text-align: right;\n",
       "    }\n",
       "</style>\n",
       "<table border=\"1\" class=\"dataframe\">\n",
       "  <thead>\n",
       "    <tr style=\"text-align: right;\">\n",
       "      <th></th>\n",
       "      <th>reaction</th>\n",
       "      <th>metabolite</th>\n",
       "      <th>N</th>\n",
       "      <th>C</th>\n",
       "    </tr>\n",
       "  </thead>\n",
       "  <tbody>\n",
       "    <tr>\n",
       "      <th>0</th>\n",
       "      <td>AminosugarsEX</td>\n",
       "      <td>Amino sugars pool</td>\n",
       "      <td>False</td>\n",
       "      <td>False</td>\n",
       "    </tr>\n",
       "    <tr>\n",
       "      <th>1</th>\n",
       "      <td>FAKEAAEX</td>\n",
       "      <td>amino_acid_pool_e</td>\n",
       "      <td>False</td>\n",
       "      <td>False</td>\n",
       "    </tr>\n",
       "    <tr>\n",
       "      <th>2</th>\n",
       "      <td>FAKEABPEX</td>\n",
       "      <td>Adenosine 3_5-bisphosphate</td>\n",
       "      <td>True</td>\n",
       "      <td>True</td>\n",
       "    </tr>\n",
       "    <tr>\n",
       "      <th>3</th>\n",
       "      <td>FAKEacpEX</td>\n",
       "      <td>Acyl-carrier protein</td>\n",
       "      <td>False</td>\n",
       "      <td>False</td>\n",
       "    </tr>\n",
       "    <tr>\n",
       "      <th>4</th>\n",
       "      <td>FAKEApoacpEX</td>\n",
       "      <td>Apo-(acyl-carrier-protein)</td>\n",
       "      <td>False</td>\n",
       "      <td>False</td>\n",
       "    </tr>\n",
       "  </tbody>\n",
       "</table>\n",
       "</div>"
      ],
      "text/plain": [
       "        reaction                  metabolite      N      C\n",
       "0  AminosugarsEX           Amino sugars pool  False  False\n",
       "1       FAKEAAEX           amino_acid_pool_e  False  False\n",
       "2      FAKEABPEX  Adenosine 3_5-bisphosphate   True   True\n",
       "3      FAKEacpEX        Acyl-carrier protein  False  False\n",
       "4   FAKEApoacpEX  Apo-(acyl-carrier-protein)  False  False"
      ]
     },
     "execution_count": 77,
     "metadata": {},
     "output_type": "execute_result"
    }
   ],
   "source": [
    "pro_med_df.head()"
   ]
  },
  {
   "cell_type": "code",
   "execution_count": 78,
   "metadata": {},
   "outputs": [
    {
     "data": {
      "text/html": [
       "<div>\n",
       "<style scoped>\n",
       "    .dataframe tbody tr th:only-of-type {\n",
       "        vertical-align: middle;\n",
       "    }\n",
       "\n",
       "    .dataframe tbody tr th {\n",
       "        vertical-align: top;\n",
       "    }\n",
       "\n",
       "    .dataframe thead th {\n",
       "        text-align: right;\n",
       "    }\n",
       "</style>\n",
       "<table border=\"1\" class=\"dataframe\">\n",
       "  <thead>\n",
       "    <tr style=\"text-align: right;\">\n",
       "      <th></th>\n",
       "      <th>Unnamed: 0</th>\n",
       "      <th>reaction</th>\n",
       "      <th>metabolite</th>\n",
       "      <th>N</th>\n",
       "      <th>C</th>\n",
       "      <th>metabolite_luca</th>\n",
       "      <th>pro99</th>\n",
       "      <th>MED4 metabolite</th>\n",
       "      <th>promm</th>\n",
       "    </tr>\n",
       "  </thead>\n",
       "  <tbody>\n",
       "    <tr>\n",
       "      <th>0</th>\n",
       "      <td>0</td>\n",
       "      <td>EX_14glucan_e</td>\n",
       "      <td>1,4-alpha-D-glucan</td>\n",
       "      <td>False</td>\n",
       "      <td>True</td>\n",
       "      <td>NaN</td>\n",
       "      <td>NaN</td>\n",
       "      <td>NaN</td>\n",
       "      <td>NaN</td>\n",
       "    </tr>\n",
       "    <tr>\n",
       "      <th>1</th>\n",
       "      <td>1</td>\n",
       "      <td>EX_25dkglcn_e</td>\n",
       "      <td>2,5-diketo-D-gluconate</td>\n",
       "      <td>False</td>\n",
       "      <td>True</td>\n",
       "      <td>2,5-diketo-D-gluconate</td>\n",
       "      <td>NaN</td>\n",
       "      <td>NaN</td>\n",
       "      <td>NaN</td>\n",
       "    </tr>\n",
       "    <tr>\n",
       "      <th>2</th>\n",
       "      <td>2</td>\n",
       "      <td>EX_2ameph_e</td>\n",
       "      <td>2-Aminoethylphosphonate</td>\n",
       "      <td>True</td>\n",
       "      <td>True</td>\n",
       "      <td>2-Aminoethylphosphonate</td>\n",
       "      <td>NaN</td>\n",
       "      <td>NaN</td>\n",
       "      <td>NaN</td>\n",
       "    </tr>\n",
       "    <tr>\n",
       "      <th>3</th>\n",
       "      <td>3</td>\n",
       "      <td>EX_2m35mdntha_e</td>\n",
       "      <td>N  2 methyl 3 5 dinitrophenyl  4 methyl 3 5 di...</td>\n",
       "      <td>True</td>\n",
       "      <td>False</td>\n",
       "      <td>N  2 methyl 3 5 dinitrophenyl  4 methyl 3 5 di...</td>\n",
       "      <td>NaN</td>\n",
       "      <td>NaN</td>\n",
       "      <td>NaN</td>\n",
       "    </tr>\n",
       "    <tr>\n",
       "      <th>4</th>\n",
       "      <td>4</td>\n",
       "      <td>EX_2pglyc_e</td>\n",
       "      <td>2-Phosphoglycolate</td>\n",
       "      <td>False</td>\n",
       "      <td>True</td>\n",
       "      <td>NaN</td>\n",
       "      <td>NaN</td>\n",
       "      <td>NaN</td>\n",
       "      <td>NaN</td>\n",
       "    </tr>\n",
       "  </tbody>\n",
       "</table>\n",
       "</div>"
      ],
      "text/plain": [
       "   Unnamed: 0         reaction  \\\n",
       "0           0    EX_14glucan_e   \n",
       "1           1    EX_25dkglcn_e   \n",
       "2           2      EX_2ameph_e   \n",
       "3           3  EX_2m35mdntha_e   \n",
       "4           4      EX_2pglyc_e   \n",
       "\n",
       "                                          metabolite      N      C  \\\n",
       "0                                 1,4-alpha-D-glucan  False   True   \n",
       "1                             2,5-diketo-D-gluconate  False   True   \n",
       "2                            2-Aminoethylphosphonate   True   True   \n",
       "3  N  2 methyl 3 5 dinitrophenyl  4 methyl 3 5 di...   True  False   \n",
       "4                                 2-Phosphoglycolate  False   True   \n",
       "\n",
       "                                     metabolite_luca pro99 MED4 metabolite  \\\n",
       "0                                                NaN   NaN             NaN   \n",
       "1                             2,5-diketo-D-gluconate   NaN             NaN   \n",
       "2                            2-Aminoethylphosphonate   NaN             NaN   \n",
       "3  N  2 methyl 3 5 dinitrophenyl  4 methyl 3 5 di...   NaN             NaN   \n",
       "4                                                NaN   NaN             NaN   \n",
       "\n",
       "  promm  \n",
       "0   NaN  \n",
       "1   NaN  \n",
       "2   NaN  \n",
       "3   NaN  \n",
       "4   NaN  "
      ]
     },
     "execution_count": 78,
     "metadata": {},
     "output_type": "execute_result"
    }
   ],
   "source": [
    "alt_med_df.head()"
   ]
  },
  {
   "cell_type": "code",
   "execution_count": 79,
   "metadata": {},
   "outputs": [
    {
     "data": {
      "text/plain": [
       "array([['Calcium', 'Ca2+'],\n",
       "       ['Chloride', 'Cl-'],\n",
       "       ['CO2 CO2', 'HCO3-'],\n",
       "       ['Co2+', 'Cobalt ion'],\n",
       "       ['Fe2+ mitochondria', 'Fe2+'],\n",
       "       ['H2O H2O', 'H2O'],\n",
       "       ['Potassium', 'K+'],\n",
       "       ['Magnesium', 'Magnesium cation'],\n",
       "       ['Manganese', nan],\n",
       "       ['Molybdate', 'Molybdenum'],\n",
       "       ['Ammonium', 'Ammonia'],\n",
       "       ['O2 O2', 'O2'],\n",
       "       ['Phosphate', 'Orthophosphate'],\n",
       "       ['Zinc', 'Zn2+']], dtype=object)"
      ]
     },
     "execution_count": 79,
     "metadata": {},
     "output_type": "execute_result"
    }
   ],
   "source": [
    "alt_med_df.loc[(~alt_med_df.pro99.isna()) & \n",
    "               (alt_med_df.metabolite != alt_med_df['MED4 metabolite']), #&\n",
    "               #(alt_med_df.metabolite_common != alt_med_df['MED4 metabolite']),\n",
    "               ['metabolite','MED4 metabolite']\n",
    "               \n",
    "              ].values"
   ]
  },
  {
   "cell_type": "code",
   "execution_count": 80,
   "metadata": {},
   "outputs": [],
   "source": [
    "pro_med_df['metabolite_common'] = pro_med_df['metabolite']\n",
    "alt_med_df['metabolite_common'] = alt_med_df['metabolite']"
   ]
  },
  {
   "cell_type": "code",
   "execution_count": 81,
   "metadata": {},
   "outputs": [],
   "source": [
    "pro_med_df['metabolite_common'] = pro_med_df['metabolite_common'].str.replace('[e]','', regex=False)\n",
    "alt_med_df['metabolite_common'] = alt_med_df['metabolite_common'].str.replace('[e]','', regex=False)\n",
    "pro_med_df['metabolite_common'] = pro_med_df['metabolite_common'].str.replace('_','-', regex=False)\n",
    "alt_med_df['metabolite_common'] = alt_med_df['metabolite_common'].str.replace('_','-', regex=False)\n",
    "#pro_med_df['metabolite_common'] = pro_med_df['metabolite_common'].str.replace('Urea CH4N2O','Urea', regex=False)\n",
    "#alt_med_df['metabolite_common'] = alt_med_df['metabolite_common'].str.replace('Urea CH4N2O','Urea', regex=False)\n"
   ]
  },
  {
   "cell_type": "code",
   "execution_count": 92,
   "metadata": {},
   "outputs": [],
   "source": [
    "mapping_exchanges = [\n",
    "    ('Ca2+','Calcium'),\n",
    "    ('Fe2+ mitochondria','Fe2+'),\n",
    "    ('CO','Carbon monoxide'),\n",
    "    ('CO2 CO2','CO2'),\n",
    "    ('Cl-','Chloride'),\n",
    "    ('Co2+','Cobalt ion'),\n",
    "    #['CO2 CO2', 'HCO3-'],\n",
    "    ('H2O H2O', 'H2O'),\n",
    "    ('K+', 'Potassium',) ,\n",
    "    ('Magnesium', 'Magnesium cation'),\n",
    "    ('Molybdate', 'Molybdate/Molybdenum'),\n",
    "    ('Molybdenum', 'Molybdate/Molybdenum'),\n",
    "    ('Ammonium', 'Ammonium/Ammonia'),\n",
    "    ('Ammonia', 'Ammonium/Ammonia'),\n",
    "    ('O2 O2', 'O2'),\n",
    "    ('Phosphate', 'Orthophosphate'),\n",
    "    ('Zinc', 'Zn2+'),\n",
    "    ('S-Malate', 'S-Malate/L-Malate'),\n",
    "    ('L-Malate', 'S-Malate/L-Malate'),\n",
    "    ('Urea CH4N2O','Urea'),\n",
    "    ('Thymidine C10H14N2O5', 'Thymidine')\n",
    "]\n",
    "\n",
    "for i, j in mapping_exchanges:\n",
    "    pro_med_df.loc[pro_med_df['metabolite_common'].isin([i]), 'metabolite_common'] = j\n",
    "    alt_med_df.loc[alt_med_df['metabolite_common'].isin([i]), 'metabolite_common'] = j\n",
    "    "
   ]
  },
  {
   "cell_type": "code",
   "execution_count": 93,
   "metadata": {},
   "outputs": [],
   "source": [
    "exchange_df = pd.merge(pro_med_df, alt_med_df, on='metabolite_common', how='outer', suffixes=['_pro', '_alt'])"
   ]
  },
  {
   "cell_type": "code",
   "execution_count": 94,
   "metadata": {},
   "outputs": [
    {
     "data": {
      "text/plain": [
       "ALT only    202\n",
       "mapped       55\n",
       "PRO only     46\n",
       "Name: map_status, dtype: int64"
      ]
     },
     "execution_count": 94,
     "metadata": {},
     "output_type": "execute_result"
    }
   ],
   "source": [
    "exchange_df['map_status'] = 'mapped'\n",
    "exchange_df.loc[exchange_df.metabolite_alt.isna(), 'map_status'] = 'PRO only'\n",
    "exchange_df.loc[exchange_df.metabolite_pro.isna(), 'map_status'] = 'ALT only'\n",
    "exchange_df.map_status.value_counts()"
   ]
  },
  {
   "cell_type": "code",
   "execution_count": 95,
   "metadata": {},
   "outputs": [
    {
     "data": {
      "text/plain": [
       "reaction_pro         202\n",
       "metabolite_pro       202\n",
       "N_pro                202\n",
       "C_pro                202\n",
       "metabolite_common      0\n",
       "Unnamed: 0            46\n",
       "reaction_alt          46\n",
       "metabolite_alt        46\n",
       "N_alt                 46\n",
       "C_alt                 46\n",
       "metabolite_luca       72\n",
       "pro99                284\n",
       "MED4 metabolite      285\n",
       "promm                296\n",
       "map_status             0\n",
       "dtype: int64"
      ]
     },
     "execution_count": 95,
     "metadata": {},
     "output_type": "execute_result"
    }
   ],
   "source": [
    "exchange_df.isna().sum()"
   ]
  },
  {
   "cell_type": "code",
   "execution_count": 96,
   "metadata": {},
   "outputs": [],
   "source": [
    "exchange_df[['metabolite_common','metabolite_pro', 'metabolite_alt', 'map_status', 'reaction_pro', 'reaction_alt']].to_excel('common_exchange.xlsx')"
   ]
  },
  {
   "cell_type": "markdown",
   "metadata": {},
   "source": [
    "# Look for potential cross feeding"
   ]
  },
  {
   "cell_type": "code",
   "execution_count": 98,
   "metadata": {},
   "outputs": [],
   "source": [
    "pro_df = pd.read_excel('data/PRO_N_sources.xlsx', sheet_name='secretion')\n",
    "alt_dpath = '../../HOT1A3-model/N_Starvation/'\n",
    "alt_df = pd.read_excel(os.path.join(alt_dpath, 'ALT_N_sources.xlsx'), sheet_name='secretion')\n",
    "alt2_df = pd.read_excel(os.path.join(alt_dpath, 'ALT_N_sources.xlsx'), sheet_name='secretion2')\n"
   ]
  },
  {
   "cell_type": "code",
   "execution_count": 99,
   "metadata": {},
   "outputs": [
    {
     "data": {
      "text/html": [
       "<div>\n",
       "<style scoped>\n",
       "    .dataframe tbody tr th:only-of-type {\n",
       "        vertical-align: middle;\n",
       "    }\n",
       "\n",
       "    .dataframe tbody tr th {\n",
       "        vertical-align: top;\n",
       "    }\n",
       "\n",
       "    .dataframe thead th {\n",
       "        text-align: right;\n",
       "    }\n",
       "</style>\n",
       "<table border=\"1\" class=\"dataframe\">\n",
       "  <thead>\n",
       "    <tr style=\"text-align: right;\">\n",
       "      <th></th>\n",
       "      <th>Unnamed: 0</th>\n",
       "      <th>secretion</th>\n",
       "      <th>minimum</th>\n",
       "      <th>maximum</th>\n",
       "      <th>uptake</th>\n",
       "      <th>metabolite_uptake</th>\n",
       "      <th>N_uptake</th>\n",
       "      <th>C_uptake</th>\n",
       "      <th>metabolite_secretion</th>\n",
       "      <th>N_secretion</th>\n",
       "      <th>C_secretion</th>\n",
       "    </tr>\n",
       "  </thead>\n",
       "  <tbody>\n",
       "    <tr>\n",
       "      <th>0</th>\n",
       "      <td>0</td>\n",
       "      <td>sink_2ohph_c</td>\n",
       "      <td>0.0</td>\n",
       "      <td>66.658441</td>\n",
       "      <td>EX_cytd_e</td>\n",
       "      <td>Cytidine</td>\n",
       "      <td>True</td>\n",
       "      <td>True</td>\n",
       "      <td>2-Octaprenyl-6-hydroxyphenol</td>\n",
       "      <td>False</td>\n",
       "      <td>True</td>\n",
       "    </tr>\n",
       "    <tr>\n",
       "      <th>1</th>\n",
       "      <td>1</td>\n",
       "      <td>sink_4crsol_c</td>\n",
       "      <td>0.0</td>\n",
       "      <td>279.476874</td>\n",
       "      <td>EX_cytd_e</td>\n",
       "      <td>Cytidine</td>\n",
       "      <td>True</td>\n",
       "      <td>True</td>\n",
       "      <td>P-Cresol</td>\n",
       "      <td>False</td>\n",
       "      <td>True</td>\n",
       "    </tr>\n",
       "    <tr>\n",
       "      <th>2</th>\n",
       "      <td>3</td>\n",
       "      <td>sink_hemeO_c</td>\n",
       "      <td>0.0</td>\n",
       "      <td>65.829612</td>\n",
       "      <td>EX_cytd_e</td>\n",
       "      <td>Cytidine</td>\n",
       "      <td>True</td>\n",
       "      <td>True</td>\n",
       "      <td>Heme O C49H56FeN4O5</td>\n",
       "      <td>True</td>\n",
       "      <td>True</td>\n",
       "    </tr>\n",
       "    <tr>\n",
       "      <th>3</th>\n",
       "      <td>4</td>\n",
       "      <td>sink_mobd_c</td>\n",
       "      <td>0.0</td>\n",
       "      <td>1000.000000</td>\n",
       "      <td>EX_cytd_e</td>\n",
       "      <td>Cytidine</td>\n",
       "      <td>True</td>\n",
       "      <td>True</td>\n",
       "      <td>Molybdate</td>\n",
       "      <td>False</td>\n",
       "      <td>False</td>\n",
       "    </tr>\n",
       "    <tr>\n",
       "      <th>4</th>\n",
       "      <td>5</td>\n",
       "      <td>sink_sheme_c</td>\n",
       "      <td>0.0</td>\n",
       "      <td>95.624557</td>\n",
       "      <td>EX_cytd_e</td>\n",
       "      <td>Cytidine</td>\n",
       "      <td>True</td>\n",
       "      <td>True</td>\n",
       "      <td>Siroheme C42H36FeN4O16</td>\n",
       "      <td>True</td>\n",
       "      <td>True</td>\n",
       "    </tr>\n",
       "  </tbody>\n",
       "</table>\n",
       "</div>"
      ],
      "text/plain": [
       "   Unnamed: 0      secretion  minimum      maximum     uptake  \\\n",
       "0           0   sink_2ohph_c      0.0    66.658441  EX_cytd_e   \n",
       "1           1  sink_4crsol_c      0.0   279.476874  EX_cytd_e   \n",
       "2           3   sink_hemeO_c      0.0    65.829612  EX_cytd_e   \n",
       "3           4    sink_mobd_c      0.0  1000.000000  EX_cytd_e   \n",
       "4           5   sink_sheme_c      0.0    95.624557  EX_cytd_e   \n",
       "\n",
       "  metabolite_uptake  N_uptake  C_uptake          metabolite_secretion  \\\n",
       "0          Cytidine      True      True  2-Octaprenyl-6-hydroxyphenol   \n",
       "1          Cytidine      True      True                      P-Cresol   \n",
       "2          Cytidine      True      True           Heme O C49H56FeN4O5   \n",
       "3          Cytidine      True      True                     Molybdate   \n",
       "4          Cytidine      True      True        Siroheme C42H36FeN4O16   \n",
       "\n",
       "   N_secretion  C_secretion  \n",
       "0        False         True  \n",
       "1        False         True  \n",
       "2         True         True  \n",
       "3        False        False  \n",
       "4         True         True  "
      ]
     },
     "execution_count": 99,
     "metadata": {},
     "output_type": "execute_result"
    }
   ],
   "source": [
    "alt_df.head()"
   ]
  },
  {
   "cell_type": "code",
   "execution_count": 100,
   "metadata": {},
   "outputs": [
    {
     "data": {
      "text/plain": [
       "253      Ammonium\n",
       "254      Ammonium\n",
       "255      Ammonium\n",
       "256      Ammonium\n",
       "257      Ammonium\n",
       "           ...   \n",
       "20191     Cyanate\n",
       "20192     Cyanate\n",
       "20193     Cyanate\n",
       "20194     Cyanate\n",
       "20195     Cyanate\n",
       "Name: metabolite_uptake, Length: 5880, dtype: object"
      ]
     },
     "execution_count": 100,
     "metadata": {},
     "output_type": "execute_result"
    }
   ],
   "source": [
    "alt2_df.loc[alt2_df.N_uptake, 'metabolite_uptake']"
   ]
  },
  {
   "cell_type": "code",
   "execution_count": 101,
   "metadata": {},
   "outputs": [
    {
     "data": {
      "text/html": [
       "<div>\n",
       "<style scoped>\n",
       "    .dataframe tbody tr th:only-of-type {\n",
       "        vertical-align: middle;\n",
       "    }\n",
       "\n",
       "    .dataframe tbody tr th {\n",
       "        vertical-align: top;\n",
       "    }\n",
       "\n",
       "    .dataframe thead th {\n",
       "        text-align: right;\n",
       "    }\n",
       "</style>\n",
       "<table border=\"1\" class=\"dataframe\">\n",
       "  <thead>\n",
       "    <tr style=\"text-align: right;\">\n",
       "      <th></th>\n",
       "      <th>Unnamed: 0</th>\n",
       "      <th>secretion</th>\n",
       "      <th>minimum</th>\n",
       "      <th>maximum</th>\n",
       "      <th>uptake</th>\n",
       "      <th>uptake2</th>\n",
       "      <th>metabolite_uptake</th>\n",
       "      <th>N_uptake</th>\n",
       "      <th>C_uptake</th>\n",
       "      <th>metabolite_uptake2</th>\n",
       "      <th>N_uptake2</th>\n",
       "      <th>C_uptake2</th>\n",
       "      <th>metabolite_secretion</th>\n",
       "      <th>N_secretion</th>\n",
       "      <th>C_secretion</th>\n",
       "    </tr>\n",
       "  </thead>\n",
       "  <tbody>\n",
       "    <tr>\n",
       "      <th>0</th>\n",
       "      <td>0</td>\n",
       "      <td>sink_2ohph_c</td>\n",
       "      <td>0.0</td>\n",
       "      <td>68.865821</td>\n",
       "      <td>EX_14glucan_e</td>\n",
       "      <td>EX_nh4_e</td>\n",
       "      <td>1,4-alpha-D-glucan</td>\n",
       "      <td>False</td>\n",
       "      <td>True</td>\n",
       "      <td>Ammonium</td>\n",
       "      <td>True</td>\n",
       "      <td>False</td>\n",
       "      <td>2-Octaprenyl-6-hydroxyphenol</td>\n",
       "      <td>False</td>\n",
       "      <td>True</td>\n",
       "    </tr>\n",
       "    <tr>\n",
       "      <th>1</th>\n",
       "      <td>1</td>\n",
       "      <td>sink_4crsol_c</td>\n",
       "      <td>0.0</td>\n",
       "      <td>308.174662</td>\n",
       "      <td>EX_14glucan_e</td>\n",
       "      <td>EX_nh4_e</td>\n",
       "      <td>1,4-alpha-D-glucan</td>\n",
       "      <td>False</td>\n",
       "      <td>True</td>\n",
       "      <td>Ammonium</td>\n",
       "      <td>True</td>\n",
       "      <td>False</td>\n",
       "      <td>P-Cresol</td>\n",
       "      <td>False</td>\n",
       "      <td>True</td>\n",
       "    </tr>\n",
       "    <tr>\n",
       "      <th>2</th>\n",
       "      <td>3</td>\n",
       "      <td>sink_hemeO_c</td>\n",
       "      <td>0.0</td>\n",
       "      <td>59.261590</td>\n",
       "      <td>EX_14glucan_e</td>\n",
       "      <td>EX_nh4_e</td>\n",
       "      <td>1,4-alpha-D-glucan</td>\n",
       "      <td>False</td>\n",
       "      <td>True</td>\n",
       "      <td>Ammonium</td>\n",
       "      <td>True</td>\n",
       "      <td>False</td>\n",
       "      <td>Heme O C49H56FeN4O5</td>\n",
       "      <td>True</td>\n",
       "      <td>True</td>\n",
       "    </tr>\n",
       "    <tr>\n",
       "      <th>3</th>\n",
       "      <td>4</td>\n",
       "      <td>sink_mobd_c</td>\n",
       "      <td>0.0</td>\n",
       "      <td>1000.000000</td>\n",
       "      <td>EX_14glucan_e</td>\n",
       "      <td>EX_nh4_e</td>\n",
       "      <td>1,4-alpha-D-glucan</td>\n",
       "      <td>False</td>\n",
       "      <td>True</td>\n",
       "      <td>Ammonium</td>\n",
       "      <td>True</td>\n",
       "      <td>False</td>\n",
       "      <td>Molybdate</td>\n",
       "      <td>False</td>\n",
       "      <td>False</td>\n",
       "    </tr>\n",
       "    <tr>\n",
       "      <th>4</th>\n",
       "      <td>5</td>\n",
       "      <td>sink_sheme_c</td>\n",
       "      <td>0.0</td>\n",
       "      <td>77.873881</td>\n",
       "      <td>EX_14glucan_e</td>\n",
       "      <td>EX_nh4_e</td>\n",
       "      <td>1,4-alpha-D-glucan</td>\n",
       "      <td>False</td>\n",
       "      <td>True</td>\n",
       "      <td>Ammonium</td>\n",
       "      <td>True</td>\n",
       "      <td>False</td>\n",
       "      <td>Siroheme C42H36FeN4O16</td>\n",
       "      <td>True</td>\n",
       "      <td>True</td>\n",
       "    </tr>\n",
       "  </tbody>\n",
       "</table>\n",
       "</div>"
      ],
      "text/plain": [
       "   Unnamed: 0      secretion  minimum      maximum         uptake   uptake2  \\\n",
       "0           0   sink_2ohph_c      0.0    68.865821  EX_14glucan_e  EX_nh4_e   \n",
       "1           1  sink_4crsol_c      0.0   308.174662  EX_14glucan_e  EX_nh4_e   \n",
       "2           3   sink_hemeO_c      0.0    59.261590  EX_14glucan_e  EX_nh4_e   \n",
       "3           4    sink_mobd_c      0.0  1000.000000  EX_14glucan_e  EX_nh4_e   \n",
       "4           5   sink_sheme_c      0.0    77.873881  EX_14glucan_e  EX_nh4_e   \n",
       "\n",
       "    metabolite_uptake  N_uptake  C_uptake metabolite_uptake2  N_uptake2  \\\n",
       "0  1,4-alpha-D-glucan     False      True           Ammonium       True   \n",
       "1  1,4-alpha-D-glucan     False      True           Ammonium       True   \n",
       "2  1,4-alpha-D-glucan     False      True           Ammonium       True   \n",
       "3  1,4-alpha-D-glucan     False      True           Ammonium       True   \n",
       "4  1,4-alpha-D-glucan     False      True           Ammonium       True   \n",
       "\n",
       "   C_uptake2          metabolite_secretion  N_secretion  C_secretion  \n",
       "0      False  2-Octaprenyl-6-hydroxyphenol        False         True  \n",
       "1      False                      P-Cresol        False         True  \n",
       "2      False           Heme O C49H56FeN4O5         True         True  \n",
       "3      False                     Molybdate        False        False  \n",
       "4      False        Siroheme C42H36FeN4O16         True         True  "
      ]
     },
     "execution_count": 101,
     "metadata": {},
     "output_type": "execute_result"
    }
   ],
   "source": [
    "alt2_df.head()"
   ]
  },
  {
   "cell_type": "code",
   "execution_count": 102,
   "metadata": {},
   "outputs": [],
   "source": [
    "p_map = pro_med_df['metabolite_common']\n",
    "p_map.index = pro_med_df['metabolite']\n",
    "pro_df['metabolite1_uptake'] = pro_df.metabolite_uptake.replace(p_map)\n",
    "pro_df['metabolite1_secretion'] = pro_df.metabolite_secretion.replace(p_map)\n"
   ]
  },
  {
   "cell_type": "code",
   "execution_count": 103,
   "metadata": {},
   "outputs": [],
   "source": [
    "a_map = alt_med_df['metabolite_common']\n",
    "a_map.index = alt_med_df['metabolite']\n",
    "alt_df['metabolite1_uptake'] = alt_df.metabolite_uptake.replace(a_map)\n",
    "alt_df['metabolite1_secretion'] = alt_df.metabolite_secretion.replace(a_map)\n",
    "alt2_df['metabolite1_uptake'] = alt2_df.metabolite_uptake.replace(a_map)\n",
    "alt2_df['metabolite1_uptake2'] = alt2_df.metabolite_uptake2.replace(a_map)\n",
    "alt2_df['metabolite1_secretion'] = alt2_df.metabolite_secretion.replace(a_map)\n"
   ]
  },
  {
   "cell_type": "code",
   "execution_count": 104,
   "metadata": {},
   "outputs": [],
   "source": [
    "alt_uptake = set(alt_df.metabolite1_uptake.unique()) | set(alt2_df.metabolite1_uptake.unique()) | set(alt2_df.metabolite1_uptake2.unique())\n",
    "alt1_uptake = set(alt_df.metabolite1_uptake.unique()) \n",
    "alt2_uptake = set(alt2_df.metabolite1_uptake.unique()) | set(alt2_df.metabolite1_uptake2.unique())\n",
    "pro_uptake = set(pro_df.metabolite1_uptake.unique())\n",
    "alt_secretion = set(alt_df.metabolite1_secretion.unique()) | set(alt2_df.metabolite1_secretion.unique())\n",
    "pro_secretion = set(pro_df.metabolite1_secretion.unique())\n"
   ]
  },
  {
   "cell_type": "code",
   "execution_count": 105,
   "metadata": {},
   "outputs": [],
   "source": [
    "alt2_uptake = set(alt2_df.metabolite1_uptake.unique()) | set(alt2_df.metabolite1_uptake2.unique())\n"
   ]
  },
  {
   "cell_type": "code",
   "execution_count": 106,
   "metadata": {},
   "outputs": [],
   "source": [
    "alt2_N_metabolites = (\n",
    "    set(alt2_df.loc[alt2_df.N_uptake, 'metabolite1_uptake'].unique()) | \n",
    "    set(alt2_df.loc[alt2_df.N_uptake2, 'metabolite1_uptake2'].unique()) \n",
    ")\n",
    "alt2_C_metabolites = (\n",
    "    set(alt2_df.loc[alt2_df.C_uptake, 'metabolite1_uptake'].unique()) | \n",
    "    set(alt2_df.loc[alt2_df.C_uptake2, 'metabolite1_uptake2'].unique()) \n",
    ")\n",
    "\n"
   ]
  },
  {
   "cell_type": "code",
   "execution_count": 107,
   "metadata": {},
   "outputs": [
    {
     "name": "stdout",
     "output_type": "stream",
     "text": [
      "\n",
      "alt2_N_metabolites 7 \n",
      "alt2_C_metabolites 80 \n",
      "alt2_C+N_metabolites 3 \n",
      "alt2_none_metabolites 1\n"
     ]
    }
   ],
   "source": [
    "print(\n",
    "    '\\nalt2_N_metabolites', len(alt2_N_metabolites), \n",
    "    '\\nalt2_C_metabolites', len(alt2_C_metabolites), \n",
    "    '\\nalt2_C+N_metabolites', len(alt2_C_metabolites & alt2_N_metabolites), \n",
    "    '\\nalt2_none_metabolites', len(alt2_uptake - (alt2_C_metabolites | alt2_N_metabolites)), \n",
    "    \n",
    ")"
   ]
  },
  {
   "cell_type": "code",
   "execution_count": 108,
   "metadata": {},
   "outputs": [
    {
     "data": {
      "text/plain": [
       "'2 4 6 Trinitrotoluene, Ammonium/Ammonia, Nitrate, Nitrite'"
      ]
     },
     "execution_count": 108,
     "metadata": {},
     "output_type": "execute_result"
    }
   ],
   "source": [
    "', '.join(sorted(alt2_N_metabolites - alt2_C_metabolites))"
   ]
  },
  {
   "cell_type": "code",
   "execution_count": 109,
   "metadata": {},
   "outputs": [
    {
     "data": {
      "text/plain": [
       "' R  Acetoin C4H8O2, (R)-3-Hydroxybutanoate, 1,4-alpha-D-glucan, 1-Propanol, 10 Phenyldecanoic acid, 2,5-diketo-D-gluconate, 2-Phosphoglycolate, 3-Methylbutanoic acid, 4-Hydroxyphenylacetate, 5 phenylvaleric acid, 5-Dehydro-D-gluconate, 6 Phenylhexanoic acid, 6 acetylthiohexanoic acid, 7 Phenylheptanoic acid, 8 Phenyloctanoic acid, 9 Phenylnonanoic acid, Acetaldehyde, Acetate, Acetoacetate, Beta D-Galactose, Butyrate (n-C4:0), Carbon monoxide, Cellobiose, Citrate, D-Fructose, D-Galactose, D-Galacturonate, D-Glucose, D-Glucuronate, D-Lactate, D-Mannitol, D-Mannose, D-Ribose, D-Sorbitol, Decanoate (n-C10:0), Deoxyribose C5H10O4, Dodecanoate (n-C12:0), Ethanol, Fe(III)dicitrate, Formate, Fumarate, Galactitol, Glycerol, Glycerol 2-phosphate, Glycerophosphoglycerol, Glycol, Heptanoate, Hexadecanoate (n-C16:0), Hexadecenoate (n-C16:1), Hexanoate (n-C6:0), Isobutyrate, L-Ascorbate, L-Fucose, L-Idonate, L-Lactate, Lactose C12H22O11, Linoleic acid (all cis C18:2) n-6, Maltopentaose, Maltose C12H22O11, Melibiose C12H22O11, Methanol, Nonanoate C9H17O2, Octadecanoate (n-C18:0), Octadecenoate (n-C18:1), Octanoate (n-C8:0), Pentanoate, Petroselaidic acid, Propionate (n-C3:0), Pyruvate, Raffinose C18H32O16, S_Malate/L-Malate, Succinate, Sucrose C12H22O11, Tetradecanoate (n-C14:0), Tetradecenoate (n-C14:1), Trehalose, Vanillate'"
      ]
     },
     "execution_count": 109,
     "metadata": {},
     "output_type": "execute_result"
    }
   ],
   "source": [
    "', '.join(sorted(alt2_C_metabolites - alt2_N_metabolites))"
   ]
  },
  {
   "cell_type": "code",
   "execution_count": 110,
   "metadata": {},
   "outputs": [
    {
     "data": {
      "text/plain": [
       "'Cyanate, Phenethylamine, Urea'"
      ]
     },
     "execution_count": 110,
     "metadata": {},
     "output_type": "execute_result"
    }
   ],
   "source": [
    "', '.join(sorted(alt2_C_metabolites & alt2_N_metabolites))"
   ]
  },
  {
   "cell_type": "code",
   "execution_count": 111,
   "metadata": {},
   "outputs": [
    {
     "data": {
      "text/plain": [
       "'Hydrogen sulfide'"
      ]
     },
     "execution_count": 111,
     "metadata": {},
     "output_type": "execute_result"
    }
   ],
   "source": [
    "', '.join(sorted(alt2_uptake - (alt2_C_metabolites | alt2_N_metabolites)))"
   ]
  },
  {
   "cell_type": "code",
   "execution_count": null,
   "metadata": {},
   "outputs": [],
   "source": []
  },
  {
   "cell_type": "code",
   "execution_count": 112,
   "metadata": {},
   "outputs": [
    {
     "name": "stdout",
     "output_type": "stream",
     "text": [
      "\n",
      "alt->pro 6 \n",
      "alt_secretion 53 \n",
      "pro_uptake 16 \n",
      "pro->alt 27 \n",
      "pro_secretion 56 \n",
      "alt_uptake 152 \n",
      "alt1_uptake 67 \n",
      "alt2_uptake 85\n"
     ]
    }
   ],
   "source": [
    "print(\n",
    "    '\\nalt->pro', len(pro_uptake & alt_secretion), \n",
    "    '\\nalt_secretion', len(alt_secretion), \n",
    "    '\\npro_uptake', len(pro_uptake), \n",
    "    '\\npro->alt', len(alt_uptake & pro_secretion), \n",
    "    '\\npro_secretion', len(pro_secretion),\n",
    "    '\\nalt_uptake', len(alt_uptake), \n",
    "    '\\nalt1_uptake', len(alt1_uptake), \n",
    "    '\\nalt2_uptake', len(alt2_uptake), \n",
    ")"
   ]
  },
  {
   "cell_type": "code",
   "execution_count": 113,
   "metadata": {},
   "outputs": [
    {
     "name": "stdout",
     "output_type": "stream",
     "text": [
      "\n",
      "alt->pro 6 \n",
      "alt_secretion 53 \n",
      "pro_uptake 16 \n",
      "pro->alt 27 \n",
      "pro_secretion 56 \n",
      "alt_uptake 152 \n",
      "alt1_uptake 67 \n",
      "alt2_uptake 85\n"
     ]
    }
   ],
   "source": [
    "print(\n",
    "    '\\nalt->pro', len(pro_uptake & alt_secretion), \n",
    "    '\\nalt_secretion', len(alt_secretion), \n",
    "    '\\npro_uptake', len(pro_uptake), \n",
    "    '\\npro->alt', len(alt_uptake & pro_secretion), \n",
    "    '\\npro_secretion', len(pro_secretion),\n",
    "    '\\nalt_uptake', len(alt_uptake), \n",
    "    '\\nalt1_uptake', len(alt1_uptake), \n",
    "    '\\nalt2_uptake', len(alt2_uptake), \n",
    ")"
   ]
  },
  {
   "cell_type": "code",
   "execution_count": 50,
   "metadata": {},
   "outputs": [
    {
     "data": {
      "text/plain": [
       "'Acetate, Adenine, Ammonium/Ammonia, Citrate, Ethanol, Formate, Fumarate, Glycine, Guanine, Hydrogen sulfide, L-Alanine, L-Arginine, L-Asparagine, L-Aspartate, L-Glutamate, L-Glutamine, L-Histidine, L-Isoleucine, L-Lysine, L-Proline, L-Serine, Methanol, Putrescine, Pyruvate, S_Malate/L-Malate, Succinate, Urea, Xanthosine'"
      ]
     },
     "execution_count": 50,
     "metadata": {},
     "output_type": "execute_result"
    }
   ],
   "source": [
    "', '.join(sorted(alt_uptake & pro_secretion))"
   ]
  },
  {
   "cell_type": "code",
   "execution_count": 51,
   "metadata": {},
   "outputs": [
    {
     "data": {
      "text/plain": [
       "'2-Aminoethylphosphonate, Adenine, Adenosine, Ala L asp L C7H11N2O5, Ala L glu L C8H13N2O5, Ala-Gln, Ala-His, Ala-L-Thr-L, Allantoin, Choline C5H14NO, Choline sulfate, Cys Gly C5H10N2O3S, Cytidine, Cytosine, D-Alanine, Gly asn L C6H11N3O4, Gly asp L C6H9N2O5, Gly glu L C7H11N2O5, Gly pro L C7H12N2O3, Gly-Cys, Gly-Gln, Gly-Phe, Gly-Tyr, Glycerophosphoserine, Glycine, Glycine betaine, Glycine-glycine-glutamine tripeptide, Glycylglycine C4H8N2O3, Glycylphenylalanine, Guanine, Hypoxanthine, Inosine, L alaninylhistidine, L alaninylthreonine, L alaninyltryptophan, L glycinylglutamate, L glycinylglutamine, L glycinylserine, L histidinylglycine, L histidinylhistidine, L-Alanine, L-Arginine, L-Asparagine, L-Aspartate, L-Carnitine, L-Cysteine, L-Glutamate, L-Glutamine, L-Histidine, L-Isoleucine, L-Lysine, L-Proline, L-Prolinylglycine, L-Serine, L-alanine-L-glutamate, L-alanylglycine, Lysine-glutamine-glycine tripeptide, NMN C11H14N2O8P, Ornithine, Putrescine, Reduced glutathione, Serine-glutamine-glycine tripeptide, Sn-Glycero-3-phosphocholine, Uracil, Uridine, Xanthine, Xanthosine'"
      ]
     },
     "execution_count": 51,
     "metadata": {},
     "output_type": "execute_result"
    }
   ],
   "source": [
    "', '.join(sorted(alt1_uptake))"
   ]
  },
  {
   "cell_type": "code",
   "execution_count": 52,
   "metadata": {},
   "outputs": [
    {
     "data": {
      "text/plain": [
       "' R  Acetoin C4H8O2, (R)-3-Hydroxybutanoate, 1,4-alpha-D-glucan, 1-Propanol, 10 Phenyldecanoic acid, 2 4 6 Trinitrotoluene, 2,5-diketo-D-gluconate, 2-Phosphoglycolate, 3-Methylbutanoic acid, 4-Hydroxyphenylacetate, 5 phenylvaleric acid, 5-Dehydro-D-gluconate, 6 Phenylhexanoic acid, 6 acetylthiohexanoic acid, 7 Phenylheptanoic acid, 8 Phenyloctanoic acid, 9 Phenylnonanoic acid, Acetaldehyde, Acetate, Acetoacetate, Ammonium/Ammonia, Beta D-Galactose, Butyrate (n-C4:0), Carbon monoxide, Cellobiose, Citrate, Cyanate, D-Fructose, D-Galactose, D-Galacturonate, D-Glucose, D-Glucuronate, D-Lactate, D-Mannitol, D-Mannose, D-Ribose, D-Sorbitol, Decanoate (n-C10:0), Deoxyribose C5H10O4, Dodecanoate (n-C12:0), Ethanol, Fe(III)dicitrate, Formate, Fumarate, Galactitol, Glycerol, Glycerol 2-phosphate, Glycerophosphoglycerol, Glycol, Heptanoate, Hexadecanoate (n-C16:0), Hexadecenoate (n-C16:1), Hexanoate (n-C6:0), Hydrogen sulfide, Isobutyrate, L-Ascorbate, L-Fucose, L-Idonate, L-Lactate, Lactose C12H22O11, Linoleic acid (all cis C18:2) n-6, Maltopentaose, Maltose C12H22O11, Melibiose C12H22O11, Methanol, Nitrate, Nitrite, Nonanoate C9H17O2, Octadecanoate (n-C18:0), Octadecenoate (n-C18:1), Octanoate (n-C8:0), Pentanoate, Petroselaidic acid, Phenethylamine, Propionate (n-C3:0), Pyruvate, Raffinose C18H32O16, S_Malate/L-Malate, Succinate, Sucrose C12H22O11, Tetradecanoate (n-C14:0), Tetradecenoate (n-C14:1), Trehalose, Urea, Vanillate'"
      ]
     },
     "execution_count": 52,
     "metadata": {},
     "output_type": "execute_result"
    }
   ],
   "source": [
    "', '.join(sorted(alt2_uptake))"
   ]
  },
  {
   "cell_type": "code",
   "execution_count": 53,
   "metadata": {},
   "outputs": [
    {
     "data": {
      "text/plain": [
       "'4_Aminobenzoate, 4_Methyl_2_oxopentanoate, 5_Methylthioadenosine, Acetate, Adenine, Ammonium/Ammonia, Biotin, Citrate, Cobamide coenzyme, Dethiobiotin, Ethanol, Formate, Fumarate, Glutathione, Glycine, Glycogen, Glycolate, Guanine, Guanosine, Hydrogen peroxide, Hydrogen sulfide, L-Alanine, L-Arginine, L-Asparagine, L-Aspartate, L-Cystine, L-Glutamate, L-Glutamine, L-Histidine, L-Isoleucine, L-Leucine, L-Lysine, L-Methionine, L-Phenylalanine, L-Proline, L-Serine, L-Threonine, L-Tryptophan, L-Tyrosine, L-Valine, Lipid A disaccharide, Methanol, Pantothenate, Putrescine, Pyruvate, S-Adenosyl-4-methylthio-2-oxobutanoate, S-Methyl-5-thio-D-ribose, S_Malate/L-Malate, Spermidine, Spermine, Succinate, Thiosulfate, Thymidine, Urea, Xanthosine, sn-Glycerol 3-phosphate'"
      ]
     },
     "execution_count": 53,
     "metadata": {},
     "output_type": "execute_result"
    }
   ],
   "source": [
    "', '.join(sorted(pro_secretion))"
   ]
  },
  {
   "cell_type": "code",
   "execution_count": 54,
   "metadata": {},
   "outputs": [
    {
     "data": {
      "text/plain": [
       "'Ammonium/Ammonia, Guanine, L-Aspartate, L-Serine, L-Valine, Urea'"
      ]
     },
     "execution_count": 54,
     "metadata": {},
     "output_type": "execute_result"
    }
   ],
   "source": [
    "', '.join(sorted(pro_uptake & alt_secretion))"
   ]
  },
  {
   "cell_type": "code",
   "execution_count": 55,
   "metadata": {},
   "outputs": [
    {
     "data": {
      "text/plain": [
       "'Ammonium/Ammonia, Cyanate, Glutathione, Glycine, Guanine, Guanosine, L-Alanine, L-Arginine, L-Aspartate, L-Cystine, L-Glutamate, L-Glutamine, L-Leucine, L-Serine, L-Valine, Urea'"
      ]
     },
     "execution_count": 55,
     "metadata": {},
     "output_type": "execute_result"
    }
   ],
   "source": [
    "', '.join(sorted(pro_uptake))"
   ]
  },
  {
   "cell_type": "code",
   "execution_count": 56,
   "metadata": {},
   "outputs": [
    {
     "data": {
      "text/plain": [
       "\"(2R,4S)-2-methyl-2,3,3,4-tetrahydroxytetrahydrofuran, 2-Octaprenyl-6-hydroxyphenol, 3 Hydroxy 4 acetylthiobutanoic acid, 4-Hydroxybenzoate, 5'-deoxyribose, 5-Methylthio-5-deoxy-D-ribulose 1-phosphate, Acetaldehyde, Ammonium/Ammonia, Benzoate, Cellobiose, Choline C5H14NO, D-Galactose, D-Glucose, D-Ribose, Ethanol, Ethanolamine, Fe2+, Formaldehyde, Formate, Glycerol, Glycerol 3-phosphate, Glycerophosphoglycerol, Glycine betaine, Guanine, Heme O C49H56FeN4O5, Hydrogen sulfide, Indole, Indole 3 acetate C10H8NO2, L-Aspartate, L-Homoserine, L-Lysine, L-Serine, L-Valine, Methanol, Molybdate/Molybdenum, N  2 methyl 3 5 dinitrophenyl  4 methyl 3 5 dinitroaniline, N N bis 3 5 dinitrotolyl  amine, Nitrite, Ornithine, Orthophosphate, Oxalate, P-Cresol, Phenylacetaldehyde, Protoheme C34H30FeN4O4, Selenite, Siroheme C42H36FeN4O16, Sn-Glycero-3-phosphoethanolamine, Spermidine, Sulfur, Thymine C5H6N2O2, Trans-Cinnamate, Uracil, Urea\""
      ]
     },
     "execution_count": 56,
     "metadata": {},
     "output_type": "execute_result"
    }
   ],
   "source": [
    "', '.join(sorted(alt_secretion))"
   ]
  },
  {
   "cell_type": "code",
   "execution_count": 57,
   "metadata": {
    "scrolled": true
   },
   "outputs": [
    {
     "data": {
      "text/plain": [
       "{' R  Acetoin C4H8O2',\n",
       " '(2R,4S)-2-methyl-2,3,3,4-tetrahydroxytetrahydrofuran',\n",
       " '(R)-3-Hydroxybutanoate',\n",
       " '1,4-alpha-D-glucan',\n",
       " '1-Propanol',\n",
       " '10 Phenyldecanoic acid',\n",
       " '2 4 6 Trinitrotoluene',\n",
       " '2,5-diketo-D-gluconate',\n",
       " '2-Aminoethylphosphonate',\n",
       " '2-Octaprenyl-6-hydroxyphenol',\n",
       " '2-Phosphoglycolate',\n",
       " '3 Hydroxy 4 acetylthiobutanoic acid',\n",
       " '3-Methylbutanoic acid',\n",
       " '4-Hydroxybenzoate',\n",
       " '4-Hydroxyphenylacetate',\n",
       " '4_Aminobenzoate',\n",
       " '4_Methyl_2_oxopentanoate',\n",
       " '5 phenylvaleric acid',\n",
       " \"5'-deoxyribose\",\n",
       " '5-Dehydro-D-gluconate',\n",
       " '5-Methylthio-5-deoxy-D-ribulose 1-phosphate',\n",
       " '5_Methylthioadenosine',\n",
       " '6 Phenylhexanoic acid',\n",
       " '6 acetylthiohexanoic acid',\n",
       " '7 Phenylheptanoic acid',\n",
       " '8 Phenyloctanoic acid',\n",
       " '9 Phenylnonanoic acid',\n",
       " 'Acetaldehyde',\n",
       " 'Acetate',\n",
       " 'Acetoacetate',\n",
       " 'Adenine',\n",
       " 'Adenosine',\n",
       " 'Ala L asp L C7H11N2O5',\n",
       " 'Ala L glu L C8H13N2O5',\n",
       " 'Ala-Gln',\n",
       " 'Ala-His',\n",
       " 'Ala-L-Thr-L',\n",
       " 'Allantoin',\n",
       " 'Ammonium/Ammonia',\n",
       " 'Benzoate',\n",
       " 'Beta D-Galactose',\n",
       " 'Biotin',\n",
       " 'Butyrate (n-C4:0)',\n",
       " 'Carbon monoxide',\n",
       " 'Cellobiose',\n",
       " 'Choline C5H14NO',\n",
       " 'Choline sulfate',\n",
       " 'Citrate',\n",
       " 'Cobamide coenzyme',\n",
       " 'Cyanate',\n",
       " 'Cys Gly C5H10N2O3S',\n",
       " 'Cytidine',\n",
       " 'Cytosine',\n",
       " 'D-Alanine',\n",
       " 'D-Fructose',\n",
       " 'D-Galactose',\n",
       " 'D-Galacturonate',\n",
       " 'D-Glucose',\n",
       " 'D-Glucuronate',\n",
       " 'D-Lactate',\n",
       " 'D-Mannitol',\n",
       " 'D-Mannose',\n",
       " 'D-Ribose',\n",
       " 'D-Sorbitol',\n",
       " 'Decanoate (n-C10:0)',\n",
       " 'Deoxyribose C5H10O4',\n",
       " 'Dethiobiotin',\n",
       " 'Dodecanoate (n-C12:0)',\n",
       " 'Ethanol',\n",
       " 'Ethanolamine',\n",
       " 'Fe(III)dicitrate',\n",
       " 'Fe2+',\n",
       " 'Formaldehyde',\n",
       " 'Formate',\n",
       " 'Fumarate',\n",
       " 'Galactitol',\n",
       " 'Glutathione',\n",
       " 'Gly asn L C6H11N3O4',\n",
       " 'Gly asp L C6H9N2O5',\n",
       " 'Gly glu L C7H11N2O5',\n",
       " 'Gly pro L C7H12N2O3',\n",
       " 'Gly-Cys',\n",
       " 'Gly-Gln',\n",
       " 'Gly-Phe',\n",
       " 'Gly-Tyr',\n",
       " 'Glycerol',\n",
       " 'Glycerol 2-phosphate',\n",
       " 'Glycerol 3-phosphate',\n",
       " 'Glycerophosphoglycerol',\n",
       " 'Glycerophosphoserine',\n",
       " 'Glycine',\n",
       " 'Glycine betaine',\n",
       " 'Glycine-glycine-glutamine tripeptide',\n",
       " 'Glycogen',\n",
       " 'Glycol',\n",
       " 'Glycolate',\n",
       " 'Glycylglycine C4H8N2O3',\n",
       " 'Glycylphenylalanine',\n",
       " 'Guanine',\n",
       " 'Guanosine',\n",
       " 'Heme O C49H56FeN4O5',\n",
       " 'Heptanoate',\n",
       " 'Hexadecanoate (n-C16:0)',\n",
       " 'Hexadecenoate (n-C16:1)',\n",
       " 'Hexanoate (n-C6:0)',\n",
       " 'Hydrogen peroxide',\n",
       " 'Hydrogen sulfide',\n",
       " 'Hypoxanthine',\n",
       " 'Indole',\n",
       " 'Indole 3 acetate C10H8NO2',\n",
       " 'Inosine',\n",
       " 'Isobutyrate',\n",
       " 'L alaninylhistidine',\n",
       " 'L alaninylthreonine',\n",
       " 'L alaninyltryptophan',\n",
       " 'L glycinylglutamate',\n",
       " 'L glycinylglutamine',\n",
       " 'L glycinylserine',\n",
       " 'L histidinylglycine',\n",
       " 'L histidinylhistidine',\n",
       " 'L-Alanine',\n",
       " 'L-Arginine',\n",
       " 'L-Ascorbate',\n",
       " 'L-Asparagine',\n",
       " 'L-Aspartate',\n",
       " 'L-Carnitine',\n",
       " 'L-Cysteine',\n",
       " 'L-Cystine',\n",
       " 'L-Fucose',\n",
       " 'L-Glutamate',\n",
       " 'L-Glutamine',\n",
       " 'L-Histidine',\n",
       " 'L-Homoserine',\n",
       " 'L-Idonate',\n",
       " 'L-Isoleucine',\n",
       " 'L-Lactate',\n",
       " 'L-Leucine',\n",
       " 'L-Lysine',\n",
       " 'L-Methionine',\n",
       " 'L-Phenylalanine',\n",
       " 'L-Proline',\n",
       " 'L-Prolinylglycine',\n",
       " 'L-Serine',\n",
       " 'L-Threonine',\n",
       " 'L-Tryptophan',\n",
       " 'L-Tyrosine',\n",
       " 'L-Valine',\n",
       " 'L-alanine-L-glutamate',\n",
       " 'L-alanylglycine',\n",
       " 'Lactose C12H22O11',\n",
       " 'Linoleic acid (all cis C18:2) n-6',\n",
       " 'Lipid A disaccharide',\n",
       " 'Lysine-glutamine-glycine tripeptide',\n",
       " 'Maltopentaose',\n",
       " 'Maltose C12H22O11',\n",
       " 'Melibiose C12H22O11',\n",
       " 'Methanol',\n",
       " 'Molybdate/Molybdenum',\n",
       " 'N  2 methyl 3 5 dinitrophenyl  4 methyl 3 5 dinitroaniline',\n",
       " 'N N bis 3 5 dinitrotolyl  amine',\n",
       " 'NMN C11H14N2O8P',\n",
       " 'Nitrate',\n",
       " 'Nitrite',\n",
       " 'Nonanoate C9H17O2',\n",
       " 'Octadecanoate (n-C18:0)',\n",
       " 'Octadecenoate (n-C18:1)',\n",
       " 'Octanoate (n-C8:0)',\n",
       " 'Ornithine',\n",
       " 'Orthophosphate',\n",
       " 'Oxalate',\n",
       " 'P-Cresol',\n",
       " 'Pantothenate',\n",
       " 'Pentanoate',\n",
       " 'Petroselaidic acid',\n",
       " 'Phenethylamine',\n",
       " 'Phenylacetaldehyde',\n",
       " 'Propionate (n-C3:0)',\n",
       " 'Protoheme C34H30FeN4O4',\n",
       " 'Putrescine',\n",
       " 'Pyruvate',\n",
       " 'Raffinose C18H32O16',\n",
       " 'Reduced glutathione',\n",
       " 'S-Adenosyl-4-methylthio-2-oxobutanoate',\n",
       " 'S-Methyl-5-thio-D-ribose',\n",
       " 'S_Malate/L-Malate',\n",
       " 'Selenite',\n",
       " 'Serine-glutamine-glycine tripeptide',\n",
       " 'Siroheme C42H36FeN4O16',\n",
       " 'Sn-Glycero-3-phosphocholine',\n",
       " 'Sn-Glycero-3-phosphoethanolamine',\n",
       " 'Spermidine',\n",
       " 'Spermine',\n",
       " 'Succinate',\n",
       " 'Sucrose C12H22O11',\n",
       " 'Sulfur',\n",
       " 'Tetradecanoate (n-C14:0)',\n",
       " 'Tetradecenoate (n-C14:1)',\n",
       " 'Thiosulfate',\n",
       " 'Thymidine',\n",
       " 'Thymine C5H6N2O2',\n",
       " 'Trans-Cinnamate',\n",
       " 'Trehalose',\n",
       " 'Uracil',\n",
       " 'Urea',\n",
       " 'Uridine',\n",
       " 'Vanillate',\n",
       " 'Xanthine',\n",
       " 'Xanthosine',\n",
       " 'sn-Glycerol 3-phosphate'}"
      ]
     },
     "execution_count": 57,
     "metadata": {},
     "output_type": "execute_result"
    }
   ],
   "source": [
    "alt_uptake | pro_uptake | alt_secretion | pro_secretion"
   ]
  },
  {
   "cell_type": "code",
   "execution_count": 60,
   "metadata": {},
   "outputs": [
    {
     "data": {
      "text/html": [
       "<div>\n",
       "<style scoped>\n",
       "    .dataframe tbody tr th:only-of-type {\n",
       "        vertical-align: middle;\n",
       "    }\n",
       "\n",
       "    .dataframe tbody tr th {\n",
       "        vertical-align: top;\n",
       "    }\n",
       "\n",
       "    .dataframe thead th {\n",
       "        text-align: right;\n",
       "    }\n",
       "</style>\n",
       "<table border=\"1\" class=\"dataframe\">\n",
       "  <thead>\n",
       "    <tr style=\"text-align: right;\">\n",
       "      <th></th>\n",
       "      <th>Unnamed: 0</th>\n",
       "      <th>secretion</th>\n",
       "      <th>minimum</th>\n",
       "      <th>maximum</th>\n",
       "      <th>uptake</th>\n",
       "      <th>metabolite_uptake</th>\n",
       "      <th>N_uptake</th>\n",
       "      <th>C_uptake</th>\n",
       "      <th>metabolite_secretion</th>\n",
       "      <th>N_secretion</th>\n",
       "      <th>C_secretion</th>\n",
       "      <th>metabolite1_uptake</th>\n",
       "      <th>metabolite1_secretion</th>\n",
       "    </tr>\n",
       "  </thead>\n",
       "  <tbody>\n",
       "  </tbody>\n",
       "</table>\n",
       "</div>"
      ],
      "text/plain": [
       "Empty DataFrame\n",
       "Columns: [Unnamed: 0, secretion, minimum, maximum, uptake, metabolite_uptake, N_uptake, C_uptake, metabolite_secretion, N_secretion, C_secretion, metabolite1_uptake, metabolite1_secretion]\n",
       "Index: []"
      ]
     },
     "execution_count": 60,
     "metadata": {},
     "output_type": "execute_result"
    }
   ],
   "source": [
    "pro_df.loc[pro_df.isna().sum(axis=1) > 0]"
   ]
  },
  {
   "cell_type": "code",
   "execution_count": 61,
   "metadata": {},
   "outputs": [
    {
     "data": {
      "text/html": [
       "<div>\n",
       "<style scoped>\n",
       "    .dataframe tbody tr th:only-of-type {\n",
       "        vertical-align: middle;\n",
       "    }\n",
       "\n",
       "    .dataframe tbody tr th {\n",
       "        vertical-align: top;\n",
       "    }\n",
       "\n",
       "    .dataframe thead th {\n",
       "        text-align: right;\n",
       "    }\n",
       "</style>\n",
       "<table border=\"1\" class=\"dataframe\">\n",
       "  <thead>\n",
       "    <tr style=\"text-align: right;\">\n",
       "      <th></th>\n",
       "      <th>Unnamed: 0</th>\n",
       "      <th>secretion</th>\n",
       "      <th>minimum</th>\n",
       "      <th>maximum</th>\n",
       "      <th>uptake</th>\n",
       "      <th>metabolite_uptake</th>\n",
       "      <th>N_uptake</th>\n",
       "      <th>C_uptake</th>\n",
       "      <th>metabolite_secretion</th>\n",
       "      <th>N_secretion</th>\n",
       "      <th>C_secretion</th>\n",
       "      <th>metabolite1_uptake</th>\n",
       "      <th>metabolite1_secretion</th>\n",
       "    </tr>\n",
       "  </thead>\n",
       "  <tbody>\n",
       "  </tbody>\n",
       "</table>\n",
       "</div>"
      ],
      "text/plain": [
       "Empty DataFrame\n",
       "Columns: [Unnamed: 0, secretion, minimum, maximum, uptake, metabolite_uptake, N_uptake, C_uptake, metabolite_secretion, N_secretion, C_secretion, metabolite1_uptake, metabolite1_secretion]\n",
       "Index: []"
      ]
     },
     "execution_count": 61,
     "metadata": {},
     "output_type": "execute_result"
    }
   ],
   "source": [
    "alt_df.loc[alt_df.isna().sum(axis=1) > 0]"
   ]
  },
  {
   "cell_type": "code",
   "execution_count": null,
   "metadata": {},
   "outputs": [],
   "source": []
  },
  {
   "cell_type": "code",
   "execution_count": null,
   "metadata": {},
   "outputs": [],
   "source": []
  }
 ],
 "metadata": {
  "kernelspec": {
   "display_name": "Python 3 (ipykernel)",
   "language": "python",
   "name": "python3"
  },
  "language_info": {
   "codemirror_mode": {
    "name": "ipython",
    "version": 3
   },
   "file_extension": ".py",
   "mimetype": "text/x-python",
   "name": "python",
   "nbconvert_exporter": "python",
   "pygments_lexer": "ipython3",
   "version": "3.9.7"
  }
 },
 "nbformat": 4,
 "nbformat_minor": 2
}
