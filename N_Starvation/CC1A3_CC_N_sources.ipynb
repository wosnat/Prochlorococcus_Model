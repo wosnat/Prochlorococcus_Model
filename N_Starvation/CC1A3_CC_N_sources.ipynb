{
 "cells": [
  {
   "cell_type": "markdown",
   "metadata": {},
   "source": [
    "# N starvation \n",
    "\n",
    "## Which N sources allow MED4 to grow"
   ]
  },
  {
   "cell_type": "markdown",
   "metadata": {},
   "source": [
    "check out Escher visualization https://escher.readthedocs.io/en/latest/getting_started.html"
   ]
  },
  {
   "cell_type": "code",
   "execution_count": 1,
   "metadata": {
    "ExecuteTime": {
     "end_time": "2020-12-15T09:30:48.353507Z",
     "start_time": "2020-12-15T09:30:43.130260Z"
    }
   },
   "outputs": [],
   "source": [
    "import pandas as pd\n",
    "import matplotlib.pyplot as plt\n",
    "import cobra\n",
    "import numpy as np\n",
    "import seaborn as sns\n",
    "import itertools\n",
    "from matplotlib.colors import LogNorm, Normalize\n"
   ]
  },
  {
   "cell_type": "code",
   "execution_count": 2,
   "metadata": {},
   "outputs": [],
   "source": [
    "import subprocess\n",
    "import time\n"
   ]
  },
  {
   "cell_type": "code",
   "execution_count": 3,
   "metadata": {},
   "outputs": [],
   "source": [
    "from cobra.flux_analysis import flux_variability_analysis\n",
    "from cobra.flux_analysis import production_envelope\n"
   ]
  },
  {
   "cell_type": "code",
   "execution_count": 4,
   "metadata": {},
   "outputs": [],
   "source": [
    "from cobra.flux_analysis import (\n",
    "    single_gene_deletion, single_reaction_deletion, double_gene_deletion,\n",
    "    double_reaction_deletion)"
   ]
  },
  {
   "cell_type": "code",
   "execution_count": 5,
   "metadata": {
    "ExecuteTime": {
     "end_time": "2020-12-15T09:30:48.389369Z",
     "start_time": "2020-12-15T09:30:48.353507Z"
    }
   },
   "outputs": [
    {
     "data": {
      "text/plain": [
       "<function seaborn.palettes.hls_palette(n_colors=6, h=0.01, l=0.6, s=0.65, as_cmap=False)>"
      ]
     },
     "execution_count": 5,
     "metadata": {},
     "output_type": "execute_result"
    }
   ],
   "source": [
    "sns.hls_palette"
   ]
  },
  {
   "cell_type": "code",
   "execution_count": 6,
   "metadata": {},
   "outputs": [],
   "source": [
    "# values from Ofaim at el.\n",
    "\n",
    "PARAMETER_VALUES = [#\"Name\",     \"Reaction ID\",          \"Lower bound\", \"UpperBound\"\n",
    "                   [\"HCO3\",      \"HCO3EXcar\",            -8,            0],\n",
    "                   #[\"Nitrogen\",  \"AmmoniaEX\",            -0.56,         0],\n",
    "                   #[\"Phosphate\", \"FAKEOrthophosphateEX\", -0.1,          0],\n",
    "                   [\"Light\",     \"LightEX\",              -150,          0]]\n",
    "CO2MAX = 0.82\n",
    "\n",
    "# Block fake reactions\n",
    "FAKE_TRANSPORT = [\"AminosugarsOUT\", \"FAKEAAOUT\", \"FAKEABPOUT\", \"FAKEacpTRANS\", \"FAKEApoacpTRANS\", \"FAKEThioredoxinTRANS\", \n",
    "                  \"FreefattyacidsOUT\", \"7NMeth7carbOUT\", \"ArtificialproteinOUT\", \"FADOUT\", \"LipoylproteinTRANS\", \"MenaquinoneOUT\", \n",
    "                  \"NicotinateOUT\", \"THFpolyglutOUT\", \"Thiamin_dpOUT\"]\n"
   ]
  },
  {
   "cell_type": "code",
   "execution_count": null,
   "metadata": {},
   "outputs": [],
   "source": []
  },
  {
   "cell_type": "code",
   "execution_count": 68,
   "metadata": {},
   "outputs": [],
   "source": [
    "def get_elements(rid):\n",
    "    r = model.reactions.get_by_id(rid)\n",
    "    m = r.reactants[0]    \n",
    "    elements = m.elements.copy()\n",
    "    \n",
    "    res = {\n",
    "        'reaction' : rid,\n",
    "        'metabolite' : m.name,\n",
    "        'N' : 'N' in elements,\n",
    "        'C' : 'C' in elements,\n",
    "        \n",
    "    }\n",
    "    return pd.Series(res)"
   ]
  },
  {
   "cell_type": "markdown",
   "metadata": {},
   "source": [
    "# Import model and manipulate based on Ofaim at el"
   ]
  },
  {
   "cell_type": "code",
   "execution_count": 8,
   "metadata": {},
   "outputs": [],
   "source": [
    "import os\n",
    "model_dpath = os.path.join('..', 'Model_files')\n",
    "model_fname = 'iSO595v7.xml'\n",
    "model_fpath = os.path.join(model_dpath, model_fname)\n"
   ]
  },
  {
   "cell_type": "code",
   "execution_count": 9,
   "metadata": {
    "ExecuteTime": {
     "end_time": "2020-12-15T09:30:49.550482Z",
     "start_time": "2020-12-15T09:30:48.441726Z"
    }
   },
   "outputs": [
    {
     "name": "stdout",
     "output_type": "stream",
     "text": [
      "Scaling...\n",
      " A: min|aij| =  1.000e+00  max|aij| =  1.000e+00  ratio =  1.000e+00\n",
      "Problem data seem to be well scaled\n"
     ]
    }
   ],
   "source": [
    "model = cobra.io.read_sbml_model(model_fpath)"
   ]
  },
  {
   "cell_type": "raw",
   "metadata": {},
   "source": [
    "# fails with error! \n",
    "model.solver = 'gurobi'\n"
   ]
  },
  {
   "cell_type": "code",
   "execution_count": 10,
   "metadata": {},
   "outputs": [],
   "source": [
    "# manipulations copied from Ofaim at el.\n",
    "\n",
    "remove_blocked = False\n",
    "\n",
    "# Block H2S\n",
    "model.reactions.H2SEX.lower_bound = 0\n",
    "\n",
    "# Block fake transports\n",
    "for rid in FAKE_TRANSPORT:\n",
    "    model.reactions.get_by_id(rid).bounds = (0,0)\n",
    "\n",
    "# Remove blocked reactions\n",
    "if remove_blocked:\n",
    "    blocked = cobra.flux_analysis.find_blocked_reactions(model, open_exchanges = True)\n",
    "    print('blocked', len(blocked), blocked)\n",
    "    model.remove_reactions([model.reactions.get_by_id(r_id) for r_id in blocked])\n",
    "\n",
    "# Block maximum CO2 production\n",
    "model.reactions.CO2EX.bounds = (0, CO2MAX)\n",
    "\n",
    "for i, row in enumerate(PARAMETER_VALUES):\n",
    "    # Row: Name, Reaction ID, lower bound, upper bound\n",
    "    key = row[0]\n",
    "    reaction_id = row[1]\n",
    "    lower_bound = row[2]\n",
    "    upper_bound = row[3]\n",
    "    r = model.reactions.get_by_id(reaction_id)\n",
    "    # Fix flux\n",
    "    r.bounds = (lower_bound, upper_bound)"
   ]
  },
  {
   "cell_type": "code",
   "execution_count": 11,
   "metadata": {},
   "outputs": [],
   "source": [
    "exchange_ids = [r.id for r in model.exchanges] # + [\"R00024\"]"
   ]
  },
  {
   "cell_type": "code",
   "execution_count": 12,
   "metadata": {},
   "outputs": [
    {
     "name": "stdout",
     "output_type": "stream",
     "text": [
      "reactions 994\n",
      "metabolites 802\n",
      "genes 595\n"
     ]
    }
   ],
   "source": [
    "print('reactions', len(model.reactions))\n",
    "print('metabolites', len(model.metabolites))\n",
    "print('genes', len(model.genes))"
   ]
  },
  {
   "cell_type": "code",
   "execution_count": 13,
   "metadata": {},
   "outputs": [
    {
     "data": {
      "text/html": [
       "\n",
       "        <table>\n",
       "            <tr>\n",
       "                <td><strong>Name</strong></td>\n",
       "                <td>COBRAModel</td>\n",
       "            </tr><tr>\n",
       "                <td><strong>Memory address</strong></td>\n",
       "                <td>0x07fc706b40940</td>\n",
       "            </tr><tr>\n",
       "                <td><strong>Number of metabolites</strong></td>\n",
       "                <td>802</td>\n",
       "            </tr><tr>\n",
       "                <td><strong>Number of reactions</strong></td>\n",
       "                <td>994</td>\n",
       "            </tr><tr>\n",
       "                <td><strong>Number of groups</strong></td>\n",
       "                <td>55</td>\n",
       "            </tr><tr>\n",
       "                <td><strong>Objective expression</strong></td>\n",
       "                <td>1.0*BIOMASS - 1.0*BIOMASS_reverse_69053</td>\n",
       "            </tr><tr>\n",
       "                <td><strong>Compartments</strong></td>\n",
       "                <td>Cytoplasm, Extracellular, unknownCompartment2, Periplasm, unknownCompartment5</td>\n",
       "            </tr>\n",
       "          </table>"
      ],
      "text/plain": [
       "<Model COBRAModel at 0x7fc706b40940>"
      ]
     },
     "execution_count": 13,
     "metadata": {},
     "output_type": "execute_result"
    }
   ],
   "source": [
    "model"
   ]
  },
  {
   "cell_type": "code",
   "execution_count": 14,
   "metadata": {},
   "outputs": [
    {
     "data": {
      "text/html": [
       "\n",
       "        <table>\n",
       "            <tr>\n",
       "                <td><strong>Metabolite identifier</strong></td><td>Carbamate[c]</td>\n",
       "            </tr><tr>\n",
       "                <td><strong>Name</strong></td><td>Carbamate</td>\n",
       "            </tr><tr>\n",
       "                <td><strong>Memory address</strong></td>\n",
       "                <td>0x7fc706b017c0</td>\n",
       "            </tr><tr>\n",
       "                <td><strong>Formula</strong></td><td>CH3NO2</td>\n",
       "            </tr><tr>\n",
       "                <td><strong>Compartment</strong></td><td>c</td>\n",
       "            </tr><tr>\n",
       "                <td><strong>In 4 reaction(s)</strong></td><td>\n",
       "                    R01395, R03546, R07316, R10949\n",
       "                    </td>\n",
       "            </tr>\n",
       "        </table>"
      ],
      "text/plain": [
       "<Metabolite Carbamate[c] at 0x7fc706b017c0>"
      ]
     },
     "execution_count": 14,
     "metadata": {},
     "output_type": "execute_result"
    }
   ],
   "source": [
    "model.metabolites.get_by_id('Carbamate[c]')"
   ]
  },
  {
   "cell_type": "code",
   "execution_count": 15,
   "metadata": {},
   "outputs": [
    {
     "data": {
      "text/html": [
       "\n",
       "<table>\n",
       "  <thead>\n",
       "    <tr>\n",
       "      <td><strong>Attribute</strong></td>\n",
       "      <td><strong>Description</strong></td>\n",
       "      <td><strong>Value</strong></td>\n",
       "    </tr>\n",
       "  </thead>\n",
       "  <tbody>\n",
       "    <tr>\n",
       "      <td><pre>solver</pre></td>\n",
       "      <td>Mathematical optimization solver</td>\n",
       "      <td>glpk</td>\n",
       "    </tr>\n",
       "    <tr>\n",
       "        <td><pre>tolerance</pre></td>\n",
       "        <td>General solver tolerance (feasibility, integrality, etc.)</td>\n",
       "        <td>1e-07</td>\n",
       "    </tr>\n",
       "    <tr>\n",
       "        <td><pre>lower_bound</pre></td>\n",
       "        <td>Default reaction lower bound</td>\n",
       "        <td>-1000.0</td>\n",
       "    </tr>\n",
       "    <tr>\n",
       "        <td><pre>upper_bound</pre></td>\n",
       "        <td>Default reaction upper bound</td>\n",
       "        <td>1000.0</td>\n",
       "    </tr>\n",
       "    <tr>\n",
       "        <td><pre>processes</pre></td>\n",
       "        <td>Number of parallel processes</td>\n",
       "        <td>11</td>\n",
       "    </tr>\n",
       "    <tr>\n",
       "        <td><pre>cache_directory</pre></td>\n",
       "        <td>Path for the model cache</td>\n",
       "        <td>/home/oweissberg/.cache/cobrapy</td>\n",
       "    </tr>\n",
       "    <tr>\n",
       "        <td><pre>max_cache_size</pre></td>\n",
       "        <td>Maximum cache size in bytes</td>\n",
       "        <td>104857600</td>\n",
       "    </tr>\n",
       "    <tr>\n",
       "        <td><pre>cache_expiration</pre></td>\n",
       "        <td>Model cache expiration time in seconds (if any)</td>\n",
       "        <td>None</td>\n",
       "    </tr>\n",
       "  </tbody>\n",
       "</table>\n"
      ],
      "text/plain": [
       "\n",
       "solver: glpk\n",
       "tolerance: 1e-07\n",
       "lower_bound: -1000.0\n",
       "upper_bound: 1000.0\n",
       "processes: 11\n",
       "cache_directory: /home/oweissberg/.cache/cobrapy\n",
       "max_cache_size: 104857600\n",
       "cache_expiration: None"
      ]
     },
     "execution_count": 15,
     "metadata": {},
     "output_type": "execute_result"
    }
   ],
   "source": [
    "cobra.Configuration()"
   ]
  },
  {
   "cell_type": "code",
   "execution_count": 19,
   "metadata": {},
   "outputs": [
    {
     "data": {
      "text/html": [
       "\n",
       "        <table>\n",
       "            <tr>\n",
       "                <td><strong>Reaction identifier</strong></td><td>BIOMASS</td>\n",
       "            </tr><tr>\n",
       "                <td><strong>Name</strong></td><td>Biomass formation</td>\n",
       "            </tr><tr>\n",
       "                <td><strong>Memory address</strong></td>\n",
       "                <td>0x7f1e197d0e50</td>\n",
       "            </tr><tr>\n",
       "                <td><strong>Stoichiometry</strong></td>\n",
       "                <td>\n",
       "                    <p style='text-align:right'>104.0 ATP[c] + 0.0324116276714271 BioPool[c] + 0.0268408791654006 Bmineral[c] + 0.0559910868023904 Cell_wall[c] + 0.00111921401802897 Free_nucleic_acids[c] + 104.0 H2O[c] + 0.649245416793275...</p>\n",
       "                    <p style='text-align:right'>104.0 ATP + 0.0324116276714271 BioPool + 0.0268408791654006 Trace metals and minerals + 0.0559910868023904 Cell wall Biomass precursor + 0.00111921401802897 Free nucleic acids + 104.0 H2O +...</p>\n",
       "                </td>\n",
       "            </tr><tr>\n",
       "                <td><strong>GPR</strong></td><td></td>\n",
       "            </tr><tr>\n",
       "                <td><strong>Lower bound</strong></td><td>0.0</td>\n",
       "            </tr><tr>\n",
       "                <td><strong>Upper bound</strong></td><td>1000.0</td>\n",
       "            </tr>\n",
       "        </table>\n",
       "        "
      ],
      "text/plain": [
       "<Reaction BIOMASS at 0x7f1e197d0e50>"
      ]
     },
     "execution_count": 19,
     "metadata": {},
     "output_type": "execute_result"
    }
   ],
   "source": [
    "model.reactions.get_by_id('BIOMASS')"
   ]
  },
  {
   "cell_type": "markdown",
   "metadata": {},
   "source": [
    "# Compare exchange reactions/metabolites of the two models"
   ]
  },
  {
   "cell_type": "code",
   "execution_count": 69,
   "metadata": {},
   "outputs": [],
   "source": [
    "exchange_ids = [r.id for r in model.exchanges] \n",
    "pro_med_df = pd.DataFrame({'mediumExchange' : exchange_ids})\n",
    "pro_med_df = pro_med_df.mediumExchange.apply(get_elements)\n"
   ]
  },
  {
   "cell_type": "code",
   "execution_count": 72,
   "metadata": {},
   "outputs": [],
   "source": [
    "#pro_df = pd.read_excel('PRO_N_sources.xlsx', sheet_name='secretion')\n",
    "alt_dpath = '../../HOT1A3-model/N_Starvation/'\n",
    "alt_med_df = pd.read_excel(os.path.join(alt_dpath, 'HOT1A3_medium.xlsx'))\n"
   ]
  },
  {
   "cell_type": "code",
   "execution_count": 70,
   "metadata": {},
   "outputs": [
    {
     "data": {
      "text/html": [
       "<div>\n",
       "<style scoped>\n",
       "    .dataframe tbody tr th:only-of-type {\n",
       "        vertical-align: middle;\n",
       "    }\n",
       "\n",
       "    .dataframe tbody tr th {\n",
       "        vertical-align: top;\n",
       "    }\n",
       "\n",
       "    .dataframe thead th {\n",
       "        text-align: right;\n",
       "    }\n",
       "</style>\n",
       "<table border=\"1\" class=\"dataframe\">\n",
       "  <thead>\n",
       "    <tr style=\"text-align: right;\">\n",
       "      <th></th>\n",
       "      <th>reaction</th>\n",
       "      <th>metabolite</th>\n",
       "      <th>N</th>\n",
       "      <th>C</th>\n",
       "    </tr>\n",
       "  </thead>\n",
       "  <tbody>\n",
       "    <tr>\n",
       "      <th>0</th>\n",
       "      <td>AminosugarsEX</td>\n",
       "      <td>Amino sugars pool</td>\n",
       "      <td>False</td>\n",
       "      <td>False</td>\n",
       "    </tr>\n",
       "    <tr>\n",
       "      <th>1</th>\n",
       "      <td>FAKEAAEX</td>\n",
       "      <td>amino_acid_pool_e</td>\n",
       "      <td>False</td>\n",
       "      <td>False</td>\n",
       "    </tr>\n",
       "    <tr>\n",
       "      <th>2</th>\n",
       "      <td>FAKEABPEX</td>\n",
       "      <td>Adenosine 3_5-bisphosphate</td>\n",
       "      <td>True</td>\n",
       "      <td>True</td>\n",
       "    </tr>\n",
       "    <tr>\n",
       "      <th>3</th>\n",
       "      <td>FAKEacpEX</td>\n",
       "      <td>Acyl-carrier protein</td>\n",
       "      <td>False</td>\n",
       "      <td>False</td>\n",
       "    </tr>\n",
       "    <tr>\n",
       "      <th>4</th>\n",
       "      <td>FAKEApoacpEX</td>\n",
       "      <td>Apo-(acyl-carrier-protein)</td>\n",
       "      <td>False</td>\n",
       "      <td>False</td>\n",
       "    </tr>\n",
       "  </tbody>\n",
       "</table>\n",
       "</div>"
      ],
      "text/plain": [
       "        reaction                  metabolite      N      C\n",
       "0  AminosugarsEX           Amino sugars pool  False  False\n",
       "1       FAKEAAEX           amino_acid_pool_e  False  False\n",
       "2      FAKEABPEX  Adenosine 3_5-bisphosphate   True   True\n",
       "3      FAKEacpEX        Acyl-carrier protein  False  False\n",
       "4   FAKEApoacpEX  Apo-(acyl-carrier-protein)  False  False"
      ]
     },
     "execution_count": 70,
     "metadata": {},
     "output_type": "execute_result"
    }
   ],
   "source": [
    "pro_med_df.head()"
   ]
  },
  {
   "cell_type": "code",
   "execution_count": 73,
   "metadata": {},
   "outputs": [
    {
     "data": {
      "text/html": [
       "<div>\n",
       "<style scoped>\n",
       "    .dataframe tbody tr th:only-of-type {\n",
       "        vertical-align: middle;\n",
       "    }\n",
       "\n",
       "    .dataframe tbody tr th {\n",
       "        vertical-align: top;\n",
       "    }\n",
       "\n",
       "    .dataframe thead th {\n",
       "        text-align: right;\n",
       "    }\n",
       "</style>\n",
       "<table border=\"1\" class=\"dataframe\">\n",
       "  <thead>\n",
       "    <tr style=\"text-align: right;\">\n",
       "      <th></th>\n",
       "      <th>reaction</th>\n",
       "      <th>metabolite</th>\n",
       "      <th>N</th>\n",
       "      <th>C</th>\n",
       "      <th>pro99</th>\n",
       "      <th>MED4 metabolite</th>\n",
       "      <th>promm</th>\n",
       "    </tr>\n",
       "  </thead>\n",
       "  <tbody>\n",
       "    <tr>\n",
       "      <th>0</th>\n",
       "      <td>EX_actn__R_e</td>\n",
       "      <td>R  Acetoin C4H8O2</td>\n",
       "      <td>False</td>\n",
       "      <td>True</td>\n",
       "      <td>NaN</td>\n",
       "      <td>NaN</td>\n",
       "      <td>NaN</td>\n",
       "    </tr>\n",
       "    <tr>\n",
       "      <th>1</th>\n",
       "      <td>EX_bhb_e</td>\n",
       "      <td>(R)-3-Hydroxybutanoate</td>\n",
       "      <td>False</td>\n",
       "      <td>True</td>\n",
       "      <td>NaN</td>\n",
       "      <td>NaN</td>\n",
       "      <td>NaN</td>\n",
       "    </tr>\n",
       "    <tr>\n",
       "      <th>2</th>\n",
       "      <td>EX_12ppd__R_e</td>\n",
       "      <td>(R)-Propane-1,2-diol</td>\n",
       "      <td>False</td>\n",
       "      <td>True</td>\n",
       "      <td>NaN</td>\n",
       "      <td>NaN</td>\n",
       "      <td>NaN</td>\n",
       "    </tr>\n",
       "    <tr>\n",
       "      <th>3</th>\n",
       "      <td>EX_12ppd__S_e</td>\n",
       "      <td>(S)-Propane-1,2-diol</td>\n",
       "      <td>False</td>\n",
       "      <td>True</td>\n",
       "      <td>NaN</td>\n",
       "      <td>NaN</td>\n",
       "      <td>NaN</td>\n",
       "    </tr>\n",
       "    <tr>\n",
       "      <th>4</th>\n",
       "      <td>EX_phedca_e</td>\n",
       "      <td>10 Phenyldecanoic acid</td>\n",
       "      <td>False</td>\n",
       "      <td>True</td>\n",
       "      <td>NaN</td>\n",
       "      <td>NaN</td>\n",
       "      <td>NaN</td>\n",
       "    </tr>\n",
       "  </tbody>\n",
       "</table>\n",
       "</div>"
      ],
      "text/plain": [
       "        reaction              metabolite      N     C pro99 MED4 metabolite  \\\n",
       "0   EX_actn__R_e       R  Acetoin C4H8O2  False  True   NaN             NaN   \n",
       "1       EX_bhb_e  (R)-3-Hydroxybutanoate  False  True   NaN             NaN   \n",
       "2  EX_12ppd__R_e    (R)-Propane-1,2-diol  False  True   NaN             NaN   \n",
       "3  EX_12ppd__S_e    (S)-Propane-1,2-diol  False  True   NaN             NaN   \n",
       "4    EX_phedca_e  10 Phenyldecanoic acid  False  True   NaN             NaN   \n",
       "\n",
       "  promm  \n",
       "0   NaN  \n",
       "1   NaN  \n",
       "2   NaN  \n",
       "3   NaN  \n",
       "4   NaN  "
      ]
     },
     "execution_count": 73,
     "metadata": {},
     "output_type": "execute_result"
    }
   ],
   "source": [
    "alt_med_df.head()"
   ]
  },
  {
   "cell_type": "code",
   "execution_count": 120,
   "metadata": {},
   "outputs": [
    {
     "data": {
      "text/plain": [
       "array([['Calcium', 'Ca2+'],\n",
       "       ['Chloride', 'Cl-'],\n",
       "       ['CO2 CO2', 'HCO3-'],\n",
       "       ['Co2+', 'Cobalt ion'],\n",
       "       ['Fe2+ mitochondria', 'Fe2+'],\n",
       "       ['H2O H2O', 'H2O'],\n",
       "       ['Potassium', 'K+'],\n",
       "       ['Magnesium', 'Magnesium cation'],\n",
       "       ['Molybdate', 'Molybdenum'],\n",
       "       ['Ammonium', 'Ammonia'],\n",
       "       ['O2 O2', 'O2'],\n",
       "       ['Manganese', nan],\n",
       "       ['Phosphate', 'Orthophosphate'],\n",
       "       ['Zinc', 'Zn2+']], dtype=object)"
      ]
     },
     "execution_count": 120,
     "metadata": {},
     "output_type": "execute_result"
    }
   ],
   "source": [
    "alt_med_df.loc[(~alt_med_df.pro99.isna()) & \n",
    "               (alt_med_df.metabolite != alt_med_df['MED4 metabolite']), #&\n",
    "               #(alt_med_df.metabolite_common != alt_med_df['MED4 metabolite']),\n",
    "               ['metabolite','MED4 metabolite']\n",
    "               \n",
    "              ].values"
   ]
  },
  {
   "cell_type": "code",
   "execution_count": 122,
   "metadata": {},
   "outputs": [],
   "source": [
    "pro_med_df['metabolite_common'] = pro_med_df['metabolite']\n",
    "alt_med_df['metabolite_common'] = alt_med_df['metabolite']"
   ]
  },
  {
   "cell_type": "code",
   "execution_count": 123,
   "metadata": {},
   "outputs": [],
   "source": [
    "pro_med_df['metabolite_common'] = pro_med_df['metabolite_common'].str.replace('[e]','', regex=False)\n",
    "alt_med_df['metabolite_common'] = alt_med_df['metabolite_common'].str.replace('[e]','', regex=False)\n",
    "pro_med_df['metabolite_common'] = pro_med_df['metabolite_common'].str.replace('Urea CH4N2O','Urea', regex=False)\n",
    "alt_med_df['metabolite_common'] = alt_med_df['metabolite_common'].str.replace('Urea CH4N2O','Urea', regex=False)\n"
   ]
  },
  {
   "cell_type": "code",
   "execution_count": 124,
   "metadata": {},
   "outputs": [],
   "source": [
    "mapping_exchanges = [\n",
    "    ('Ca2+','Calcium'),\n",
    "    ('Fe2+ mitochondria','Fe2+'),\n",
    "    ('CO','Carbon monoxide'),\n",
    "    ('CO2 CO2','CO2'),\n",
    "    ('Cl-','Chloride'),\n",
    "    ('Co2+','Cobalt ion'),\n",
    "    #['CO2 CO2', 'HCO3-'],\n",
    "    ('H2O H2O', 'H2O'),\n",
    "    ('K+', 'Potassium',) ,\n",
    "    ('Magnesium', 'Magnesium cation'),\n",
    "    ('Molybdate', 'Molybdate/Molybdenum'),\n",
    "    ('Molybdenum', 'Molybdate/Molybdenum'),\n",
    "    ('Ammonium', 'Ammonium/Ammonia'),\n",
    "    ('Ammonia', 'Ammonium/Ammonia'),\n",
    "    ('O2 O2', 'O2'),\n",
    "    ('Phosphate', 'Orthophosphate'),\n",
    "    ('Zinc', 'Zn2+'),\n",
    "    ('S_Malate', 'S_Malate/L-Malate'),\n",
    "    ('L-Malate', 'S_Malate/L-Malate'),\n",
    "\n",
    "\n",
    "]\n",
    "\n",
    "for i, j in mapping_exchanges:\n",
    "    pro_med_df.loc[pro_med_df['metabolite_common'].isin([i]), 'metabolite_common'] = j\n",
    "    alt_med_df.loc[alt_med_df['metabolite_common'].isin([i]), 'metabolite_common'] = j\n",
    "    "
   ]
  },
  {
   "cell_type": "code",
   "execution_count": 125,
   "metadata": {},
   "outputs": [],
   "source": [
    "exchange_df = pd.merge(pro_med_df, alt_med_df, on='metabolite_common', how='outer', suffixes=['_pro', '_alt'])"
   ]
  },
  {
   "cell_type": "code",
   "execution_count": 126,
   "metadata": {},
   "outputs": [
    {
     "data": {
      "text/plain": [
       "ALT only    192\n",
       "mapped       59\n",
       "PRO only     42\n",
       "Name: map_status, dtype: int64"
      ]
     },
     "execution_count": 126,
     "metadata": {},
     "output_type": "execute_result"
    }
   ],
   "source": [
    "exchange_df['map_status'] = 'mapped'\n",
    "exchange_df.loc[exchange_df.metabolite_alt.isna(), 'map_status'] = 'PRO only'\n",
    "exchange_df.loc[exchange_df.metabolite_pro.isna(), 'map_status'] = 'ALT only'\n",
    "exchange_df.map_status.value_counts()"
   ]
  },
  {
   "cell_type": "code",
   "execution_count": 127,
   "metadata": {},
   "outputs": [
    {
     "data": {
      "text/plain": [
       "reaction_pro         192\n",
       "metabolite_pro       192\n",
       "N_pro                192\n",
       "C_pro                192\n",
       "metabolite_common      0\n",
       "reaction_alt          42\n",
       "metabolite_alt        42\n",
       "N_alt                 42\n",
       "C_alt                 42\n",
       "pro99                274\n",
       "MED4 metabolite      275\n",
       "promm                284\n",
       "map_status             0\n",
       "dtype: int64"
      ]
     },
     "execution_count": 127,
     "metadata": {},
     "output_type": "execute_result"
    }
   ],
   "source": [
    "exchange_df.isna().sum()"
   ]
  },
  {
   "cell_type": "code",
   "execution_count": 128,
   "metadata": {},
   "outputs": [],
   "source": [
    "exchange_df[['metabolite_common','metabolite_pro', 'metabolite_alt', 'map_status', 'reaction_pro', 'reaction_alt']].to_excel('common_exchange.xlsx')"
   ]
  },
  {
   "cell_type": "markdown",
   "metadata": {},
   "source": [
    "# Look for potential cross feeding"
   ]
  },
  {
   "cell_type": "code",
   "execution_count": 163,
   "metadata": {},
   "outputs": [
    {
     "data": {
      "text/html": [
       "<div>\n",
       "<style scoped>\n",
       "    .dataframe tbody tr th:only-of-type {\n",
       "        vertical-align: middle;\n",
       "    }\n",
       "\n",
       "    .dataframe tbody tr th {\n",
       "        vertical-align: top;\n",
       "    }\n",
       "\n",
       "    .dataframe thead th {\n",
       "        text-align: right;\n",
       "    }\n",
       "</style>\n",
       "<table border=\"1\" class=\"dataframe\">\n",
       "  <thead>\n",
       "    <tr style=\"text-align: right;\">\n",
       "      <th></th>\n",
       "      <th>Unnamed: 0</th>\n",
       "      <th>uptake</th>\n",
       "      <th>objective_value</th>\n",
       "      <th>reaction</th>\n",
       "      <th>metabolite</th>\n",
       "      <th>N</th>\n",
       "      <th>C</th>\n",
       "    </tr>\n",
       "  </thead>\n",
       "  <tbody>\n",
       "    <tr>\n",
       "      <th>0</th>\n",
       "      <td>0</td>\n",
       "      <td>GuanosineEX</td>\n",
       "      <td>1.239447</td>\n",
       "      <td>GuanosineEX</td>\n",
       "      <td>Guanosine[e]</td>\n",
       "      <td>False</td>\n",
       "      <td>False</td>\n",
       "    </tr>\n",
       "    <tr>\n",
       "      <th>1</th>\n",
       "      <td>1</td>\n",
       "      <td>L_AspartateEX</td>\n",
       "      <td>0.238582</td>\n",
       "      <td>L_AspartateEX</td>\n",
       "      <td>L-Aspartate</td>\n",
       "      <td>True</td>\n",
       "      <td>True</td>\n",
       "    </tr>\n",
       "    <tr>\n",
       "      <th>2</th>\n",
       "      <td>2</td>\n",
       "      <td>GlutathioneEX</td>\n",
       "      <td>0.137239</td>\n",
       "      <td>GlutathioneEX</td>\n",
       "      <td>Glutathione[e]</td>\n",
       "      <td>False</td>\n",
       "      <td>False</td>\n",
       "    </tr>\n",
       "    <tr>\n",
       "      <th>3</th>\n",
       "      <td>3</td>\n",
       "      <td>L_GlutamineEX</td>\n",
       "      <td>0.121923</td>\n",
       "      <td>L_GlutamineEX</td>\n",
       "      <td>L-Glutamine</td>\n",
       "      <td>True</td>\n",
       "      <td>True</td>\n",
       "    </tr>\n",
       "    <tr>\n",
       "      <th>4</th>\n",
       "      <td>4</td>\n",
       "      <td>L_SerineEX</td>\n",
       "      <td>0.118972</td>\n",
       "      <td>L_SerineEX</td>\n",
       "      <td>L-Serine</td>\n",
       "      <td>True</td>\n",
       "      <td>True</td>\n",
       "    </tr>\n",
       "    <tr>\n",
       "      <th>5</th>\n",
       "      <td>5</td>\n",
       "      <td>L_CystineEX</td>\n",
       "      <td>0.116452</td>\n",
       "      <td>L_CystineEX</td>\n",
       "      <td>L-Cystine</td>\n",
       "      <td>True</td>\n",
       "      <td>True</td>\n",
       "    </tr>\n",
       "    <tr>\n",
       "      <th>6</th>\n",
       "      <td>6</td>\n",
       "      <td>L_AlanineEX</td>\n",
       "      <td>0.116452</td>\n",
       "      <td>L_AlanineEX</td>\n",
       "      <td>L-Alanine</td>\n",
       "      <td>True</td>\n",
       "      <td>True</td>\n",
       "    </tr>\n",
       "    <tr>\n",
       "      <th>7</th>\n",
       "      <td>7</td>\n",
       "      <td>L_LeucineEX</td>\n",
       "      <td>0.103996</td>\n",
       "      <td>L_LeucineEX</td>\n",
       "      <td>L-Leucine</td>\n",
       "      <td>True</td>\n",
       "      <td>True</td>\n",
       "    </tr>\n",
       "    <tr>\n",
       "      <th>8</th>\n",
       "      <td>8</td>\n",
       "      <td>GlycineEX</td>\n",
       "      <td>0.101626</td>\n",
       "      <td>GlycineEX</td>\n",
       "      <td>Glycine</td>\n",
       "      <td>True</td>\n",
       "      <td>True</td>\n",
       "    </tr>\n",
       "    <tr>\n",
       "      <th>9</th>\n",
       "      <td>9</td>\n",
       "      <td>UreaEX</td>\n",
       "      <td>0.098462</td>\n",
       "      <td>UreaEX</td>\n",
       "      <td>Urea</td>\n",
       "      <td>True</td>\n",
       "      <td>True</td>\n",
       "    </tr>\n",
       "    <tr>\n",
       "      <th>10</th>\n",
       "      <td>10</td>\n",
       "      <td>AmmoniaEX</td>\n",
       "      <td>0.098462</td>\n",
       "      <td>AmmoniaEX</td>\n",
       "      <td>Ammonia</td>\n",
       "      <td>True</td>\n",
       "      <td>False</td>\n",
       "    </tr>\n",
       "    <tr>\n",
       "      <th>11</th>\n",
       "      <td>11</td>\n",
       "      <td>L_GlutamateEX</td>\n",
       "      <td>0.097261</td>\n",
       "      <td>L_GlutamateEX</td>\n",
       "      <td>L-Glutamate</td>\n",
       "      <td>True</td>\n",
       "      <td>True</td>\n",
       "    </tr>\n",
       "    <tr>\n",
       "      <th>12</th>\n",
       "      <td>12</td>\n",
       "      <td>L_ArginineEX</td>\n",
       "      <td>0.094792</td>\n",
       "      <td>L_ArginineEX</td>\n",
       "      <td>L-Arginine</td>\n",
       "      <td>True</td>\n",
       "      <td>True</td>\n",
       "    </tr>\n",
       "    <tr>\n",
       "      <th>13</th>\n",
       "      <td>13</td>\n",
       "      <td>CyanateEX</td>\n",
       "      <td>0.088173</td>\n",
       "      <td>CyanateEX</td>\n",
       "      <td>Cyanate</td>\n",
       "      <td>True</td>\n",
       "      <td>True</td>\n",
       "    </tr>\n",
       "    <tr>\n",
       "      <th>14</th>\n",
       "      <td>14</td>\n",
       "      <td>L_ValineEX</td>\n",
       "      <td>0.074934</td>\n",
       "      <td>L_ValineEX</td>\n",
       "      <td>L-Valine</td>\n",
       "      <td>True</td>\n",
       "      <td>True</td>\n",
       "    </tr>\n",
       "    <tr>\n",
       "      <th>15</th>\n",
       "      <td>15</td>\n",
       "      <td>GuanineEX</td>\n",
       "      <td>0.052635</td>\n",
       "      <td>GuanineEX</td>\n",
       "      <td>Guanine[e]</td>\n",
       "      <td>False</td>\n",
       "      <td>False</td>\n",
       "    </tr>\n",
       "  </tbody>\n",
       "</table>\n",
       "</div>"
      ],
      "text/plain": [
       "    Unnamed: 0         uptake  objective_value       reaction      metabolite  \\\n",
       "0            0    GuanosineEX         1.239447    GuanosineEX    Guanosine[e]   \n",
       "1            1  L_AspartateEX         0.238582  L_AspartateEX     L-Aspartate   \n",
       "2            2  GlutathioneEX         0.137239  GlutathioneEX  Glutathione[e]   \n",
       "3            3  L_GlutamineEX         0.121923  L_GlutamineEX     L-Glutamine   \n",
       "4            4     L_SerineEX         0.118972     L_SerineEX        L-Serine   \n",
       "5            5    L_CystineEX         0.116452    L_CystineEX       L-Cystine   \n",
       "6            6    L_AlanineEX         0.116452    L_AlanineEX       L-Alanine   \n",
       "7            7    L_LeucineEX         0.103996    L_LeucineEX       L-Leucine   \n",
       "8            8      GlycineEX         0.101626      GlycineEX         Glycine   \n",
       "9            9         UreaEX         0.098462         UreaEX            Urea   \n",
       "10          10      AmmoniaEX         0.098462      AmmoniaEX         Ammonia   \n",
       "11          11  L_GlutamateEX         0.097261  L_GlutamateEX     L-Glutamate   \n",
       "12          12   L_ArginineEX         0.094792   L_ArginineEX      L-Arginine   \n",
       "13          13      CyanateEX         0.088173      CyanateEX         Cyanate   \n",
       "14          14     L_ValineEX         0.074934     L_ValineEX        L-Valine   \n",
       "15          15      GuanineEX         0.052635      GuanineEX      Guanine[e]   \n",
       "\n",
       "        N      C  \n",
       "0   False  False  \n",
       "1    True   True  \n",
       "2   False  False  \n",
       "3    True   True  \n",
       "4    True   True  \n",
       "5    True   True  \n",
       "6    True   True  \n",
       "7    True   True  \n",
       "8    True   True  \n",
       "9    True   True  \n",
       "10   True  False  \n",
       "11   True   True  \n",
       "12   True   True  \n",
       "13   True   True  \n",
       "14   True   True  \n",
       "15  False  False  "
      ]
     },
     "execution_count": 163,
     "metadata": {},
     "output_type": "execute_result"
    }
   ],
   "source": [
    "pd.read_excel('PRO_N_sources.xlsx', sheet_name='uptake')\n"
   ]
  },
  {
   "cell_type": "code",
   "execution_count": 135,
   "metadata": {},
   "outputs": [],
   "source": [
    "pro_df = pd.read_excel('PRO_N_sources.xlsx', sheet_name='secretion')\n",
    "alt_dpath = '../../HOT1A3-model/N_Starvation/'\n",
    "alt_df = pd.read_excel(os.path.join(alt_dpath, 'ALT_N_sources.xlsx'), sheet_name='secretion')\n"
   ]
  },
  {
   "cell_type": "code",
   "execution_count": 136,
   "metadata": {},
   "outputs": [
    {
     "data": {
      "text/html": [
       "<div>\n",
       "<style scoped>\n",
       "    .dataframe tbody tr th:only-of-type {\n",
       "        vertical-align: middle;\n",
       "    }\n",
       "\n",
       "    .dataframe tbody tr th {\n",
       "        vertical-align: top;\n",
       "    }\n",
       "\n",
       "    .dataframe thead th {\n",
       "        text-align: right;\n",
       "    }\n",
       "</style>\n",
       "<table border=\"1\" class=\"dataframe\">\n",
       "  <thead>\n",
       "    <tr style=\"text-align: right;\">\n",
       "      <th></th>\n",
       "      <th>Unnamed: 0</th>\n",
       "      <th>secretion</th>\n",
       "      <th>minimum</th>\n",
       "      <th>maximum</th>\n",
       "      <th>uptake</th>\n",
       "      <th>metabolite_uptake</th>\n",
       "      <th>N_uptake</th>\n",
       "      <th>C_uptake</th>\n",
       "      <th>metabolite_secretion</th>\n",
       "      <th>N_secretion</th>\n",
       "      <th>C_secretion</th>\n",
       "    </tr>\n",
       "  </thead>\n",
       "  <tbody>\n",
       "    <tr>\n",
       "      <th>0</th>\n",
       "      <td>0</td>\n",
       "      <td>sink_2ohph_c</td>\n",
       "      <td>0.0</td>\n",
       "      <td>74.900799</td>\n",
       "      <td>EX_g3ps_e</td>\n",
       "      <td>Glycerophosphoserine</td>\n",
       "      <td>True</td>\n",
       "      <td>True</td>\n",
       "      <td>2-Octaprenyl-6-hydroxyphenol</td>\n",
       "      <td>False</td>\n",
       "      <td>True</td>\n",
       "    </tr>\n",
       "    <tr>\n",
       "      <th>1</th>\n",
       "      <td>1</td>\n",
       "      <td>sink_4crsol_c</td>\n",
       "      <td>0.0</td>\n",
       "      <td>261.202802</td>\n",
       "      <td>EX_g3ps_e</td>\n",
       "      <td>Glycerophosphoserine</td>\n",
       "      <td>True</td>\n",
       "      <td>True</td>\n",
       "      <td>P-Cresol</td>\n",
       "      <td>False</td>\n",
       "      <td>True</td>\n",
       "    </tr>\n",
       "    <tr>\n",
       "      <th>2</th>\n",
       "      <td>2</td>\n",
       "      <td>sink_4hba_c</td>\n",
       "      <td>0.0</td>\n",
       "      <td>465.914339</td>\n",
       "      <td>EX_g3ps_e</td>\n",
       "      <td>Glycerophosphoserine</td>\n",
       "      <td>True</td>\n",
       "      <td>True</td>\n",
       "      <td>4-Hydroxy-benzyl alcohol</td>\n",
       "      <td>False</td>\n",
       "      <td>True</td>\n",
       "    </tr>\n",
       "    <tr>\n",
       "      <th>3</th>\n",
       "      <td>4</td>\n",
       "      <td>sink_hemeO_c</td>\n",
       "      <td>0.0</td>\n",
       "      <td>69.879628</td>\n",
       "      <td>EX_g3ps_e</td>\n",
       "      <td>Glycerophosphoserine</td>\n",
       "      <td>True</td>\n",
       "      <td>True</td>\n",
       "      <td>Heme O C49H56FeN4O5</td>\n",
       "      <td>True</td>\n",
       "      <td>True</td>\n",
       "    </tr>\n",
       "    <tr>\n",
       "      <th>4</th>\n",
       "      <td>5</td>\n",
       "      <td>sink_mobd_c</td>\n",
       "      <td>0.0</td>\n",
       "      <td>1000.000000</td>\n",
       "      <td>EX_g3ps_e</td>\n",
       "      <td>Glycerophosphoserine</td>\n",
       "      <td>True</td>\n",
       "      <td>True</td>\n",
       "      <td>Molybdate</td>\n",
       "      <td>False</td>\n",
       "      <td>False</td>\n",
       "    </tr>\n",
       "  </tbody>\n",
       "</table>\n",
       "</div>"
      ],
      "text/plain": [
       "   Unnamed: 0      secretion  minimum      maximum     uptake  \\\n",
       "0           0   sink_2ohph_c      0.0    74.900799  EX_g3ps_e   \n",
       "1           1  sink_4crsol_c      0.0   261.202802  EX_g3ps_e   \n",
       "2           2    sink_4hba_c      0.0   465.914339  EX_g3ps_e   \n",
       "3           4   sink_hemeO_c      0.0    69.879628  EX_g3ps_e   \n",
       "4           5    sink_mobd_c      0.0  1000.000000  EX_g3ps_e   \n",
       "\n",
       "      metabolite_uptake  N_uptake  C_uptake          metabolite_secretion  \\\n",
       "0  Glycerophosphoserine      True      True  2-Octaprenyl-6-hydroxyphenol   \n",
       "1  Glycerophosphoserine      True      True                      P-Cresol   \n",
       "2  Glycerophosphoserine      True      True      4-Hydroxy-benzyl alcohol   \n",
       "3  Glycerophosphoserine      True      True           Heme O C49H56FeN4O5   \n",
       "4  Glycerophosphoserine      True      True                     Molybdate   \n",
       "\n",
       "   N_secretion  C_secretion  \n",
       "0        False         True  \n",
       "1        False         True  \n",
       "2        False         True  \n",
       "3         True         True  \n",
       "4        False        False  "
      ]
     },
     "execution_count": 136,
     "metadata": {},
     "output_type": "execute_result"
    }
   ],
   "source": [
    "alt_df.head()"
   ]
  },
  {
   "cell_type": "code",
   "execution_count": 137,
   "metadata": {},
   "outputs": [],
   "source": []
  },
  {
   "cell_type": "code",
   "execution_count": 153,
   "metadata": {},
   "outputs": [],
   "source": [
    "p_map = pro_med_df['metabolite_common']\n",
    "p_map.index = pro_med_df['metabolite']\n",
    "pro_df['metabolite1_uptake'] = pro_df.metabolite_uptake.replace(p_map)\n",
    "pro_df['metabolite1_secretion'] = pro_df.metabolite_secretion.replace(p_map)\n"
   ]
  },
  {
   "cell_type": "code",
   "execution_count": 154,
   "metadata": {},
   "outputs": [],
   "source": [
    "a_map = alt_med_df['metabolite_common']\n",
    "a_map.index = alt_med_df['metabolite']\n",
    "alt_df['metabolite1_uptake'] = alt_df.metabolite_uptake.replace(a_map)\n",
    "alt_df['metabolite1_secretion'] = alt_df.metabolite_secretion.replace(a_map)\n"
   ]
  },
  {
   "cell_type": "code",
   "execution_count": 155,
   "metadata": {},
   "outputs": [],
   "source": [
    "alt_uptake = set(alt_df.metabolite1_uptake.unique())\n",
    "pro_uptake = set(pro_df.metabolite1_uptake.unique())\n",
    "alt_secretion = set(alt_df.metabolite1_secretion.unique())\n",
    "pro_secretion = set(pro_df.metabolite1_secretion.unique())\n"
   ]
  },
  {
   "cell_type": "code",
   "execution_count": 161,
   "metadata": {},
   "outputs": [
    {
     "data": {
      "text/plain": [
       "'Putrescine, L-Valine, L-Lysine, Guanine, L-Asparagine, Glycine, L-Histidine, L-Phenylalanine, L-Glutamate, L-Alanine, L-Aspartate, L-Serine, L-Glutamine, Xanthosine, Guanosine, L-Proline, Adenine, L-Threonine, L-Isoleucine, L-Tyrosine, L-Arginine, L-Leucine'"
      ]
     },
     "execution_count": 161,
     "metadata": {},
     "output_type": "execute_result"
    }
   ],
   "source": [
    "', '.join(alt_uptake & pro_secretion)"
   ]
  },
  {
   "cell_type": "code",
   "execution_count": 162,
   "metadata": {},
   "outputs": [
    {
     "data": {
      "text/plain": [
       "'L-Valine, Urea, Ammonium/Ammonia, Guanine'"
      ]
     },
     "execution_count": 162,
     "metadata": {},
     "output_type": "execute_result"
    }
   ],
   "source": [
    "', '.join(pro_uptake & alt_secretion)"
   ]
  },
  {
   "cell_type": "code",
   "execution_count": 158,
   "metadata": {
    "scrolled": false
   },
   "outputs": [
    {
     "data": {
      "text/plain": [
       "{'(R)-Propane-1,2-diol',\n",
       " '(S)-Propane-1,2-diol',\n",
       " '2-Aminoethylphosphonate',\n",
       " '2-Octaprenyl-6-hydroxyphenol',\n",
       " '4-Aminobutanoate',\n",
       " '4-Hydroxy-benzyl alcohol',\n",
       " '4-Hydroxybenzaldehyde',\n",
       " '4-Hydroxybenzoate',\n",
       " '4_Aminobenzoate',\n",
       " '4_Methyl_2_oxopentanoate',\n",
       " \"5'-deoxyribose\",\n",
       " '5_Methylthioadenosine',\n",
       " 'Acetaldehyde',\n",
       " 'Acetate',\n",
       " 'Adenine',\n",
       " 'Adenosine',\n",
       " 'Ala L asp L C7H11N2O5',\n",
       " 'Ala L glu L C8H13N2O5',\n",
       " 'Ala-Gln',\n",
       " 'Ala-His',\n",
       " 'Ala-L-Thr-L',\n",
       " 'Ala-Leu',\n",
       " 'Allantoin',\n",
       " 'Ammonium/Ammonia',\n",
       " 'Benzoate',\n",
       " 'Biotin',\n",
       " 'Cellobiose',\n",
       " 'Choline C5H14NO',\n",
       " 'Citrate',\n",
       " 'Cobamide coenzyme',\n",
       " 'Cyanate',\n",
       " 'Cys Gly C5H10N2O3S',\n",
       " 'Cytidine',\n",
       " 'Cytosine',\n",
       " 'D-Alanine',\n",
       " 'D-Alanyl-D-alanine',\n",
       " 'D-Glucose',\n",
       " 'D-Glyceraldehyde',\n",
       " 'D-Ribose',\n",
       " 'D-Serine',\n",
       " 'Dethiobiotin',\n",
       " 'Ethanol',\n",
       " 'Ethanolamine',\n",
       " 'Formaldehyde',\n",
       " 'Formate',\n",
       " 'Fumarate',\n",
       " 'Glutathione',\n",
       " 'Gly asn L C6H11N3O4',\n",
       " 'Gly asp L C6H9N2O5',\n",
       " 'Gly glu L C7H11N2O5',\n",
       " 'Gly pro L C7H12N2O3',\n",
       " 'Gly-Cys',\n",
       " 'Gly-Gln',\n",
       " 'Gly-Leu',\n",
       " 'Gly-Phe',\n",
       " 'Gly-Tyr',\n",
       " 'Glycerol',\n",
       " 'Glycerophosphoserine',\n",
       " 'Glycine',\n",
       " 'Glycine betaine',\n",
       " 'Glycine-glycine-glutamine tripeptide',\n",
       " 'Glycogen',\n",
       " 'Glycolate',\n",
       " 'Glycylglycine C4H8N2O3',\n",
       " 'Glycylphenylalanine',\n",
       " 'Guanine',\n",
       " 'Guanosine',\n",
       " 'Heme O C49H56FeN4O5',\n",
       " 'Hydrogen peroxide',\n",
       " 'Hydrogen sulfide',\n",
       " 'Hypoxanthine',\n",
       " 'Indole',\n",
       " 'Inosine',\n",
       " 'L alaninylhistidine',\n",
       " 'L alaninylleucine',\n",
       " 'L alaninylthreonine',\n",
       " 'L glycinylglutamate',\n",
       " 'L glycinylglutamine',\n",
       " 'L glycinylserine',\n",
       " 'L histidinylglycine',\n",
       " 'L histidinylhistidine',\n",
       " 'L-Alanine',\n",
       " 'L-Arginine',\n",
       " 'L-Asparagine',\n",
       " 'L-Aspartate',\n",
       " 'L-Carnitine',\n",
       " 'L-Cysteine',\n",
       " 'L-Cystine',\n",
       " 'L-Glutamate',\n",
       " 'L-Glutamine',\n",
       " 'L-Histidine',\n",
       " 'L-Isoleucine',\n",
       " 'L-Leucine',\n",
       " 'L-Lysine',\n",
       " 'L-Methionine',\n",
       " 'L-Phenylalanine',\n",
       " 'L-Proline',\n",
       " 'L-Prolinylglycine',\n",
       " 'L-Serine',\n",
       " 'L-Threonine',\n",
       " 'L-Tryptophan',\n",
       " 'L-Tyrosine',\n",
       " 'L-Valine',\n",
       " 'L-alanine-L-glutamate',\n",
       " 'L-alanylglycine',\n",
       " 'Leucylleucine',\n",
       " 'Lipid A disaccharide',\n",
       " 'Lysine-glutamine-glycine tripeptide',\n",
       " 'Methanol',\n",
       " 'Molybdate/Molybdenum',\n",
       " 'Myo-Inositol',\n",
       " 'Nicotinamide',\n",
       " 'Nicotinate',\n",
       " 'Ornithine',\n",
       " 'Orthophosphate',\n",
       " 'Oxalate',\n",
       " 'P-Cresol',\n",
       " 'Pantothenate',\n",
       " 'Protoheme C34H30FeN4O4',\n",
       " 'Putrescine',\n",
       " 'Pyruvate',\n",
       " 'Reduced glutathione',\n",
       " 'S-Adenosyl-4-methylthio-2-oxobutanoate',\n",
       " 'S-Methyl-5-thio-D-ribose',\n",
       " 'S_Malate/L-Malate',\n",
       " 'Selenite',\n",
       " 'Serine-glutamine-glycine tripeptide',\n",
       " 'Sn-Glycero-3-phosphocholine',\n",
       " 'Sn-Glycero-3-phosphoethanolamine',\n",
       " 'Spermidine',\n",
       " 'Spermine',\n",
       " 'Succinate',\n",
       " 'Sulfur',\n",
       " 'Thiosulfate',\n",
       " 'Thymidine',\n",
       " 'Thymine C5H6N2O2',\n",
       " 'Uracil',\n",
       " 'Urea',\n",
       " 'Uridine',\n",
       " 'Xanthine',\n",
       " 'Xanthosine',\n",
       " 'sn-Glycerol 3-phosphate'}"
      ]
     },
     "execution_count": 158,
     "metadata": {},
     "output_type": "execute_result"
    }
   ],
   "source": [
    "alt_uptake | pro_uptake | alt_secretion | pro_secretion"
   ]
  },
  {
   "cell_type": "code",
   "execution_count": 159,
   "metadata": {},
   "outputs": [
    {
     "data": {
      "text/html": [
       "<div>\n",
       "<style scoped>\n",
       "    .dataframe tbody tr th:only-of-type {\n",
       "        vertical-align: middle;\n",
       "    }\n",
       "\n",
       "    .dataframe tbody tr th {\n",
       "        vertical-align: top;\n",
       "    }\n",
       "\n",
       "    .dataframe thead th {\n",
       "        text-align: right;\n",
       "    }\n",
       "</style>\n",
       "<table border=\"1\" class=\"dataframe\">\n",
       "  <thead>\n",
       "    <tr style=\"text-align: right;\">\n",
       "      <th></th>\n",
       "      <th>Unnamed: 0</th>\n",
       "      <th>secretion</th>\n",
       "      <th>minimum</th>\n",
       "      <th>maximum</th>\n",
       "      <th>uptake</th>\n",
       "      <th>metabolite_uptake</th>\n",
       "      <th>N_uptake</th>\n",
       "      <th>C_uptake</th>\n",
       "      <th>metabolite_secretion</th>\n",
       "      <th>N_secretion</th>\n",
       "      <th>C_secretion</th>\n",
       "      <th>metabolite1_uptake</th>\n",
       "      <th>metabolite1_secretion</th>\n",
       "    </tr>\n",
       "  </thead>\n",
       "  <tbody>\n",
       "  </tbody>\n",
       "</table>\n",
       "</div>"
      ],
      "text/plain": [
       "Empty DataFrame\n",
       "Columns: [Unnamed: 0, secretion, minimum, maximum, uptake, metabolite_uptake, N_uptake, C_uptake, metabolite_secretion, N_secretion, C_secretion, metabolite1_uptake, metabolite1_secretion]\n",
       "Index: []"
      ]
     },
     "execution_count": 159,
     "metadata": {},
     "output_type": "execute_result"
    }
   ],
   "source": [
    "pro_df.loc[pro_df.isna().sum(axis=1) > 0]"
   ]
  },
  {
   "cell_type": "code",
   "execution_count": 160,
   "metadata": {},
   "outputs": [
    {
     "data": {
      "text/html": [
       "<div>\n",
       "<style scoped>\n",
       "    .dataframe tbody tr th:only-of-type {\n",
       "        vertical-align: middle;\n",
       "    }\n",
       "\n",
       "    .dataframe tbody tr th {\n",
       "        vertical-align: top;\n",
       "    }\n",
       "\n",
       "    .dataframe thead th {\n",
       "        text-align: right;\n",
       "    }\n",
       "</style>\n",
       "<table border=\"1\" class=\"dataframe\">\n",
       "  <thead>\n",
       "    <tr style=\"text-align: right;\">\n",
       "      <th></th>\n",
       "      <th>Unnamed: 0</th>\n",
       "      <th>secretion</th>\n",
       "      <th>minimum</th>\n",
       "      <th>maximum</th>\n",
       "      <th>uptake</th>\n",
       "      <th>metabolite_uptake</th>\n",
       "      <th>N_uptake</th>\n",
       "      <th>C_uptake</th>\n",
       "      <th>metabolite_secretion</th>\n",
       "      <th>N_secretion</th>\n",
       "      <th>C_secretion</th>\n",
       "      <th>metabolite1_uptake</th>\n",
       "      <th>metabolite1_secretion</th>\n",
       "    </tr>\n",
       "  </thead>\n",
       "  <tbody>\n",
       "  </tbody>\n",
       "</table>\n",
       "</div>"
      ],
      "text/plain": [
       "Empty DataFrame\n",
       "Columns: [Unnamed: 0, secretion, minimum, maximum, uptake, metabolite_uptake, N_uptake, C_uptake, metabolite_secretion, N_secretion, C_secretion, metabolite1_uptake, metabolite1_secretion]\n",
       "Index: []"
      ]
     },
     "execution_count": 160,
     "metadata": {},
     "output_type": "execute_result"
    }
   ],
   "source": [
    "alt_df.loc[alt_df.isna().sum(axis=1) > 0]"
   ]
  },
  {
   "cell_type": "code",
   "execution_count": null,
   "metadata": {},
   "outputs": [],
   "source": []
  }
 ],
 "metadata": {
  "kernelspec": {
   "display_name": "Python 3 (ipykernel)",
   "language": "python",
   "name": "python3"
  },
  "language_info": {
   "codemirror_mode": {
    "name": "ipython",
    "version": 3
   },
   "file_extension": ".py",
   "mimetype": "text/x-python",
   "name": "python",
   "nbconvert_exporter": "python",
   "pygments_lexer": "ipython3",
   "version": "3.9.7"
  }
 },
 "nbformat": 4,
 "nbformat_minor": 2
}
