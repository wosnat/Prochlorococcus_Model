{
 "cells": [
  {
   "cell_type": "markdown",
   "metadata": {},
   "source": [
    "# N starvation \n",
    "\n",
    "## Which N sources allow MED4 to grow"
   ]
  },
  {
   "cell_type": "markdown",
   "metadata": {},
   "source": [
    "check out Escher visualization https://escher.readthedocs.io/en/latest/getting_started.html"
   ]
  },
  {
   "cell_type": "code",
   "execution_count": 1,
   "metadata": {
    "ExecuteTime": {
     "end_time": "2020-12-15T09:30:48.353507Z",
     "start_time": "2020-12-15T09:30:43.130260Z"
    }
   },
   "outputs": [],
   "source": [
    "import pandas as pd\n",
    "import matplotlib.pyplot as plt\n",
    "import cobra\n",
    "import numpy as np\n",
    "import seaborn as sns\n",
    "import itertools\n",
    "from matplotlib.colors import LogNorm, Normalize\n"
   ]
  },
  {
   "cell_type": "code",
   "execution_count": 2,
   "metadata": {},
   "outputs": [],
   "source": [
    "import subprocess\n",
    "import time\n"
   ]
  },
  {
   "cell_type": "code",
   "execution_count": 3,
   "metadata": {},
   "outputs": [],
   "source": [
    "from cobra.flux_analysis import flux_variability_analysis\n",
    "from cobra.flux_analysis import production_envelope\n"
   ]
  },
  {
   "cell_type": "code",
   "execution_count": 4,
   "metadata": {},
   "outputs": [],
   "source": [
    "from cobra.flux_analysis import (\n",
    "    single_gene_deletion, single_reaction_deletion, double_gene_deletion,\n",
    "    double_reaction_deletion)"
   ]
  },
  {
   "cell_type": "code",
   "execution_count": 5,
   "metadata": {
    "ExecuteTime": {
     "end_time": "2020-12-15T09:30:48.389369Z",
     "start_time": "2020-12-15T09:30:48.353507Z"
    }
   },
   "outputs": [
    {
     "data": {
      "text/plain": [
       "<function seaborn.palettes.hls_palette(n_colors=6, h=0.01, l=0.6, s=0.65, as_cmap=False)>"
      ]
     },
     "execution_count": 5,
     "metadata": {},
     "output_type": "execute_result"
    }
   ],
   "source": [
    "sns.hls_palette"
   ]
  },
  {
   "cell_type": "code",
   "execution_count": 6,
   "metadata": {},
   "outputs": [],
   "source": [
    "# values from Ofaim at el.\n",
    "\n",
    "PARAMETER_VALUES = [#\"Name\",     \"Reaction ID\",          \"Lower bound\", \"UpperBound\"\n",
    "                   [\"HCO3\",      \"HCO3EXcar\",            -8,            0],\n",
    "                   #[\"Nitrogen\",  \"AmmoniaEX\",            -0.56,         0],\n",
    "                   #[\"Phosphate\", \"FAKEOrthophosphateEX\", -0.1,          0],\n",
    "                   [\"Light\",     \"LightEX\",              -150,          0]]\n",
    "CO2MAX = 0.82\n",
    "\n",
    "# Block fake reactions\n",
    "FAKE_TRANSPORT = [\"AminosugarsOUT\", \"FAKEAAOUT\", \"FAKEABPOUT\", \"FAKEacpTRANS\", \"FAKEApoacpTRANS\", \"FAKEThioredoxinTRANS\", \n",
    "                  \"FreefattyacidsOUT\", \"7NMeth7carbOUT\", \"ArtificialproteinOUT\", \"FADOUT\", \"LipoylproteinTRANS\", \"MenaquinoneOUT\", \n",
    "                  \"NicotinateOUT\", \"THFpolyglutOUT\", \"Thiamin_dpOUT\"]\n"
   ]
  },
  {
   "cell_type": "code",
   "execution_count": null,
   "metadata": {},
   "outputs": [],
   "source": []
  },
  {
   "cell_type": "code",
   "execution_count": 7,
   "metadata": {},
   "outputs": [],
   "source": [
    "def get_elements(rid):\n",
    "    r = model.reactions.get_by_id(rid)\n",
    "    m = r.reactants[0]    \n",
    "    elements = m.elements.copy()\n",
    "    \n",
    "    res = {\n",
    "        'reaction'   : rid,\n",
    "        'metabolite' : m.name,\n",
    "        'mid'        : m.id,\n",
    "        'N'          : 'N' in elements,\n",
    "        'C'          : 'C' in elements,\n",
    "        \n",
    "    }\n",
    "    return pd.Series(res)"
   ]
  },
  {
   "cell_type": "code",
   "execution_count": 8,
   "metadata": {},
   "outputs": [],
   "source": [
    "def alt_get_elements(rid):\n",
    "    r = alt_model.reactions.get_by_id(rid)\n",
    "    m = r.reactants[0]    \n",
    "    elements = m.elements.copy()\n",
    "    \n",
    "    res = {\n",
    "        'reaction'   : rid,\n",
    "        'metabolite' : m.name,\n",
    "        'mid'        : m.id,\n",
    "        'N'          : 'N' in elements,\n",
    "        'C'          : 'C' in elements,\n",
    "        \n",
    "    }\n",
    "    return pd.Series(res)"
   ]
  },
  {
   "cell_type": "markdown",
   "metadata": {},
   "source": [
    "# Import model and manipulate based on Ofaim at el"
   ]
  },
  {
   "cell_type": "code",
   "execution_count": 9,
   "metadata": {},
   "outputs": [],
   "source": [
    "import os\n",
    "model_dpath = os.path.join('..', 'Model_files')\n",
    "model_fname = 'iSO595v7_with_formula.xml'\n",
    "model_fpath = os.path.join(model_dpath, model_fname)\n"
   ]
  },
  {
   "cell_type": "code",
   "execution_count": 10,
   "metadata": {
    "ExecuteTime": {
     "end_time": "2020-12-15T09:30:49.550482Z",
     "start_time": "2020-12-15T09:30:48.441726Z"
    }
   },
   "outputs": [
    {
     "name": "stdout",
     "output_type": "stream",
     "text": [
      "Set parameter Username\n",
      "Academic license - for non-commercial use only - expires 2023-07-13\n"
     ]
    }
   ],
   "source": [
    "model = cobra.io.read_sbml_model(model_fpath)"
   ]
  },
  {
   "cell_type": "code",
   "execution_count": 11,
   "metadata": {},
   "outputs": [],
   "source": [
    "# manipulations copied from Ofaim at el.\n",
    "\n",
    "remove_blocked = False\n",
    "\n",
    "# Block H2S\n",
    "model.reactions.H2SEX.lower_bound = 0\n",
    "\n",
    "# Block fake transports\n",
    "for rid in FAKE_TRANSPORT:\n",
    "    model.reactions.get_by_id(rid).bounds = (0,0)\n",
    "\n",
    "# Remove blocked reactions\n",
    "if remove_blocked:\n",
    "    blocked = cobra.flux_analysis.find_blocked_reactions(model, open_exchanges = True)\n",
    "    print('blocked', len(blocked), blocked)\n",
    "    model.remove_reactions([model.reactions.get_by_id(r_id) for r_id in blocked])\n",
    "\n",
    "# Block maximum CO2 production\n",
    "model.reactions.CO2EX.bounds = (0, CO2MAX)\n",
    "\n",
    "for i, row in enumerate(PARAMETER_VALUES):\n",
    "    # Row: Name, Reaction ID, lower bound, upper bound\n",
    "    key = row[0]\n",
    "    reaction_id = row[1]\n",
    "    lower_bound = row[2]\n",
    "    upper_bound = row[3]\n",
    "    r = model.reactions.get_by_id(reaction_id)\n",
    "    # Fix flux\n",
    "    r.bounds = (lower_bound, upper_bound)"
   ]
  },
  {
   "cell_type": "code",
   "execution_count": 12,
   "metadata": {},
   "outputs": [],
   "source": [
    "exchange_ids = [r.id for r in model.exchanges] # + [\"R00024\"]"
   ]
  },
  {
   "cell_type": "code",
   "execution_count": 13,
   "metadata": {},
   "outputs": [
    {
     "name": "stdout",
     "output_type": "stream",
     "text": [
      "reactions 994\n",
      "metabolites 802\n",
      "genes 595\n"
     ]
    }
   ],
   "source": [
    "print('reactions', len(model.reactions))\n",
    "print('metabolites', len(model.metabolites))\n",
    "print('genes', len(model.genes))"
   ]
  },
  {
   "cell_type": "code",
   "execution_count": 14,
   "metadata": {},
   "outputs": [
    {
     "data": {
      "text/html": [
       "\n",
       "        <table>\n",
       "            <tr>\n",
       "                <td><strong>Name</strong></td>\n",
       "                <td>COBRAModel</td>\n",
       "            </tr><tr>\n",
       "                <td><strong>Memory address</strong></td>\n",
       "                <td>0x07f8456ea8c70</td>\n",
       "            </tr><tr>\n",
       "                <td><strong>Number of metabolites</strong></td>\n",
       "                <td>802</td>\n",
       "            </tr><tr>\n",
       "                <td><strong>Number of reactions</strong></td>\n",
       "                <td>994</td>\n",
       "            </tr><tr>\n",
       "                <td><strong>Number of groups</strong></td>\n",
       "                <td>55</td>\n",
       "            </tr><tr>\n",
       "                <td><strong>Objective expression</strong></td>\n",
       "                <td>1.0*BIOMASS - 1.0*BIOMASS_reverse_69053</td>\n",
       "            </tr><tr>\n",
       "                <td><strong>Compartments</strong></td>\n",
       "                <td>Cytoplasm, Extracellular, unknownCompartment2, Periplasm, unknownCompartment5</td>\n",
       "            </tr>\n",
       "          </table>"
      ],
      "text/plain": [
       "<Model COBRAModel at 0x7f8456ea8c70>"
      ]
     },
     "execution_count": 14,
     "metadata": {},
     "output_type": "execute_result"
    }
   ],
   "source": [
    "model"
   ]
  },
  {
   "cell_type": "code",
   "execution_count": 15,
   "metadata": {},
   "outputs": [
    {
     "data": {
      "text/html": [
       "\n",
       "        <table>\n",
       "            <tr>\n",
       "                <td><strong>Metabolite identifier</strong></td><td>Carbamate[c]</td>\n",
       "            </tr><tr>\n",
       "                <td><strong>Name</strong></td><td>Carbamate</td>\n",
       "            </tr><tr>\n",
       "                <td><strong>Memory address</strong></td>\n",
       "                <td>0x7f8456e6c040</td>\n",
       "            </tr><tr>\n",
       "                <td><strong>Formula</strong></td><td>CH3NO2</td>\n",
       "            </tr><tr>\n",
       "                <td><strong>Compartment</strong></td><td>c</td>\n",
       "            </tr><tr>\n",
       "                <td><strong>In 4 reaction(s)</strong></td><td>\n",
       "                    R03546, R01395, R10949, R07316\n",
       "                    </td>\n",
       "            </tr>\n",
       "        </table>"
      ],
      "text/plain": [
       "<Metabolite Carbamate[c] at 0x7f8456e6c040>"
      ]
     },
     "execution_count": 15,
     "metadata": {},
     "output_type": "execute_result"
    }
   ],
   "source": [
    "model.metabolites.get_by_id('Carbamate[c]')"
   ]
  },
  {
   "cell_type": "code",
   "execution_count": 16,
   "metadata": {},
   "outputs": [
    {
     "data": {
      "text/html": [
       "\n",
       "<table>\n",
       "  <thead>\n",
       "    <tr>\n",
       "      <td><strong>Attribute</strong></td>\n",
       "      <td><strong>Description</strong></td>\n",
       "      <td><strong>Value</strong></td>\n",
       "    </tr>\n",
       "  </thead>\n",
       "  <tbody>\n",
       "    <tr>\n",
       "      <td><pre>solver</pre></td>\n",
       "      <td>Mathematical optimization solver</td>\n",
       "      <td>gurobi</td>\n",
       "    </tr>\n",
       "    <tr>\n",
       "        <td><pre>tolerance</pre></td>\n",
       "        <td>General solver tolerance (feasibility, integrality, etc.)</td>\n",
       "        <td>1e-07</td>\n",
       "    </tr>\n",
       "    <tr>\n",
       "        <td><pre>lower_bound</pre></td>\n",
       "        <td>Default reaction lower bound</td>\n",
       "        <td>-1000.0</td>\n",
       "    </tr>\n",
       "    <tr>\n",
       "        <td><pre>upper_bound</pre></td>\n",
       "        <td>Default reaction upper bound</td>\n",
       "        <td>1000.0</td>\n",
       "    </tr>\n",
       "    <tr>\n",
       "        <td><pre>processes</pre></td>\n",
       "        <td>Number of parallel processes</td>\n",
       "        <td>11</td>\n",
       "    </tr>\n",
       "    <tr>\n",
       "        <td><pre>cache_directory</pre></td>\n",
       "        <td>Path for the model cache</td>\n",
       "        <td>/home/oweissberg/.cache/cobrapy</td>\n",
       "    </tr>\n",
       "    <tr>\n",
       "        <td><pre>max_cache_size</pre></td>\n",
       "        <td>Maximum cache size in bytes</td>\n",
       "        <td>104857600</td>\n",
       "    </tr>\n",
       "    <tr>\n",
       "        <td><pre>cache_expiration</pre></td>\n",
       "        <td>Model cache expiration time in seconds (if any)</td>\n",
       "        <td>None</td>\n",
       "    </tr>\n",
       "  </tbody>\n",
       "</table>\n"
      ],
      "text/plain": [
       "\n",
       "solver: gurobi\n",
       "tolerance: 1e-07\n",
       "lower_bound: -1000.0\n",
       "upper_bound: 1000.0\n",
       "processes: 11\n",
       "cache_directory: /home/oweissberg/.cache/cobrapy\n",
       "max_cache_size: 104857600\n",
       "cache_expiration: None"
      ]
     },
     "execution_count": 16,
     "metadata": {},
     "output_type": "execute_result"
    }
   ],
   "source": [
    "cobra.Configuration()"
   ]
  },
  {
   "cell_type": "code",
   "execution_count": 17,
   "metadata": {},
   "outputs": [
    {
     "data": {
      "text/html": [
       "\n",
       "        <table>\n",
       "            <tr>\n",
       "                <td><strong>Reaction identifier</strong></td><td>BIOMASS</td>\n",
       "            </tr><tr>\n",
       "                <td><strong>Name</strong></td><td>Biomass formation</td>\n",
       "            </tr><tr>\n",
       "                <td><strong>Memory address</strong></td>\n",
       "                <td>0x7f8456c7b760</td>\n",
       "            </tr><tr>\n",
       "                <td><strong>Stoichiometry</strong></td>\n",
       "                <td>\n",
       "                    <p style='text-align:right'>104.0 ATP[c] + 0.0324116276714271 BioPool[c] + 0.0268408791654006 Bmineral[c] + 0.0559910868023904 Cell_wall[c] + 0.00111921401802897 Free_nucleic_acids[c] + 104.0 H2O[c] + 0.649245416793275...</p>\n",
       "                    <p style='text-align:right'>104.0 ATP + 0.0324116276714271 BioPool + 0.0268408791654006 Trace metals and minerals + 0.0559910868023904 Cell wall Biomass precursor + 0.00111921401802897 Free nucleic acids + 104.0 H2O +...</p>\n",
       "                </td>\n",
       "            </tr><tr>\n",
       "                <td><strong>GPR</strong></td><td></td>\n",
       "            </tr><tr>\n",
       "                <td><strong>Lower bound</strong></td><td>0.0</td>\n",
       "            </tr><tr>\n",
       "                <td><strong>Upper bound</strong></td><td>1000.0</td>\n",
       "            </tr>\n",
       "        </table>\n",
       "        "
      ],
      "text/plain": [
       "<Reaction BIOMASS at 0x7f8456c7b760>"
      ]
     },
     "execution_count": 17,
     "metadata": {},
     "output_type": "execute_result"
    }
   ],
   "source": [
    "model.reactions.get_by_id('BIOMASS')"
   ]
  },
  {
   "cell_type": "markdown",
   "metadata": {},
   "source": [
    "# Get a map of med4 metabolites to BiGG ids"
   ]
  },
  {
   "cell_type": "code",
   "execution_count": 18,
   "metadata": {},
   "outputs": [],
   "source": [
    "bigg_df =  pd.read_excel('MED4_to_Bigg.xlsx',)"
   ]
  },
  {
   "cell_type": "markdown",
   "metadata": {},
   "source": [
    "# Compare exchange reactions/metabolites of the two models"
   ]
  },
  {
   "cell_type": "code",
   "execution_count": 19,
   "metadata": {},
   "outputs": [],
   "source": [
    "exchange_ids = [r.id for r in model.exchanges] \n",
    "pro_med_df = pd.DataFrame({'mediumExchange' : exchange_ids})\n",
    "pro_med_df = pro_med_df.mediumExchange.apply(get_elements)\n"
   ]
  },
  {
   "cell_type": "code",
   "execution_count": 20,
   "metadata": {},
   "outputs": [],
   "source": [
    "#pro_df = pd.read_excel('PRO_N_sources.xlsx', sheet_name='secretion')\n",
    "alt_dpath = '../../HOT1A3-model/N_Starvation/'\n",
    "#alt_med_df = pd.read_excel(os.path.join(alt_dpath, 'HOT1A3_medium_NCBI.xlsx'))\n",
    "alt_model_dpath = os.path.join('../../HOT1A3-model', 'Models')\n",
    "alt_model_fname = 'HOT1A3_ncbi.xml'\n",
    "alt_model_fpath = os.path.join(alt_model_dpath, alt_model_fname)\n"
   ]
  },
  {
   "cell_type": "code",
   "execution_count": 21,
   "metadata": {},
   "outputs": [],
   "source": [
    "alt_model = cobra.io.read_sbml_model(alt_model_fpath)\n",
    "alt_exchange_ids = [r.id for r in alt_model.exchanges] \n",
    "alt_med_df = pd.DataFrame({'mediumExchange' : alt_exchange_ids})\n",
    "alt_med_df = alt_med_df.mediumExchange.apply(alt_get_elements)\n"
   ]
  },
  {
   "cell_type": "code",
   "execution_count": 22,
   "metadata": {},
   "outputs": [],
   "source": [
    "pro_med_df = pd.merge(pro_med_df, bigg_df[['mid', 'BiggID']].drop_duplicates(), on='mid', how='left')"
   ]
  },
  {
   "cell_type": "code",
   "execution_count": 23,
   "metadata": {},
   "outputs": [
    {
     "data": {
      "text/html": [
       "<div>\n",
       "<style scoped>\n",
       "    .dataframe tbody tr th:only-of-type {\n",
       "        vertical-align: middle;\n",
       "    }\n",
       "\n",
       "    .dataframe tbody tr th {\n",
       "        vertical-align: top;\n",
       "    }\n",
       "\n",
       "    .dataframe thead th {\n",
       "        text-align: right;\n",
       "    }\n",
       "</style>\n",
       "<table border=\"1\" class=\"dataframe\">\n",
       "  <thead>\n",
       "    <tr style=\"text-align: right;\">\n",
       "      <th></th>\n",
       "      <th>reaction</th>\n",
       "      <th>metabolite</th>\n",
       "      <th>mid</th>\n",
       "      <th>N</th>\n",
       "      <th>C</th>\n",
       "      <th>BiggID</th>\n",
       "    </tr>\n",
       "  </thead>\n",
       "  <tbody>\n",
       "    <tr>\n",
       "      <th>0</th>\n",
       "      <td>AminosugarsEX</td>\n",
       "      <td>Amino sugars pool</td>\n",
       "      <td>Amino_sugars[e]</td>\n",
       "      <td>False</td>\n",
       "      <td>False</td>\n",
       "      <td>NaN</td>\n",
       "    </tr>\n",
       "    <tr>\n",
       "      <th>1</th>\n",
       "      <td>FAKEAAEX</td>\n",
       "      <td>amino_acid_pool_e</td>\n",
       "      <td>amino_acid_pool[e]</td>\n",
       "      <td>False</td>\n",
       "      <td>False</td>\n",
       "      <td>NaN</td>\n",
       "    </tr>\n",
       "    <tr>\n",
       "      <th>2</th>\n",
       "      <td>FAKEABPEX</td>\n",
       "      <td>Adenosine 3_5-bisphosphate</td>\n",
       "      <td>Adenosine_3_5_bisphosphate[e]</td>\n",
       "      <td>True</td>\n",
       "      <td>True</td>\n",
       "      <td>pap</td>\n",
       "    </tr>\n",
       "    <tr>\n",
       "      <th>3</th>\n",
       "      <td>FAKEacpEX</td>\n",
       "      <td>Acyl-carrier protein</td>\n",
       "      <td>Acyl_carrier_protein[e]</td>\n",
       "      <td>False</td>\n",
       "      <td>False</td>\n",
       "      <td>ACP</td>\n",
       "    </tr>\n",
       "    <tr>\n",
       "      <th>4</th>\n",
       "      <td>FAKEApoacpEX</td>\n",
       "      <td>Apo-(acyl-carrier-protein)</td>\n",
       "      <td>Apo_acyl_carrier_protein[e]</td>\n",
       "      <td>False</td>\n",
       "      <td>False</td>\n",
       "      <td>NaN</td>\n",
       "    </tr>\n",
       "  </tbody>\n",
       "</table>\n",
       "</div>"
      ],
      "text/plain": [
       "        reaction                  metabolite                            mid  \\\n",
       "0  AminosugarsEX           Amino sugars pool                Amino_sugars[e]   \n",
       "1       FAKEAAEX           amino_acid_pool_e             amino_acid_pool[e]   \n",
       "2      FAKEABPEX  Adenosine 3_5-bisphosphate  Adenosine_3_5_bisphosphate[e]   \n",
       "3      FAKEacpEX        Acyl-carrier protein        Acyl_carrier_protein[e]   \n",
       "4   FAKEApoacpEX  Apo-(acyl-carrier-protein)    Apo_acyl_carrier_protein[e]   \n",
       "\n",
       "       N      C BiggID  \n",
       "0  False  False    NaN  \n",
       "1  False  False    NaN  \n",
       "2   True   True    pap  \n",
       "3  False  False    ACP  \n",
       "4  False  False    NaN  "
      ]
     },
     "execution_count": 23,
     "metadata": {},
     "output_type": "execute_result"
    }
   ],
   "source": [
    "pro_med_df.head()"
   ]
  },
  {
   "cell_type": "code",
   "execution_count": 24,
   "metadata": {},
   "outputs": [
    {
     "data": {
      "text/html": [
       "<div>\n",
       "<style scoped>\n",
       "    .dataframe tbody tr th:only-of-type {\n",
       "        vertical-align: middle;\n",
       "    }\n",
       "\n",
       "    .dataframe tbody tr th {\n",
       "        vertical-align: top;\n",
       "    }\n",
       "\n",
       "    .dataframe thead th {\n",
       "        text-align: right;\n",
       "    }\n",
       "</style>\n",
       "<table border=\"1\" class=\"dataframe\">\n",
       "  <thead>\n",
       "    <tr style=\"text-align: right;\">\n",
       "      <th></th>\n",
       "      <th>reaction</th>\n",
       "      <th>metabolite</th>\n",
       "      <th>mid</th>\n",
       "      <th>N</th>\n",
       "      <th>C</th>\n",
       "    </tr>\n",
       "  </thead>\n",
       "  <tbody>\n",
       "    <tr>\n",
       "      <th>0</th>\n",
       "      <td>EX_14glucan_e</td>\n",
       "      <td>1,4-alpha-D-glucan</td>\n",
       "      <td>14glucan_e</td>\n",
       "      <td>False</td>\n",
       "      <td>True</td>\n",
       "    </tr>\n",
       "    <tr>\n",
       "      <th>1</th>\n",
       "      <td>EX_25dkglcn_e</td>\n",
       "      <td>2,5-diketo-D-gluconate</td>\n",
       "      <td>25dkglcn_e</td>\n",
       "      <td>False</td>\n",
       "      <td>True</td>\n",
       "    </tr>\n",
       "    <tr>\n",
       "      <th>2</th>\n",
       "      <td>EX_2ameph_e</td>\n",
       "      <td>2-Aminoethylphosphonate</td>\n",
       "      <td>2ameph_e</td>\n",
       "      <td>True</td>\n",
       "      <td>True</td>\n",
       "    </tr>\n",
       "    <tr>\n",
       "      <th>3</th>\n",
       "      <td>EX_2m35mdntha_e</td>\n",
       "      <td>N  2 methyl 3 5 dinitrophenyl  4 methyl 3 5 di...</td>\n",
       "      <td>2m35mdntha_e</td>\n",
       "      <td>True</td>\n",
       "      <td>False</td>\n",
       "    </tr>\n",
       "    <tr>\n",
       "      <th>4</th>\n",
       "      <td>EX_2pglyc_e</td>\n",
       "      <td>2-Phosphoglycolate</td>\n",
       "      <td>2pglyc_e</td>\n",
       "      <td>False</td>\n",
       "      <td>True</td>\n",
       "    </tr>\n",
       "  </tbody>\n",
       "</table>\n",
       "</div>"
      ],
      "text/plain": [
       "          reaction                                         metabolite  \\\n",
       "0    EX_14glucan_e                                 1,4-alpha-D-glucan   \n",
       "1    EX_25dkglcn_e                             2,5-diketo-D-gluconate   \n",
       "2      EX_2ameph_e                            2-Aminoethylphosphonate   \n",
       "3  EX_2m35mdntha_e  N  2 methyl 3 5 dinitrophenyl  4 methyl 3 5 di...   \n",
       "4      EX_2pglyc_e                                 2-Phosphoglycolate   \n",
       "\n",
       "            mid      N      C  \n",
       "0    14glucan_e  False   True  \n",
       "1    25dkglcn_e  False   True  \n",
       "2      2ameph_e   True   True  \n",
       "3  2m35mdntha_e   True  False  \n",
       "4      2pglyc_e  False   True  "
      ]
     },
     "execution_count": 24,
     "metadata": {},
     "output_type": "execute_result"
    }
   ],
   "source": [
    "alt_med_df.head()"
   ]
  },
  {
   "cell_type": "code",
   "execution_count": 25,
   "metadata": {},
   "outputs": [
    {
     "data": {
      "text/plain": [
       "(102, 6)"
      ]
     },
     "execution_count": 25,
     "metadata": {},
     "output_type": "execute_result"
    }
   ],
   "source": [
    "pro_med_df.shape"
   ]
  },
  {
   "cell_type": "code",
   "execution_count": 26,
   "metadata": {},
   "outputs": [
    {
     "data": {
      "text/plain": [
       "(257, 5)"
      ]
     },
     "execution_count": 26,
     "metadata": {},
     "output_type": "execute_result"
    }
   ],
   "source": [
    "alt_med_df.shape"
   ]
  },
  {
   "cell_type": "code",
   "execution_count": null,
   "metadata": {},
   "outputs": [],
   "source": []
  },
  {
   "cell_type": "raw",
   "metadata": {},
   "source": [
    "alt_med_df.loc[(~alt_med_df.pro99.isna()) & \n",
    "               (alt_med_df.metabolite != alt_med_df['MED4 metabolite']), #&\n",
    "               #(alt_med_df.metabolite_common != alt_med_df['MED4 metabolite']),\n",
    "               ['metabolite','MED4 metabolite']\n",
    "               \n",
    "              ].values"
   ]
  },
  {
   "cell_type": "raw",
   "metadata": {},
   "source": [
    "pro_med_df['metabolite_common'] = pro_med_df['metabolite']\n",
    "alt_med_df['metabolite_common'] = alt_med_df['metabolite']"
   ]
  },
  {
   "cell_type": "raw",
   "metadata": {},
   "source": [
    "pro_med_df['metabolite_common'] = pro_med_df['metabolite_common'].str.replace('[e]','', regex=False)\n",
    "alt_med_df['metabolite_common'] = alt_med_df['metabolite_common'].str.replace('[e]','', regex=False)\n",
    "pro_med_df['metabolite_common'] = pro_med_df['metabolite_common'].str.replace('_','-', regex=False)\n",
    "alt_med_df['metabolite_common'] = alt_med_df['metabolite_common'].str.replace('_','-', regex=False)\n",
    "#pro_med_df['metabolite_common'] = pro_med_df['metabolite_common'].str.replace('Urea CH4N2O','Urea', regex=False)\n",
    "#alt_med_df['metabolite_common'] = alt_med_df['metabolite_common'].str.replace('Urea CH4N2O','Urea', regex=False)\n"
   ]
  },
  {
   "cell_type": "raw",
   "metadata": {},
   "source": [
    "mapping_exchanges = [\n",
    "    ('Ca2+','Calcium'),\n",
    "    ('Fe2+ mitochondria','Fe2+'),\n",
    "    ('CO','Carbon monoxide'),\n",
    "    ('CO2 CO2','CO2'),\n",
    "    ('Cl-','Chloride'),\n",
    "    ('Co2+','Cobalt ion'),\n",
    "    #['CO2 CO2', 'HCO3-'],\n",
    "    ('H2O H2O', 'H2O'),\n",
    "    ('K+', 'Potassium',) ,\n",
    "    ('Magnesium', 'Magnesium cation'),\n",
    "    ('Molybdate', 'Molybdate/Molybdenum'),\n",
    "    ('Molybdenum', 'Molybdate/Molybdenum'),\n",
    "    ('Ammonium', 'Ammonium/Ammonia'),\n",
    "    ('Ammonia', 'Ammonium/Ammonia'),\n",
    "    ('O2 O2', 'O2'),\n",
    "    ('Phosphate', 'Orthophosphate'),\n",
    "    ('Zinc', 'Zn2+'),\n",
    "    ('S-Malate', 'S-Malate/L-Malate'),\n",
    "    ('L-Malate', 'S-Malate/L-Malate'),\n",
    "    ('Urea CH4N2O','Urea'),\n",
    "    ('Thymidine C10H14N2O5', 'Thymidine')\n",
    "]\n",
    "\n",
    "for i, j in mapping_exchanges:\n",
    "    pro_med_df.loc[pro_med_df['metabolite_common'].isin([i]), 'metabolite_common'] = j\n",
    "    alt_med_df.loc[alt_med_df['metabolite_common'].isin([i]), 'metabolite_common'] = j\n",
    "    "
   ]
  },
  {
   "cell_type": "code",
   "execution_count": 27,
   "metadata": {},
   "outputs": [
    {
     "data": {
      "text/plain": [
       "(Index(['reaction', 'metabolite', 'mid', 'N', 'C'], dtype='object'),\n",
       " Index(['reaction', 'metabolite', 'mid', 'N', 'C', 'BiggID'], dtype='object'))"
      ]
     },
     "execution_count": 27,
     "metadata": {},
     "output_type": "execute_result"
    }
   ],
   "source": [
    "alt_med_df.columns, pro_med_df.columns"
   ]
  },
  {
   "cell_type": "code",
   "execution_count": 28,
   "metadata": {},
   "outputs": [],
   "source": [
    "alt_med_df['BiggID'] = alt_med_df.mid.str.rpartition('_',)[0]"
   ]
  },
  {
   "cell_type": "code",
   "execution_count": 29,
   "metadata": {},
   "outputs": [],
   "source": [
    "exchange_df = pd.merge(pro_med_df, alt_med_df, left_on='BiggID', right_on='BiggID', how='outer', suffixes=['_pro', '_alt'])"
   ]
  },
  {
   "cell_type": "code",
   "execution_count": 30,
   "metadata": {},
   "outputs": [
    {
     "data": {
      "text/plain": [
       "False    293\n",
       "True      11\n",
       "Name: BiggID, dtype: int64"
      ]
     },
     "execution_count": 30,
     "metadata": {},
     "output_type": "execute_result"
    }
   ],
   "source": [
    "exchange_df.BiggID.isna().value_counts()"
   ]
  },
  {
   "cell_type": "code",
   "execution_count": 31,
   "metadata": {},
   "outputs": [
    {
     "data": {
      "text/html": [
       "<div>\n",
       "<style scoped>\n",
       "    .dataframe tbody tr th:only-of-type {\n",
       "        vertical-align: middle;\n",
       "    }\n",
       "\n",
       "    .dataframe tbody tr th {\n",
       "        vertical-align: top;\n",
       "    }\n",
       "\n",
       "    .dataframe thead th {\n",
       "        text-align: right;\n",
       "    }\n",
       "</style>\n",
       "<table border=\"1\" class=\"dataframe\">\n",
       "  <thead>\n",
       "    <tr style=\"text-align: right;\">\n",
       "      <th></th>\n",
       "      <th>reaction_pro</th>\n",
       "      <th>metabolite_pro</th>\n",
       "      <th>mid_pro</th>\n",
       "      <th>N_pro</th>\n",
       "      <th>C_pro</th>\n",
       "      <th>BiggID</th>\n",
       "      <th>reaction_alt</th>\n",
       "      <th>metabolite_alt</th>\n",
       "      <th>mid_alt</th>\n",
       "      <th>N_alt</th>\n",
       "      <th>C_alt</th>\n",
       "    </tr>\n",
       "  </thead>\n",
       "  <tbody>\n",
       "    <tr>\n",
       "      <th>55</th>\n",
       "      <td>L_AlanineEX</td>\n",
       "      <td>L-Alanine</td>\n",
       "      <td>L_Alanine[e]</td>\n",
       "      <td>True</td>\n",
       "      <td>True</td>\n",
       "      <td>ala__L</td>\n",
       "      <td>EX_ala__L_e</td>\n",
       "      <td>L-Alanine</td>\n",
       "      <td>ala__L_e</td>\n",
       "      <td>True</td>\n",
       "      <td>True</td>\n",
       "    </tr>\n",
       "    <tr>\n",
       "      <th>240</th>\n",
       "      <td>NaN</td>\n",
       "      <td>NaN</td>\n",
       "      <td>NaN</td>\n",
       "      <td>NaN</td>\n",
       "      <td>NaN</td>\n",
       "      <td>met_L_ala__L</td>\n",
       "      <td>EX_met_L_ala__L_e</td>\n",
       "      <td>Met L ala L C8H16N2O3S</td>\n",
       "      <td>met_L_ala__L_e</td>\n",
       "      <td>True</td>\n",
       "      <td>True</td>\n",
       "    </tr>\n",
       "  </tbody>\n",
       "</table>\n",
       "</div>"
      ],
      "text/plain": [
       "    reaction_pro metabolite_pro       mid_pro N_pro C_pro        BiggID  \\\n",
       "55   L_AlanineEX      L-Alanine  L_Alanine[e]  True  True        ala__L   \n",
       "240          NaN            NaN           NaN   NaN   NaN  met_L_ala__L   \n",
       "\n",
       "          reaction_alt          metabolite_alt         mid_alt N_alt C_alt  \n",
       "55         EX_ala__L_e               L-Alanine        ala__L_e  True  True  \n",
       "240  EX_met_L_ala__L_e  Met L ala L C8H16N2O3S  met_L_ala__L_e  True  True  "
      ]
     },
     "execution_count": 31,
     "metadata": {},
     "output_type": "execute_result"
    }
   ],
   "source": [
    "exchange_df.loc[exchange_df.BiggID.str.contains('ala__L', case=False, na=False)]"
   ]
  },
  {
   "cell_type": "code",
   "execution_count": 32,
   "metadata": {},
   "outputs": [],
   "source": [
    "exchange_df.to_excel('exchange.xlsx')"
   ]
  },
  {
   "cell_type": "code",
   "execution_count": 33,
   "metadata": {},
   "outputs": [
    {
     "data": {
      "text/plain": [
       "ALT only    202\n",
       "mapped       55\n",
       "PRO only     47\n",
       "Name: map_status, dtype: int64"
      ]
     },
     "execution_count": 33,
     "metadata": {},
     "output_type": "execute_result"
    }
   ],
   "source": [
    "exchange_df['map_status'] = 'mapped'\n",
    "exchange_df.loc[exchange_df.metabolite_alt.isna(), 'map_status'] = 'PRO only'\n",
    "exchange_df.loc[exchange_df.metabolite_pro.isna(), 'map_status'] = 'ALT only'\n",
    "exchange_df.map_status.value_counts()"
   ]
  },
  {
   "cell_type": "code",
   "execution_count": null,
   "metadata": {},
   "outputs": [],
   "source": []
  },
  {
   "cell_type": "code",
   "execution_count": 34,
   "metadata": {},
   "outputs": [
    {
     "data": {
      "text/plain": [
       "reaction_pro      202\n",
       "metabolite_pro    202\n",
       "mid_pro           202\n",
       "N_pro             202\n",
       "C_pro             202\n",
       "BiggID             11\n",
       "reaction_alt       47\n",
       "metabolite_alt     47\n",
       "mid_alt            47\n",
       "N_alt              47\n",
       "C_alt              47\n",
       "map_status          0\n",
       "dtype: int64"
      ]
     },
     "execution_count": 34,
     "metadata": {},
     "output_type": "execute_result"
    }
   ],
   "source": [
    "exchange_df.isna().sum()"
   ]
  },
  {
   "cell_type": "raw",
   "metadata": {},
   "source": [
    "exchange_df[['metabolite_common','metabolite_pro', 'metabolite_alt', 'map_status', 'reaction_pro', 'reaction_alt']].to_excel('common_exchange.xlsx')"
   ]
  },
  {
   "cell_type": "markdown",
   "metadata": {},
   "source": [
    "# Look for potential cross feeding"
   ]
  },
  {
   "cell_type": "code",
   "execution_count": 35,
   "metadata": {},
   "outputs": [],
   "source": [
    "pro_df = pd.read_excel('data/PRO_N_sources.xlsx', sheet_name='secretion')\n",
    "alt_dpath = '../../HOT1A3-model/N_Starvation/'\n",
    "alt_df = pd.read_excel(os.path.join(alt_dpath, 'ALT_N_sources.xlsx'), sheet_name='secretion')\n",
    "alt2_df = pd.read_excel(os.path.join(alt_dpath, 'ALT_N_sources.xlsx'), sheet_name='secretion2')\n"
   ]
  },
  {
   "cell_type": "code",
   "execution_count": 36,
   "metadata": {},
   "outputs": [
    {
     "data": {
      "text/html": [
       "<div>\n",
       "<style scoped>\n",
       "    .dataframe tbody tr th:only-of-type {\n",
       "        vertical-align: middle;\n",
       "    }\n",
       "\n",
       "    .dataframe tbody tr th {\n",
       "        vertical-align: top;\n",
       "    }\n",
       "\n",
       "    .dataframe thead th {\n",
       "        text-align: right;\n",
       "    }\n",
       "</style>\n",
       "<table border=\"1\" class=\"dataframe\">\n",
       "  <thead>\n",
       "    <tr style=\"text-align: right;\">\n",
       "      <th></th>\n",
       "      <th>Unnamed: 0</th>\n",
       "      <th>secretion</th>\n",
       "      <th>minimum</th>\n",
       "      <th>maximum</th>\n",
       "      <th>uptake</th>\n",
       "      <th>metabolite_uptake</th>\n",
       "      <th>mid_uptake</th>\n",
       "      <th>N_uptake</th>\n",
       "      <th>C_uptake</th>\n",
       "      <th>metabolite_secretion</th>\n",
       "      <th>mid_secretion</th>\n",
       "      <th>N_secretion</th>\n",
       "      <th>C_secretion</th>\n",
       "    </tr>\n",
       "  </thead>\n",
       "  <tbody>\n",
       "    <tr>\n",
       "      <th>0</th>\n",
       "      <td>0</td>\n",
       "      <td>sink_2ohph_c</td>\n",
       "      <td>0.0</td>\n",
       "      <td>66.658441</td>\n",
       "      <td>EX_cytd_e</td>\n",
       "      <td>Cytidine</td>\n",
       "      <td>cytd_e</td>\n",
       "      <td>True</td>\n",
       "      <td>True</td>\n",
       "      <td>2-Octaprenyl-6-hydroxyphenol</td>\n",
       "      <td>2ohph_c</td>\n",
       "      <td>False</td>\n",
       "      <td>True</td>\n",
       "    </tr>\n",
       "    <tr>\n",
       "      <th>1</th>\n",
       "      <td>1</td>\n",
       "      <td>sink_4crsol_c</td>\n",
       "      <td>0.0</td>\n",
       "      <td>279.476874</td>\n",
       "      <td>EX_cytd_e</td>\n",
       "      <td>Cytidine</td>\n",
       "      <td>cytd_e</td>\n",
       "      <td>True</td>\n",
       "      <td>True</td>\n",
       "      <td>P-Cresol</td>\n",
       "      <td>4crsol_c</td>\n",
       "      <td>False</td>\n",
       "      <td>True</td>\n",
       "    </tr>\n",
       "    <tr>\n",
       "      <th>2</th>\n",
       "      <td>3</td>\n",
       "      <td>sink_hemeO_c</td>\n",
       "      <td>0.0</td>\n",
       "      <td>65.829612</td>\n",
       "      <td>EX_cytd_e</td>\n",
       "      <td>Cytidine</td>\n",
       "      <td>cytd_e</td>\n",
       "      <td>True</td>\n",
       "      <td>True</td>\n",
       "      <td>Heme O C49H56FeN4O5</td>\n",
       "      <td>hemeO_c</td>\n",
       "      <td>True</td>\n",
       "      <td>True</td>\n",
       "    </tr>\n",
       "    <tr>\n",
       "      <th>3</th>\n",
       "      <td>4</td>\n",
       "      <td>sink_mobd_c</td>\n",
       "      <td>0.0</td>\n",
       "      <td>1000.000000</td>\n",
       "      <td>EX_cytd_e</td>\n",
       "      <td>Cytidine</td>\n",
       "      <td>cytd_e</td>\n",
       "      <td>True</td>\n",
       "      <td>True</td>\n",
       "      <td>Molybdate</td>\n",
       "      <td>mobd_c</td>\n",
       "      <td>False</td>\n",
       "      <td>False</td>\n",
       "    </tr>\n",
       "    <tr>\n",
       "      <th>4</th>\n",
       "      <td>5</td>\n",
       "      <td>sink_sheme_c</td>\n",
       "      <td>0.0</td>\n",
       "      <td>95.624557</td>\n",
       "      <td>EX_cytd_e</td>\n",
       "      <td>Cytidine</td>\n",
       "      <td>cytd_e</td>\n",
       "      <td>True</td>\n",
       "      <td>True</td>\n",
       "      <td>Siroheme C42H36FeN4O16</td>\n",
       "      <td>sheme_c</td>\n",
       "      <td>True</td>\n",
       "      <td>True</td>\n",
       "    </tr>\n",
       "  </tbody>\n",
       "</table>\n",
       "</div>"
      ],
      "text/plain": [
       "   Unnamed: 0      secretion  minimum      maximum     uptake  \\\n",
       "0           0   sink_2ohph_c      0.0    66.658441  EX_cytd_e   \n",
       "1           1  sink_4crsol_c      0.0   279.476874  EX_cytd_e   \n",
       "2           3   sink_hemeO_c      0.0    65.829612  EX_cytd_e   \n",
       "3           4    sink_mobd_c      0.0  1000.000000  EX_cytd_e   \n",
       "4           5   sink_sheme_c      0.0    95.624557  EX_cytd_e   \n",
       "\n",
       "  metabolite_uptake mid_uptake  N_uptake  C_uptake  \\\n",
       "0          Cytidine     cytd_e      True      True   \n",
       "1          Cytidine     cytd_e      True      True   \n",
       "2          Cytidine     cytd_e      True      True   \n",
       "3          Cytidine     cytd_e      True      True   \n",
       "4          Cytidine     cytd_e      True      True   \n",
       "\n",
       "           metabolite_secretion mid_secretion  N_secretion  C_secretion  \n",
       "0  2-Octaprenyl-6-hydroxyphenol       2ohph_c        False         True  \n",
       "1                      P-Cresol      4crsol_c        False         True  \n",
       "2           Heme O C49H56FeN4O5       hemeO_c         True         True  \n",
       "3                     Molybdate        mobd_c        False        False  \n",
       "4        Siroheme C42H36FeN4O16       sheme_c         True         True  "
      ]
     },
     "execution_count": 36,
     "metadata": {},
     "output_type": "execute_result"
    }
   ],
   "source": [
    "alt_df.head()"
   ]
  },
  {
   "cell_type": "code",
   "execution_count": 37,
   "metadata": {},
   "outputs": [
    {
     "data": {
      "text/plain": [
       "253      Ammonium\n",
       "254      Ammonium\n",
       "255      Ammonium\n",
       "256      Ammonium\n",
       "257      Ammonium\n",
       "           ...   \n",
       "20191     Cyanate\n",
       "20192     Cyanate\n",
       "20193     Cyanate\n",
       "20194     Cyanate\n",
       "20195     Cyanate\n",
       "Name: metabolite_uptake, Length: 5880, dtype: object"
      ]
     },
     "execution_count": 37,
     "metadata": {},
     "output_type": "execute_result"
    }
   ],
   "source": [
    "alt2_df.loc[alt2_df.N_uptake, 'metabolite_uptake']"
   ]
  },
  {
   "cell_type": "code",
   "execution_count": 38,
   "metadata": {},
   "outputs": [
    {
     "data": {
      "text/html": [
       "<div>\n",
       "<style scoped>\n",
       "    .dataframe tbody tr th:only-of-type {\n",
       "        vertical-align: middle;\n",
       "    }\n",
       "\n",
       "    .dataframe tbody tr th {\n",
       "        vertical-align: top;\n",
       "    }\n",
       "\n",
       "    .dataframe thead th {\n",
       "        text-align: right;\n",
       "    }\n",
       "</style>\n",
       "<table border=\"1\" class=\"dataframe\">\n",
       "  <thead>\n",
       "    <tr style=\"text-align: right;\">\n",
       "      <th></th>\n",
       "      <th>Unnamed: 0</th>\n",
       "      <th>secretion</th>\n",
       "      <th>minimum</th>\n",
       "      <th>maximum</th>\n",
       "      <th>uptake</th>\n",
       "      <th>uptake2</th>\n",
       "      <th>metabolite_uptake</th>\n",
       "      <th>mid_uptake</th>\n",
       "      <th>N_uptake</th>\n",
       "      <th>C_uptake</th>\n",
       "      <th>metabolite_uptake2</th>\n",
       "      <th>mid_uptake2</th>\n",
       "      <th>N_uptake2</th>\n",
       "      <th>C_uptake2</th>\n",
       "      <th>metabolite_secretion</th>\n",
       "      <th>mid_secretion</th>\n",
       "      <th>N_secretion</th>\n",
       "      <th>C_secretion</th>\n",
       "    </tr>\n",
       "  </thead>\n",
       "  <tbody>\n",
       "    <tr>\n",
       "      <th>0</th>\n",
       "      <td>0</td>\n",
       "      <td>sink_2ohph_c</td>\n",
       "      <td>0.0</td>\n",
       "      <td>68.865821</td>\n",
       "      <td>EX_14glucan_e</td>\n",
       "      <td>EX_nh4_e</td>\n",
       "      <td>1,4-alpha-D-glucan</td>\n",
       "      <td>14glucan_e</td>\n",
       "      <td>False</td>\n",
       "      <td>True</td>\n",
       "      <td>Ammonium</td>\n",
       "      <td>nh4_e</td>\n",
       "      <td>True</td>\n",
       "      <td>False</td>\n",
       "      <td>2-Octaprenyl-6-hydroxyphenol</td>\n",
       "      <td>2ohph_c</td>\n",
       "      <td>False</td>\n",
       "      <td>True</td>\n",
       "    </tr>\n",
       "    <tr>\n",
       "      <th>1</th>\n",
       "      <td>1</td>\n",
       "      <td>sink_4crsol_c</td>\n",
       "      <td>0.0</td>\n",
       "      <td>308.174662</td>\n",
       "      <td>EX_14glucan_e</td>\n",
       "      <td>EX_nh4_e</td>\n",
       "      <td>1,4-alpha-D-glucan</td>\n",
       "      <td>14glucan_e</td>\n",
       "      <td>False</td>\n",
       "      <td>True</td>\n",
       "      <td>Ammonium</td>\n",
       "      <td>nh4_e</td>\n",
       "      <td>True</td>\n",
       "      <td>False</td>\n",
       "      <td>P-Cresol</td>\n",
       "      <td>4crsol_c</td>\n",
       "      <td>False</td>\n",
       "      <td>True</td>\n",
       "    </tr>\n",
       "    <tr>\n",
       "      <th>2</th>\n",
       "      <td>3</td>\n",
       "      <td>sink_hemeO_c</td>\n",
       "      <td>0.0</td>\n",
       "      <td>59.261590</td>\n",
       "      <td>EX_14glucan_e</td>\n",
       "      <td>EX_nh4_e</td>\n",
       "      <td>1,4-alpha-D-glucan</td>\n",
       "      <td>14glucan_e</td>\n",
       "      <td>False</td>\n",
       "      <td>True</td>\n",
       "      <td>Ammonium</td>\n",
       "      <td>nh4_e</td>\n",
       "      <td>True</td>\n",
       "      <td>False</td>\n",
       "      <td>Heme O C49H56FeN4O5</td>\n",
       "      <td>hemeO_c</td>\n",
       "      <td>True</td>\n",
       "      <td>True</td>\n",
       "    </tr>\n",
       "    <tr>\n",
       "      <th>3</th>\n",
       "      <td>4</td>\n",
       "      <td>sink_mobd_c</td>\n",
       "      <td>0.0</td>\n",
       "      <td>1000.000000</td>\n",
       "      <td>EX_14glucan_e</td>\n",
       "      <td>EX_nh4_e</td>\n",
       "      <td>1,4-alpha-D-glucan</td>\n",
       "      <td>14glucan_e</td>\n",
       "      <td>False</td>\n",
       "      <td>True</td>\n",
       "      <td>Ammonium</td>\n",
       "      <td>nh4_e</td>\n",
       "      <td>True</td>\n",
       "      <td>False</td>\n",
       "      <td>Molybdate</td>\n",
       "      <td>mobd_c</td>\n",
       "      <td>False</td>\n",
       "      <td>False</td>\n",
       "    </tr>\n",
       "    <tr>\n",
       "      <th>4</th>\n",
       "      <td>5</td>\n",
       "      <td>sink_sheme_c</td>\n",
       "      <td>0.0</td>\n",
       "      <td>77.873881</td>\n",
       "      <td>EX_14glucan_e</td>\n",
       "      <td>EX_nh4_e</td>\n",
       "      <td>1,4-alpha-D-glucan</td>\n",
       "      <td>14glucan_e</td>\n",
       "      <td>False</td>\n",
       "      <td>True</td>\n",
       "      <td>Ammonium</td>\n",
       "      <td>nh4_e</td>\n",
       "      <td>True</td>\n",
       "      <td>False</td>\n",
       "      <td>Siroheme C42H36FeN4O16</td>\n",
       "      <td>sheme_c</td>\n",
       "      <td>True</td>\n",
       "      <td>True</td>\n",
       "    </tr>\n",
       "  </tbody>\n",
       "</table>\n",
       "</div>"
      ],
      "text/plain": [
       "   Unnamed: 0      secretion  minimum      maximum         uptake   uptake2  \\\n",
       "0           0   sink_2ohph_c      0.0    68.865821  EX_14glucan_e  EX_nh4_e   \n",
       "1           1  sink_4crsol_c      0.0   308.174662  EX_14glucan_e  EX_nh4_e   \n",
       "2           3   sink_hemeO_c      0.0    59.261590  EX_14glucan_e  EX_nh4_e   \n",
       "3           4    sink_mobd_c      0.0  1000.000000  EX_14glucan_e  EX_nh4_e   \n",
       "4           5   sink_sheme_c      0.0    77.873881  EX_14glucan_e  EX_nh4_e   \n",
       "\n",
       "    metabolite_uptake  mid_uptake  N_uptake  C_uptake metabolite_uptake2  \\\n",
       "0  1,4-alpha-D-glucan  14glucan_e     False      True           Ammonium   \n",
       "1  1,4-alpha-D-glucan  14glucan_e     False      True           Ammonium   \n",
       "2  1,4-alpha-D-glucan  14glucan_e     False      True           Ammonium   \n",
       "3  1,4-alpha-D-glucan  14glucan_e     False      True           Ammonium   \n",
       "4  1,4-alpha-D-glucan  14glucan_e     False      True           Ammonium   \n",
       "\n",
       "  mid_uptake2  N_uptake2  C_uptake2          metabolite_secretion  \\\n",
       "0       nh4_e       True      False  2-Octaprenyl-6-hydroxyphenol   \n",
       "1       nh4_e       True      False                      P-Cresol   \n",
       "2       nh4_e       True      False           Heme O C49H56FeN4O5   \n",
       "3       nh4_e       True      False                     Molybdate   \n",
       "4       nh4_e       True      False        Siroheme C42H36FeN4O16   \n",
       "\n",
       "  mid_secretion  N_secretion  C_secretion  \n",
       "0       2ohph_c        False         True  \n",
       "1      4crsol_c        False         True  \n",
       "2       hemeO_c         True         True  \n",
       "3        mobd_c        False        False  \n",
       "4       sheme_c         True         True  "
      ]
     },
     "execution_count": 38,
     "metadata": {},
     "output_type": "execute_result"
    }
   ],
   "source": [
    "alt2_df.head()"
   ]
  },
  {
   "cell_type": "code",
   "execution_count": 39,
   "metadata": {},
   "outputs": [
    {
     "data": {
      "text/plain": [
       "Index(['Unnamed: 0', 'secretion', 'minimum', 'maximum', 'uptake',\n",
       "       'metabolite_uptake', 'mid_uptake', 'N_uptake', 'C_uptake',\n",
       "       'metabolite_secretion', 'mid_secretion', 'N_secretion', 'C_secretion'],\n",
       "      dtype='object')"
      ]
     },
     "execution_count": 39,
     "metadata": {},
     "output_type": "execute_result"
    }
   ],
   "source": [
    "pro_df.columns"
   ]
  },
  {
   "cell_type": "code",
   "execution_count": 43,
   "metadata": {},
   "outputs": [],
   "source": [
    "#pro_df = \n",
    "pro_df = pd.merge(pro_df, bigg_df[['mid', 'BiggID', 'name_ref']].drop_duplicates(), \n",
    "         left_on='mid_uptake', right_on='mid', how='left', suffixes=['', '_uptake'] )\n",
    "pro_df = pd.merge(pro_df, bigg_df[['mid', 'BiggID', 'name_ref']].drop_duplicates(), \n",
    "         left_on='mid_secretion', right_on='mid', how='left', suffixes=['', '_secretion'] )\n"
   ]
  },
  {
   "cell_type": "raw",
   "metadata": {},
   "source": [
    "p_map = pro_med_df['BiggID']\n",
    "p_map.index = pro_med_df['metabolite']\n",
    "pro_df['metabolite1_uptake'] = pro_df.metabolite_uptake.replace(p_map)\n",
    "pro_df['metabolite1_secretion'] = pro_df.metabolite_secretion.replace(p_map)\n"
   ]
  },
  {
   "cell_type": "raw",
   "metadata": {},
   "source": [
    "a_map = alt_med_df['metabolite_common']\n",
    "a_map.index = alt_med_df['metabolite']\n",
    "alt_df['metabolite1_uptake'] = alt_df.metabolite_uptake.replace(a_map)\n",
    "alt_df['metabolite1_secretion'] = alt_df.metabolite_secretion.replace(a_map)\n",
    "alt2_df['metabolite1_uptake'] = alt2_df.metabolite_uptake.replace(a_map)\n",
    "alt2_df['metabolite1_uptake2'] = alt2_df.metabolite_uptake2.replace(a_map)\n",
    "alt2_df['metabolite1_secretion'] = alt2_df.metabolite_secretion.replace(a_map)\n"
   ]
  },
  {
   "cell_type": "code",
   "execution_count": 45,
   "metadata": {},
   "outputs": [
    {
     "data": {
      "text/html": [
       "<div>\n",
       "<style scoped>\n",
       "    .dataframe tbody tr th:only-of-type {\n",
       "        vertical-align: middle;\n",
       "    }\n",
       "\n",
       "    .dataframe tbody tr th {\n",
       "        vertical-align: top;\n",
       "    }\n",
       "\n",
       "    .dataframe thead th {\n",
       "        text-align: right;\n",
       "    }\n",
       "</style>\n",
       "<table border=\"1\" class=\"dataframe\">\n",
       "  <thead>\n",
       "    <tr style=\"text-align: right;\">\n",
       "      <th></th>\n",
       "      <th>Unnamed: 0</th>\n",
       "      <th>secretion</th>\n",
       "      <th>minimum</th>\n",
       "      <th>maximum</th>\n",
       "      <th>uptake</th>\n",
       "      <th>metabolite_uptake</th>\n",
       "      <th>mid_uptake</th>\n",
       "      <th>N_uptake</th>\n",
       "      <th>C_uptake</th>\n",
       "      <th>metabolite_secretion</th>\n",
       "      <th>...</th>\n",
       "      <th>N_secretion</th>\n",
       "      <th>C_secretion</th>\n",
       "      <th>metabolite1_uptake</th>\n",
       "      <th>metabolite1_secretion</th>\n",
       "      <th>mid</th>\n",
       "      <th>BiggID</th>\n",
       "      <th>name_ref</th>\n",
       "      <th>mid_secretion</th>\n",
       "      <th>BiggID_secretion</th>\n",
       "      <th>name_ref_secretion</th>\n",
       "    </tr>\n",
       "  </thead>\n",
       "  <tbody>\n",
       "    <tr>\n",
       "      <th>0</th>\n",
       "      <td>0</td>\n",
       "      <td>B12EX</td>\n",
       "      <td>0.000000</td>\n",
       "      <td>7.941910</td>\n",
       "      <td>GuanosineEX</td>\n",
       "      <td>Guanosine[e]</td>\n",
       "      <td>Guanosine[e]</td>\n",
       "      <td>True</td>\n",
       "      <td>True</td>\n",
       "      <td>Cobamide coenzyme</td>\n",
       "      <td>...</td>\n",
       "      <td>True</td>\n",
       "      <td>True</td>\n",
       "      <td>gsn</td>\n",
       "      <td>adocbl</td>\n",
       "      <td>Guanosine[e]</td>\n",
       "      <td>gsn</td>\n",
       "      <td>Guanosine</td>\n",
       "      <td>Cobamide_coenzyme[e]</td>\n",
       "      <td>adocbl</td>\n",
       "      <td>Calomide</td>\n",
       "    </tr>\n",
       "    <tr>\n",
       "      <th>1</th>\n",
       "      <td>1</td>\n",
       "      <td>BiotinEX</td>\n",
       "      <td>0.000000</td>\n",
       "      <td>1.985477</td>\n",
       "      <td>GuanosineEX</td>\n",
       "      <td>Guanosine[e]</td>\n",
       "      <td>Guanosine[e]</td>\n",
       "      <td>True</td>\n",
       "      <td>True</td>\n",
       "      <td>Biotin</td>\n",
       "      <td>...</td>\n",
       "      <td>True</td>\n",
       "      <td>True</td>\n",
       "      <td>gsn</td>\n",
       "      <td>btn</td>\n",
       "      <td>Guanosine[e]</td>\n",
       "      <td>gsn</td>\n",
       "      <td>Guanosine</td>\n",
       "      <td>Biotin[e]</td>\n",
       "      <td>btn</td>\n",
       "      <td>BIOT</td>\n",
       "    </tr>\n",
       "    <tr>\n",
       "      <th>2</th>\n",
       "      <td>2</td>\n",
       "      <td>MethanolEX</td>\n",
       "      <td>0.000042</td>\n",
       "      <td>1.985519</td>\n",
       "      <td>GuanosineEX</td>\n",
       "      <td>Guanosine[e]</td>\n",
       "      <td>Guanosine[e]</td>\n",
       "      <td>True</td>\n",
       "      <td>True</td>\n",
       "      <td>Methanol</td>\n",
       "      <td>...</td>\n",
       "      <td>False</td>\n",
       "      <td>True</td>\n",
       "      <td>gsn</td>\n",
       "      <td>meoh</td>\n",
       "      <td>Guanosine[e]</td>\n",
       "      <td>gsn</td>\n",
       "      <td>Guanosine</td>\n",
       "      <td>Methanol[e]</td>\n",
       "      <td>meoh</td>\n",
       "      <td>Methanol</td>\n",
       "    </tr>\n",
       "    <tr>\n",
       "      <th>3</th>\n",
       "      <td>3</td>\n",
       "      <td>SAdenosyl4methylthio2oxobutanoateEX</td>\n",
       "      <td>0.000042</td>\n",
       "      <td>1.985519</td>\n",
       "      <td>GuanosineEX</td>\n",
       "      <td>Guanosine[e]</td>\n",
       "      <td>Guanosine[e]</td>\n",
       "      <td>True</td>\n",
       "      <td>True</td>\n",
       "      <td>S-Adenosyl-4-methylthio-2-oxobutanoate</td>\n",
       "      <td>...</td>\n",
       "      <td>True</td>\n",
       "      <td>True</td>\n",
       "      <td>gsn</td>\n",
       "      <td>amob</td>\n",
       "      <td>Guanosine[e]</td>\n",
       "      <td>gsn</td>\n",
       "      <td>Guanosine</td>\n",
       "      <td>S_Adenosyl_4_methylthio_2_oxobutanoate[e]</td>\n",
       "      <td>amob</td>\n",
       "      <td>S-Adenosyl-4-methylthio-2-oxobutanoate</td>\n",
       "    </tr>\n",
       "    <tr>\n",
       "      <th>4</th>\n",
       "      <td>4</td>\n",
       "      <td>SMethyl5thioDriboseEX</td>\n",
       "      <td>0.000000</td>\n",
       "      <td>15.884229</td>\n",
       "      <td>GuanosineEX</td>\n",
       "      <td>Guanosine[e]</td>\n",
       "      <td>Guanosine[e]</td>\n",
       "      <td>True</td>\n",
       "      <td>True</td>\n",
       "      <td>S-Methyl-5-thio-D-ribose</td>\n",
       "      <td>...</td>\n",
       "      <td>False</td>\n",
       "      <td>True</td>\n",
       "      <td>gsn</td>\n",
       "      <td>5mtr</td>\n",
       "      <td>Guanosine[e]</td>\n",
       "      <td>gsn</td>\n",
       "      <td>Guanosine</td>\n",
       "      <td>S_Methyl_5_thio_D_ribose[e]</td>\n",
       "      <td>5mtr</td>\n",
       "      <td>5-Methylthio-D-ribose</td>\n",
       "    </tr>\n",
       "  </tbody>\n",
       "</table>\n",
       "<p>5 rows × 21 columns</p>\n",
       "</div>"
      ],
      "text/plain": [
       "   Unnamed: 0                            secretion   minimum    maximum  \\\n",
       "0           0                                B12EX  0.000000   7.941910   \n",
       "1           1                             BiotinEX  0.000000   1.985477   \n",
       "2           2                           MethanolEX  0.000042   1.985519   \n",
       "3           3  SAdenosyl4methylthio2oxobutanoateEX  0.000042   1.985519   \n",
       "4           4                SMethyl5thioDriboseEX  0.000000  15.884229   \n",
       "\n",
       "        uptake metabolite_uptake    mid_uptake  N_uptake  C_uptake  \\\n",
       "0  GuanosineEX      Guanosine[e]  Guanosine[e]      True      True   \n",
       "1  GuanosineEX      Guanosine[e]  Guanosine[e]      True      True   \n",
       "2  GuanosineEX      Guanosine[e]  Guanosine[e]      True      True   \n",
       "3  GuanosineEX      Guanosine[e]  Guanosine[e]      True      True   \n",
       "4  GuanosineEX      Guanosine[e]  Guanosine[e]      True      True   \n",
       "\n",
       "                     metabolite_secretion  ... N_secretion  C_secretion  \\\n",
       "0                       Cobamide coenzyme  ...        True         True   \n",
       "1                                  Biotin  ...        True         True   \n",
       "2                                Methanol  ...       False         True   \n",
       "3  S-Adenosyl-4-methylthio-2-oxobutanoate  ...        True         True   \n",
       "4                S-Methyl-5-thio-D-ribose  ...       False         True   \n",
       "\n",
       "   metabolite1_uptake metabolite1_secretion           mid BiggID   name_ref  \\\n",
       "0                 gsn                adocbl  Guanosine[e]    gsn  Guanosine   \n",
       "1                 gsn                   btn  Guanosine[e]    gsn  Guanosine   \n",
       "2                 gsn                  meoh  Guanosine[e]    gsn  Guanosine   \n",
       "3                 gsn                  amob  Guanosine[e]    gsn  Guanosine   \n",
       "4                 gsn                  5mtr  Guanosine[e]    gsn  Guanosine   \n",
       "\n",
       "                               mid_secretion BiggID_secretion  \\\n",
       "0                       Cobamide_coenzyme[e]           adocbl   \n",
       "1                                  Biotin[e]              btn   \n",
       "2                                Methanol[e]             meoh   \n",
       "3  S_Adenosyl_4_methylthio_2_oxobutanoate[e]             amob   \n",
       "4                S_Methyl_5_thio_D_ribose[e]             5mtr   \n",
       "\n",
       "                       name_ref_secretion  \n",
       "0                                Calomide  \n",
       "1                                    BIOT  \n",
       "2                                Methanol  \n",
       "3  S-Adenosyl-4-methylthio-2-oxobutanoate  \n",
       "4                   5-Methylthio-D-ribose  \n",
       "\n",
       "[5 rows x 21 columns]"
      ]
     },
     "execution_count": 45,
     "metadata": {},
     "output_type": "execute_result"
    }
   ],
   "source": [
    "pro_df.head()"
   ]
  },
  {
   "cell_type": "code",
   "execution_count": 46,
   "metadata": {},
   "outputs": [],
   "source": [
    "alt_uptake = (set(alt_df.metabolite_uptake.unique()) | set(alt2_df.metabolite_uptake.unique()) | \n",
    "              set(alt2_df.metabolite_uptake2.unique()))\n",
    "alt1_uptake = set(alt_df.metabolite_uptake.unique()) \n",
    "alt2_uptake = set(alt2_df.metabolite_uptake.unique()) | set(alt2_df.metabolite_uptake2.unique())\n",
    "pro_uptake = set(pro_df.name_ref.unique())\n",
    "alt_secretion = set(alt_df.metabolite_secretion.unique()) | set(alt2_df.metabolite_secretion.unique())\n",
    "pro_secretion = set(pro_df.name_ref_secretion.unique())\n"
   ]
  },
  {
   "cell_type": "code",
   "execution_count": 47,
   "metadata": {},
   "outputs": [],
   "source": [
    "alt2_N_metabolites = (\n",
    "    set(alt2_df.loc[alt2_df.N_uptake, 'metabolite_uptake'].unique()) | \n",
    "    set(alt2_df.loc[alt2_df.N_uptake2, 'metabolite_uptake2'].unique()) \n",
    ")\n",
    "alt2_C_metabolites = (\n",
    "    set(alt2_df.loc[alt2_df.C_uptake, 'metabolite_uptake'].unique()) | \n",
    "    set(alt2_df.loc[alt2_df.C_uptake2, 'metabolite_uptake2'].unique()) \n",
    ")\n",
    "\n"
   ]
  },
  {
   "cell_type": "code",
   "execution_count": 48,
   "metadata": {},
   "outputs": [
    {
     "name": "stdout",
     "output_type": "stream",
     "text": [
      "\n",
      "alt2_N_metabolites 7 \n",
      "alt2_C_metabolites 80 \n",
      "alt2_C+N_metabolites 3 \n",
      "alt2_none_metabolites 1\n"
     ]
    }
   ],
   "source": [
    "print(\n",
    "    '\\nalt2_N_metabolites', len(alt2_N_metabolites), \n",
    "    '\\nalt2_C_metabolites', len(alt2_C_metabolites), \n",
    "    '\\nalt2_C+N_metabolites', len(alt2_C_metabolites & alt2_N_metabolites), \n",
    "    '\\nalt2_none_metabolites', len(alt2_uptake - (alt2_C_metabolites | alt2_N_metabolites)), \n",
    "    \n",
    ")"
   ]
  },
  {
   "cell_type": "code",
   "execution_count": 49,
   "metadata": {},
   "outputs": [
    {
     "data": {
      "text/plain": [
       "'2 4 6 Trinitrotoluene, Ammonium, Nitrate, Nitrite'"
      ]
     },
     "execution_count": 49,
     "metadata": {},
     "output_type": "execute_result"
    }
   ],
   "source": [
    "', '.join(sorted(alt2_N_metabolites - alt2_C_metabolites))"
   ]
  },
  {
   "cell_type": "code",
   "execution_count": 50,
   "metadata": {},
   "outputs": [
    {
     "data": {
      "text/plain": [
       "' R  Acetoin C4H8O2, (R)-3-Hydroxybutanoate, 1,4-alpha-D-glucan, 1-Propanol, 10 Phenyldecanoic acid, 2,5-diketo-D-gluconate, 2-Phosphoglycolate, 3-Methylbutanoic acid, 4-Hydroxyphenylacetate, 5 phenylvaleric acid, 5-Dehydro-D-gluconate, 6 Phenylhexanoic acid, 6 acetylthiohexanoic acid, 7 Phenylheptanoic acid, 8 Phenyloctanoic acid, 9 Phenylnonanoic acid, Acetaldehyde, Acetate, Acetoacetate, Beta D-Galactose, Butyrate (n-C4:0), Carbon monoxide, Cellobiose, Citrate, D-Fructose, D-Galactose, D-Galacturonate, D-Glucose, D-Glucuronate, D-Lactate, D-Mannitol, D-Mannose, D-Ribose, D-Sorbitol, Decanoate (n-C10:0), Deoxyribose C5H10O4, Dodecanoate (n-C12:0), Ethanol, Fe(III)dicitrate, Formate, Fumarate, Galactitol, Glycerol, Glycerol 2-phosphate, Glycerophosphoglycerol, Glycol, Heptanoate, Hexadecanoate (n-C16:0), Hexadecenoate (n-C16:1), Hexanoate (n-C6:0), Isobutyrate, L-Ascorbate, L-Fucose, L-Idonate, L-Lactate, L-Malate, Lactose C12H22O11, Linoleic acid (all cis C18:2) n-6, Maltopentaose, Maltose C12H22O11, Melibiose C12H22O11, Methanol, Nonanoate C9H17O2, Octadecanoate (n-C18:0), Octadecenoate (n-C18:1), Octanoate (n-C8:0), Pentanoate, Petroselaidic acid, Propionate (n-C3:0), Pyruvate, Raffinose C18H32O16, Succinate, Sucrose C12H22O11, Tetradecanoate (n-C14:0), Tetradecenoate (n-C14:1), Trehalose, Vanillate'"
      ]
     },
     "execution_count": 50,
     "metadata": {},
     "output_type": "execute_result"
    }
   ],
   "source": [
    "', '.join(sorted(alt2_C_metabolites - alt2_N_metabolites))"
   ]
  },
  {
   "cell_type": "code",
   "execution_count": 51,
   "metadata": {},
   "outputs": [
    {
     "data": {
      "text/plain": [
       "'Cyanate, Phenethylamine, Urea CH4N2O'"
      ]
     },
     "execution_count": 51,
     "metadata": {},
     "output_type": "execute_result"
    }
   ],
   "source": [
    "', '.join(sorted(alt2_C_metabolites & alt2_N_metabolites))"
   ]
  },
  {
   "cell_type": "code",
   "execution_count": 52,
   "metadata": {},
   "outputs": [
    {
     "data": {
      "text/plain": [
       "'Hydrogen sulfide'"
      ]
     },
     "execution_count": 52,
     "metadata": {},
     "output_type": "execute_result"
    }
   ],
   "source": [
    "', '.join(sorted(alt2_uptake - (alt2_C_metabolites | alt2_N_metabolites)))"
   ]
  },
  {
   "cell_type": "code",
   "execution_count": null,
   "metadata": {},
   "outputs": [],
   "source": []
  },
  {
   "cell_type": "code",
   "execution_count": 53,
   "metadata": {},
   "outputs": [
    {
     "name": "stdout",
     "output_type": "stream",
     "text": [
      "\n",
      "alt->pro 4 \n",
      "alt_secretion 53 \n",
      "pro_uptake 17 \n",
      "pro->alt 25 \n",
      "pro_secretion 58 \n",
      "alt_uptake 152 \n",
      "alt1_uptake 67 \n",
      "alt2_uptake 85\n"
     ]
    }
   ],
   "source": [
    "print(\n",
    "    '\\nalt->pro', len(pro_uptake & alt_secretion), \n",
    "    '\\nalt_secretion', len(alt_secretion), \n",
    "    '\\npro_uptake', len(pro_uptake), \n",
    "    '\\npro->alt', len(alt_uptake & pro_secretion), \n",
    "    '\\npro_secretion', len(pro_secretion),\n",
    "    '\\nalt_uptake', len(alt_uptake), \n",
    "    '\\nalt1_uptake', len(alt1_uptake), \n",
    "    '\\nalt2_uptake', len(alt2_uptake), \n",
    ")"
   ]
  },
  {
   "cell_type": "code",
   "execution_count": 55,
   "metadata": {},
   "outputs": [
    {
     "data": {
      "text/plain": [
       "'Acetate, Adenine, Citrate, Ethanol, Formate, Fumarate, Glycine, Guanine, L-Alanine, L-Arginine, L-Asparagine, L-Aspartate, L-Glutamate, L-Glutamine, L-Histidine, L-Isoleucine, L-Lysine, L-Malate, L-Proline, L-Serine, Methanol, Putrescine, Pyruvate, Succinate, Xanthosine'"
      ]
     },
     "execution_count": 55,
     "metadata": {},
     "output_type": "execute_result"
    }
   ],
   "source": [
    "', '.join(sorted(alt_uptake & pro_secretion))"
   ]
  },
  {
   "cell_type": "code",
   "execution_count": 56,
   "metadata": {},
   "outputs": [
    {
     "data": {
      "text/plain": [
       "'2-Aminoethylphosphonate, Adenine, Adenosine, Ala L asp L C7H11N2O5, Ala L glu L C8H13N2O5, Ala-Gln, Ala-His, Ala-L-Thr-L, Allantoin, Choline C5H14NO, Choline sulfate, Cys Gly C5H10N2O3S, Cytidine, Cytosine, D-Alanine, Gly asn L C6H11N3O4, Gly asp L C6H9N2O5, Gly glu L C7H11N2O5, Gly pro L C7H12N2O3, Gly-Cys, Gly-Gln, Gly-Phe, Gly-Tyr, Glycerophosphoserine, Glycine, Glycine betaine, Glycine-glycine-glutamine tripeptide, Glycylglycine C4H8N2O3, Glycylphenylalanine, Guanine, Hypoxanthine, Inosine, L alaninylhistidine, L alaninylthreonine, L alaninyltryptophan, L glycinylglutamate, L glycinylglutamine, L glycinylserine, L histidinylglycine, L histidinylhistidine, L-Alanine, L-Arginine, L-Asparagine, L-Aspartate, L-Carnitine, L-Cysteine, L-Glutamate, L-Glutamine, L-Histidine, L-Isoleucine, L-Lysine, L-Proline, L-Prolinylglycine, L-Serine, L-alanine-L-glutamate, L-alanylglycine, Lysine-glutamine-glycine tripeptide, NMN C11H14N2O8P, Ornithine, Putrescine, Reduced glutathione, Serine-glutamine-glycine tripeptide, Sn-Glycero-3-phosphocholine, Uracil, Uridine, Xanthine, Xanthosine'"
      ]
     },
     "execution_count": 56,
     "metadata": {},
     "output_type": "execute_result"
    }
   ],
   "source": [
    "', '.join(sorted(alt1_uptake))"
   ]
  },
  {
   "cell_type": "code",
   "execution_count": 57,
   "metadata": {},
   "outputs": [
    {
     "data": {
      "text/plain": [
       "' R  Acetoin C4H8O2, (R)-3-Hydroxybutanoate, 1,4-alpha-D-glucan, 1-Propanol, 10 Phenyldecanoic acid, 2 4 6 Trinitrotoluene, 2,5-diketo-D-gluconate, 2-Phosphoglycolate, 3-Methylbutanoic acid, 4-Hydroxyphenylacetate, 5 phenylvaleric acid, 5-Dehydro-D-gluconate, 6 Phenylhexanoic acid, 6 acetylthiohexanoic acid, 7 Phenylheptanoic acid, 8 Phenyloctanoic acid, 9 Phenylnonanoic acid, Acetaldehyde, Acetate, Acetoacetate, Ammonium, Beta D-Galactose, Butyrate (n-C4:0), Carbon monoxide, Cellobiose, Citrate, Cyanate, D-Fructose, D-Galactose, D-Galacturonate, D-Glucose, D-Glucuronate, D-Lactate, D-Mannitol, D-Mannose, D-Ribose, D-Sorbitol, Decanoate (n-C10:0), Deoxyribose C5H10O4, Dodecanoate (n-C12:0), Ethanol, Fe(III)dicitrate, Formate, Fumarate, Galactitol, Glycerol, Glycerol 2-phosphate, Glycerophosphoglycerol, Glycol, Heptanoate, Hexadecanoate (n-C16:0), Hexadecenoate (n-C16:1), Hexanoate (n-C6:0), Hydrogen sulfide, Isobutyrate, L-Ascorbate, L-Fucose, L-Idonate, L-Lactate, L-Malate, Lactose C12H22O11, Linoleic acid (all cis C18:2) n-6, Maltopentaose, Maltose C12H22O11, Melibiose C12H22O11, Methanol, Nitrate, Nitrite, Nonanoate C9H17O2, Octadecanoate (n-C18:0), Octadecenoate (n-C18:1), Octanoate (n-C8:0), Pentanoate, Petroselaidic acid, Phenethylamine, Propionate (n-C3:0), Pyruvate, Raffinose C18H32O16, Succinate, Sucrose C12H22O11, Tetradecanoate (n-C14:0), Tetradecenoate (n-C14:1), Trehalose, Urea CH4N2O, Vanillate'"
      ]
     },
     "execution_count": 57,
     "metadata": {},
     "output_type": "execute_result"
    }
   ],
   "source": [
    "', '.join(sorted(alt2_uptake))"
   ]
  },
  {
   "cell_type": "code",
   "execution_count": 58,
   "metadata": {},
   "outputs": [
    {
     "data": {
      "text/plain": [
       "'4MOP, 5-Methylthio-D-ribose, 5-Methylthioadenosine, ABEE, Acetate, Adenine, BIOT, Calomide, Citrate, Dethiobiotin, Ethanol, Formate, Fumarate, GSH, Glycerol-3-phosphate, Glycine, Glycogen, Glycolate, Guanine, Guanosine, H2O2, H2S, H2S2O3, L-Alanine, L-Arginine, L-Asparagine, L-Aspartate, L-Cystine, L-Glutamate, L-Glutamine, L-Histidine, L-Isoleucine, L-Leucine, L-Lysine, L-Malate, L-Methionine, L-Phenylalanine, L-Proline, L-Serine, L-Threonine, L-Tryptophan, L-Tyrosine, L-Valine, Lipid A disaccharide, Methanol, NH3, NH4+, PAN, Putrescine, Pyruvate, S-Adenosyl-4-methylthio-2-oxobutanoate, S2-, Spermidine, Spermine, Succinate, Thymidine, Urea, Xanthosine'"
      ]
     },
     "execution_count": 58,
     "metadata": {},
     "output_type": "execute_result"
    }
   ],
   "source": [
    "', '.join(sorted(pro_secretion))"
   ]
  },
  {
   "cell_type": "code",
   "execution_count": 59,
   "metadata": {},
   "outputs": [
    {
     "data": {
      "text/plain": [
       "'Guanine, L-Aspartate, L-Serine, L-Valine'"
      ]
     },
     "execution_count": 59,
     "metadata": {},
     "output_type": "execute_result"
    }
   ],
   "source": [
    "', '.join(sorted(pro_uptake & alt_secretion))"
   ]
  },
  {
   "cell_type": "code",
   "execution_count": 60,
   "metadata": {},
   "outputs": [
    {
     "data": {
      "text/plain": [
       "'Cyanate, GSH, Glycine, Guanine, Guanosine, L-Alanine, L-Arginine, L-Aspartate, L-Cystine, L-Glutamate, L-Glutamine, L-Leucine, L-Serine, L-Valine, NH3, NH4+, Urea'"
      ]
     },
     "execution_count": 60,
     "metadata": {},
     "output_type": "execute_result"
    }
   ],
   "source": [
    "', '.join(sorted(pro_uptake))"
   ]
  },
  {
   "cell_type": "code",
   "execution_count": 61,
   "metadata": {},
   "outputs": [
    {
     "data": {
      "text/plain": [
       "\"(2R,4S)-2-methyl-2,3,3,4-tetrahydroxytetrahydrofuran, 2-Octaprenyl-6-hydroxyphenol, 3 Hydroxy 4 acetylthiobutanoic acid, 4-Hydroxybenzoate, 5'-deoxyribose, 5-Methylthio-5-deoxy-D-ribulose 1-phosphate, Acetaldehyde, Ammonium, Benzoate, Cellobiose, Choline C5H14NO, D-Galactose, D-Glucose, D-Ribose, Ethanol, Ethanolamine, Fe2+ mitochondria, Formaldehyde, Formate, Glycerol, Glycerol 3-phosphate, Glycerophosphoglycerol, Glycine betaine, Guanine, Heme O C49H56FeN4O5, Hydrogen sulfide, Indole, Indole 3 acetate C10H8NO2, L-Aspartate, L-Homoserine, L-Lysine, L-Serine, L-Valine, Methanol, Molybdate, N  2 methyl 3 5 dinitrophenyl  4 methyl 3 5 dinitroaniline, N N bis 3 5 dinitrotolyl  amine, Nitrite, Ornithine, Oxalate, P-Cresol, Phenylacetaldehyde, Phosphate, Protoheme C34H30FeN4O4, Selenite, Siroheme C42H36FeN4O16, Sn-Glycero-3-phosphoethanolamine, Spermidine, Sulfur, Thymine C5H6N2O2, Trans-Cinnamate, Uracil, Urea CH4N2O\""
      ]
     },
     "execution_count": 61,
     "metadata": {},
     "output_type": "execute_result"
    }
   ],
   "source": [
    "', '.join(sorted(alt_secretion))"
   ]
  },
  {
   "cell_type": "code",
   "execution_count": 62,
   "metadata": {
    "scrolled": true
   },
   "outputs": [
    {
     "data": {
      "text/plain": [
       "{' R  Acetoin C4H8O2',\n",
       " '(2R,4S)-2-methyl-2,3,3,4-tetrahydroxytetrahydrofuran',\n",
       " '(R)-3-Hydroxybutanoate',\n",
       " '1,4-alpha-D-glucan',\n",
       " '1-Propanol',\n",
       " '10 Phenyldecanoic acid',\n",
       " '2 4 6 Trinitrotoluene',\n",
       " '2,5-diketo-D-gluconate',\n",
       " '2-Aminoethylphosphonate',\n",
       " '2-Octaprenyl-6-hydroxyphenol',\n",
       " '2-Phosphoglycolate',\n",
       " '3 Hydroxy 4 acetylthiobutanoic acid',\n",
       " '3-Methylbutanoic acid',\n",
       " '4-Hydroxybenzoate',\n",
       " '4-Hydroxyphenylacetate',\n",
       " '4MOP',\n",
       " '5 phenylvaleric acid',\n",
       " \"5'-deoxyribose\",\n",
       " '5-Dehydro-D-gluconate',\n",
       " '5-Methylthio-5-deoxy-D-ribulose 1-phosphate',\n",
       " '5-Methylthio-D-ribose',\n",
       " '5-Methylthioadenosine',\n",
       " '6 Phenylhexanoic acid',\n",
       " '6 acetylthiohexanoic acid',\n",
       " '7 Phenylheptanoic acid',\n",
       " '8 Phenyloctanoic acid',\n",
       " '9 Phenylnonanoic acid',\n",
       " 'ABEE',\n",
       " 'Acetaldehyde',\n",
       " 'Acetate',\n",
       " 'Acetoacetate',\n",
       " 'Adenine',\n",
       " 'Adenosine',\n",
       " 'Ala L asp L C7H11N2O5',\n",
       " 'Ala L glu L C8H13N2O5',\n",
       " 'Ala-Gln',\n",
       " 'Ala-His',\n",
       " 'Ala-L-Thr-L',\n",
       " 'Allantoin',\n",
       " 'Ammonium',\n",
       " 'BIOT',\n",
       " 'Benzoate',\n",
       " 'Beta D-Galactose',\n",
       " 'Butyrate (n-C4:0)',\n",
       " 'Calomide',\n",
       " 'Carbon monoxide',\n",
       " 'Cellobiose',\n",
       " 'Choline C5H14NO',\n",
       " 'Choline sulfate',\n",
       " 'Citrate',\n",
       " 'Cyanate',\n",
       " 'Cys Gly C5H10N2O3S',\n",
       " 'Cytidine',\n",
       " 'Cytosine',\n",
       " 'D-Alanine',\n",
       " 'D-Fructose',\n",
       " 'D-Galactose',\n",
       " 'D-Galacturonate',\n",
       " 'D-Glucose',\n",
       " 'D-Glucuronate',\n",
       " 'D-Lactate',\n",
       " 'D-Mannitol',\n",
       " 'D-Mannose',\n",
       " 'D-Ribose',\n",
       " 'D-Sorbitol',\n",
       " 'Decanoate (n-C10:0)',\n",
       " 'Deoxyribose C5H10O4',\n",
       " 'Dethiobiotin',\n",
       " 'Dodecanoate (n-C12:0)',\n",
       " 'Ethanol',\n",
       " 'Ethanolamine',\n",
       " 'Fe(III)dicitrate',\n",
       " 'Fe2+ mitochondria',\n",
       " 'Formaldehyde',\n",
       " 'Formate',\n",
       " 'Fumarate',\n",
       " 'GSH',\n",
       " 'Galactitol',\n",
       " 'Gly asn L C6H11N3O4',\n",
       " 'Gly asp L C6H9N2O5',\n",
       " 'Gly glu L C7H11N2O5',\n",
       " 'Gly pro L C7H12N2O3',\n",
       " 'Gly-Cys',\n",
       " 'Gly-Gln',\n",
       " 'Gly-Phe',\n",
       " 'Gly-Tyr',\n",
       " 'Glycerol',\n",
       " 'Glycerol 2-phosphate',\n",
       " 'Glycerol 3-phosphate',\n",
       " 'Glycerol-3-phosphate',\n",
       " 'Glycerophosphoglycerol',\n",
       " 'Glycerophosphoserine',\n",
       " 'Glycine',\n",
       " 'Glycine betaine',\n",
       " 'Glycine-glycine-glutamine tripeptide',\n",
       " 'Glycogen',\n",
       " 'Glycol',\n",
       " 'Glycolate',\n",
       " 'Glycylglycine C4H8N2O3',\n",
       " 'Glycylphenylalanine',\n",
       " 'Guanine',\n",
       " 'Guanosine',\n",
       " 'H2O2',\n",
       " 'H2S',\n",
       " 'H2S2O3',\n",
       " 'Heme O C49H56FeN4O5',\n",
       " 'Heptanoate',\n",
       " 'Hexadecanoate (n-C16:0)',\n",
       " 'Hexadecenoate (n-C16:1)',\n",
       " 'Hexanoate (n-C6:0)',\n",
       " 'Hydrogen sulfide',\n",
       " 'Hypoxanthine',\n",
       " 'Indole',\n",
       " 'Indole 3 acetate C10H8NO2',\n",
       " 'Inosine',\n",
       " 'Isobutyrate',\n",
       " 'L alaninylhistidine',\n",
       " 'L alaninylthreonine',\n",
       " 'L alaninyltryptophan',\n",
       " 'L glycinylglutamate',\n",
       " 'L glycinylglutamine',\n",
       " 'L glycinylserine',\n",
       " 'L histidinylglycine',\n",
       " 'L histidinylhistidine',\n",
       " 'L-Alanine',\n",
       " 'L-Arginine',\n",
       " 'L-Ascorbate',\n",
       " 'L-Asparagine',\n",
       " 'L-Aspartate',\n",
       " 'L-Carnitine',\n",
       " 'L-Cysteine',\n",
       " 'L-Cystine',\n",
       " 'L-Fucose',\n",
       " 'L-Glutamate',\n",
       " 'L-Glutamine',\n",
       " 'L-Histidine',\n",
       " 'L-Homoserine',\n",
       " 'L-Idonate',\n",
       " 'L-Isoleucine',\n",
       " 'L-Lactate',\n",
       " 'L-Leucine',\n",
       " 'L-Lysine',\n",
       " 'L-Malate',\n",
       " 'L-Methionine',\n",
       " 'L-Phenylalanine',\n",
       " 'L-Proline',\n",
       " 'L-Prolinylglycine',\n",
       " 'L-Serine',\n",
       " 'L-Threonine',\n",
       " 'L-Tryptophan',\n",
       " 'L-Tyrosine',\n",
       " 'L-Valine',\n",
       " 'L-alanine-L-glutamate',\n",
       " 'L-alanylglycine',\n",
       " 'Lactose C12H22O11',\n",
       " 'Linoleic acid (all cis C18:2) n-6',\n",
       " 'Lipid A disaccharide',\n",
       " 'Lysine-glutamine-glycine tripeptide',\n",
       " 'Maltopentaose',\n",
       " 'Maltose C12H22O11',\n",
       " 'Melibiose C12H22O11',\n",
       " 'Methanol',\n",
       " 'Molybdate',\n",
       " 'N  2 methyl 3 5 dinitrophenyl  4 methyl 3 5 dinitroaniline',\n",
       " 'N N bis 3 5 dinitrotolyl  amine',\n",
       " 'NH3',\n",
       " 'NH4+',\n",
       " 'NMN C11H14N2O8P',\n",
       " 'Nitrate',\n",
       " 'Nitrite',\n",
       " 'Nonanoate C9H17O2',\n",
       " 'Octadecanoate (n-C18:0)',\n",
       " 'Octadecenoate (n-C18:1)',\n",
       " 'Octanoate (n-C8:0)',\n",
       " 'Ornithine',\n",
       " 'Oxalate',\n",
       " 'P-Cresol',\n",
       " 'PAN',\n",
       " 'Pentanoate',\n",
       " 'Petroselaidic acid',\n",
       " 'Phenethylamine',\n",
       " 'Phenylacetaldehyde',\n",
       " 'Phosphate',\n",
       " 'Propionate (n-C3:0)',\n",
       " 'Protoheme C34H30FeN4O4',\n",
       " 'Putrescine',\n",
       " 'Pyruvate',\n",
       " 'Raffinose C18H32O16',\n",
       " 'Reduced glutathione',\n",
       " 'S-Adenosyl-4-methylthio-2-oxobutanoate',\n",
       " 'S2-',\n",
       " 'Selenite',\n",
       " 'Serine-glutamine-glycine tripeptide',\n",
       " 'Siroheme C42H36FeN4O16',\n",
       " 'Sn-Glycero-3-phosphocholine',\n",
       " 'Sn-Glycero-3-phosphoethanolamine',\n",
       " 'Spermidine',\n",
       " 'Spermine',\n",
       " 'Succinate',\n",
       " 'Sucrose C12H22O11',\n",
       " 'Sulfur',\n",
       " 'Tetradecanoate (n-C14:0)',\n",
       " 'Tetradecenoate (n-C14:1)',\n",
       " 'Thymidine',\n",
       " 'Thymine C5H6N2O2',\n",
       " 'Trans-Cinnamate',\n",
       " 'Trehalose',\n",
       " 'Uracil',\n",
       " 'Urea',\n",
       " 'Urea CH4N2O',\n",
       " 'Uridine',\n",
       " 'Vanillate',\n",
       " 'Xanthine',\n",
       " 'Xanthosine'}"
      ]
     },
     "execution_count": 62,
     "metadata": {},
     "output_type": "execute_result"
    }
   ],
   "source": [
    "alt_uptake | pro_uptake | alt_secretion | pro_secretion"
   ]
  },
  {
   "cell_type": "code",
   "execution_count": 63,
   "metadata": {},
   "outputs": [
    {
     "data": {
      "text/html": [
       "<div>\n",
       "<style scoped>\n",
       "    .dataframe tbody tr th:only-of-type {\n",
       "        vertical-align: middle;\n",
       "    }\n",
       "\n",
       "    .dataframe tbody tr th {\n",
       "        vertical-align: top;\n",
       "    }\n",
       "\n",
       "    .dataframe thead th {\n",
       "        text-align: right;\n",
       "    }\n",
       "</style>\n",
       "<table border=\"1\" class=\"dataframe\">\n",
       "  <thead>\n",
       "    <tr style=\"text-align: right;\">\n",
       "      <th></th>\n",
       "      <th>Unnamed: 0</th>\n",
       "      <th>secretion</th>\n",
       "      <th>minimum</th>\n",
       "      <th>maximum</th>\n",
       "      <th>uptake</th>\n",
       "      <th>metabolite_uptake</th>\n",
       "      <th>mid_uptake</th>\n",
       "      <th>N_uptake</th>\n",
       "      <th>C_uptake</th>\n",
       "      <th>metabolite_secretion</th>\n",
       "      <th>...</th>\n",
       "      <th>N_secretion</th>\n",
       "      <th>C_secretion</th>\n",
       "      <th>metabolite1_uptake</th>\n",
       "      <th>metabolite1_secretion</th>\n",
       "      <th>mid</th>\n",
       "      <th>BiggID</th>\n",
       "      <th>name_ref</th>\n",
       "      <th>mid_secretion</th>\n",
       "      <th>BiggID_secretion</th>\n",
       "      <th>name_ref_secretion</th>\n",
       "    </tr>\n",
       "  </thead>\n",
       "  <tbody>\n",
       "  </tbody>\n",
       "</table>\n",
       "<p>0 rows × 21 columns</p>\n",
       "</div>"
      ],
      "text/plain": [
       "Empty DataFrame\n",
       "Columns: [Unnamed: 0, secretion, minimum, maximum, uptake, metabolite_uptake, mid_uptake, N_uptake, C_uptake, metabolite_secretion, mid_secretion, N_secretion, C_secretion, metabolite1_uptake, metabolite1_secretion, mid, BiggID, name_ref, mid_secretion, BiggID_secretion, name_ref_secretion]\n",
       "Index: []\n",
       "\n",
       "[0 rows x 21 columns]"
      ]
     },
     "execution_count": 63,
     "metadata": {},
     "output_type": "execute_result"
    }
   ],
   "source": [
    "pro_df.loc[pro_df.isna().sum(axis=1) > 0]"
   ]
  },
  {
   "cell_type": "code",
   "execution_count": 64,
   "metadata": {},
   "outputs": [
    {
     "data": {
      "text/html": [
       "<div>\n",
       "<style scoped>\n",
       "    .dataframe tbody tr th:only-of-type {\n",
       "        vertical-align: middle;\n",
       "    }\n",
       "\n",
       "    .dataframe tbody tr th {\n",
       "        vertical-align: top;\n",
       "    }\n",
       "\n",
       "    .dataframe thead th {\n",
       "        text-align: right;\n",
       "    }\n",
       "</style>\n",
       "<table border=\"1\" class=\"dataframe\">\n",
       "  <thead>\n",
       "    <tr style=\"text-align: right;\">\n",
       "      <th></th>\n",
       "      <th>Unnamed: 0</th>\n",
       "      <th>secretion</th>\n",
       "      <th>minimum</th>\n",
       "      <th>maximum</th>\n",
       "      <th>uptake</th>\n",
       "      <th>metabolite_uptake</th>\n",
       "      <th>mid_uptake</th>\n",
       "      <th>N_uptake</th>\n",
       "      <th>C_uptake</th>\n",
       "      <th>metabolite_secretion</th>\n",
       "      <th>mid_secretion</th>\n",
       "      <th>N_secretion</th>\n",
       "      <th>C_secretion</th>\n",
       "    </tr>\n",
       "  </thead>\n",
       "  <tbody>\n",
       "  </tbody>\n",
       "</table>\n",
       "</div>"
      ],
      "text/plain": [
       "Empty DataFrame\n",
       "Columns: [Unnamed: 0, secretion, minimum, maximum, uptake, metabolite_uptake, mid_uptake, N_uptake, C_uptake, metabolite_secretion, mid_secretion, N_secretion, C_secretion]\n",
       "Index: []"
      ]
     },
     "execution_count": 64,
     "metadata": {},
     "output_type": "execute_result"
    }
   ],
   "source": [
    "alt_df.loc[alt_df.isna().sum(axis=1) > 0]"
   ]
  },
  {
   "cell_type": "code",
   "execution_count": null,
   "metadata": {},
   "outputs": [],
   "source": []
  },
  {
   "cell_type": "code",
   "execution_count": null,
   "metadata": {},
   "outputs": [],
   "source": []
  }
 ],
 "metadata": {
  "kernelspec": {
   "display_name": "Python 3 (ipykernel)",
   "language": "python",
   "name": "python3"
  },
  "language_info": {
   "codemirror_mode": {
    "name": "ipython",
    "version": 3
   },
   "file_extension": ".py",
   "mimetype": "text/x-python",
   "name": "python",
   "nbconvert_exporter": "python",
   "pygments_lexer": "ipython3",
   "version": "3.9.7"
  }
 },
 "nbformat": 4,
 "nbformat_minor": 2
}
