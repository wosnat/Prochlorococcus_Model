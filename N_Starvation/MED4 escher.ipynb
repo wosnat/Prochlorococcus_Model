{
 "cells": [
  {
   "cell_type": "code",
   "execution_count": 1,
   "id": "c033daef",
   "metadata": {},
   "outputs": [],
   "source": [
    "import escher\n",
    "from escher import Builder\n",
    "import cobra\n",
    "from time import sleep"
   ]
  },
  {
   "cell_type": "code",
   "execution_count": 6,
   "id": "5d6bbb43",
   "metadata": {},
   "outputs": [],
   "source": [
    "import pandas as pd\n",
    "import matplotlib.pyplot as plt\n",
    "import cobra\n",
    "import numpy as np\n",
    "import seaborn as sns\n",
    "import itertools\n",
    "from matplotlib.colors import LogNorm, Normalize\n",
    "import subprocess\n",
    "import time\n",
    "import os"
   ]
  },
  {
   "cell_type": "code",
   "execution_count": 2,
   "id": "74a6ba78",
   "metadata": {},
   "outputs": [],
   "source": [
    "escher.rc['never_ask_before_quit'] = True"
   ]
  },
  {
   "cell_type": "code",
   "execution_count": 7,
   "id": "6df10157",
   "metadata": {},
   "outputs": [],
   "source": [
    "RNA_dpath =os.path.join('data', 'RNASEQ') \n",
    "os.listdir(RNA_dpath)\n",
    "pmm_df = pd.read_csv(os.path.join(RNA_dpath, 'MED4_PMM2locus.csv'), names=['gene_id', 'pmm'])\n",
    "deseq_df = pd.read_csv(os.path.join(RNA_dpath, 'MED4_DE_genes_DESEQ_wKEGG.csv'))\n"
   ]
  },
  {
   "cell_type": "code",
   "execution_count": 8,
   "id": "5cd7c911",
   "metadata": {},
   "outputs": [],
   "source": [
    "# values from Ofaim at el.\n",
    "\n",
    "PARAMETER_VALUES = [#\"Name\",     \"Reaction ID\",          \"Lower bound\", \"UpperBound\"\n",
    "                   [\"HCO3\",      \"HCO3EXcar\",            -8,            0],\n",
    "                   #[\"Nitrogen\",  \"AmmoniaEX\",            -0.56,         0],\n",
    "                   #[\"Phosphate\", \"FAKEOrthophosphateEX\", -0.1,          0],\n",
    "                   [\"Light\",     \"LightEX\",              -150,          0]]\n",
    "CO2MAX = 0.82\n",
    "\n",
    "# Block fake reactions\n",
    "FAKE_TRANSPORT = [\"AminosugarsOUT\", \"FAKEAAOUT\", \"FAKEABPOUT\", \"FAKEacpTRANS\", \"FAKEApoacpTRANS\", \"FAKEThioredoxinTRANS\", \n",
    "                  \"FreefattyacidsOUT\", \"7NMeth7carbOUT\", \"ArtificialproteinOUT\", \"FADOUT\", \"LipoylproteinTRANS\", \"MenaquinoneOUT\", \n",
    "                  \"NicotinateOUT\", \"THFpolyglutOUT\", \"Thiamin_dpOUT\"]\n"
   ]
  },
  {
   "cell_type": "code",
   "execution_count": 9,
   "id": "a9f79cea",
   "metadata": {},
   "outputs": [],
   "source": [
    "import os\n",
    "model_dpath = os.path.join('..', 'Model_files')\n",
    "model_fname = 'iSO595v7.xml'\n",
    "model_fpath = os.path.join(model_dpath, model_fname)\n"
   ]
  },
  {
   "cell_type": "code",
   "execution_count": 10,
   "id": "856dcd48",
   "metadata": {},
   "outputs": [
    {
     "name": "stdout",
     "output_type": "stream",
     "text": [
      "Scaling...\n",
      " A: min|aij| =  1.000e+00  max|aij| =  1.000e+00  ratio =  1.000e+00\n",
      "Problem data seem to be well scaled\n"
     ]
    }
   ],
   "source": [
    "model = cobra.io.read_sbml_model(model_fpath)"
   ]
  },
  {
   "cell_type": "code",
   "execution_count": 11,
   "id": "c1ca1ff9",
   "metadata": {},
   "outputs": [],
   "source": [
    "# manipulations copied from Ofaim at el.\n",
    "\n",
    "remove_blocked = False\n",
    "\n",
    "# Block H2S\n",
    "model.reactions.H2SEX.lower_bound = 0\n",
    "\n",
    "# Block fake transports\n",
    "for rid in FAKE_TRANSPORT:\n",
    "    model.reactions.get_by_id(rid).bounds = (0,0)\n",
    "\n",
    "# Remove blocked reactions\n",
    "if remove_blocked:\n",
    "    blocked = cobra.flux_analysis.find_blocked_reactions(model, open_exchanges = True)\n",
    "    print('blocked', len(blocked), blocked)\n",
    "    model.remove_reactions([model.reactions.get_by_id(r_id) for r_id in blocked])\n",
    "\n",
    "# Block maximum CO2 production\n",
    "model.reactions.CO2EX.bounds = (0, CO2MAX)\n",
    "\n",
    "for i, row in enumerate(PARAMETER_VALUES):\n",
    "    # Row: Name, Reaction ID, lower bound, upper bound\n",
    "    key = row[0]\n",
    "    reaction_id = row[1]\n",
    "    lower_bound = row[2]\n",
    "    upper_bound = row[3]\n",
    "    r = model.reactions.get_by_id(reaction_id)\n",
    "    # Fix flux\n",
    "    r.bounds = (lower_bound, upper_bound)"
   ]
  },
  {
   "cell_type": "code",
   "execution_count": 18,
   "id": "0ceac374",
   "metadata": {},
   "outputs": [],
   "source": [
    "builder = Builder(model=model)"
   ]
  },
  {
   "cell_type": "code",
   "execution_count": 20,
   "id": "f5b58b9f",
   "metadata": {},
   "outputs": [],
   "source": [
    "solution = model.optimize()\n",
    "builder.reaction_data = solution.fluxes\n",
    "builder.metabolite_data = solution.shadow_prices"
   ]
  },
  {
   "cell_type": "code",
   "execution_count": 21,
   "id": "9a0e1acd",
   "metadata": {},
   "outputs": [],
   "source": [
    "builder.reaction_scale = [\n",
    "    { 'type': 'min', 'color': '#000000', 'size': 12 },\n",
    "    { 'type': 'median', 'color': '#ffffff', 'size': 20 },\n",
    "    { 'type': 'max', 'color': '#ff0000', 'size': 25 }\n",
    "]"
   ]
  },
  {
   "cell_type": "code",
   "execution_count": 22,
   "id": "7b48d89a",
   "metadata": {},
   "outputs": [],
   "source": [
    "builder.reaction_scale_preset = 'GaBuRd'"
   ]
  },
  {
   "cell_type": "code",
   "execution_count": 42,
   "id": "eb0fe7b7",
   "metadata": {},
   "outputs": [
    {
     "data": {
      "application/vnd.jupyter.widget-view+json": {
       "model_id": "4ce5c146c7bb4ab299089ae8a5b47770",
       "version_major": 2,
       "version_minor": 0
      },
      "text/plain": [
       "Builder(allow_building_duplicate_reactions=False, and_method_in_gene_reaction_rule='mean', cofactors=['atp', '…"
      ]
     },
     "metadata": {},
     "output_type": "display_data"
    }
   ],
   "source": [
    "builder"
   ]
  },
  {
   "cell_type": "code",
   "execution_count": 26,
   "id": "9e7ff021",
   "metadata": {},
   "outputs": [],
   "source": [
    "r = model.reactions.get_by_id('AmmoniaEX')"
   ]
  },
  {
   "cell_type": "code",
   "execution_count": 27,
   "id": "c2160fd4",
   "metadata": {
    "scrolled": true
   },
   "outputs": [
    {
     "data": {
      "text/plain": [
       "['__add__',\n",
       " '__class__',\n",
       " '__copy__',\n",
       " '__deepcopy__',\n",
       " '__delattr__',\n",
       " '__dict__',\n",
       " '__dir__',\n",
       " '__doc__',\n",
       " '__eq__',\n",
       " '__format__',\n",
       " '__ge__',\n",
       " '__getattribute__',\n",
       " '__getstate__',\n",
       " '__gt__',\n",
       " '__hash__',\n",
       " '__iadd__',\n",
       " '__imul__',\n",
       " '__init__',\n",
       " '__init_subclass__',\n",
       " '__isub__',\n",
       " '__le__',\n",
       " '__lt__',\n",
       " '__module__',\n",
       " '__mul__',\n",
       " '__ne__',\n",
       " '__new__',\n",
       " '__radd__',\n",
       " '__reduce__',\n",
       " '__reduce_ex__',\n",
       " '__repr__',\n",
       " '__setattr__',\n",
       " '__setstate__',\n",
       " '__sizeof__',\n",
       " '__str__',\n",
       " '__sub__',\n",
       " '__subclasshook__',\n",
       " '__weakref__',\n",
       " '_annotation',\n",
       " '_associate_gene',\n",
       " '_check_bounds',\n",
       " '_dissociate_gene',\n",
       " '_genes',\n",
       " '_gpr',\n",
       " '_id',\n",
       " '_lower_bound',\n",
       " '_metabolites',\n",
       " '_model',\n",
       " '_repr_html_',\n",
       " '_set_id_with_model',\n",
       " '_update_awareness',\n",
       " '_upper_bound',\n",
       " 'add_metabolites',\n",
       " 'annotation',\n",
       " 'boundary',\n",
       " 'bounds',\n",
       " 'build_reaction_from_string',\n",
       " 'build_reaction_string',\n",
       " 'check_mass_balance',\n",
       " 'compartments',\n",
       " 'copy',\n",
       " 'delete',\n",
       " 'flux',\n",
       " 'flux_expression',\n",
       " 'forward_variable',\n",
       " 'functional',\n",
       " 'gene_name_reaction_rule',\n",
       " 'gene_reaction_rule',\n",
       " 'genes',\n",
       " 'get_coefficient',\n",
       " 'get_coefficients',\n",
       " 'get_compartments',\n",
       " 'gpr',\n",
       " 'id',\n",
       " 'knock_out',\n",
       " 'lower_bound',\n",
       " 'metabolites',\n",
       " 'model',\n",
       " 'name',\n",
       " 'notes',\n",
       " 'objective_coefficient',\n",
       " 'products',\n",
       " 'reactants',\n",
       " 'reaction',\n",
       " 'reduced_cost',\n",
       " 'remove_from_model',\n",
       " 'reverse_id',\n",
       " 'reverse_variable',\n",
       " 'reversibility',\n",
       " 'subsystem',\n",
       " 'subtract_metabolites',\n",
       " 'summary',\n",
       " 'update_genes_from_gpr',\n",
       " 'update_variable_bounds',\n",
       " 'upper_bound',\n",
       " 'x',\n",
       " 'y']"
      ]
     },
     "execution_count": 27,
     "metadata": {},
     "output_type": "execute_result"
    }
   ],
   "source": [
    "dir(r)"
   ]
  },
  {
   "cell_type": "code",
   "execution_count": 28,
   "id": "e11c0956",
   "metadata": {},
   "outputs": [
    {
     "data": {
      "text/plain": [
       "[]"
      ]
     },
     "execution_count": 28,
     "metadata": {},
     "output_type": "execute_result"
    }
   ],
   "source": [
    "r.products"
   ]
  },
  {
   "cell_type": "code",
   "execution_count": 29,
   "id": "05df60b2",
   "metadata": {},
   "outputs": [
    {
     "data": {
      "text/plain": [
       "[<Metabolite Ammonia[e] at 0x7f1d7e6077f0>]"
      ]
     },
     "execution_count": 29,
     "metadata": {},
     "output_type": "execute_result"
    }
   ],
   "source": [
    "r.reactants"
   ]
  },
  {
   "cell_type": "code",
   "execution_count": 30,
   "id": "106d6e2d",
   "metadata": {},
   "outputs": [
    {
     "data": {
      "text/plain": [
       "{<Metabolite Ammonia[e] at 0x7f1d7e6077f0>: -1.0}"
      ]
     },
     "execution_count": 30,
     "metadata": {},
     "output_type": "execute_result"
    }
   ],
   "source": [
    "r.metabolites"
   ]
  },
  {
   "cell_type": "code",
   "execution_count": 34,
   "id": "39d907b5",
   "metadata": {},
   "outputs": [],
   "source": [
    "ammonia_met = model.metabolites.get_by_id('Ammonia[c]')"
   ]
  },
  {
   "cell_type": "code",
   "execution_count": 36,
   "id": "d77af8c2",
   "metadata": {
    "scrolled": true
   },
   "outputs": [
    {
     "data": {
      "text/plain": [
       "['__class__',\n",
       " '__delattr__',\n",
       " '__dict__',\n",
       " '__dir__',\n",
       " '__doc__',\n",
       " '__eq__',\n",
       " '__format__',\n",
       " '__ge__',\n",
       " '__getattribute__',\n",
       " '__getstate__',\n",
       " '__gt__',\n",
       " '__hash__',\n",
       " '__init__',\n",
       " '__init_subclass__',\n",
       " '__le__',\n",
       " '__lt__',\n",
       " '__module__',\n",
       " '__ne__',\n",
       " '__new__',\n",
       " '__reduce__',\n",
       " '__reduce_ex__',\n",
       " '__repr__',\n",
       " '__setattr__',\n",
       " '__sizeof__',\n",
       " '__str__',\n",
       " '__subclasshook__',\n",
       " '__weakref__',\n",
       " '_annotation',\n",
       " '_bound',\n",
       " '_id',\n",
       " '_model',\n",
       " '_reaction',\n",
       " '_repr_html_',\n",
       " '_set_id_with_model',\n",
       " 'annotation',\n",
       " 'charge',\n",
       " 'compartment',\n",
       " 'constraint',\n",
       " 'copy',\n",
       " 'elements',\n",
       " 'formula',\n",
       " 'formula_weight',\n",
       " 'id',\n",
       " 'model',\n",
       " 'name',\n",
       " 'notes',\n",
       " 'reactions',\n",
       " 'remove_from_model',\n",
       " 'shadow_price',\n",
       " 'summary',\n",
       " 'y']"
      ]
     },
     "execution_count": 36,
     "metadata": {},
     "output_type": "execute_result"
    }
   ],
   "source": [
    "dir(ammonia_met)"
   ]
  },
  {
   "cell_type": "code",
   "execution_count": 37,
   "id": "79ca2439",
   "metadata": {
    "scrolled": true
   },
   "outputs": [
    {
     "data": {
      "text/plain": [
       "frozenset({<Reaction AmmoniaTRANS at 0x7f1d7e19ed90>,\n",
       "           <Reaction R00084 at 0x7f1d7e2b9bb0>,\n",
       "           <Reaction R00131 at 0x7f1d7e3157c0>,\n",
       "           <Reaction R00189 at 0x7f1d7e327f40>,\n",
       "           <Reaction R00220 at 0x7f1d7e396610>,\n",
       "           <Reaction R00253 at 0x7f1d7e33b2b0>,\n",
       "           <Reaction R00256 at 0x7f1d7e099ca0>,\n",
       "           <Reaction R00357 at 0x7f1d7e4fcc10>,\n",
       "           <Reaction R00366 at 0x7f1d7e35bf70>,\n",
       "           <Reaction R00485 at 0x7f1d7e4fc820>,\n",
       "           <Reaction R00568 at 0x7f1d7e241ca0>,\n",
       "           <Reaction R00571 at 0x7f1d7e241fd0>,\n",
       "           <Reaction R00671 at 0x7f1d7e4b9bb0>,\n",
       "           <Reaction R00782 at 0x7f1d7e43ff10>,\n",
       "           <Reaction R00974 at 0x7f1d7e1d7760>,\n",
       "           <Reaction R00985 at 0x7f1d7e291a30>,\n",
       "           <Reaction R00996 at 0x7f1d7e3fabe0>,\n",
       "           <Reaction R00999 at 0x7f1d7e42eb80>,\n",
       "           <Reaction R01221 at 0x7f1d7e33b730>,\n",
       "           <Reaction R01230 at 0x7f1d7e219f10>,\n",
       "           <Reaction R01286 at 0x7f1d7e44a2e0>,\n",
       "           <Reaction R02322 at 0x7f1d7e0c85b0>,\n",
       "           <Reaction R02325 at 0x7f1d7e241d00>,\n",
       "           <Reaction R03459 at 0x7f1d7e1ff760>,\n",
       "           <Reaction R04125 at 0x7f1d7e378df0>,\n",
       "           <Reaction R04930 at 0x7f1d7e209bb0>,\n",
       "           <Reaction R04941 at 0x7f1d7e195d60>,\n",
       "           <Reaction R07316 at 0x7f1d7e33bdc0>,\n",
       "           <Reaction R08637 at 0x7f1d7e3d6c70>,\n",
       "           <Reaction R09978 at 0x7f1d7e3b3b50>,\n",
       "           <Reaction R10002 at 0x7f1d7e3b3c70>,\n",
       "           <Reaction R10079 at 0x7f1d7e466b80>,\n",
       "           <Reaction R10086 at 0x7f1d7e106d30>,\n",
       "           <Reaction R10245 at 0x7f1d7e14e6d0>,\n",
       "           <Reaction R10949 at 0x7f1d7e446370>})"
      ]
     },
     "execution_count": 37,
     "metadata": {},
     "output_type": "execute_result"
    }
   ],
   "source": [
    "ammonia_met.reactions"
   ]
  },
  {
   "cell_type": "code",
   "execution_count": 41,
   "id": "f46fb729",
   "metadata": {
    "scrolled": true
   },
   "outputs": [
    {
     "data": {
      "text/plain": [
       "[('L-Asparagine amidohydrolase',\n",
       "  [<Metabolite ATP[c] at 0x7f1d7e787ee0>,\n",
       "   <Metabolite Ammonia[c] at 0x7f1d7e787df0>,\n",
       "   <Metabolite L_Aspartate[c] at 0x7f1d7e787c70>]),\n",
       " ('chorismate pyruvate-lyase',\n",
       "  [<Metabolite Ammonia[c] at 0x7f1d7e787df0>,\n",
       "   <Metabolite Chorismate[c] at 0x7f1d7e638430>]),\n",
       " ('L-Glutamate:ammonia ligase',\n",
       "  [<Metabolite ATP[c] at 0x7f1d7e787ee0>,\n",
       "   <Metabolite Ammonia[c] at 0x7f1d7e787df0>,\n",
       "   <Metabolite L_Glutamate[c] at 0x7f1d7e7877c0>]),\n",
       " ('L-cystathionine L-homocysteine-lyase',\n",
       "  [<Metabolite H2O[c] at 0x7f1d7e787820>,\n",
       "   <Metabolite L_Cystathionine[c] at 0x7f1d7e5d7430>]),\n",
       " ('7-carboxy-7-carbaguanine:ammonia ligase (ADP-forming)',\n",
       "  [<Metabolite ATP[c] at 0x7f1d7e787ee0>,\n",
       "   <Metabolite Ammonia[c] at 0x7f1d7e787df0>,\n",
       "   <Metabolite 7_Carboxy_7_carbaguanine[c] at 0x7f1d7e6071f0>]),\n",
       " ('R10949',\n",
       "  [<Metabolite Ammonia[c] at 0x7f1d7e787df0>,\n",
       "   <Metabolite Carboxyphosphate[c] at 0x7f1d7e5a5af0>]),\n",
       " ('O-Succinyl-L-homoserine succinate-lyase',\n",
       "  [<Metabolite H2O[c] at 0x7f1d7e787820>,\n",
       "   <Metabolite O_Succinyl_L_homoserine[c] at 0x7f1d7e648b20>]),\n",
       " ('R10079',\n",
       "  [<Metabolite H[c] at 0x7f1d7e629400>,\n",
       "   <Metabolite HCO3_[c] at 0x7f1d7e638640>,\n",
       "   <Metabolite Cyanate[c] at 0x7f1d7e648190>]),\n",
       " ('L-ornithine ammonia-lyase (cyclizing; L-proline-forming)',\n",
       "  [<Metabolite L_Ornithine[c] at 0x7f1d7e629370>]),\n",
       " ('porphobilinogen:(4-[2-carboxyethyl]-3-[carboxymethyl]pyrrol-2-yl)methyltransferase',\n",
       "  [<Metabolite H2O[c] at 0x7f1d7e787820>,\n",
       "   <Metabolite Porphobilinogen[c] at 0x7f1d7e648790>]),\n",
       " ('Selenocystathionine Lysteine-lyase',\n",
       "  [<Metabolite H2O[c] at 0x7f1d7e787820>,\n",
       "   <Metabolite L_Selenocystathionine[c] at 0x7f1d7e5e8cd0>]),\n",
       " ('L-threonine ammonia-lyase',\n",
       "  [<Metabolite L_Threonine[c] at 0x7f1d7e629fa0>]),\n",
       " ('L-Aspartic acid:oxygen oxidoreductase',\n",
       "  [<Metabolite H2O[c] at 0x7f1d7e787820>,\n",
       "   <Metabolite Oxygen[c] at 0x7f1d7e787af0>,\n",
       "   <Metabolite L_Aspartate[c] at 0x7f1d7e787c70>]),\n",
       " ('2-Aminobut-2-enoate aminohydrolase',\n",
       "  [<Metabolite H2O[c] at 0x7f1d7e787820>,\n",
       "   <Metabolite 2_Aminobut_2_enoate[c] at 0x7f1d7e5f8040>]),\n",
       " ('6-carboxy-5,6,7,8-tetrahydropterin ammonia-lyase',\n",
       "  [<Metabolite 6_Carboxy_5_6_7_8_tetrahydropterin[c] at 0x7f1d7e6071c0>]),\n",
       " ('CTP aminohydrolase',\n",
       "  [<Metabolite H2O[c] at 0x7f1d7e787820>,\n",
       "   <Metabolite CTP[c] at 0x7f1d7e629100>]),\n",
       " ('R00256',\n",
       "  [<Metabolite H2O[c] at 0x7f1d7e787820>,\n",
       "   <Metabolite L_Glutamine[c] at 0x7f1d7e629130>]),\n",
       " ('dCTP aminohydrolase',\n",
       "  [<Metabolite H2O[c] at 0x7f1d7e787820>,\n",
       "   <Metabolite dCTP[c] at 0x7f1d7e638e80>]),\n",
       " ('R10086',\n",
       "  [<Metabolite H2O[c] at 0x7f1d7e787820>,\n",
       "   <Metabolite L_Glutamate[c] at 0x7f1d7e7877c0>,\n",
       "   <Metabolite Oxidized_ferredoxin[c] at 0x7f1d7e629b80>]),\n",
       " ('Selenocystathionine L-homocysteine-lyase',\n",
       "  [<Metabolite H2O[c] at 0x7f1d7e787820>,\n",
       "   <Metabolite L_Selenocystathionine[c] at 0x7f1d7e5e8cd0>]),\n",
       " ('Ammonia Transport', [<Metabolite Ammonia[c] at 0x7f1d7e787df0>]),\n",
       " ('R02322',\n",
       "  [<Metabolite H2O[c] at 0x7f1d7e787820>,\n",
       "   <Metabolite Nicotinamide_D_ribonucleotide[c] at 0x7f1d7e597070>]),\n",
       " ('Spontaneous carbamate degradation',\n",
       "  [<Metabolite Carbamate[c] at 0x7f1d7e5d7100>]),\n",
       " ('S-aminomethyldihydrolipoylprotein:(6S)-tetrahydrofolate aminomethyltransferase',\n",
       "  [<Metabolite Tetrahydrofolate[c] at 0x7f1d7e6296d0>,\n",
       "   <Metabolite S_Aminomethyldihydrolipoylprotein[c] at 0x7f1d7e648e20>]),\n",
       " ('L-serine ammonia-lyase', [<Metabolite L_Serine[c] at 0x7f1d7e6291f0>]),\n",
       " ('Spontaneous reaction',\n",
       "  [<Metabolite H2O[c] at 0x7f1d7e787820>,\n",
       "   <Metabolite Iminoglycine[c] at 0x7f1d7e5f8d90>]),\n",
       " ('L-Cysteine hydrogen-sulfide-lyase',\n",
       "  [<Metabolite H2O[c] at 0x7f1d7e787820>,\n",
       "   <Metabolite L_Cysteine[c] at 0x7f1d7e629670>]),\n",
       " ('Xanthosine-5-phosphate:ammonia ligase',\n",
       "  [<Metabolite ATP[c] at 0x7f1d7e787ee0>,\n",
       "   <Metabolite Ammonia[c] at 0x7f1d7e787df0>,\n",
       "   <Metabolite Xanthosine_5_phosphate[c] at 0x7f1d7e648340>]),\n",
       " ('glycine synthase',\n",
       "  [<Metabolite NAD[c] at 0x7f1d7e787d60>,\n",
       "   <Metabolite Glycine[c] at 0x7f1d7e7874f0>,\n",
       "   <Metabolite Tetrahydrofolate[c] at 0x7f1d7e6296d0>]),\n",
       " ('deamido-NAD+:ammonia ligase',\n",
       "  [<Metabolite ATP[c] at 0x7f1d7e787ee0>,\n",
       "   <Metabolite Ammonia[c] at 0x7f1d7e787df0>,\n",
       "   <Metabolite Deamino[c] at 0x7f1d7e6485e0>]),\n",
       " ('Cytosine aminohydrolase',\n",
       "  [<Metabolite H2O[c] at 0x7f1d7e787820>,\n",
       "   <Metabolite Cytosine[c] at 0x7f1d7e638b50>]),\n",
       " ('glycine:oxygen oxidoreductase',\n",
       "  [<Metabolite H2O[c] at 0x7f1d7e787820>,\n",
       "   <Metabolite Oxygen[c] at 0x7f1d7e787af0>,\n",
       "   <Metabolite Glycine[c] at 0x7f1d7e7874f0>]),\n",
       " ('2,5-Diamino-6-hydroxy-4-(5-phosphoribosylamino)-pyrimidine 2-aminohydrolase',\n",
       "  [<Metabolite H2O[c] at 0x7f1d7e787820>,\n",
       "   <Metabolite 2_5_Diamino_6_5_phospho_D_ribosylaminopyrimidin_43H[c] at 0x7f1d7e648fa0>]),\n",
       " ('Urea amidohydrolase',\n",
       "  [<Metabolite H2O[c] at 0x7f1d7e787820>,\n",
       "   <Metabolite Urea[c] at 0x7f1d7e6294f0>]),\n",
       " ('UTP:ammonia ligase',\n",
       "  [<Metabolite ATP[c] at 0x7f1d7e787ee0>,\n",
       "   <Metabolite Ammonia[c] at 0x7f1d7e787df0>,\n",
       "   <Metabolite UTP[c] at 0x7f1d7e629310>])]"
      ]
     },
     "execution_count": 41,
     "metadata": {},
     "output_type": "execute_result"
    }
   ],
   "source": [
    "[(r.name, r.reactants) for r in ammonia_met.reactions]"
   ]
  },
  {
   "cell_type": "code",
   "execution_count": null,
   "id": "ea0a9b0b",
   "metadata": {},
   "outputs": [],
   "source": []
  },
  {
   "cell_type": "code",
   "execution_count": null,
   "id": "6cdccf8e",
   "metadata": {},
   "outputs": [],
   "source": [
    "def build_map(source_reaction, target_reaction):\n",
    "    pass\n",
    "\n",
    "def get_child_metabolites(r):\n",
    "    return r.products\n",
    "\n",
    "def get_child_reactions(m):\n",
    "    #[(r.name, r.reactants) for r in ammonia_met.reactions]\n",
    "    return [r for r in m.reactions if m in r.reactants]\n",
    "    \n",
    "    found_reactions = set()\n",
    "    found_metabolites = set()\n",
    "\n",
    "    \n",
    "def _dfs_m(curr_metabolite, target_reaction, found_reactions, found_metabolites):\n",
    "    if curr_metabolite in found_metabolites:\n",
    "        return False\n",
    "    found_metabolites.add(curr_metabolite)\n",
    "    r_list = get_child_reactions(curr_metabolite)\n",
    "    for r in r_list:\n",
    "        \n",
    "    \n",
    "    \n",
    "def _dfs_r(curr_reaction, target_reaction, found_reactions, found_metabolites):\n",
    "    if curr_reaction == target_reaction:\n",
    "        return True\n",
    "    if curr_reaction in found_reactions:\n",
    "        return False\n",
    "    found_reactions.add(curr_reaction)\n",
    "    m_list = get_child_metabolites(curr_reaction)\n",
    "    \n",
    "    \n",
    "    "
   ]
  },
  {
   "cell_type": "code",
   "execution_count": 43,
   "id": "b3bb97e5",
   "metadata": {
    "scrolled": true
   },
   "outputs": [
    {
     "data": {
      "text/plain": [
       "['__add__',\n",
       " '__class__',\n",
       " '__delattr__',\n",
       " '__dict__',\n",
       " '__dir__',\n",
       " '__doc__',\n",
       " '__enter__',\n",
       " '__eq__',\n",
       " '__exit__',\n",
       " '__format__',\n",
       " '__ge__',\n",
       " '__getattribute__',\n",
       " '__getstate__',\n",
       " '__gt__',\n",
       " '__hash__',\n",
       " '__iadd__',\n",
       " '__init__',\n",
       " '__init_subclass__',\n",
       " '__le__',\n",
       " '__lt__',\n",
       " '__module__',\n",
       " '__ne__',\n",
       " '__new__',\n",
       " '__reduce__',\n",
       " '__reduce_ex__',\n",
       " '__repr__',\n",
       " '__setattr__',\n",
       " '__setstate__',\n",
       " '__sizeof__',\n",
       " '__str__',\n",
       " '__subclasshook__',\n",
       " '__weakref__',\n",
       " '_annotation',\n",
       " '_compartments',\n",
       " '_contexts',\n",
       " '_id',\n",
       " '_populate_solver',\n",
       " '_repr_html_',\n",
       " '_sbml',\n",
       " '_set_id_with_model',\n",
       " '_solver',\n",
       " '_tolerance',\n",
       " 'add_boundary',\n",
       " 'add_cons_vars',\n",
       " 'add_groups',\n",
       " 'add_metabolites',\n",
       " 'add_reaction',\n",
       " 'add_reactions',\n",
       " 'annotation',\n",
       " 'boundary',\n",
       " 'compartments',\n",
       " 'constraints',\n",
       " 'copy',\n",
       " 'demands',\n",
       " 'description',\n",
       " 'exchanges',\n",
       " 'genes',\n",
       " 'get_associated_groups',\n",
       " 'get_metabolite_compartments',\n",
       " 'groups',\n",
       " 'id',\n",
       " 'medium',\n",
       " 'merge',\n",
       " 'metabolites',\n",
       " 'name',\n",
       " 'notes',\n",
       " 'objective',\n",
       " 'objective_direction',\n",
       " 'optimize',\n",
       " 'problem',\n",
       " 'reactions',\n",
       " 'remove_cons_vars',\n",
       " 'remove_groups',\n",
       " 'remove_metabolites',\n",
       " 'remove_reactions',\n",
       " 'repair',\n",
       " 'sinks',\n",
       " 'slim_optimize',\n",
       " 'solver',\n",
       " 'summary',\n",
       " 'tolerance',\n",
       " 'variables']"
      ]
     },
     "execution_count": 43,
     "metadata": {},
     "output_type": "execute_result"
    }
   ],
   "source": [
    "dir(model)"
   ]
  },
  {
   "cell_type": "code",
   "execution_count": 46,
   "id": "147a5ce8",
   "metadata": {},
   "outputs": [
    {
     "data": {
      "text/plain": [
       "['KIND_TYPES',\n",
       " '__class__',\n",
       " '__delattr__',\n",
       " '__dict__',\n",
       " '__dir__',\n",
       " '__doc__',\n",
       " '__eq__',\n",
       " '__format__',\n",
       " '__ge__',\n",
       " '__getattribute__',\n",
       " '__getstate__',\n",
       " '__gt__',\n",
       " '__hash__',\n",
       " '__init__',\n",
       " '__init_subclass__',\n",
       " '__le__',\n",
       " '__len__',\n",
       " '__lt__',\n",
       " '__module__',\n",
       " '__ne__',\n",
       " '__new__',\n",
       " '__reduce__',\n",
       " '__reduce_ex__',\n",
       " '__repr__',\n",
       " '__setattr__',\n",
       " '__sizeof__',\n",
       " '__str__',\n",
       " '__subclasshook__',\n",
       " '__weakref__',\n",
       " '_annotation',\n",
       " '_id',\n",
       " '_kind',\n",
       " '_members',\n",
       " '_model',\n",
       " '_set_id_with_model',\n",
       " 'add_members',\n",
       " 'annotation',\n",
       " 'id',\n",
       " 'kind',\n",
       " 'members',\n",
       " 'name',\n",
       " 'notes',\n",
       " 'remove_members']"
      ]
     },
     "execution_count": 46,
     "metadata": {},
     "output_type": "execute_result"
    }
   ],
   "source": [
    "dir(model.groups[0])"
   ]
  },
  {
   "cell_type": "code",
   "execution_count": 47,
   "id": "982ee832",
   "metadata": {},
   "outputs": [
    {
     "data": {
      "text/plain": [
       "('Alanine, aspartate and glutamate metabolism',\n",
       " [<Reaction R00546 at 0x7f1d7e4eabe0>,\n",
       "  <Reaction R00355 at 0x7f1d7e4fc040>,\n",
       "  <Reaction R00357 at 0x7f1d7e4fcc10>,\n",
       "  <Reaction R00369 at 0x7f1d7e4fcf40>,\n",
       "  <Reaction R00485 at 0x7f1d7e4fc820>,\n",
       "  <Reaction R00489 at 0x7f1d7e5067c0>,\n",
       "  <Reaction R00768 at 0x7f1d7e4eaf70>])"
      ]
     },
     "execution_count": 47,
     "metadata": {},
     "output_type": "execute_result"
    }
   ],
   "source": [
    "model.groups[0].name, model.groups[0].members, "
   ]
  },
  {
   "cell_type": "code",
   "execution_count": 51,
   "id": "1ba5dc1e",
   "metadata": {},
   "outputs": [
    {
     "data": {
      "text/plain": [
       "'Alanine, aspartate and glutamate metabolism'"
      ]
     },
     "execution_count": 51,
     "metadata": {},
     "output_type": "execute_result"
    }
   ],
   "source": [
    "model.get_associated_groups(model.reactions.R00369)[0].name"
   ]
  },
  {
   "cell_type": "code",
   "execution_count": 53,
   "id": "c7e5643f",
   "metadata": {},
   "outputs": [
    {
     "data": {
      "text/plain": [
       "['Alanine, aspartate and glutamate metabolism',\n",
       " 'Amino sugar and nucleotide sugar metabolism',\n",
       " 'Aminoacyl-tRNA biosynthesis',\n",
       " 'Arginine and proline metabolism',\n",
       " 'Biomass Formation',\n",
       " 'Biotin metabolism',\n",
       " 'Butanoate metabolism',\n",
       " 'C5-Branched dibasic acid metabolism',\n",
       " 'Carbon fixation in photosynthetic organisms',\n",
       " 'Carotenoid biosynthesis',\n",
       " 'Citrate cycle (TCA cycle)',\n",
       " 'Cysteine and methionine metabolism',\n",
       " 'D-Alanine metabolism',\n",
       " 'D-Glutamine and D-glutamate metabolism',\n",
       " 'Exchange Reaction',\n",
       " 'Fake Transport Reaction',\n",
       " 'Fatty acid biosynthesis',\n",
       " 'Folate biosynthesis',\n",
       " 'Fructose and mannose metabolism',\n",
       " 'Galactose metabolism',\n",
       " 'Glutathione metabolism',\n",
       " 'Glycerolipid metabolism',\n",
       " 'Glycerophospholipid metabolism',\n",
       " 'Glycine, serine and threonine metabolism',\n",
       " 'Glycolysis / Gluconeogenesis',\n",
       " 'Histidine metabolism',\n",
       " 'Lipopolysaccharide biosynthesis',\n",
       " 'Lysine biosynthesis',\n",
       " 'Lysine degradation',\n",
       " 'Maintenance Reaction',\n",
       " 'Nicotinate and nicotinamide metabolism',\n",
       " 'Nitrogen metabolism',\n",
       " 'One carbon pool by folate',\n",
       " 'Oxidative Phosphorylation',\n",
       " 'Pantothenate and CoA biosynthesis',\n",
       " 'Pentose phosphate pathway',\n",
       " 'Peptidoglycan biosynthesis',\n",
       " 'Phenylalanine, tyrosine and tryptophan biosynthesis',\n",
       " 'Photorespiration',\n",
       " 'Photosynthesis',\n",
       " 'Porphyrin and chlorophyll metabolism',\n",
       " 'Purine metabolism',\n",
       " 'Pyrimidine metabolism',\n",
       " 'Pyruvate metabolism',\n",
       " 'Riboflavin metabolism',\n",
       " 'Selenocompound metabolism',\n",
       " 'Starch and sucrose metabolism',\n",
       " 'Sulfur metabolism',\n",
       " 'Terpenoid backbone biosynthesis',\n",
       " 'Thiamine metabolism',\n",
       " 'Transport',\n",
       " 'Ubiquinone and other terpenoid-quinone biosynthesis',\n",
       " 'Valine, leucine and isoleucine biosynthesis',\n",
       " 'Valine, leucine and isoleucine degradation',\n",
       " 'tRNA Formation']"
      ]
     },
     "execution_count": 53,
     "metadata": {},
     "output_type": "execute_result"
    }
   ],
   "source": [
    "[g.name for g in model.groups]"
   ]
  },
  {
   "cell_type": "code",
   "execution_count": null,
   "id": "65c70f81",
   "metadata": {},
   "outputs": [],
   "source": []
  }
 ],
 "metadata": {
  "kernelspec": {
   "display_name": "Python 3 (ipykernel)",
   "language": "python",
   "name": "python3"
  },
  "language_info": {
   "codemirror_mode": {
    "name": "ipython",
    "version": 3
   },
   "file_extension": ".py",
   "mimetype": "text/x-python",
   "name": "python",
   "nbconvert_exporter": "python",
   "pygments_lexer": "ipython3",
   "version": "3.9.7"
  }
 },
 "nbformat": 4,
 "nbformat_minor": 5
}
