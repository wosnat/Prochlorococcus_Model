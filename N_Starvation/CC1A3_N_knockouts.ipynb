{
 "cells": [
  {
   "cell_type": "markdown",
   "metadata": {},
   "source": [
    "# N starvation \n",
    "\n",
    "## Which N sources allow MED4 to grow"
   ]
  },
  {
   "cell_type": "markdown",
   "metadata": {},
   "source": [
    "check out Escher visualization https://escher.readthedocs.io/en/latest/getting_started.html"
   ]
  },
  {
   "cell_type": "code",
   "execution_count": 317,
   "metadata": {
    "ExecuteTime": {
     "end_time": "2020-12-15T09:30:48.353507Z",
     "start_time": "2020-12-15T09:30:43.130260Z"
    }
   },
   "outputs": [],
   "source": [
    "import pandas as pd\n",
    "import matplotlib.pyplot as plt\n",
    "import cobra\n",
    "import numpy as np\n",
    "import seaborn as sns\n",
    "import itertools\n",
    "from matplotlib.colors import LogNorm, Normalize\n"
   ]
  },
  {
   "cell_type": "code",
   "execution_count": 318,
   "metadata": {},
   "outputs": [],
   "source": [
    "import subprocess\n",
    "import time\n",
    "import os"
   ]
  },
  {
   "cell_type": "code",
   "execution_count": 319,
   "metadata": {},
   "outputs": [],
   "source": [
    "from cobra.flux_analysis import flux_variability_analysis\n",
    "from cobra.flux_analysis import production_envelope\n"
   ]
  },
  {
   "cell_type": "code",
   "execution_count": 320,
   "metadata": {},
   "outputs": [],
   "source": [
    "from cobra.flux_analysis import (\n",
    "    single_gene_deletion, single_reaction_deletion, double_gene_deletion,\n",
    "    double_reaction_deletion)"
   ]
  },
  {
   "cell_type": "code",
   "execution_count": 321,
   "metadata": {},
   "outputs": [
    {
     "data": {
      "text/plain": [
       "['HOT1A3_DE_genes_DESEQ_wKEGG.csv',\n",
       " 'MED4_DE_DESEQ_results.csv',\n",
       " 'MED4_DE_genes_DESEQ_wKEGG.csv',\n",
       " 'MED4_counts_combined.txt',\n",
       " 'MED4_PMM2locus.csv']"
      ]
     },
     "execution_count": 321,
     "metadata": {},
     "output_type": "execute_result"
    }
   ],
   "source": [
    "RNA_dpath =os.path.join('data', 'RNASEQ') \n",
    "os.listdir(RNA_dpath)"
   ]
  },
  {
   "cell_type": "code",
   "execution_count": 322,
   "metadata": {},
   "outputs": [],
   "source": [
    "pmm_df = pd.read_csv(os.path.join(RNA_dpath, 'MED4_PMM2locus.csv'), names=['gene_id', 'pmm'])\n"
   ]
  },
  {
   "cell_type": "code",
   "execution_count": 323,
   "metadata": {},
   "outputs": [],
   "source": [
    "deseq_df = pd.read_csv(os.path.join(RNA_dpath, 'MED4_DE_genes_DESEQ_wKEGG.csv'))\n"
   ]
  },
  {
   "cell_type": "code",
   "execution_count": 324,
   "metadata": {
    "ExecuteTime": {
     "end_time": "2020-12-15T09:30:48.389369Z",
     "start_time": "2020-12-15T09:30:48.353507Z"
    }
   },
   "outputs": [
    {
     "data": {
      "text/plain": [
       "<function seaborn.palettes.hls_palette(n_colors=6, h=0.01, l=0.6, s=0.65, as_cmap=False)>"
      ]
     },
     "execution_count": 324,
     "metadata": {},
     "output_type": "execute_result"
    }
   ],
   "source": [
    "sns.hls_palette"
   ]
  },
  {
   "cell_type": "code",
   "execution_count": 325,
   "metadata": {},
   "outputs": [],
   "source": [
    "# values from Ofaim at el.\n",
    "\n",
    "PARAMETER_VALUES = [#\"Name\",     \"Reaction ID\",          \"Lower bound\", \"UpperBound\"\n",
    "                   [\"HCO3\",      \"HCO3EXcar\",            -8,            0],\n",
    "                   #[\"Nitrogen\",  \"AmmoniaEX\",            -0.56,         0],\n",
    "                   #[\"Phosphate\", \"FAKEOrthophosphateEX\", -0.1,          0],\n",
    "                   [\"Light\",     \"LightEX\",              -150,          0]]\n",
    "CO2MAX = 0.82\n",
    "\n",
    "# Block fake reactions\n",
    "FAKE_TRANSPORT = [\"AminosugarsOUT\", \"FAKEAAOUT\", \"FAKEABPOUT\", \"FAKEacpTRANS\", \"FAKEApoacpTRANS\", \"FAKEThioredoxinTRANS\", \n",
    "                  \"FreefattyacidsOUT\", \"7NMeth7carbOUT\", \"ArtificialproteinOUT\", \"FADOUT\", \"LipoylproteinTRANS\", \"MenaquinoneOUT\", \n",
    "                  \"NicotinateOUT\", \"THFpolyglutOUT\", \"Thiamin_dpOUT\"]\n"
   ]
  },
  {
   "cell_type": "code",
   "execution_count": null,
   "metadata": {},
   "outputs": [],
   "source": []
  },
  {
   "cell_type": "code",
   "execution_count": 326,
   "metadata": {},
   "outputs": [],
   "source": [
    "def get_elements(rid):\n",
    "    r = model.reactions.get_by_id(rid)\n",
    "    m = r.reactants[0]    \n",
    "    elements = m.elements.copy()\n",
    "    \n",
    "    res = {\n",
    "        'reaction' : rid,\n",
    "        'metabolite' : m.name,\n",
    "        'N' : 'N' in elements,\n",
    "        'C' : 'C' in elements,\n",
    "        \n",
    "    }\n",
    "    return res"
   ]
  },
  {
   "cell_type": "markdown",
   "metadata": {},
   "source": [
    "# Import model and manipulate based on Ofaim at el"
   ]
  },
  {
   "cell_type": "code",
   "execution_count": 327,
   "metadata": {},
   "outputs": [],
   "source": [
    "import os\n",
    "model_dpath = os.path.join('..', 'Model_files')\n",
    "model_fname = 'iSO595v7.xml'\n",
    "model_fpath = os.path.join(model_dpath, model_fname)\n"
   ]
  },
  {
   "cell_type": "code",
   "execution_count": 328,
   "metadata": {
    "ExecuteTime": {
     "end_time": "2020-12-15T09:30:49.550482Z",
     "start_time": "2020-12-15T09:30:48.441726Z"
    }
   },
   "outputs": [],
   "source": [
    "model = cobra.io.read_sbml_model(model_fpath)"
   ]
  },
  {
   "cell_type": "raw",
   "metadata": {},
   "source": [
    "# fails with error! \n",
    "model.solver = 'gurobi'\n"
   ]
  },
  {
   "cell_type": "code",
   "execution_count": 329,
   "metadata": {},
   "outputs": [],
   "source": [
    "# manipulations copied from Ofaim at el.\n",
    "\n",
    "remove_blocked = False\n",
    "\n",
    "# Block H2S\n",
    "model.reactions.H2SEX.lower_bound = 0\n",
    "\n",
    "# Block fake transports\n",
    "for rid in FAKE_TRANSPORT:\n",
    "    model.reactions.get_by_id(rid).bounds = (0,0)\n",
    "\n",
    "# Remove blocked reactions\n",
    "if remove_blocked:\n",
    "    blocked = cobra.flux_analysis.find_blocked_reactions(model, open_exchanges = True)\n",
    "    print('blocked', len(blocked), blocked)\n",
    "    model.remove_reactions([model.reactions.get_by_id(r_id) for r_id in blocked])\n",
    "\n",
    "# Block maximum CO2 production\n",
    "model.reactions.CO2EX.bounds = (0, CO2MAX)\n",
    "\n",
    "for i, row in enumerate(PARAMETER_VALUES):\n",
    "    # Row: Name, Reaction ID, lower bound, upper bound\n",
    "    key = row[0]\n",
    "    reaction_id = row[1]\n",
    "    lower_bound = row[2]\n",
    "    upper_bound = row[3]\n",
    "    r = model.reactions.get_by_id(reaction_id)\n",
    "    # Fix flux\n",
    "    r.bounds = (lower_bound, upper_bound)"
   ]
  },
  {
   "cell_type": "code",
   "execution_count": 330,
   "metadata": {},
   "outputs": [],
   "source": [
    "exchange_ids = [r.id for r in model.exchanges] # + [\"R00024\"]"
   ]
  },
  {
   "cell_type": "code",
   "execution_count": 331,
   "metadata": {},
   "outputs": [
    {
     "name": "stdout",
     "output_type": "stream",
     "text": [
      "reactions 994\n",
      "metabolites 802\n",
      "genes 595\n"
     ]
    }
   ],
   "source": [
    "print('reactions', len(model.reactions))\n",
    "print('metabolites', len(model.metabolites))\n",
    "print('genes', len(model.genes))"
   ]
  },
  {
   "cell_type": "code",
   "execution_count": 332,
   "metadata": {},
   "outputs": [
    {
     "data": {
      "text/html": [
       "\n",
       "        <table>\n",
       "            <tr>\n",
       "                <td><strong>Name</strong></td>\n",
       "                <td>COBRAModel</td>\n",
       "            </tr><tr>\n",
       "                <td><strong>Memory address</strong></td>\n",
       "                <td>0x07fa50529e040</td>\n",
       "            </tr><tr>\n",
       "                <td><strong>Number of metabolites</strong></td>\n",
       "                <td>802</td>\n",
       "            </tr><tr>\n",
       "                <td><strong>Number of reactions</strong></td>\n",
       "                <td>994</td>\n",
       "            </tr><tr>\n",
       "                <td><strong>Number of groups</strong></td>\n",
       "                <td>55</td>\n",
       "            </tr><tr>\n",
       "                <td><strong>Objective expression</strong></td>\n",
       "                <td>1.0*BIOMASS - 1.0*BIOMASS_reverse_69053</td>\n",
       "            </tr><tr>\n",
       "                <td><strong>Compartments</strong></td>\n",
       "                <td>Cytoplasm, Extracellular, unknownCompartment2, Periplasm, unknownCompartment5</td>\n",
       "            </tr>\n",
       "          </table>"
      ],
      "text/plain": [
       "<Model COBRAModel at 0x7fa50529e040>"
      ]
     },
     "execution_count": 332,
     "metadata": {},
     "output_type": "execute_result"
    }
   ],
   "source": [
    "model"
   ]
  },
  {
   "cell_type": "code",
   "execution_count": 333,
   "metadata": {},
   "outputs": [
    {
     "data": {
      "text/html": [
       "\n",
       "        <table>\n",
       "            <tr>\n",
       "                <td><strong>Reaction identifier</strong></td><td>BIOMASS</td>\n",
       "            </tr><tr>\n",
       "                <td><strong>Name</strong></td><td>Biomass formation</td>\n",
       "            </tr><tr>\n",
       "                <td><strong>Memory address</strong></td>\n",
       "                <td>0x7fa50506a340</td>\n",
       "            </tr><tr>\n",
       "                <td><strong>Stoichiometry</strong></td>\n",
       "                <td>\n",
       "                    <p style='text-align:right'>104.0 ATP[c] + 0.0324116276714271 BioPool[c] + 0.0268408791654006 Bmineral[c] + 0.0559910868023904 Cell_wall[c] + 0.00111921401802897 Free_nucleic_acids[c] + 104.0 H2O[c] + 0.649245416793275...</p>\n",
       "                    <p style='text-align:right'>104.0 ATP + 0.0324116276714271 BioPool + 0.0268408791654006 Trace metals and minerals + 0.0559910868023904 Cell wall Biomass precursor + 0.00111921401802897 Free nucleic acids + 104.0 H2O +...</p>\n",
       "                </td>\n",
       "            </tr><tr>\n",
       "                <td><strong>GPR</strong></td><td></td>\n",
       "            </tr><tr>\n",
       "                <td><strong>Lower bound</strong></td><td>0.0</td>\n",
       "            </tr><tr>\n",
       "                <td><strong>Upper bound</strong></td><td>1000.0</td>\n",
       "            </tr>\n",
       "        </table>\n",
       "        "
      ],
      "text/plain": [
       "<Reaction BIOMASS at 0x7fa50506a340>"
      ]
     },
     "execution_count": 333,
     "metadata": {},
     "output_type": "execute_result"
    }
   ],
   "source": [
    "model.reactions.get_by_id('BIOMASS')"
   ]
  },
  {
   "cell_type": "code",
   "execution_count": 334,
   "metadata": {},
   "outputs": [],
   "source": [
    "fpath = 'PRO_N_sources.xlsx'\n",
    "df_growing = pd.read_excel(fpath, sheet_name='uptake')\n",
    "n_exchange_df = pd.read_excel(fpath, sheet_name='secretion')\n"
   ]
  },
  {
   "cell_type": "code",
   "execution_count": null,
   "metadata": {},
   "outputs": [],
   "source": []
  },
  {
   "cell_type": "markdown",
   "metadata": {},
   "source": [
    "# Knockout genes - to find genes required for uptake/secretion"
   ]
  },
  {
   "cell_type": "markdown",
   "metadata": {},
   "source": [
    "### Partition genes and reactions to essential and non-essential"
   ]
  },
  {
   "cell_type": "code",
   "execution_count": null,
   "metadata": {},
   "outputs": [],
   "source": [
    "# open all potential mediums and run gene knockout to see what is blocking growth when all N sources are available \n",
    "with model:\n",
    "    medium = model.medium\n",
    "    medium[\"AmmoniaEX\"] = 0.0\n",
    "    for i in df_growing.uptake:\n",
    "        medium[i] = 1000.0\n",
    "    model.medium = medium\n",
    "    model.reactions.BIOMASS.lower_bound = 1e-5\n",
    "    solution = model.optimize()\n",
    "    print(model.summary())\n",
    "    essential_gene_df = single_gene_deletion(model, processes=10)\n",
    "    print('done genes')\n",
    "    essential_reaction_df = single_reaction_deletion(model, processes=10)\n",
    "\n"
   ]
  },
  {
   "cell_type": "code",
   "execution_count": null,
   "metadata": {},
   "outputs": [],
   "source": [
    "essential_gene_df.loc[~essential_gene_df.status.isin(['optimal'])]"
   ]
  },
  {
   "cell_type": "code",
   "execution_count": null,
   "metadata": {},
   "outputs": [],
   "source": [
    "essential_reaction_df.loc[~essential_reaction_df.status.isin(['optimal'])]"
   ]
  },
  {
   "cell_type": "code",
   "execution_count": null,
   "metadata": {},
   "outputs": [],
   "source": [
    "non_essential_genes = set().union(*essential_gene_df.loc[essential_gene_df.status.isin(['optimal']), 'ids'].values)"
   ]
  },
  {
   "cell_type": "code",
   "execution_count": null,
   "metadata": {},
   "outputs": [],
   "source": [
    "non_essential_reactions = set().union(*essential_reaction_df.loc[essential_reaction_df.status.isin(['optimal']), 'ids'].values)"
   ]
  },
  {
   "cell_type": "code",
   "execution_count": null,
   "metadata": {},
   "outputs": [],
   "source": [
    "len(non_essential_genes), len(non_essential_reactions)"
   ]
  },
  {
   "cell_type": "code",
   "execution_count": null,
   "metadata": {},
   "outputs": [],
   "source": [
    "essential_gene_df.to_csv(os.path.join('data', 'MED4_essential_genes.csv'))\n",
    "essential_reaction_df.to_csv(os.path.join('data', 'MED4_essential_reactions.csv'))\n"
   ]
  },
  {
   "cell_type": "code",
   "execution_count": 362,
   "metadata": {},
   "outputs": [],
   "source": [
    "essential_gene_df = pd.read_csv(os.path.join('data', 'MED4_essential_genes.csv'))\n",
    "essential_reaction_df = pd.read_csv(os.path.join('data', 'MED4_essential_reactions.csv'))\n"
   ]
  },
  {
   "cell_type": "code",
   "execution_count": 363,
   "metadata": {},
   "outputs": [],
   "source": [
    "essential_gene_df['gid']  = essential_gene_df.ids.str.extract(r\"([^\\{\\}\\']+)\")\n",
    "essential_reaction_df['rid']  = essential_reaction_df.ids.str.extract(r\"([^\\{\\}\\']+)\")\n"
   ]
  },
  {
   "cell_type": "markdown",
   "metadata": {},
   "source": [
    "# Double knockdowns\n",
    "\n",
    "Some of the genes removed by double knockout are clearly related to uptake. So decided to avoid doing double knockdowns"
   ]
  },
  {
   "cell_type": "raw",
   "metadata": {},
   "source": [
    "# open all potential mediums and run gene knockout to see what is blocking growth when all N sources are available \n",
    "with model:\n",
    "    medium = model.medium\n",
    "    medium[\"AmmoniaEX\"] = 0.0\n",
    "    for i in df_growing.uptake:\n",
    "        medium[i] = 1000.0\n",
    "    model.medium = medium\n",
    "    model.reactions.BIOMASS.lower_bound = 1e-5\n",
    "    solution = model.optimize()\n",
    "    print(model.summary())\n",
    "    essential_2gene_df = double_gene_deletion(model, processes=10, \n",
    "                                             gene_list1=list(non_essential_genes),\n",
    "                                             gene_list2=list(non_essential_genes), \n",
    "                                            )\n",
    "    print('done genes')\n",
    "    #essential_reaction_df = single_reaction_deletion(model, processes=10)\n",
    "\n"
   ]
  },
  {
   "cell_type": "code",
   "execution_count": null,
   "metadata": {},
   "outputs": [],
   "source": []
  },
  {
   "cell_type": "code",
   "execution_count": 336,
   "metadata": {},
   "outputs": [
    {
     "data": {
      "text/plain": [
       "1      {'PMM0786'}\n",
       "4      {'PMM0874'}\n",
       "5      {'PMM1150'}\n",
       "7      {'PMM0149'}\n",
       "9      {'PMM0914'}\n",
       "          ...     \n",
       "588    {'PMM1062'}\n",
       "589    {'PMM0445'}\n",
       "590    {'PMM0389'}\n",
       "591    {'PMM1450'}\n",
       "592    {'PMM1569'}\n",
       "Name: ids, Length: 309, dtype: object"
      ]
     },
     "execution_count": 336,
     "metadata": {},
     "output_type": "execute_result"
    }
   ],
   "source": [
    "essential_gene_df.loc[essential_gene_df.growth > 1e-5].ids"
   ]
  },
  {
   "cell_type": "raw",
   "metadata": {
    "scrolled": true
   },
   "source": [
    "essential_2gene_df.loc[essential_2gene_df.growth > 1e-5].ids"
   ]
  },
  {
   "cell_type": "raw",
   "metadata": {},
   "source": [
    "essential_2gene_df.to_csv('data/MED4_double_gene_knockout.csv.gz')"
   ]
  },
  {
   "cell_type": "raw",
   "metadata": {},
   "source": [
    "essential_2genes_list = essential_2gene_df.loc[essential_2gene_df.status.isin(['infeasible']) | \n",
    "                      (essential_2gene_df.growth<1e-5)]['ids']"
   ]
  },
  {
   "cell_type": "raw",
   "metadata": {},
   "source": [
    "essential_2genes_list"
   ]
  },
  {
   "cell_type": "raw",
   "metadata": {},
   "source": [
    "essential_2genes_set = set().union(*essential_2genes_list)\n",
    "len(essential_2genes_set)"
   ]
  },
  {
   "cell_type": "code",
   "execution_count": 364,
   "metadata": {},
   "outputs": [],
   "source": [
    "essential_genes_list = essential_gene_df.loc[essential_gene_df.status.isin(['infeasible']) | \n",
    "                      (essential_gene_df.growth<=1e-5)]['gid']"
   ]
  },
  {
   "cell_type": "code",
   "execution_count": 365,
   "metadata": {},
   "outputs": [
    {
     "data": {
      "text/plain": [
       "0      PMM0572\n",
       "2      PMM0287\n",
       "3      PMM0494\n",
       "6      PMM0243\n",
       "8      PMM1582\n",
       "        ...   \n",
       "581    PMM0526\n",
       "583    PMM0318\n",
       "585    PMM1630\n",
       "593    PMM0671\n",
       "594    PMM0131\n",
       "Name: gid, Length: 286, dtype: object"
      ]
     },
     "execution_count": 365,
     "metadata": {},
     "output_type": "execute_result"
    }
   ],
   "source": [
    "essential_genes_list"
   ]
  },
  {
   "cell_type": "code",
   "execution_count": 366,
   "metadata": {
    "scrolled": false
   },
   "outputs": [],
   "source": [
    "#non_essential_genes = [g.id for g in model.genes if g.id not in essential_combined_genes_set]\n",
    "non_essential_genes = [g.id for g in model.genes if g.id not in essential_genes_list]\n"
   ]
  },
  {
   "cell_type": "code",
   "execution_count": 368,
   "metadata": {},
   "outputs": [
    {
     "data": {
      "text/plain": [
       "0             R09250\n",
       "1             R00963\n",
       "2             R12063\n",
       "3             R01773\n",
       "4             R03051\n",
       "           ...      \n",
       "982           R10645\n",
       "987           R05810\n",
       "988           R05226\n",
       "990           R00510\n",
       "993    tRNAFormation\n",
       "Name: rid, Length: 579, dtype: object"
      ]
     },
     "execution_count": 368,
     "metadata": {},
     "output_type": "execute_result"
    }
   ],
   "source": [
    "non_essential_reactions = essential_reaction_df.loc[\n",
    "    essential_reaction_df.status.isin(['optimal']) & \n",
    "    (essential_reaction_df.growth > 1e-5) &\n",
    "    (~essential_reaction_df.rid.isin(exchange_ids))\n",
    "    , 'rid']\n",
    "non_essential_reactions"
   ]
  },
  {
   "cell_type": "code",
   "execution_count": 369,
   "metadata": {},
   "outputs": [
    {
     "data": {
      "text/plain": [
       "(579, 595)"
      ]
     },
     "execution_count": 369,
     "metadata": {},
     "output_type": "execute_result"
    }
   ],
   "source": [
    "len(non_essential_reactions), len(non_essential_genes)"
   ]
  },
  {
   "cell_type": "code",
   "execution_count": 370,
   "metadata": {},
   "outputs": [],
   "source": [
    "with open(os.path.join('data', 'MED4_del_gene_list.txt'), 'w') as fh:\n",
    "    fh.writelines(f'{i}\\n' for i in non_essential_genes)\n",
    "with open(os.path.join('data', 'MED4_del_reaction_list.txt'), 'w') as fh:\n",
    "    fh.writelines(f'{i}\\n' for i in non_essential_reactions)\n"
   ]
  },
  {
   "cell_type": "markdown",
   "metadata": {},
   "source": [
    "### Try to delete genes and reactions and see what is breaking the model per uptake option"
   ]
  },
  {
   "cell_type": "code",
   "execution_count": 371,
   "metadata": {},
   "outputs": [],
   "source": [
    "with open(os.path.join('data', 'MED4_del_gene_list.txt')) as fh:\n",
    "    non_essential_genes = [i.rstrip() for i in fh.readlines()]\n",
    "    \n",
    "with open(os.path.join('data', 'MED4_del_reaction_list.txt')) as fh:\n",
    "    non_essential_reactions = [i.rstrip() for i in fh.readlines()]\n",
    "        "
   ]
  },
  {
   "cell_type": "code",
   "execution_count": 372,
   "metadata": {},
   "outputs": [],
   "source": [
    "def _uptake_deletion_feeding_with_timeout(dpath, uptake1, deltype, timeout=10):\n",
    "    try:\n",
    "        print (uptake1)\n",
    "        list_file = os.path.join('data', f'MED4_del_{deltype}_list.txt')\n",
    "            \n",
    "        result = subprocess.run([\n",
    "            './prochlorococcus_feed_knockout.py', \n",
    "            '--uptake', uptake1, \n",
    "            '--out_dpath', dpath,\n",
    "            '--deltype', deltype,\n",
    "            '--list_file', list_file,\n",
    "            ],\n",
    "            capture_output=True, text=True, check=True, timeout=timeout,\n",
    "        )\n",
    "        #print(\"stdout:\", result.stdout)\n",
    "        #print(\"stderr:\", result.stderr)\n",
    "        return 'success'\n",
    "        \n",
    "    except subprocess.CalledProcessError as err:\n",
    "        print('CalledProcessError', err.returncode)\n",
    "        print(\"stdout:\", err.stdout)\n",
    "        print(\"stderr:\", err.stderr)\n",
    "        return 'error'\n",
    "                \n",
    "    except subprocess.TimeoutExpired as err:\n",
    "        print('TimeoutExpired', err.timeout)\n",
    "        print(\"stdout:\", err.stdout)\n",
    "        print(\"stderr:\", err.stderr)\n",
    "        return 'timeout'\n",
    "\n"
   ]
  },
  {
   "cell_type": "code",
   "execution_count": 372,
   "metadata": {},
   "outputs": [],
   "source": [
    "def _secretion_deletion_feeding_with_timeout(dpath, uptake1, deltype, timeout=10):\n",
    "    try:\n",
    "        print (uptake1)\n",
    "        list_file = os.path.join('data', f'MED4_del_{deltype}_list.txt')\n",
    "            \n",
    "        result = subprocess.run([\n",
    "            './prochlorococcus_feed_knockout.py', \n",
    "            '--uptake', uptake1, \n",
    "            '--out_dpath', dpath,\n",
    "            '--deltype', deltype,\n",
    "            '--list_file', list_file,\n",
    "            ],\n",
    "            capture_output=True, text=True, check=True, timeout=timeout,\n",
    "        )\n",
    "        #print(\"stdout:\", result.stdout)\n",
    "        #print(\"stderr:\", result.stderr)\n",
    "        return 'success'\n",
    "        \n",
    "    except subprocess.CalledProcessError as err:\n",
    "        print('CalledProcessError', err.returncode)\n",
    "        print(\"stdout:\", err.stdout)\n",
    "        print(\"stderr:\", err.stderr)\n",
    "        return 'error'\n",
    "                \n",
    "    except subprocess.TimeoutExpired as err:\n",
    "        print('TimeoutExpired', err.timeout)\n",
    "        print(\"stdout:\", err.stdout)\n",
    "        print(\"stderr:\", err.stderr)\n",
    "        return 'timeout'\n",
    "\n"
   ]
  },
  {
   "cell_type": "code",
   "execution_count": 373,
   "metadata": {
    "scrolled": true
   },
   "outputs": [
    {
     "name": "stdout",
     "output_type": "stream",
     "text": [
      "GuanosineEX\n",
      "TimeoutExpired 20\n",
      "stdout: b'Scaling...\\n A: min|aij| =  1.000e+00  max|aij| =  1.000e+00  ratio =  1.000e+00\\nProblem data seem to be well scaled\\nGuanosineEX None Objective\\n=========\\n1.0 BIOMASS = 1.23944740203336\\n\\nUptake\\n------\\n         Metabolite             Reaction      Flux  C-Number  C-Flux\\n         Cadmium[e]            CadmiumEX 5.982E-05         0   0.00%\\n  Calcium_cation[e]            CalciumEX   0.03317         0   0.00%\\n    Chloride_ion[e]           ChlorideEX    0.2949         0   0.00%\\n      Cobalt_ion[e]             CobaltEX  0.001923         0   0.00%\\n          Copper[e]             CopperEX 0.0001083         0   0.00%\\n  Orthophosphate[e] FAKEOrthophosphateEX    0.4503         0   0.00%\\n       Guanosine[e]          GuanosineEX     48.05         0   0.00%\\n            HCO3[e]            HCO3EXcar         8         1 100.00%\\n             Fe2[e]               IronEX  0.004006         0   0.00%\\n          Photon[e]              LightEX    0.2252         0   0.00%\\nMagnesium_cation[e]          MagnesiumEX    0.1969         0   0.00%\\n      Molybdenum[e]         MolybdenumEX 8.546E-06         0   0.00%\\n          Oxygen[e]                 O2EX     13.78         0   0.00%\\n               K[e]          PotassiumEX     0.118         0   0.00%\\n        Selenate[e]           SelenateEX   0.09464         0   0.00%\\n   Sodium_cation[e]             SodiumEX    0.5529         0   0.00%\\nStrontium_cation[e]          StrontiumEX  0.001424         0   0.00%\\n         Sulfate[e]            SulfateEX    0.9429         0   0.00%\\n             Zn2[e]               ZincEX 0.0002279         0   0.00%\\n\\nSecretion\\n---------\\n                               Metabolite                            Reaction       Flux  C-Number C-Flux\\n                               biomass[e]                           BiomassEX     -1.239         0  0.00%\\n                                   CO2[e]                               CO2EX      -0.82         1 64.28%\\n                                    CO[e]                                COEX -1.055E-05         1  0.00%\\n                               Formate[e]                           FormateEX     -29.11         0  0.00%\\n                        Glycolaldehyde[e]                    GlycolaldehydeEX  -0.007477         2  1.17%\\n                               Guanine[e]                           GuanineEX      -37.6         0  0.00%\\n                     Hydrogen_peroxide[e]                              H2O2EX    -0.1379         0  0.00%\\n                                   H2O[e]                               H2OEX     -36.49         0  0.00%\\n                              Methanol[e]                          MethanolEX  -0.005772         1  0.45%\\n                              Pyruvate[e]                          PyruvateEX     -34.61         0  0.00%\\nS_Adenosyl_4_methylthio_2_oxobutanoate[e] SAdenosyl4methylthio2oxobutanoateEX  -0.005772        15  6.79%\\n              S_Methyl_5_thio_D_ribose[e]               SMethyl5thioDriboseEX   -0.05645         6 26.55%\\n                            Xanthosine[e]                        XanthosineEX     -10.37         0  0.00%\\n                                  tRNA[e]                              tRNAEX -0.0006464        15  0.76%\\n\\n'\n",
      "stderr: None\n",
      "L_AspartateEX\n",
      "GlutathioneEX\n",
      "L_GlutamineEX\n",
      "TimeoutExpired 20\n",
      "stdout: b'Scaling...\\n A: min|aij| =  1.000e+00  max|aij| =  1.000e+00  ratio =  1.000e+00\\nProblem data seem to be well scaled\\nL_GlutamineEX None Objective\\n=========\\n1.0 BIOMASS = 0.12192265750448544\\n\\nUptake\\n------\\n         Metabolite             Reaction      Flux  C-Number C-Flux\\n         Cadmium[e]            CadmiumEX 5.885E-06         0  0.00%\\n  Calcium_cation[e]            CalciumEX  0.003263         0  0.00%\\n    Chloride_ion[e]           ChlorideEX   0.02901         0  0.00%\\n      Cobalt_ion[e]             CobaltEX 0.0001892         0  0.00%\\n          Copper[e]             CopperEX 1.065E-05         0  0.00%\\n  Orthophosphate[e] FAKEOrthophosphateEX   0.04429         0  0.00%\\n            HCO3[e]            HCO3EXcar     5.495         1 58.16%\\n             Fe2[e]               IronEX  0.000394         0  0.00%\\n     L_Glutamine[e]        L_GlutamineEX    0.7904         5 41.84%\\n          Photon[e]              LightEX     78.68         0  0.00%\\nMagnesium_cation[e]          MagnesiumEX   0.01937         0  0.00%\\n      Molybdenum[e]         MolybdenumEX 8.407E-07         0  0.00%\\n               K[e]          PotassiumEX    0.0116         0  0.00%\\n        Selenate[e]           SelenateEX  0.009309         0  0.00%\\n   Sodium_cation[e]             SodiumEX   0.05439         0  0.00%\\nStrontium_cation[e]          StrontiumEX 0.0001401         0  0.00%\\n         Sulfate[e]            SulfateEX   0.09275         0  0.00%\\n             Zn2[e]               ZincEX 2.242E-05         0  0.00%\\n\\nSecretion\\n---------\\n                               Metabolite                            Reaction       Flux  C-Number C-Flux\\n                               biomass[e]                           BiomassEX    -0.1219         0  0.00%\\n                                   CO2[e]                               CO2EX     -0.637         1 19.35%\\n                                    CO[e]                                COEX -1.037E-06         1  0.00%\\n                        Glycolaldehyde[e]                    GlycolaldehydeEX -0.0007355         2  0.04%\\n                     Hydrogen_peroxide[e]                              H2O2EX   -0.01356         0  0.00%\\n                                   H2O[e]                               H2OEX     -4.218         0  0.00%\\n                                     H[e]                                 HEX     -14.12         0  0.00%\\n                           L_Glutamate[e]                       L_GlutamateEX     -0.522         5 79.29%\\n                              Methanol[e]                          MethanolEX -0.0005678         1  0.02%\\n                                Oxygen[e]                                O2EX      -6.04         0  0.00%\\nS_Adenosyl_4_methylthio_2_oxobutanoate[e] SAdenosyl4methylthio2oxobutanoateEX -0.0005678        15  0.26%\\n              S_Methyl_5_thio_D_ribose[e]               SMethyl5thioDriboseEX  -0.005553         6  1.01%\\n                                  tRNA[e]                              tRNAEX -6.358E-05        15  0.03%\\n\\n'\n",
      "stderr: None\n",
      "L_SerineEX\n",
      "TimeoutExpired 20\n",
      "stdout: b'Scaling...\\n A: min|aij| =  1.000e+00  max|aij| =  1.000e+00  ratio =  1.000e+00\\nProblem data seem to be well scaled\\nL_SerineEX None Objective\\n=========\\n1.0 BIOMASS = 0.1189721893957353\\n\\nUptake\\n------\\n         Metabolite             Reaction      Flux  C-Number C-Flux\\n         Cadmium[e]            CadmiumEX 5.742E-06         0  0.00%\\n  Calcium_cation[e]            CalciumEX  0.003184         0  0.00%\\n    Chloride_ion[e]           ChlorideEX    0.0283         0  0.00%\\n      Cobalt_ion[e]             CobaltEX 0.0001846         0  0.00%\\n          Copper[e]             CopperEX 1.039E-05         0  0.00%\\n  Orthophosphate[e] FAKEOrthophosphateEX   0.04322         0  0.00%\\n            HCO3[e]            HCO3EXcar     5.475         1  8.04%\\n               H[e]                  HEX     4.669         0  0.00%\\n             Fe2[e]               IronEX 0.0003845         0  0.00%\\n        L_Serine[e]           L_SerineEX     20.88         3 91.96%\\n          Photon[e]              LightEX   0.02162         0  0.00%\\nMagnesium_cation[e]          MagnesiumEX    0.0189         0  0.00%\\n      Molybdenum[e]         MolybdenumEX 8.203E-07         0  0.00%\\n          Oxygen[e]                 O2EX     3.996         0  0.00%\\n               K[e]          PotassiumEX   0.01132         0  0.00%\\n        Selenate[e]           SelenateEX  0.009084         0  0.00%\\n   Sodium_cation[e]             SodiumEX   0.05307         0  0.00%\\nStrontium_cation[e]          StrontiumEX 0.0001367         0  0.00%\\n         Sulfate[e]            SulfateEX   0.09051         0  0.00%\\n             Zn2[e]               ZincEX 2.188E-05         0  0.00%\\n\\nSecretion\\n---------\\n                               Metabolite                            Reaction       Flux  C-Number C-Flux\\n                               biomass[e]                           BiomassEX     -0.119         0  0.00%\\n                                   CO2[e]                               CO2EX      -0.82         1  2.02%\\n                                    CO[e]                                COEX -1.012E-06         1  0.00%\\n                               Formate[e]                           FormateEX     -19.79         0  0.00%\\n                               Glycine[e]                           GlycineEX     -19.83         2 97.86%\\n                        Glycolaldehyde[e]                    GlycolaldehydeEX -0.0007177         2  0.00%\\n                     Hydrogen_peroxide[e]                              H2O2EX   -0.01324         0  0.00%\\n                                   H2O[e]                               H2OEX     -5.166         0  0.00%\\n                              Methanol[e]                          MethanolEX  -0.000554         1  0.00%\\n                              Pyruvate[e]                          PyruvateEX    -0.5902         0  0.00%\\nS_Adenosyl_4_methylthio_2_oxobutanoate[e] SAdenosyl4methylthio2oxobutanoateEX  -0.000554        15  0.02%\\n              S_Methyl_5_thio_D_ribose[e]               SMethyl5thioDriboseEX  -0.005418         6  0.08%\\n                                  Urea[e]                              UreaEX  -0.005418         1  0.01%\\n                                  tRNA[e]                              tRNAEX -6.205E-05        15  0.00%\\n\\n'\n",
      "stderr: None\n",
      "L_CystineEX\n"
     ]
    },
    {
     "name": "stdout",
     "output_type": "stream",
     "text": [
      "TimeoutExpired 20\n",
      "stdout: b'Scaling...\\n A: min|aij| =  1.000e+00  max|aij| =  1.000e+00  ratio =  1.000e+00\\nProblem data seem to be well scaled\\nL_CystineEX None Objective\\n=========\\n1.0 BIOMASS = 0.11645172899918435\\n\\nUptake\\n------\\n         Metabolite             Reaction      Flux  C-Number C-Flux\\n         Cadmium[e]            CadmiumEX 5.621E-06         0  0.00%\\n  Calcium_cation[e]            CalciumEX  0.003117         0  0.00%\\n    Chloride_ion[e]           ChlorideEX    0.0277         0  0.00%\\n      Cobalt_ion[e]             CobaltEX 0.0001807         0  0.00%\\n          Copper[e]             CopperEX 1.017E-05         0  0.00%\\n  Orthophosphate[e] FAKEOrthophosphateEX   0.04231         0  0.00%\\n            HCO3[e]            HCO3EXcar     5.459         1 64.04%\\n             Fe2[e]               IronEX 0.0003764         0  0.00%\\n       L_Cystine[e]          L_CystineEX     0.511         6 35.96%\\n          Photon[e]              LightEX     77.06         0  0.00%\\nMagnesium_cation[e]          MagnesiumEX    0.0185         0  0.00%\\n      Molybdenum[e]         MolybdenumEX  8.03E-07         0  0.00%\\n               K[e]          PotassiumEX   0.01108         0  0.00%\\n        Selenate[e]           SelenateEX  0.008892         0  0.00%\\n   Sodium_cation[e]             SodiumEX   0.05195         0  0.00%\\nStrontium_cation[e]          StrontiumEX 0.0001338         0  0.00%\\n         Sulfate[e]            SulfateEX   0.02901         0  0.00%\\n             Zn2[e]               ZincEX 2.141E-05         0  0.00%\\n\\nSecretion\\n---------\\n                               Metabolite                            Reaction       Flux  C-Number C-Flux\\n                               biomass[e]                           BiomassEX    -0.1165         0  0.00%\\n                                   CO2[e]                               CO2EX      -0.82         1 94.46%\\n                                    CO[e]                                COEX -9.908E-07         1  0.00%\\n                        Glycolaldehyde[e]                    GlycolaldehydeEX -0.0007025         2  0.16%\\n                     Hydrogen_peroxide[e]                              H2O2EX   -0.01296         0  0.00%\\n                                   H2O[e]                               H2OEX     -3.556         0  0.00%\\n                      Hydrogen_sulfide[e]                               H2SEX    -0.9624         0  0.00%\\n                                     H[e]                                 HEX     -13.93         0  0.00%\\n                              Methanol[e]                          MethanolEX -0.0005423         1  0.06%\\n                                Oxygen[e]                                O2EX     -5.986         0  0.00%\\n                              Pyruvate[e]                          PyruvateEX    -0.5926         0  0.00%\\nS_Adenosyl_4_methylthio_2_oxobutanoate[e] SAdenosyl4methylthio2oxobutanoateEX -0.0005423        15  0.94%\\n              S_Methyl_5_thio_D_ribose[e]               SMethyl5thioDriboseEX  -0.005303         6  3.67%\\n                                  Urea[e]                              UreaEX  -0.005303         1  0.61%\\n                                  tRNA[e]                              tRNAEX -6.073E-05        15  0.10%\\n\\n'\n",
      "stderr: None\n",
      "L_AlanineEX\n",
      "L_LeucineEX\n",
      "GlycineEX\n",
      "TimeoutExpired 20\n",
      "stdout: b'Scaling...\\n A: min|aij| =  1.000e+00  max|aij| =  1.000e+00  ratio =  1.000e+00\\nProblem data seem to be well scaled\\nGlycineEX None Objective\\n=========\\n1.0 BIOMASS = 0.101625655084699\\n\\nUptake\\n------\\n         Metabolite             Reaction      Flux  C-Number C-Flux\\n         Cadmium[e]            CadmiumEX 4.905E-06         0  0.00%\\n  Calcium_cation[e]            CalciumEX   0.00272         0  0.00%\\n    Chloride_ion[e]           ChlorideEX   0.02418         0  0.00%\\n      Cobalt_ion[e]             CobaltEX 0.0001577         0  0.00%\\n          Copper[e]             CopperEX 8.876E-06         0  0.00%\\n  Orthophosphate[e] FAKEOrthophosphateEX   0.03692         0  0.00%\\n         Glycine[e]            GlycineEX    0.8826         2 24.77%\\n            HCO3[e]            HCO3EXcar     5.362         1 75.23%\\n             Fe2[e]               IronEX 0.0003284         0  0.00%\\n          Photon[e]              LightEX      72.8         0  0.00%\\nMagnesium_cation[e]          MagnesiumEX   0.01615         0  0.00%\\n      Molybdenum[e]         MolybdenumEX 7.007E-07         0  0.00%\\n               K[e]          PotassiumEX  0.009671         0  0.00%\\n        Selenate[e]           SelenateEX   0.00776         0  0.00%\\n   Sodium_cation[e]             SodiumEX   0.04533         0  0.00%\\nStrontium_cation[e]          StrontiumEX 0.0001168         0  0.00%\\n         Sulfate[e]            SulfateEX   0.07731         0  0.00%\\n             Zn2[e]               ZincEX 1.869E-05         0  0.00%\\n\\nSecretion\\n---------\\n                               Metabolite                            Reaction       Flux  C-Number C-Flux\\n                               biomass[e]                           BiomassEX    -0.1016         0  0.00%\\n                                   CO2[e]                               CO2EX      -0.82         1 95.64%\\n                                    CO[e]                                COEX -8.646E-07         1  0.00%\\n                        Glycolaldehyde[e]                    GlycolaldehydeEX  -0.000613         2  0.14%\\n                     Hydrogen_peroxide[e]                              H2O2EX   -0.01131         0  0.00%\\n                                   H2O[e]                               H2OEX     -4.409         0  0.00%\\n                                     H[e]                                 HEX     -6.104         0  0.00%\\n                              Methanol[e]                          MethanolEX -0.0004733         1  0.06%\\n                                Oxygen[e]                                O2EX     -5.668         0  0.00%\\n                              Pyruvate[e]                          PyruvateEX    -0.3799         0  0.00%\\nS_Adenosyl_4_methylthio_2_oxobutanoate[e] SAdenosyl4methylthio2oxobutanoateEX -0.0004733        15  0.83%\\n              S_Methyl_5_thio_D_ribose[e]               SMethyl5thioDriboseEX  -0.004628         6  3.24%\\n                                  tRNA[e]                              tRNAEX   -5.3E-05        15  0.09%\\n\\n'\n",
      "stderr: None\n",
      "UreaEX\n",
      "AmmoniaEX\n",
      "TimeoutExpired 20\n",
      "stdout: b'Scaling...\\n A: min|aij| =  1.000e+00  max|aij| =  1.000e+00  ratio =  1.000e+00\\nProblem data seem to be well scaled\\nAmmoniaEX None Objective\\n=========\\n1.0 BIOMASS = 0.09846248800237388\\n\\nUptake\\n------\\n         Metabolite             Reaction      Flux  C-Number  C-Flux\\n         Ammonia[e]            AmmoniaEX    0.8551         0   0.00%\\n         Cadmium[e]            CadmiumEX 4.752E-06         0   0.00%\\n  Calcium_cation[e]            CalciumEX  0.002635         0   0.00%\\n    Chloride_ion[e]           ChlorideEX   0.02343         0   0.00%\\n      Cobalt_ion[e]             CobaltEX 0.0001528         0   0.00%\\n          Copper[e]             CopperEX 8.599E-06         0   0.00%\\n  Orthophosphate[e] FAKEOrthophosphateEX   0.03577         0   0.00%\\n            HCO3[e]            HCO3EXcar     5.342         1 100.00%\\n             Fe2[e]               IronEX 0.0003182         0   0.00%\\n          Photon[e]              LightEX     73.12         0   0.00%\\nMagnesium_cation[e]          MagnesiumEX   0.01565         0   0.00%\\n      Molybdenum[e]         MolybdenumEX 6.789E-07         0   0.00%\\n               K[e]          PotassiumEX   0.00937         0   0.00%\\n        Selenate[e]           SelenateEX  0.007518         0   0.00%\\n   Sodium_cation[e]             SodiumEX   0.04392         0   0.00%\\nStrontium_cation[e]          StrontiumEX 0.0001131         0   0.00%\\n         Sulfate[e]            SulfateEX   0.07491         0   0.00%\\n             Zn2[e]               ZincEX  1.81E-05         0   0.00%\\n\\nSecretion\\n---------\\n                               Metabolite                            Reaction       Flux  C-Number C-Flux\\n                               biomass[e]                           BiomassEX   -0.09846         0  0.00%\\n                                   CO2[e]                               CO2EX    -0.3348         1 90.24%\\n                                    CO[e]                                COEX -8.377E-07         1  0.00%\\n                        Glycolaldehyde[e]                    GlycolaldehydeEX -0.0005939         2  0.32%\\n                     Hydrogen_peroxide[e]                              H2O2EX   -0.01095         0  0.00%\\n                                   H2O[e]                               H2OEX     -4.299         0  0.00%\\n                                     H[e]                                 HEX     -12.94         0  0.00%\\n                              Methanol[e]                          MethanolEX -0.0004585         1  0.12%\\n                                Oxygen[e]                                O2EX     -5.854         0  0.00%\\nS_Adenosyl_4_methylthio_2_oxobutanoate[e] SAdenosyl4methylthio2oxobutanoateEX -0.0004585        15  1.85%\\n              S_Methyl_5_thio_D_ribose[e]               SMethyl5thioDriboseEX  -0.004484         6  7.25%\\n                                  tRNA[e]                              tRNAEX -5.135E-05        15  0.21%\\n\\n'\n",
      "stderr: None\n",
      "L_GlutamateEX\n"
     ]
    },
    {
     "name": "stdout",
     "output_type": "stream",
     "text": [
      "TimeoutExpired 20\n",
      "stdout: b'Scaling...\\n A: min|aij| =  1.000e+00  max|aij| =  1.000e+00  ratio =  1.000e+00\\nProblem data seem to be well scaled\\nL_GlutamateEX None Objective\\n=========\\n1.0 BIOMASS = 0.09726135236073205\\n\\nUptake\\n------\\n         Metabolite             Reaction      Flux  C-Number C-Flux\\n         Cadmium[e]            CadmiumEX 4.694E-06         0  0.00%\\n  Calcium_cation[e]            CalciumEX  0.002603         0  0.00%\\n    Chloride_ion[e]           ChlorideEX   0.02314         0  0.00%\\n      Cobalt_ion[e]             CobaltEX 0.0001509         0  0.00%\\n          Copper[e]             CopperEX 8.495E-06         0  0.00%\\n  Orthophosphate[e] FAKEOrthophosphateEX   0.03534         0  0.00%\\n            HCO3[e]            HCO3EXcar     5.334         1 41.94%\\n             Fe2[e]               IronEX 0.0003143         0  0.00%\\n     L_Glutamate[e]        L_GlutamateEX     1.477         5 58.06%\\n          Photon[e]              LightEX     82.63         0  0.00%\\nMagnesium_cation[e]          MagnesiumEX   0.01545         0  0.00%\\n      Molybdenum[e]         MolybdenumEX 6.706E-07         0  0.00%\\n               K[e]          PotassiumEX  0.009256         0  0.00%\\n        Selenate[e]           SelenateEX  0.007426         0  0.00%\\n   Sodium_cation[e]             SodiumEX   0.04339         0  0.00%\\nStrontium_cation[e]          StrontiumEX 0.0001118         0  0.00%\\n         Sulfate[e]            SulfateEX   0.07399         0  0.00%\\n             Zn2[e]               ZincEX 1.788E-05         0  0.00%\\n\\nSecretion\\n---------\\n                               Metabolite                            Reaction       Flux  C-Number C-Flux\\n                               biomass[e]                           BiomassEX   -0.09726         0  0.00%\\n                                   CO2[e]                               CO2EX      -0.82         1 95.82%\\n                                    CO[e]                                COEX -8.275E-07         1  0.00%\\n                        Glycolaldehyde[e]                    GlycolaldehydeEX -0.0005867         2  0.14%\\n                     Hydrogen_peroxide[e]                              H2O2EX   -0.01082         0  0.00%\\n                                   H2O[e]                               H2OEX     -5.416         0  0.00%\\n                                     H[e]                                 HEX     -15.33         0  0.00%\\n                              Methanol[e]                          MethanolEX -0.0004529         1  0.05%\\n                                Oxygen[e]                                O2EX     -6.484         0  0.00%\\nS_Adenosyl_4_methylthio_2_oxobutanoate[e] SAdenosyl4methylthio2oxobutanoateEX -0.0004529        15  0.79%\\n              S_Methyl_5_thio_D_ribose[e]               SMethyl5thioDriboseEX  -0.004429         6  3.11%\\n                                  tRNA[e]                              tRNAEX -5.072E-05        15  0.09%\\n\\n'\n",
      "stderr: None\n",
      "L_ArginineEX\n",
      "TimeoutExpired 20\n",
      "stdout: b'Scaling...\\n A: min|aij| =  1.000e+00  max|aij| =  1.000e+00  ratio =  1.000e+00\\nProblem data seem to be well scaled\\nL_ArginineEX None Objective\\n=========\\n1.0 BIOMASS = 0.09479172165768338\\n\\nUptake\\n------\\n         Metabolite             Reaction      Flux  C-Number C-Flux\\n         Cadmium[e]            CadmiumEX 4.575E-06         0  0.00%\\n  Calcium_cation[e]            CalciumEX  0.002537         0  0.00%\\n    Chloride_ion[e]           ChlorideEX   0.02255         0  0.00%\\n      Cobalt_ion[e]             CobaltEX 0.0001471         0  0.00%\\n          Copper[e]             CopperEX 8.279E-06         0  0.00%\\n  Orthophosphate[e] FAKEOrthophosphateEX   0.03444         0  0.00%\\n            HCO3[e]            HCO3EXcar     5.281         1 70.12%\\n             Fe2[e]               IronEX 0.0003064         0  0.00%\\n      L_Arginine[e]         L_ArginineEX     0.375         6 29.88%\\n          Photon[e]              LightEX     72.37         0  0.00%\\nMagnesium_cation[e]          MagnesiumEX   0.01506         0  0.00%\\n      Molybdenum[e]         MolybdenumEX 6.536E-07         0  0.00%\\n               K[e]          PotassiumEX  0.009021         0  0.00%\\n        Selenate[e]           SelenateEX  0.007238         0  0.00%\\n   Sodium_cation[e]             SodiumEX   0.04228         0  0.00%\\nStrontium_cation[e]          StrontiumEX 0.0001089         0  0.00%\\n         Sulfate[e]            SulfateEX   0.07211         0  0.00%\\n             Zn2[e]               ZincEX 1.743E-05         0  0.00%\\n\\nSecretion\\n---------\\n                               Metabolite                            Reaction       Flux  C-Number C-Flux\\n                               biomass[e]                           BiomassEX   -0.09479         0  0.00%\\n                                   CO2[e]                               CO2EX      -0.82         1 95.92%\\n                                    CO[e]                                COEX -8.065E-07         1  0.00%\\n                        Glycolaldehyde[e]                    GlycolaldehydeEX -0.0005718         2  0.13%\\n                     Hydrogen_peroxide[e]                              H2O2EX   -0.01055         0  0.00%\\n                                   H2O[e]                               H2OEX     -3.279         0  0.00%\\n                                     H[e]                                 HEX     -12.78         0  0.00%\\n                              Methanol[e]                          MethanolEX -0.0004414         1  0.05%\\n                                Oxygen[e]                                O2EX     -5.882         0  0.00%\\n                            Putrescine[e]                        PutrescineEX    -0.3384         0  0.00%\\n                              Pyruvate[e]                          PyruvateEX    -0.1791         0  0.00%\\nS_Adenosyl_4_methylthio_2_oxobutanoate[e] SAdenosyl4methylthio2oxobutanoateEX -0.0004414        15  0.77%\\n              S_Methyl_5_thio_D_ribose[e]               SMethyl5thioDriboseEX  -0.004317         6  3.03%\\n                                  tRNA[e]                              tRNAEX -4.943E-05        15  0.09%\\n\\n'\n",
      "stderr: None\n",
      "CyanateEX\n",
      "L_ValineEX\n",
      "TimeoutExpired 20\n",
      "stdout: b'Scaling...\\n A: min|aij| =  1.000e+00  max|aij| =  1.000e+00  ratio =  1.000e+00\\nProblem data seem to be well scaled\\nL_ValineEX None Objective\\n=========\\n1.0 BIOMASS = 0.07493417708047853\\n\\nUptake\\n------\\n         Metabolite             Reaction      Flux  C-Number C-Flux\\n         Cadmium[e]            CadmiumEX 3.617E-06         0  0.00%\\n  Calcium_cation[e]            CalciumEX  0.002006         0  0.00%\\n    Chloride_ion[e]           ChlorideEX   0.01783         0  0.00%\\n      Cobalt_ion[e]             CobaltEX 0.0001163         0  0.00%\\n          Copper[e]             CopperEX 6.545E-06         0  0.00%\\n  Orthophosphate[e] FAKEOrthophosphateEX   0.02722         0  0.00%\\n            HCO3[e]            HCO3EXcar     5.188         1 61.46%\\n             Fe2[e]               IronEX 0.0002422         0  0.00%\\n        L_Valine[e]           L_ValineEX    0.6508         5 38.54%\\n          Photon[e]              LightEX     63.81         0  0.00%\\nMagnesium_cation[e]          MagnesiumEX   0.01191         0  0.00%\\n      Molybdenum[e]         MolybdenumEX 5.167E-07         0  0.00%\\n               K[e]          PotassiumEX  0.007131         0  0.00%\\n        Selenate[e]           SelenateEX  0.005722         0  0.00%\\n   Sodium_cation[e]             SodiumEX   0.03343         0  0.00%\\nStrontium_cation[e]          StrontiumEX 8.611E-05         0  0.00%\\n         Sulfate[e]            SulfateEX   0.05701         0  0.00%\\n             Zn2[e]               ZincEX 1.378E-05         0  0.00%\\n\\nSecretion\\n---------\\n                               Metabolite                            Reaction       Flux  C-Number C-Flux\\n              4_Methyl_2_oxopentanoate[e]          4_Methyl_2_oxopentanoateEX    -0.5925         0  0.00%\\n                               biomass[e]                           BiomassEX   -0.07493         0  0.00%\\n                                   CO2[e]                               CO2EX      -0.82         1 96.75%\\n                                    CO[e]                                COEX -6.375E-07         1  0.00%\\n                        Glycolaldehyde[e]                    GlycolaldehydeEX  -0.000452         2  0.11%\\n                     Hydrogen_peroxide[e]                              H2O2EX  -0.008337         0  0.00%\\n                                   H2O[e]                               H2OEX     -3.864         0  0.00%\\n                                     H[e]                                 HEX     -4.732         0  0.00%\\n                              Methanol[e]                          MethanolEX  -0.000349         1  0.04%\\n                                Oxygen[e]                                O2EX     -4.912         0  0.00%\\n                              Pyruvate[e]                          PyruvateEX   -0.08559         0  0.00%\\nS_Adenosyl_4_methylthio_2_oxobutanoate[e] SAdenosyl4methylthio2oxobutanoateEX  -0.000349        15  0.62%\\n              S_Methyl_5_thio_D_ribose[e]               SMethyl5thioDriboseEX  -0.003413         6  2.42%\\n                                  tRNA[e]                              tRNAEX -3.908E-05        15  0.07%\\n\\n'\n",
      "stderr: None\n",
      "GuanineEX\n"
     ]
    }
   ],
   "source": [
    "deltype = 'gene'\n",
    "dpath = os.path.join('data',f'{deltype}_knockout_uptake_29082022')\n",
    "knockout_success = [\n",
    "    _uptake_deletion_feeding_with_timeout(dpath, u, deltype, timeout=20)\n",
    "    for u in df_growing.uptake\n",
    "]\n"
   ]
  },
  {
   "cell_type": "code",
   "execution_count": 380,
   "metadata": {},
   "outputs": [
    {
     "data": {
      "text/plain": [
       "['timeout', 'success', 'success', 'success', 'success', 'success']"
      ]
     },
     "execution_count": 380,
     "metadata": {},
     "output_type": "execute_result"
    }
   ],
   "source": [
    "knockout_success"
   ]
  },
  {
   "cell_type": "code",
   "execution_count": 375,
   "metadata": {},
   "outputs": [
    {
     "data": {
      "text/plain": [
       "timeout    9\n",
       "success    7\n",
       "Name: gknockout_success1, dtype: int64"
      ]
     },
     "execution_count": 375,
     "metadata": {},
     "output_type": "execute_result"
    }
   ],
   "source": [
    "df_growing['gknockout_success1'] = knockout_success\n",
    "df_growing['gknockout_success1'].value_counts()"
   ]
  },
  {
   "cell_type": "code",
   "execution_count": 382,
   "metadata": {
    "collapsed": true
   },
   "outputs": [
    {
     "name": "stdout",
     "output_type": "stream",
     "text": [
      "L_GlutamineEX\n",
      "L_SerineEX\n"
     ]
    },
    {
     "ename": "KeyboardInterrupt",
     "evalue": "",
     "output_type": "error",
     "traceback": [
      "\u001b[0;31m---------------------------------------------------------------------------\u001b[0m",
      "\u001b[0;31mKeyboardInterrupt\u001b[0m                         Traceback (most recent call last)",
      "\u001b[0;32m/tmp/ipykernel_1858647/2110985753.py\u001b[0m in \u001b[0;36m<module>\u001b[0;34m\u001b[0m\n\u001b[1;32m      1\u001b[0m \u001b[0mdeltype\u001b[0m \u001b[0;34m=\u001b[0m \u001b[0;34m'gene'\u001b[0m\u001b[0;34m\u001b[0m\u001b[0;34m\u001b[0m\u001b[0m\n\u001b[1;32m      2\u001b[0m \u001b[0mdpath\u001b[0m \u001b[0;34m=\u001b[0m \u001b[0mos\u001b[0m\u001b[0;34m.\u001b[0m\u001b[0mpath\u001b[0m\u001b[0;34m.\u001b[0m\u001b[0mjoin\u001b[0m\u001b[0;34m(\u001b[0m\u001b[0;34m'data'\u001b[0m\u001b[0;34m,\u001b[0m\u001b[0;34mf'{deltype}_knockout_uptake_29082022'\u001b[0m\u001b[0;34m)\u001b[0m\u001b[0;34m\u001b[0m\u001b[0;34m\u001b[0m\u001b[0m\n\u001b[0;32m----> 3\u001b[0;31m knockout_success = [\n\u001b[0m\u001b[1;32m      4\u001b[0m     \u001b[0m_uptake_deletion_feeding_with_timeout\u001b[0m\u001b[0;34m(\u001b[0m\u001b[0mdpath\u001b[0m\u001b[0;34m,\u001b[0m \u001b[0mu\u001b[0m\u001b[0;34m,\u001b[0m \u001b[0mdeltype\u001b[0m\u001b[0;34m,\u001b[0m \u001b[0mtimeout\u001b[0m\u001b[0;34m=\u001b[0m\u001b[0;36m1000\u001b[0m\u001b[0;34m)\u001b[0m\u001b[0;34m\u001b[0m\u001b[0;34m\u001b[0m\u001b[0m\n\u001b[1;32m      5\u001b[0m     \u001b[0;32mfor\u001b[0m \u001b[0mu\u001b[0m \u001b[0;32min\u001b[0m \u001b[0mdf_growing\u001b[0m\u001b[0;34m.\u001b[0m\u001b[0mloc\u001b[0m\u001b[0;34m[\u001b[0m\u001b[0mdf_growing\u001b[0m\u001b[0;34m.\u001b[0m\u001b[0mgknockout_success2\u001b[0m\u001b[0;34m.\u001b[0m\u001b[0misin\u001b[0m\u001b[0;34m(\u001b[0m\u001b[0;34m[\u001b[0m\u001b[0;34m'timeout'\u001b[0m\u001b[0;34m]\u001b[0m\u001b[0;34m)\u001b[0m\u001b[0;34m,\u001b[0m \u001b[0;34m'uptake'\u001b[0m\u001b[0;34m]\u001b[0m\u001b[0;34m\u001b[0m\u001b[0;34m\u001b[0m\u001b[0m\n",
      "\u001b[0;32m/tmp/ipykernel_1858647/2110985753.py\u001b[0m in \u001b[0;36m<listcomp>\u001b[0;34m(.0)\u001b[0m\n\u001b[1;32m      2\u001b[0m \u001b[0mdpath\u001b[0m \u001b[0;34m=\u001b[0m \u001b[0mos\u001b[0m\u001b[0;34m.\u001b[0m\u001b[0mpath\u001b[0m\u001b[0;34m.\u001b[0m\u001b[0mjoin\u001b[0m\u001b[0;34m(\u001b[0m\u001b[0;34m'data'\u001b[0m\u001b[0;34m,\u001b[0m\u001b[0;34mf'{deltype}_knockout_uptake_29082022'\u001b[0m\u001b[0;34m)\u001b[0m\u001b[0;34m\u001b[0m\u001b[0;34m\u001b[0m\u001b[0m\n\u001b[1;32m      3\u001b[0m knockout_success = [\n\u001b[0;32m----> 4\u001b[0;31m     \u001b[0m_uptake_deletion_feeding_with_timeout\u001b[0m\u001b[0;34m(\u001b[0m\u001b[0mdpath\u001b[0m\u001b[0;34m,\u001b[0m \u001b[0mu\u001b[0m\u001b[0;34m,\u001b[0m \u001b[0mdeltype\u001b[0m\u001b[0;34m,\u001b[0m \u001b[0mtimeout\u001b[0m\u001b[0;34m=\u001b[0m\u001b[0;36m1000\u001b[0m\u001b[0;34m)\u001b[0m\u001b[0;34m\u001b[0m\u001b[0;34m\u001b[0m\u001b[0m\n\u001b[0m\u001b[1;32m      5\u001b[0m     \u001b[0;32mfor\u001b[0m \u001b[0mu\u001b[0m \u001b[0;32min\u001b[0m \u001b[0mdf_growing\u001b[0m\u001b[0;34m.\u001b[0m\u001b[0mloc\u001b[0m\u001b[0;34m[\u001b[0m\u001b[0mdf_growing\u001b[0m\u001b[0;34m.\u001b[0m\u001b[0mgknockout_success2\u001b[0m\u001b[0;34m.\u001b[0m\u001b[0misin\u001b[0m\u001b[0;34m(\u001b[0m\u001b[0;34m[\u001b[0m\u001b[0;34m'timeout'\u001b[0m\u001b[0;34m]\u001b[0m\u001b[0;34m)\u001b[0m\u001b[0;34m,\u001b[0m \u001b[0;34m'uptake'\u001b[0m\u001b[0;34m]\u001b[0m\u001b[0;34m\u001b[0m\u001b[0;34m\u001b[0m\u001b[0m\n\u001b[1;32m      6\u001b[0m ]\n",
      "\u001b[0;32m/tmp/ipykernel_1858647/3663326180.py\u001b[0m in \u001b[0;36m_uptake_deletion_feeding_with_timeout\u001b[0;34m(dpath, uptake1, deltype, timeout)\u001b[0m\n\u001b[1;32m      4\u001b[0m         \u001b[0mlist_file\u001b[0m \u001b[0;34m=\u001b[0m \u001b[0mos\u001b[0m\u001b[0;34m.\u001b[0m\u001b[0mpath\u001b[0m\u001b[0;34m.\u001b[0m\u001b[0mjoin\u001b[0m\u001b[0;34m(\u001b[0m\u001b[0;34m'data'\u001b[0m\u001b[0;34m,\u001b[0m \u001b[0;34mf'MED4_del_{deltype}_list.txt'\u001b[0m\u001b[0;34m)\u001b[0m\u001b[0;34m\u001b[0m\u001b[0;34m\u001b[0m\u001b[0m\n\u001b[1;32m      5\u001b[0m \u001b[0;34m\u001b[0m\u001b[0m\n\u001b[0;32m----> 6\u001b[0;31m         result = subprocess.run([\n\u001b[0m\u001b[1;32m      7\u001b[0m             \u001b[0;34m'./prochlorococcus_feed_knockout.py'\u001b[0m\u001b[0;34m,\u001b[0m\u001b[0;34m\u001b[0m\u001b[0;34m\u001b[0m\u001b[0m\n\u001b[1;32m      8\u001b[0m             \u001b[0;34m'--uptake'\u001b[0m\u001b[0;34m,\u001b[0m \u001b[0muptake1\u001b[0m\u001b[0;34m,\u001b[0m\u001b[0;34m\u001b[0m\u001b[0;34m\u001b[0m\u001b[0m\n",
      "\u001b[0;32m~/work/tools/anaconda3/lib/python3.9/subprocess.py\u001b[0m in \u001b[0;36mrun\u001b[0;34m(input, capture_output, timeout, check, *popenargs, **kwargs)\u001b[0m\n\u001b[1;32m    505\u001b[0m     \u001b[0;32mwith\u001b[0m \u001b[0mPopen\u001b[0m\u001b[0;34m(\u001b[0m\u001b[0;34m*\u001b[0m\u001b[0mpopenargs\u001b[0m\u001b[0;34m,\u001b[0m \u001b[0;34m**\u001b[0m\u001b[0mkwargs\u001b[0m\u001b[0;34m)\u001b[0m \u001b[0;32mas\u001b[0m \u001b[0mprocess\u001b[0m\u001b[0;34m:\u001b[0m\u001b[0;34m\u001b[0m\u001b[0;34m\u001b[0m\u001b[0m\n\u001b[1;32m    506\u001b[0m         \u001b[0;32mtry\u001b[0m\u001b[0;34m:\u001b[0m\u001b[0;34m\u001b[0m\u001b[0;34m\u001b[0m\u001b[0m\n\u001b[0;32m--> 507\u001b[0;31m             \u001b[0mstdout\u001b[0m\u001b[0;34m,\u001b[0m \u001b[0mstderr\u001b[0m \u001b[0;34m=\u001b[0m \u001b[0mprocess\u001b[0m\u001b[0;34m.\u001b[0m\u001b[0mcommunicate\u001b[0m\u001b[0;34m(\u001b[0m\u001b[0minput\u001b[0m\u001b[0;34m,\u001b[0m \u001b[0mtimeout\u001b[0m\u001b[0;34m=\u001b[0m\u001b[0mtimeout\u001b[0m\u001b[0;34m)\u001b[0m\u001b[0;34m\u001b[0m\u001b[0;34m\u001b[0m\u001b[0m\n\u001b[0m\u001b[1;32m    508\u001b[0m         \u001b[0;32mexcept\u001b[0m \u001b[0mTimeoutExpired\u001b[0m \u001b[0;32mas\u001b[0m \u001b[0mexc\u001b[0m\u001b[0;34m:\u001b[0m\u001b[0;34m\u001b[0m\u001b[0;34m\u001b[0m\u001b[0m\n\u001b[1;32m    509\u001b[0m             \u001b[0mprocess\u001b[0m\u001b[0;34m.\u001b[0m\u001b[0mkill\u001b[0m\u001b[0;34m(\u001b[0m\u001b[0;34m)\u001b[0m\u001b[0;34m\u001b[0m\u001b[0;34m\u001b[0m\u001b[0m\n",
      "\u001b[0;32m~/work/tools/anaconda3/lib/python3.9/subprocess.py\u001b[0m in \u001b[0;36mcommunicate\u001b[0;34m(self, input, timeout)\u001b[0m\n\u001b[1;32m   1132\u001b[0m \u001b[0;34m\u001b[0m\u001b[0m\n\u001b[1;32m   1133\u001b[0m             \u001b[0;32mtry\u001b[0m\u001b[0;34m:\u001b[0m\u001b[0;34m\u001b[0m\u001b[0;34m\u001b[0m\u001b[0m\n\u001b[0;32m-> 1134\u001b[0;31m                 \u001b[0mstdout\u001b[0m\u001b[0;34m,\u001b[0m \u001b[0mstderr\u001b[0m \u001b[0;34m=\u001b[0m \u001b[0mself\u001b[0m\u001b[0;34m.\u001b[0m\u001b[0m_communicate\u001b[0m\u001b[0;34m(\u001b[0m\u001b[0minput\u001b[0m\u001b[0;34m,\u001b[0m \u001b[0mendtime\u001b[0m\u001b[0;34m,\u001b[0m \u001b[0mtimeout\u001b[0m\u001b[0;34m)\u001b[0m\u001b[0;34m\u001b[0m\u001b[0;34m\u001b[0m\u001b[0m\n\u001b[0m\u001b[1;32m   1135\u001b[0m             \u001b[0;32mexcept\u001b[0m \u001b[0mKeyboardInterrupt\u001b[0m\u001b[0;34m:\u001b[0m\u001b[0;34m\u001b[0m\u001b[0;34m\u001b[0m\u001b[0m\n\u001b[1;32m   1136\u001b[0m                 \u001b[0;31m# https://bugs.python.org/issue25942\u001b[0m\u001b[0;34m\u001b[0m\u001b[0;34m\u001b[0m\u001b[0m\n",
      "\u001b[0;32m~/work/tools/anaconda3/lib/python3.9/subprocess.py\u001b[0m in \u001b[0;36m_communicate\u001b[0;34m(self, input, endtime, orig_timeout)\u001b[0m\n\u001b[1;32m   1977\u001b[0m                             'failed to raise TimeoutExpired.')\n\u001b[1;32m   1978\u001b[0m \u001b[0;34m\u001b[0m\u001b[0m\n\u001b[0;32m-> 1979\u001b[0;31m                     \u001b[0mready\u001b[0m \u001b[0;34m=\u001b[0m \u001b[0mselector\u001b[0m\u001b[0;34m.\u001b[0m\u001b[0mselect\u001b[0m\u001b[0;34m(\u001b[0m\u001b[0mtimeout\u001b[0m\u001b[0;34m)\u001b[0m\u001b[0;34m\u001b[0m\u001b[0;34m\u001b[0m\u001b[0m\n\u001b[0m\u001b[1;32m   1980\u001b[0m                     \u001b[0mself\u001b[0m\u001b[0;34m.\u001b[0m\u001b[0m_check_timeout\u001b[0m\u001b[0;34m(\u001b[0m\u001b[0mendtime\u001b[0m\u001b[0;34m,\u001b[0m \u001b[0morig_timeout\u001b[0m\u001b[0;34m,\u001b[0m \u001b[0mstdout\u001b[0m\u001b[0;34m,\u001b[0m \u001b[0mstderr\u001b[0m\u001b[0;34m)\u001b[0m\u001b[0;34m\u001b[0m\u001b[0;34m\u001b[0m\u001b[0m\n\u001b[1;32m   1981\u001b[0m \u001b[0;34m\u001b[0m\u001b[0m\n",
      "\u001b[0;32m~/work/tools/anaconda3/lib/python3.9/selectors.py\u001b[0m in \u001b[0;36mselect\u001b[0;34m(self, timeout)\u001b[0m\n\u001b[1;32m    414\u001b[0m         \u001b[0mready\u001b[0m \u001b[0;34m=\u001b[0m \u001b[0;34m[\u001b[0m\u001b[0;34m]\u001b[0m\u001b[0;34m\u001b[0m\u001b[0;34m\u001b[0m\u001b[0m\n\u001b[1;32m    415\u001b[0m         \u001b[0;32mtry\u001b[0m\u001b[0;34m:\u001b[0m\u001b[0;34m\u001b[0m\u001b[0;34m\u001b[0m\u001b[0m\n\u001b[0;32m--> 416\u001b[0;31m             \u001b[0mfd_event_list\u001b[0m \u001b[0;34m=\u001b[0m \u001b[0mself\u001b[0m\u001b[0;34m.\u001b[0m\u001b[0m_selector\u001b[0m\u001b[0;34m.\u001b[0m\u001b[0mpoll\u001b[0m\u001b[0;34m(\u001b[0m\u001b[0mtimeout\u001b[0m\u001b[0;34m)\u001b[0m\u001b[0;34m\u001b[0m\u001b[0;34m\u001b[0m\u001b[0m\n\u001b[0m\u001b[1;32m    417\u001b[0m         \u001b[0;32mexcept\u001b[0m \u001b[0mInterruptedError\u001b[0m\u001b[0;34m:\u001b[0m\u001b[0;34m\u001b[0m\u001b[0;34m\u001b[0m\u001b[0m\n\u001b[1;32m    418\u001b[0m             \u001b[0;32mreturn\u001b[0m \u001b[0mready\u001b[0m\u001b[0;34m\u001b[0m\u001b[0;34m\u001b[0m\u001b[0m\n",
      "\u001b[0;31mKeyboardInterrupt\u001b[0m: "
     ]
    }
   ],
   "source": [
    "deltype = 'gene'\n",
    "dpath = os.path.join('data',f'{deltype}_knockout_uptake_29082022')\n",
    "knockout_success = [\n",
    "    _uptake_deletion_feeding_with_timeout(dpath, u, deltype, timeout=1000)\n",
    "    for u in df_growing.loc[df_growing.gknockout_success2.isin(['timeout']), 'uptake']\n",
    "]\n"
   ]
  },
  {
   "cell_type": "code",
   "execution_count": 381,
   "metadata": {},
   "outputs": [
    {
     "data": {
      "text/plain": [
       "success    5\n",
       "timeout    1\n",
       "Name: gknockout_success3, dtype: int64"
      ]
     },
     "execution_count": 381,
     "metadata": {},
     "output_type": "execute_result"
    }
   ],
   "source": [
    "df_growing.loc[df_growing.gknockout_success2.isin(['timeout']), 'gknockout_success3'] = knockout_success\n",
    "df_growing['gknockout_success3'].value_counts()"
   ]
  },
  {
   "cell_type": "code",
   "execution_count": 383,
   "metadata": {},
   "outputs": [
    {
     "name": "stdout",
     "output_type": "stream",
     "text": [
      "GuanosineEX\n",
      "L_AspartateEX\n",
      "GlutathioneEX\n",
      "L_GlutamineEX\n",
      "L_SerineEX\n",
      "TimeoutExpired 26\n",
      "stdout: b'Scaling...\\n A: min|aij| =  1.000e+00  max|aij| =  1.000e+00  ratio =  1.000e+00\\nProblem data seem to be well scaled\\nL_SerineEX None Objective\\n=========\\n1.0 BIOMASS = 0.1189721893957353\\n\\nUptake\\n------\\n         Metabolite             Reaction      Flux  C-Number C-Flux\\n         Cadmium[e]            CadmiumEX 5.742E-06         0  0.00%\\n  Calcium_cation[e]            CalciumEX  0.003184         0  0.00%\\n    Chloride_ion[e]           ChlorideEX    0.0283         0  0.00%\\n      Cobalt_ion[e]             CobaltEX 0.0001846         0  0.00%\\n          Copper[e]             CopperEX 1.039E-05         0  0.00%\\n  Orthophosphate[e] FAKEOrthophosphateEX   0.04322         0  0.00%\\n            HCO3[e]            HCO3EXcar     5.475         1  8.04%\\n               H[e]                  HEX     4.669         0  0.00%\\n             Fe2[e]               IronEX 0.0003845         0  0.00%\\n        L_Serine[e]           L_SerineEX     20.88         3 91.96%\\n          Photon[e]              LightEX   0.02162         0  0.00%\\nMagnesium_cation[e]          MagnesiumEX    0.0189         0  0.00%\\n      Molybdenum[e]         MolybdenumEX 8.203E-07         0  0.00%\\n          Oxygen[e]                 O2EX     3.996         0  0.00%\\n               K[e]          PotassiumEX   0.01132         0  0.00%\\n        Selenate[e]           SelenateEX  0.009084         0  0.00%\\n   Sodium_cation[e]             SodiumEX   0.05307         0  0.00%\\nStrontium_cation[e]          StrontiumEX 0.0001367         0  0.00%\\n         Sulfate[e]            SulfateEX   0.09051         0  0.00%\\n             Zn2[e]               ZincEX 2.188E-05         0  0.00%\\n\\nSecretion\\n---------\\n                               Metabolite                            Reaction       Flux  C-Number C-Flux\\n                               biomass[e]                           BiomassEX     -0.119         0  0.00%\\n                                   CO2[e]                               CO2EX      -0.82         1  2.02%\\n                                    CO[e]                                COEX -1.012E-06         1  0.00%\\n                               Formate[e]                           FormateEX     -19.79         0  0.00%\\n                               Glycine[e]                           GlycineEX     -19.83         2 97.86%\\n                        Glycolaldehyde[e]                    GlycolaldehydeEX -0.0007177         2  0.00%\\n                     Hydrogen_peroxide[e]                              H2O2EX   -0.01324         0  0.00%\\n                                   H2O[e]                               H2OEX     -5.166         0  0.00%\\n                              Methanol[e]                          MethanolEX  -0.000554         1  0.00%\\n                              Pyruvate[e]                          PyruvateEX    -0.5902         0  0.00%\\nS_Adenosyl_4_methylthio_2_oxobutanoate[e] SAdenosyl4methylthio2oxobutanoateEX  -0.000554        15  0.02%\\n              S_Methyl_5_thio_D_ribose[e]               SMethyl5thioDriboseEX  -0.005418         6  0.08%\\n                                  Urea[e]                              UreaEX  -0.005418         1  0.01%\\n                                  tRNA[e]                              tRNAEX -6.205E-05        15  0.00%\\n\\n'\n",
      "stderr: None\n",
      "L_CystineEX\n",
      "L_AlanineEX\n",
      "L_LeucineEX\n",
      "GlycineEX\n",
      "TimeoutExpired 26\n",
      "stdout: b'Scaling...\\n A: min|aij| =  1.000e+00  max|aij| =  1.000e+00  ratio =  1.000e+00\\nProblem data seem to be well scaled\\nGlycineEX None Objective\\n=========\\n1.0 BIOMASS = 0.101625655084699\\n\\nUptake\\n------\\n         Metabolite             Reaction      Flux  C-Number C-Flux\\n         Cadmium[e]            CadmiumEX 4.905E-06         0  0.00%\\n  Calcium_cation[e]            CalciumEX   0.00272         0  0.00%\\n    Chloride_ion[e]           ChlorideEX   0.02418         0  0.00%\\n      Cobalt_ion[e]             CobaltEX 0.0001577         0  0.00%\\n          Copper[e]             CopperEX 8.876E-06         0  0.00%\\n  Orthophosphate[e] FAKEOrthophosphateEX   0.03692         0  0.00%\\n         Glycine[e]            GlycineEX    0.8826         2 24.77%\\n            HCO3[e]            HCO3EXcar     5.362         1 75.23%\\n             Fe2[e]               IronEX 0.0003284         0  0.00%\\n          Photon[e]              LightEX      72.8         0  0.00%\\nMagnesium_cation[e]          MagnesiumEX   0.01615         0  0.00%\\n      Molybdenum[e]         MolybdenumEX 7.007E-07         0  0.00%\\n               K[e]          PotassiumEX  0.009671         0  0.00%\\n        Selenate[e]           SelenateEX   0.00776         0  0.00%\\n   Sodium_cation[e]             SodiumEX   0.04533         0  0.00%\\nStrontium_cation[e]          StrontiumEX 0.0001168         0  0.00%\\n         Sulfate[e]            SulfateEX   0.07731         0  0.00%\\n             Zn2[e]               ZincEX 1.869E-05         0  0.00%\\n\\nSecretion\\n---------\\n                               Metabolite                            Reaction       Flux  C-Number C-Flux\\n                               biomass[e]                           BiomassEX    -0.1016         0  0.00%\\n                                   CO2[e]                               CO2EX      -0.82         1 95.64%\\n                                    CO[e]                                COEX -8.646E-07         1  0.00%\\n                        Glycolaldehyde[e]                    GlycolaldehydeEX  -0.000613         2  0.14%\\n                     Hydrogen_peroxide[e]                              H2O2EX   -0.01131         0  0.00%\\n                                   H2O[e]                               H2OEX     -4.409         0  0.00%\\n                                     H[e]                                 HEX     -6.104         0  0.00%\\n                              Methanol[e]                          MethanolEX -0.0004733         1  0.06%\\n                                Oxygen[e]                                O2EX     -5.668         0  0.00%\\n                              Pyruvate[e]                          PyruvateEX    -0.3799         0  0.00%\\nS_Adenosyl_4_methylthio_2_oxobutanoate[e] SAdenosyl4methylthio2oxobutanoateEX -0.0004733        15  0.83%\\n              S_Methyl_5_thio_D_ribose[e]               SMethyl5thioDriboseEX  -0.004628         6  3.24%\\n                                  tRNA[e]                              tRNAEX   -5.3E-05        15  0.09%\\n\\n'\n",
      "stderr: None\n",
      "UreaEX\n",
      "AmmoniaEX\n",
      "L_GlutamateEX\n",
      "TimeoutExpired 26\n",
      "stdout: b'Scaling...\\n A: min|aij| =  1.000e+00  max|aij| =  1.000e+00  ratio =  1.000e+00\\nProblem data seem to be well scaled\\nL_GlutamateEX None Objective\\n=========\\n1.0 BIOMASS = 0.09726135236073205\\n\\nUptake\\n------\\n         Metabolite             Reaction      Flux  C-Number C-Flux\\n         Cadmium[e]            CadmiumEX 4.694E-06         0  0.00%\\n  Calcium_cation[e]            CalciumEX  0.002603         0  0.00%\\n    Chloride_ion[e]           ChlorideEX   0.02314         0  0.00%\\n      Cobalt_ion[e]             CobaltEX 0.0001509         0  0.00%\\n          Copper[e]             CopperEX 8.495E-06         0  0.00%\\n  Orthophosphate[e] FAKEOrthophosphateEX   0.03534         0  0.00%\\n            HCO3[e]            HCO3EXcar     5.334         1 41.94%\\n             Fe2[e]               IronEX 0.0003143         0  0.00%\\n     L_Glutamate[e]        L_GlutamateEX     1.477         5 58.06%\\n          Photon[e]              LightEX     82.63         0  0.00%\\nMagnesium_cation[e]          MagnesiumEX   0.01545         0  0.00%\\n      Molybdenum[e]         MolybdenumEX 6.706E-07         0  0.00%\\n               K[e]          PotassiumEX  0.009256         0  0.00%\\n        Selenate[e]           SelenateEX  0.007426         0  0.00%\\n   Sodium_cation[e]             SodiumEX   0.04339         0  0.00%\\nStrontium_cation[e]          StrontiumEX 0.0001118         0  0.00%\\n         Sulfate[e]            SulfateEX   0.07399         0  0.00%\\n             Zn2[e]               ZincEX 1.788E-05         0  0.00%\\n\\nSecretion\\n---------\\n                               Metabolite                            Reaction       Flux  C-Number C-Flux\\n                               biomass[e]                           BiomassEX   -0.09726         0  0.00%\\n                                   CO2[e]                               CO2EX      -0.82         1 95.82%\\n                                    CO[e]                                COEX -8.275E-07         1  0.00%\\n                        Glycolaldehyde[e]                    GlycolaldehydeEX -0.0005867         2  0.14%\\n                     Hydrogen_peroxide[e]                              H2O2EX   -0.01082         0  0.00%\\n                                   H2O[e]                               H2OEX     -5.416         0  0.00%\\n                                     H[e]                                 HEX     -15.33         0  0.00%\\n                              Methanol[e]                          MethanolEX -0.0004529         1  0.05%\\n                                Oxygen[e]                                O2EX     -6.484         0  0.00%\\nS_Adenosyl_4_methylthio_2_oxobutanoate[e] SAdenosyl4methylthio2oxobutanoateEX -0.0004529        15  0.79%\\n              S_Methyl_5_thio_D_ribose[e]               SMethyl5thioDriboseEX  -0.004429         6  3.11%\\n                                  tRNA[e]                              tRNAEX -5.072E-05        15  0.09%\\n\\n'\n",
      "stderr: None\n",
      "L_ArginineEX\n"
     ]
    },
    {
     "name": "stdout",
     "output_type": "stream",
     "text": [
      "CyanateEX\n",
      "TimeoutExpired 26\n",
      "stdout: b'Scaling...\\n A: min|aij| =  1.000e+00  max|aij| =  1.000e+00  ratio =  1.000e+00\\nProblem data seem to be well scaled\\nCyanateEX None Objective\\n=========\\n1.0 BIOMASS = 0.08817277250778842\\n\\nUptake\\n------\\n         Metabolite             Reaction      Flux  C-Number C-Flux\\n         Cadmium[e]            CadmiumEX 4.256E-06         0  0.00%\\n  Calcium_cation[e]            CalciumEX   0.00236         0  0.00%\\n    Chloride_ion[e]           ChlorideEX   0.02098         0  0.00%\\n      Cobalt_ion[e]             CobaltEX 0.0001368         0  0.00%\\n          Copper[e]             CopperEX 7.701E-06         0  0.00%\\n         Cyanate[e]            CyanateEX    0.7658         1 12.68%\\n  Orthophosphate[e] FAKEOrthophosphateEX   0.03203         0  0.00%\\n            HCO3[e]            HCO3EXcar     5.275         1 87.32%\\n             Fe2[e]               IronEX  0.000285         0  0.00%\\n          Photon[e]              LightEX     71.18         0  0.00%\\nMagnesium_cation[e]          MagnesiumEX   0.01401         0  0.00%\\n      Molybdenum[e]         MolybdenumEX  6.08E-07         0  0.00%\\n               K[e]          PotassiumEX  0.008391         0  0.00%\\n        Selenate[e]           SelenateEX  0.006732         0  0.00%\\n   Sodium_cation[e]             SodiumEX   0.03933         0  0.00%\\nStrontium_cation[e]          StrontiumEX 0.0001013         0  0.00%\\n         Sulfate[e]            SulfateEX   0.06708         0  0.00%\\n             Zn2[e]               ZincEX 1.621E-05         0  0.00%\\n\\nSecretion\\n---------\\n                               Metabolite                            Reaction       Flux  C-Number C-Flux\\n                               biomass[e]                           BiomassEX   -0.08817         0  0.00%\\n                                   CO2[e]                               CO2EX      -0.82         1 96.20%\\n                                    CO[e]                                COEX -7.502E-07         1  0.00%\\n                        Glycolaldehyde[e]                    GlycolaldehydeEX -0.0005319         2  0.12%\\n                     Hydrogen_peroxide[e]                              H2O2EX  -0.009809         0  0.00%\\n                                   H2O[e]                               H2OEX     -3.084         0  0.00%\\n                                     H[e]                                 HEX     -11.76         0  0.00%\\n                              Methanol[e]                          MethanolEX -0.0004106         1  0.05%\\n                                Oxygen[e]                                O2EX     -5.856         0  0.00%\\n                              Pyruvate[e]                          PyruvateEX    -0.2456         0  0.00%\\nS_Adenosyl_4_methylthio_2_oxobutanoate[e] SAdenosyl4methylthio2oxobutanoateEX -0.0004106        15  0.72%\\n              S_Methyl_5_thio_D_ribose[e]               SMethyl5thioDriboseEX  -0.004016         6  2.83%\\n                                  tRNA[e]                              tRNAEX -4.598E-05        15  0.08%\\n\\n'\n",
      "stderr: None\n",
      "L_ValineEX\n",
      "GuanineEX\n"
     ]
    }
   ],
   "source": [
    "deltype = 'reaction'\n",
    "dpath = os.path.join('data',f'{deltype}_knockout_uptake_29082022')\n",
    "knockout_success = [\n",
    "    _uptake_deletion_feeding_with_timeout(dpath, u, deltype, timeout=26)\n",
    "    for u in df_growing.uptake\n",
    "]\n"
   ]
  },
  {
   "cell_type": "code",
   "execution_count": 388,
   "metadata": {},
   "outputs": [
    {
     "data": {
      "text/plain": [
       "['timeout', 'success', 'success', 'success']"
      ]
     },
     "execution_count": 388,
     "metadata": {},
     "output_type": "execute_result"
    }
   ],
   "source": [
    "knockout_success"
   ]
  },
  {
   "cell_type": "code",
   "execution_count": 385,
   "metadata": {},
   "outputs": [
    {
     "data": {
      "text/plain": [
       "success    12\n",
       "timeout     4\n",
       "Name: rknockout_success1, dtype: int64"
      ]
     },
     "execution_count": 385,
     "metadata": {},
     "output_type": "execute_result"
    }
   ],
   "source": [
    "df_growing['rknockout_success1'] = knockout_success\n",
    "df_growing['rknockout_success1'].value_counts()"
   ]
  },
  {
   "cell_type": "code",
   "execution_count": 390,
   "metadata": {
    "scrolled": true
   },
   "outputs": [
    {
     "name": "stdout",
     "output_type": "stream",
     "text": [
      "L_SerineEX\n"
     ]
    }
   ],
   "source": [
    "deltype = 'reaction'\n",
    "dpath = os.path.join('data',f'{deltype}_knockout_uptake_29082022')\n",
    "knockout_success = [\n",
    "    _uptake_deletion_feeding_with_timeout(dpath, u, deltype, timeout=60)\n",
    "    for u in df_growing.loc[df_growing.rknockout_success2.isin(['timeout']), 'uptake']\n",
    "]\n"
   ]
  },
  {
   "cell_type": "code",
   "execution_count": 389,
   "metadata": {},
   "outputs": [
    {
     "data": {
      "text/plain": [
       "success    3\n",
       "timeout    1\n",
       "Name: rknockout_success2, dtype: int64"
      ]
     },
     "execution_count": 389,
     "metadata": {},
     "output_type": "execute_result"
    }
   ],
   "source": [
    "df_growing.loc[df_growing.rknockout_success1.isin(['timeout']), 'rknockout_success2'] = knockout_success\n",
    "df_growing['rknockout_success2'].value_counts()"
   ]
  },
  {
   "cell_type": "code",
   "execution_count": 391,
   "metadata": {},
   "outputs": [
    {
     "data": {
      "text/plain": [
       "['success']"
      ]
     },
     "execution_count": 391,
     "metadata": {},
     "output_type": "execute_result"
    }
   ],
   "source": [
    "knockout_success"
   ]
  },
  {
   "cell_type": "markdown",
   "metadata": {},
   "source": [
    "# Double gene/reaction deletion - for now not running"
   ]
  },
  {
   "cell_type": "raw",
   "metadata": {},
   "source": [
    "essential_genes_per_uptake = gene_uptake_knockout_df.groupby('uptake').gid.apply(list)"
   ]
  },
  {
   "cell_type": "raw",
   "metadata": {},
   "source": [
    "essential_reactions_per_uptake = reaction_uptake_knockout_df.groupby('uptake').rid.apply(list)"
   ]
  },
  {
   "cell_type": "raw",
   "metadata": {},
   "source": [
    "def _uptake_double_deletion_feeding_with_timeout(dpath, uptake1, deltype, timeout=10):\n",
    "    try:\n",
    "        print (uptake1)\n",
    "        if deltype == '2gene':\n",
    "            c = non_essential_genes.copy()\n",
    "            c.difference_update(essential_genes_per_uptake[uptake1])\n",
    "        else: \n",
    "            c = non_essential_reactions.copy()\n",
    "            c.difference_update(essential_reactions_per_uptake[uptake1])\n",
    "        list_file = os.path.join('data', f'MED4_del_{deltype}_{uptake1}_list.txt')\n",
    "        with open(list_file, 'w') as fh:\n",
    "            fh.writelines(f'{i}\\n' for i in c)\n",
    "\n",
    "            \n",
    "        result = subprocess.run([\n",
    "            './prochlorococcus_feed_knockout.py', \n",
    "            '--uptake', uptake1, \n",
    "            '--out_dpath', dpath,\n",
    "            '--deltype', deltype,\n",
    "            '--list_file', list_file,\n",
    "            ],\n",
    "            capture_output=True, text=True, check=True, timeout=timeout,\n",
    "        )\n",
    "        #print(\"stdout:\", result.stdout)\n",
    "        #print(\"stderr:\", result.stderr)\n",
    "        return 'success'\n",
    "        \n",
    "    except subprocess.CalledProcessError as err:\n",
    "        print('CalledProcessError', err.returncode)\n",
    "        print(\"stdout:\", err.stdout)\n",
    "        print(\"stderr:\", err.stderr)\n",
    "        return 'error'\n",
    "                \n",
    "    except subprocess.TimeoutExpired as err:\n",
    "        print('TimeoutExpired', err.timeout)\n",
    "        print(\"stdout:\", err.stdout)\n",
    "        print(\"stderr:\", err.stderr)\n",
    "        return 'timeout'\n",
    "\n"
   ]
  },
  {
   "cell_type": "raw",
   "metadata": {},
   "source": [
    "deltype = '2gene'\n",
    "dpath = os.path.join('data',f'{deltype}_knockout_uptake_22082022')\n",
    "knockout_success = [\n",
    "    _uptake_double_deletion_feeding_with_timeout(dpath, u, deltype, timeout=10000)\n",
    "    for u in df_growing.uptake\n",
    "]\n"
   ]
  },
  {
   "cell_type": "code",
   "execution_count": null,
   "metadata": {},
   "outputs": [],
   "source": []
  },
  {
   "cell_type": "code",
   "execution_count": null,
   "metadata": {},
   "outputs": [],
   "source": []
  },
  {
   "cell_type": "markdown",
   "metadata": {},
   "source": [
    "# Results of knockdown"
   ]
  },
  {
   "cell_type": "markdown",
   "metadata": {},
   "source": [
    "### load the knockout results"
   ]
  },
  {
   "cell_type": "code",
   "execution_count": 668,
   "metadata": {},
   "outputs": [],
   "source": [
    "deltype = 'gene'\n",
    "dpath = os.path.join('data',f'{deltype}_knockout_uptake_29082022')\n",
    "gene_uptake_knockout_df = pd.concat([pd.read_csv(os.path.join(dpath, i)) for i in os.listdir(dpath)])"
   ]
  },
  {
   "cell_type": "code",
   "execution_count": 669,
   "metadata": {},
   "outputs": [],
   "source": [
    "deltype = 'reaction'\n",
    "dpath = os.path.join('data',f'{deltype}_knockout_uptake_29082022')\n",
    "reaction_uptake_knockout_df = pd.concat([pd.read_csv(os.path.join(dpath, i)) for i in os.listdir(dpath)])"
   ]
  },
  {
   "cell_type": "code",
   "execution_count": 670,
   "metadata": {},
   "outputs": [],
   "source": [
    "reaction_uptake_knockout_df['rid']  = reaction_uptake_knockout_df.ids.str.extract(r\"([^\\{\\}\\']+)\")\n",
    "gene_uptake_knockout_df['gid']  = gene_uptake_knockout_df.ids.str.extract(r\"([^\\{\\}\\']+)\")\n"
   ]
  },
  {
   "cell_type": "code",
   "execution_count": 671,
   "metadata": {},
   "outputs": [],
   "source": [
    "reaction_uptake_knockout_df['reaction'] = reaction_uptake_knockout_df.rid.map(lambda x: model.reactions.get_by_id(x).name)"
   ]
  },
  {
   "cell_type": "code",
   "execution_count": 672,
   "metadata": {},
   "outputs": [
    {
     "data": {
      "text/plain": [
       "'PMM0001'"
      ]
     },
     "execution_count": 672,
     "metadata": {},
     "output_type": "execute_result"
    }
   ],
   "source": [
    "model.genes.PMM0001.id"
   ]
  },
  {
   "cell_type": "code",
   "execution_count": 673,
   "metadata": {},
   "outputs": [],
   "source": [
    "def _get_gene_ids(rid):\n",
    "    gids = model.reactions.get_by_id(rid).genes\n",
    "    return pd.Series({'gid' :[g.id for g in gids]})\n",
    "\n",
    "reaction_uptake_knockout_df['gid'] = reaction_uptake_knockout_df.rid.apply(_get_gene_ids)"
   ]
  },
  {
   "cell_type": "code",
   "execution_count": 674,
   "metadata": {},
   "outputs": [
    {
     "data": {
      "text/html": [
       "<div>\n",
       "<style scoped>\n",
       "    .dataframe tbody tr th:only-of-type {\n",
       "        vertical-align: middle;\n",
       "    }\n",
       "\n",
       "    .dataframe tbody tr th {\n",
       "        vertical-align: top;\n",
       "    }\n",
       "\n",
       "    .dataframe thead th {\n",
       "        text-align: right;\n",
       "    }\n",
       "</style>\n",
       "<table border=\"1\" class=\"dataframe\">\n",
       "  <thead>\n",
       "    <tr style=\"text-align: right;\">\n",
       "      <th></th>\n",
       "      <th>Unnamed: 0</th>\n",
       "      <th>ids</th>\n",
       "      <th>growth</th>\n",
       "      <th>status</th>\n",
       "      <th>uptake</th>\n",
       "      <th>secretion</th>\n",
       "      <th>gid</th>\n",
       "    </tr>\n",
       "  </thead>\n",
       "  <tbody>\n",
       "    <tr>\n",
       "      <th>0</th>\n",
       "      <td>0</td>\n",
       "      <td>{'PMM0951'}</td>\n",
       "      <td>NaN</td>\n",
       "      <td>infeasible</td>\n",
       "      <td>L_GlutamateEX</td>\n",
       "      <td>NaN</td>\n",
       "      <td>PMM0951</td>\n",
       "    </tr>\n",
       "    <tr>\n",
       "      <th>1</th>\n",
       "      <td>1</td>\n",
       "      <td>{'PMM0796'}</td>\n",
       "      <td>NaN</td>\n",
       "      <td>infeasible</td>\n",
       "      <td>L_GlutamateEX</td>\n",
       "      <td>NaN</td>\n",
       "      <td>PMM0796</td>\n",
       "    </tr>\n",
       "    <tr>\n",
       "      <th>2</th>\n",
       "      <td>3</td>\n",
       "      <td>{'PMM0483'}</td>\n",
       "      <td>NaN</td>\n",
       "      <td>infeasible</td>\n",
       "      <td>L_GlutamateEX</td>\n",
       "      <td>NaN</td>\n",
       "      <td>PMM0483</td>\n",
       "    </tr>\n",
       "    <tr>\n",
       "      <th>3</th>\n",
       "      <td>5</td>\n",
       "      <td>{'PMM0001'}</td>\n",
       "      <td>0.00001</td>\n",
       "      <td>optimal</td>\n",
       "      <td>L_GlutamateEX</td>\n",
       "      <td>NaN</td>\n",
       "      <td>PMM0001</td>\n",
       "    </tr>\n",
       "    <tr>\n",
       "      <th>4</th>\n",
       "      <td>7</td>\n",
       "      <td>{'PMM1181'}</td>\n",
       "      <td>NaN</td>\n",
       "      <td>infeasible</td>\n",
       "      <td>L_GlutamateEX</td>\n",
       "      <td>NaN</td>\n",
       "      <td>PMM1181</td>\n",
       "    </tr>\n",
       "    <tr>\n",
       "      <th>...</th>\n",
       "      <td>...</td>\n",
       "      <td>...</td>\n",
       "      <td>...</td>\n",
       "      <td>...</td>\n",
       "      <td>...</td>\n",
       "      <td>...</td>\n",
       "      <td>...</td>\n",
       "    </tr>\n",
       "    <tr>\n",
       "      <th>320</th>\n",
       "      <td>589</td>\n",
       "      <td>{'PMM0938'}</td>\n",
       "      <td>NaN</td>\n",
       "      <td>infeasible</td>\n",
       "      <td>L_SerineEX</td>\n",
       "      <td>NaN</td>\n",
       "      <td>PMM0938</td>\n",
       "    </tr>\n",
       "    <tr>\n",
       "      <th>321</th>\n",
       "      <td>590</td>\n",
       "      <td>{'PMM1472'}</td>\n",
       "      <td>NaN</td>\n",
       "      <td>infeasible</td>\n",
       "      <td>L_SerineEX</td>\n",
       "      <td>NaN</td>\n",
       "      <td>PMM1472</td>\n",
       "    </tr>\n",
       "    <tr>\n",
       "      <th>322</th>\n",
       "      <td>591</td>\n",
       "      <td>{'PMM1273'}</td>\n",
       "      <td>NaN</td>\n",
       "      <td>infeasible</td>\n",
       "      <td>L_SerineEX</td>\n",
       "      <td>NaN</td>\n",
       "      <td>PMM1273</td>\n",
       "    </tr>\n",
       "    <tr>\n",
       "      <th>323</th>\n",
       "      <td>592</td>\n",
       "      <td>{'PMM0723'}</td>\n",
       "      <td>NaN</td>\n",
       "      <td>infeasible</td>\n",
       "      <td>L_SerineEX</td>\n",
       "      <td>NaN</td>\n",
       "      <td>PMM0723</td>\n",
       "    </tr>\n",
       "    <tr>\n",
       "      <th>324</th>\n",
       "      <td>594</td>\n",
       "      <td>{'PMM0258'}</td>\n",
       "      <td>NaN</td>\n",
       "      <td>infeasible</td>\n",
       "      <td>L_SerineEX</td>\n",
       "      <td>NaN</td>\n",
       "      <td>PMM0258</td>\n",
       "    </tr>\n",
       "  </tbody>\n",
       "</table>\n",
       "<p>5648 rows × 7 columns</p>\n",
       "</div>"
      ],
      "text/plain": [
       "     Unnamed: 0          ids   growth      status         uptake  secretion  \\\n",
       "0             0  {'PMM0951'}      NaN  infeasible  L_GlutamateEX        NaN   \n",
       "1             1  {'PMM0796'}      NaN  infeasible  L_GlutamateEX        NaN   \n",
       "2             3  {'PMM0483'}      NaN  infeasible  L_GlutamateEX        NaN   \n",
       "3             5  {'PMM0001'}  0.00001     optimal  L_GlutamateEX        NaN   \n",
       "4             7  {'PMM1181'}      NaN  infeasible  L_GlutamateEX        NaN   \n",
       "..          ...          ...      ...         ...            ...        ...   \n",
       "320         589  {'PMM0938'}      NaN  infeasible     L_SerineEX        NaN   \n",
       "321         590  {'PMM1472'}      NaN  infeasible     L_SerineEX        NaN   \n",
       "322         591  {'PMM1273'}      NaN  infeasible     L_SerineEX        NaN   \n",
       "323         592  {'PMM0723'}      NaN  infeasible     L_SerineEX        NaN   \n",
       "324         594  {'PMM0258'}      NaN  infeasible     L_SerineEX        NaN   \n",
       "\n",
       "         gid  \n",
       "0    PMM0951  \n",
       "1    PMM0796  \n",
       "2    PMM0483  \n",
       "3    PMM0001  \n",
       "4    PMM1181  \n",
       "..       ...  \n",
       "320  PMM0938  \n",
       "321  PMM1472  \n",
       "322  PMM1273  \n",
       "323  PMM0723  \n",
       "324  PMM0258  \n",
       "\n",
       "[5648 rows x 7 columns]"
      ]
     },
     "execution_count": 674,
     "metadata": {},
     "output_type": "execute_result"
    }
   ],
   "source": [
    "gene_uptake_knockout_df"
   ]
  },
  {
   "cell_type": "code",
   "execution_count": 675,
   "metadata": {
    "scrolled": true
   },
   "outputs": [],
   "source": [
    "gids_of_reactions_df = reaction_uptake_knockout_df.explode('gid')\n",
    "gids_of_reactions_df = gids_of_reactions_df.dropna(subset=['gid'], axis=0)"
   ]
  },
  {
   "cell_type": "code",
   "execution_count": 676,
   "metadata": {},
   "outputs": [],
   "source": [
    "gids_of_reactions_df = gids_of_reactions_df.drop_duplicates(subset=['uptake', 'gid'])"
   ]
  },
  {
   "cell_type": "code",
   "execution_count": 677,
   "metadata": {},
   "outputs": [],
   "source": [
    "cols = gids_of_reactions_df.columns"
   ]
  },
  {
   "cell_type": "code",
   "execution_count": 678,
   "metadata": {},
   "outputs": [],
   "source": [
    "# remove genes that are already knocked out\n",
    "gids_of_reactions_df_m = pd.merge(gids_of_reactions_df, gene_uptake_knockout_df, how='left',\n",
    "                                  suffixes=['', '_test'], on=['uptake', 'gid'])\n",
    "gids_of_reactions_df = gids_of_reactions_df_m.loc[gids_of_reactions_df_m.ids_test.isna(), cols]"
   ]
  },
  {
   "cell_type": "code",
   "execution_count": 679,
   "metadata": {},
   "outputs": [],
   "source": [
    "gene_uptake_knockout_df['knockout'] = 'gene'\n",
    "gids_of_reactions_df['knockout'] = 'reaction'\n"
   ]
  },
  {
   "cell_type": "code",
   "execution_count": null,
   "metadata": {},
   "outputs": [],
   "source": []
  },
  {
   "cell_type": "code",
   "execution_count": 680,
   "metadata": {},
   "outputs": [],
   "source": [
    "gene_uptake_knockout_df = pd.concat([gene_uptake_knockout_df, gids_of_reactions_df])"
   ]
  },
  {
   "cell_type": "code",
   "execution_count": 681,
   "metadata": {},
   "outputs": [
    {
     "data": {
      "text/plain": [
       "Index(['gene_id', 'gene', 'product', 'status', 'main', 'sub', 'path', 'ecpath',\n",
       "       'baseMean', 'log2FoldChange', 'lfcSE', 'stat', 'pvalue', 'padj',\n",
       "       'contrast', 'Length', 'organism', 'protein_id'],\n",
       "      dtype='object')"
      ]
     },
     "execution_count": 681,
     "metadata": {},
     "output_type": "execute_result"
    }
   ],
   "source": [
    "deseq_df.columns"
   ]
  },
  {
   "cell_type": "code",
   "execution_count": 682,
   "metadata": {},
   "outputs": [],
   "source": [
    "gene_uptake_knockout_df = pd.merge(gene_uptake_knockout_df, pmm_df, left_on='gid', right_on='pmm', how='left')"
   ]
  },
  {
   "cell_type": "code",
   "execution_count": 683,
   "metadata": {},
   "outputs": [],
   "source": [
    "cols = ['gene_id', 'gene', 'product', 'status', 'sub', 'path', 'ecpath',\n",
    "       'baseMean', 'log2FoldChange',  'padj',\n",
    "       ]\n",
    "gene_uptake_knockout_df = pd.merge(gene_uptake_knockout_df, deseq_df[cols], on='gene_id', \n",
    "         how='left', suffixes=['', '_de'])"
   ]
  },
  {
   "cell_type": "code",
   "execution_count": 684,
   "metadata": {},
   "outputs": [
    {
     "data": {
      "text/html": [
       "<div>\n",
       "<style scoped>\n",
       "    .dataframe tbody tr th:only-of-type {\n",
       "        vertical-align: middle;\n",
       "    }\n",
       "\n",
       "    .dataframe tbody tr th {\n",
       "        vertical-align: top;\n",
       "    }\n",
       "\n",
       "    .dataframe thead th {\n",
       "        text-align: right;\n",
       "    }\n",
       "</style>\n",
       "<table border=\"1\" class=\"dataframe\">\n",
       "  <thead>\n",
       "    <tr style=\"text-align: right;\">\n",
       "      <th></th>\n",
       "      <th>Unnamed: 0</th>\n",
       "      <th>ids</th>\n",
       "      <th>growth</th>\n",
       "      <th>status</th>\n",
       "      <th>uptake</th>\n",
       "      <th>secretion</th>\n",
       "      <th>gid</th>\n",
       "      <th>knockout</th>\n",
       "      <th>rid</th>\n",
       "      <th>reaction</th>\n",
       "      <th>...</th>\n",
       "      <th>pmm</th>\n",
       "      <th>gene</th>\n",
       "      <th>product</th>\n",
       "      <th>status_de</th>\n",
       "      <th>sub</th>\n",
       "      <th>path</th>\n",
       "      <th>ecpath</th>\n",
       "      <th>baseMean</th>\n",
       "      <th>log2FoldChange</th>\n",
       "      <th>padj</th>\n",
       "    </tr>\n",
       "  </thead>\n",
       "  <tbody>\n",
       "    <tr>\n",
       "      <th>0</th>\n",
       "      <td>0</td>\n",
       "      <td>{'PMM0951'}</td>\n",
       "      <td>NaN</td>\n",
       "      <td>infeasible</td>\n",
       "      <td>L_GlutamateEX</td>\n",
       "      <td>NaN</td>\n",
       "      <td>PMM0951</td>\n",
       "      <td>gene</td>\n",
       "      <td>NaN</td>\n",
       "      <td>NaN</td>\n",
       "      <td>...</td>\n",
       "      <td>PMM0951</td>\n",
       "      <td>carA</td>\n",
       "      <td>glutamine-hydrolyzing carbamoyl-phosphate synt...</td>\n",
       "      <td>down</td>\n",
       "      <td>09104 Nucleotide metabolism // 09105 Amino aci...</td>\n",
       "      <td>00240 Pyrimidine metabolism [PATH:ko00240] // ...</td>\n",
       "      <td>K01956  carA, CPA1; carbamoyl-phosphate syntha...</td>\n",
       "      <td>178.513724</td>\n",
       "      <td>-1.504660</td>\n",
       "      <td>1.544491e-08</td>\n",
       "    </tr>\n",
       "    <tr>\n",
       "      <th>1</th>\n",
       "      <td>1</td>\n",
       "      <td>{'PMM0796'}</td>\n",
       "      <td>NaN</td>\n",
       "      <td>infeasible</td>\n",
       "      <td>L_GlutamateEX</td>\n",
       "      <td>NaN</td>\n",
       "      <td>PMM0796</td>\n",
       "      <td>gene</td>\n",
       "      <td>NaN</td>\n",
       "      <td>NaN</td>\n",
       "      <td>...</td>\n",
       "      <td>PMM0796</td>\n",
       "      <td>hisA</td>\n",
       "      <td>1-(5-phosphoribosyl)-5-[(5-phosphoribosylamino...</td>\n",
       "      <td>no_significant</td>\n",
       "      <td>09105 Amino acid metabolism</td>\n",
       "      <td>00340 Histidine metabolism [PATH:ko00340]</td>\n",
       "      <td>K01814  hisA; phosphoribosylformimino-5-aminoi...</td>\n",
       "      <td>284.786091</td>\n",
       "      <td>0.285050</td>\n",
       "      <td>2.226182e-01</td>\n",
       "    </tr>\n",
       "    <tr>\n",
       "      <th>2</th>\n",
       "      <td>3</td>\n",
       "      <td>{'PMM0483'}</td>\n",
       "      <td>NaN</td>\n",
       "      <td>infeasible</td>\n",
       "      <td>L_GlutamateEX</td>\n",
       "      <td>NaN</td>\n",
       "      <td>PMM0483</td>\n",
       "      <td>gene</td>\n",
       "      <td>NaN</td>\n",
       "      <td>NaN</td>\n",
       "      <td>...</td>\n",
       "      <td>PMM0483</td>\n",
       "      <td>hemL</td>\n",
       "      <td>glutamate-1-semialdehyde 2,1-aminomutase</td>\n",
       "      <td>no_significant</td>\n",
       "      <td>09108 Metabolism of cofactors and vitamins // ...</td>\n",
       "      <td>00860 Porphyrin metabolism [PATH:ko00860] // 0...</td>\n",
       "      <td>K01845  hemL; glutamate-1-semialdehyde 2,1-ami...</td>\n",
       "      <td>2468.751490</td>\n",
       "      <td>0.459796</td>\n",
       "      <td>1.200598e-01</td>\n",
       "    </tr>\n",
       "    <tr>\n",
       "      <th>3</th>\n",
       "      <td>5</td>\n",
       "      <td>{'PMM0001'}</td>\n",
       "      <td>0.00001</td>\n",
       "      <td>optimal</td>\n",
       "      <td>L_GlutamateEX</td>\n",
       "      <td>NaN</td>\n",
       "      <td>PMM0001</td>\n",
       "      <td>gene</td>\n",
       "      <td>NaN</td>\n",
       "      <td>NaN</td>\n",
       "      <td>...</td>\n",
       "      <td>PMM0001</td>\n",
       "      <td>dnaN</td>\n",
       "      <td>DNA polymerase III subunit beta</td>\n",
       "      <td>no_significant</td>\n",
       "      <td>09124 Replication and repair // 09182 Protein ...</td>\n",
       "      <td>03030 DNA replication [PATH:ko03030] // 03430 ...</td>\n",
       "      <td>K02338  dnaN; DNA polymerase III subunit beta ...</td>\n",
       "      <td>1548.906501</td>\n",
       "      <td>0.228545</td>\n",
       "      <td>4.619685e-01</td>\n",
       "    </tr>\n",
       "    <tr>\n",
       "      <th>4</th>\n",
       "      <td>7</td>\n",
       "      <td>{'PMM1181'}</td>\n",
       "      <td>NaN</td>\n",
       "      <td>infeasible</td>\n",
       "      <td>L_GlutamateEX</td>\n",
       "      <td>NaN</td>\n",
       "      <td>PMM1181</td>\n",
       "      <td>gene</td>\n",
       "      <td>NaN</td>\n",
       "      <td>NaN</td>\n",
       "      <td>...</td>\n",
       "      <td>PMM1181</td>\n",
       "      <td>aroH</td>\n",
       "      <td>chorismate mutase</td>\n",
       "      <td>down</td>\n",
       "      <td>09105 Amino acid metabolism</td>\n",
       "      <td>00400 Phenylalanine, tyrosine and tryptophan b...</td>\n",
       "      <td>K06208  aroH; chorismate mutase [EC:5.4.99.5]</td>\n",
       "      <td>195.838847</td>\n",
       "      <td>-1.247608</td>\n",
       "      <td>8.508785e-09</td>\n",
       "    </tr>\n",
       "  </tbody>\n",
       "</table>\n",
       "<p>5 rows × 21 columns</p>\n",
       "</div>"
      ],
      "text/plain": [
       "   Unnamed: 0          ids   growth      status         uptake  secretion  \\\n",
       "0           0  {'PMM0951'}      NaN  infeasible  L_GlutamateEX        NaN   \n",
       "1           1  {'PMM0796'}      NaN  infeasible  L_GlutamateEX        NaN   \n",
       "2           3  {'PMM0483'}      NaN  infeasible  L_GlutamateEX        NaN   \n",
       "3           5  {'PMM0001'}  0.00001     optimal  L_GlutamateEX        NaN   \n",
       "4           7  {'PMM1181'}      NaN  infeasible  L_GlutamateEX        NaN   \n",
       "\n",
       "       gid knockout  rid reaction  ...      pmm  gene  \\\n",
       "0  PMM0951     gene  NaN      NaN  ...  PMM0951  carA   \n",
       "1  PMM0796     gene  NaN      NaN  ...  PMM0796  hisA   \n",
       "2  PMM0483     gene  NaN      NaN  ...  PMM0483  hemL   \n",
       "3  PMM0001     gene  NaN      NaN  ...  PMM0001  dnaN   \n",
       "4  PMM1181     gene  NaN      NaN  ...  PMM1181  aroH   \n",
       "\n",
       "                                             product       status_de  \\\n",
       "0  glutamine-hydrolyzing carbamoyl-phosphate synt...            down   \n",
       "1  1-(5-phosphoribosyl)-5-[(5-phosphoribosylamino...  no_significant   \n",
       "2           glutamate-1-semialdehyde 2,1-aminomutase  no_significant   \n",
       "3                    DNA polymerase III subunit beta  no_significant   \n",
       "4                                  chorismate mutase            down   \n",
       "\n",
       "                                                 sub  \\\n",
       "0  09104 Nucleotide metabolism // 09105 Amino aci...   \n",
       "1                        09105 Amino acid metabolism   \n",
       "2  09108 Metabolism of cofactors and vitamins // ...   \n",
       "3  09124 Replication and repair // 09182 Protein ...   \n",
       "4                        09105 Amino acid metabolism   \n",
       "\n",
       "                                                path  \\\n",
       "0  00240 Pyrimidine metabolism [PATH:ko00240] // ...   \n",
       "1          00340 Histidine metabolism [PATH:ko00340]   \n",
       "2  00860 Porphyrin metabolism [PATH:ko00860] // 0...   \n",
       "3  03030 DNA replication [PATH:ko03030] // 03430 ...   \n",
       "4  00400 Phenylalanine, tyrosine and tryptophan b...   \n",
       "\n",
       "                                              ecpath     baseMean  \\\n",
       "0  K01956  carA, CPA1; carbamoyl-phosphate syntha...   178.513724   \n",
       "1  K01814  hisA; phosphoribosylformimino-5-aminoi...   284.786091   \n",
       "2  K01845  hemL; glutamate-1-semialdehyde 2,1-ami...  2468.751490   \n",
       "3  K02338  dnaN; DNA polymerase III subunit beta ...  1548.906501   \n",
       "4      K06208  aroH; chorismate mutase [EC:5.4.99.5]   195.838847   \n",
       "\n",
       "   log2FoldChange          padj  \n",
       "0       -1.504660  1.544491e-08  \n",
       "1        0.285050  2.226182e-01  \n",
       "2        0.459796  1.200598e-01  \n",
       "3        0.228545  4.619685e-01  \n",
       "4       -1.247608  8.508785e-09  \n",
       "\n",
       "[5 rows x 21 columns]"
      ]
     },
     "execution_count": 684,
     "metadata": {},
     "output_type": "execute_result"
    }
   ],
   "source": [
    "gene_uptake_knockout_df.head()"
   ]
  },
  {
   "cell_type": "code",
   "execution_count": null,
   "metadata": {},
   "outputs": [],
   "source": []
  },
  {
   "cell_type": "code",
   "execution_count": 685,
   "metadata": {},
   "outputs": [],
   "source": [
    "gpdf = gene_uptake_knockout_df.pivot_table(index='gene',columns='uptake', values='status', aggfunc='count', fill_value=0)"
   ]
  },
  {
   "cell_type": "code",
   "execution_count": 686,
   "metadata": {},
   "outputs": [],
   "source": [
    "rpdf = reaction_uptake_knockout_df.loc[\n",
    "    ~reaction_uptake_knockout_df.rid.isin(exchange_ids)\n",
    "].pivot_table(index='reaction',columns='uptake', values='status', aggfunc='count', fill_value=0)"
   ]
  },
  {
   "cell_type": "code",
   "execution_count": 687,
   "metadata": {},
   "outputs": [
    {
     "data": {
      "text/plain": [
       "16    289\n",
       "9      37\n",
       "1      31\n",
       "14     26\n",
       "15     17\n",
       "2       5\n",
       "13      3\n",
       "10      1\n",
       "dtype: int64"
      ]
     },
     "execution_count": 687,
     "metadata": {},
     "output_type": "execute_result"
    }
   ],
   "source": [
    "gene_uptake_knockout_df.groupby('ids').size().value_counts()"
   ]
  },
  {
   "cell_type": "code",
   "execution_count": 688,
   "metadata": {},
   "outputs": [
    {
     "data": {
      "text/plain": [
       "Text(3.4929999999999986, 0.5, 'number of gene knockouts')"
      ]
     },
     "execution_count": 688,
     "metadata": {},
     "output_type": "execute_result"
    },
    {
     "data": {
      "image/png": "[encoded data removed]",
      "text/plain": [
       "<Figure size 360x360 with 1 Axes>"
      ]
     },
     "metadata": {
      "needs_background": "light"
     },
     "output_type": "display_data"
    }
   ],
   "source": [
    "sns.displot(gene_uptake_knockout_df.groupby('gid').size(), bins=16)\n",
    "plt.xlabel('number of uptake metabolites')\n",
    "plt.ylabel('number of gene knockouts')\n"
   ]
  },
  {
   "cell_type": "code",
   "execution_count": 689,
   "metadata": {},
   "outputs": [
    {
     "data": {
      "text/plain": [
       "Text(9.117999999999999, 0.5, 'number of reaction knockouts')"
      ]
     },
     "execution_count": 689,
     "metadata": {},
     "output_type": "execute_result"
    },
    {
     "data": {
      "image/png": "[encoded data removed]",
      "text/plain": [
       "<Figure size 360x360 with 1 Axes>"
      ]
     },
     "metadata": {
      "needs_background": "light"
     },
     "output_type": "display_data"
    }
   ],
   "source": [
    "sns.displot(reaction_uptake_knockout_df.groupby('rid').size(), bins=16)\n",
    "plt.xlabel('number of uptake metabolites')\n",
    "plt.ylabel('number of reaction knockouts')\n"
   ]
  },
  {
   "cell_type": "code",
   "execution_count": 690,
   "metadata": {},
   "outputs": [
    {
     "data": {
      "text/plain": [
       "Index(['Unnamed: 0', 'ids', 'growth', 'status', 'uptake', 'secretion', 'gid',\n",
       "       'knockout', 'rid', 'reaction', 'gene_id', 'pmm', 'gene', 'product',\n",
       "       'status_de', 'sub', 'path', 'ecpath', 'baseMean', 'log2FoldChange',\n",
       "       'padj'],\n",
       "      dtype='object')"
      ]
     },
     "execution_count": 690,
     "metadata": {},
     "output_type": "execute_result"
    }
   ],
   "source": [
    "gene_uptake_knockout_df.columns"
   ]
  },
  {
   "cell_type": "code",
   "execution_count": 692,
   "metadata": {},
   "outputs": [
    {
     "data": {
      "text/plain": [
       "gene        5648\n",
       "reaction      18\n",
       "Name: knockout, dtype: int64"
      ]
     },
     "execution_count": 692,
     "metadata": {},
     "output_type": "execute_result"
    }
   ],
   "source": [
    "gene_uptake_knockout_df['knockout'].value_counts()"
   ]
  },
  {
   "cell_type": "code",
   "execution_count": 693,
   "metadata": {},
   "outputs": [],
   "source": [
    "gpdf = gene_uptake_knockout_df.pivot_table(index='gene',columns='uptake', values='log2FoldChange', aggfunc='mean',\n",
    "                                           fill_value=0)\n"
   ]
  },
  {
   "cell_type": "code",
   "execution_count": 694,
   "metadata": {},
   "outputs": [],
   "source": [
    "gene_uptake_knockout_df['stars'] = ''\n",
    "gene_uptake_knockout_df.loc[gene_uptake_knockout_df.padj < 0.1, 'stars'] = '*'\n",
    "gene_uptake_knockout_df.loc[gene_uptake_knockout_df.padj < 0.05, 'stars'] = '**'\n",
    "gene_uptake_knockout_df.loc[gene_uptake_knockout_df.padj < 0.01, 'stars'] = '***'\n"
   ]
  },
  {
   "cell_type": "code",
   "execution_count": 695,
   "metadata": {},
   "outputs": [
    {
     "data": {
      "text/html": [
       "<div>\n",
       "<style scoped>\n",
       "    .dataframe tbody tr th:only-of-type {\n",
       "        vertical-align: middle;\n",
       "    }\n",
       "\n",
       "    .dataframe tbody tr th {\n",
       "        vertical-align: top;\n",
       "    }\n",
       "\n",
       "    .dataframe thead th {\n",
       "        text-align: right;\n",
       "    }\n",
       "</style>\n",
       "<table border=\"1\" class=\"dataframe\">\n",
       "  <thead>\n",
       "    <tr style=\"text-align: right;\">\n",
       "      <th></th>\n",
       "      <th>gene</th>\n",
       "      <th>uptake</th>\n",
       "      <th>0</th>\n",
       "    </tr>\n",
       "  </thead>\n",
       "  <tbody>\n",
       "    <tr>\n",
       "      <th>3339</th>\n",
       "      <td>cysK</td>\n",
       "      <td>AmmoniaEX</td>\n",
       "      <td>2</td>\n",
       "    </tr>\n",
       "    <tr>\n",
       "      <th>3340</th>\n",
       "      <td>cysK</td>\n",
       "      <td>CyanateEX</td>\n",
       "      <td>2</td>\n",
       "    </tr>\n",
       "    <tr>\n",
       "      <th>3341</th>\n",
       "      <td>cysK</td>\n",
       "      <td>GlutathioneEX</td>\n",
       "      <td>2</td>\n",
       "    </tr>\n",
       "    <tr>\n",
       "      <th>3342</th>\n",
       "      <td>cysK</td>\n",
       "      <td>GlycineEX</td>\n",
       "      <td>2</td>\n",
       "    </tr>\n",
       "    <tr>\n",
       "      <th>3343</th>\n",
       "      <td>cysK</td>\n",
       "      <td>GuanineEX</td>\n",
       "      <td>2</td>\n",
       "    </tr>\n",
       "    <tr>\n",
       "      <th>3344</th>\n",
       "      <td>cysK</td>\n",
       "      <td>GuanosineEX</td>\n",
       "      <td>2</td>\n",
       "    </tr>\n",
       "    <tr>\n",
       "      <th>3345</th>\n",
       "      <td>cysK</td>\n",
       "      <td>L_AlanineEX</td>\n",
       "      <td>2</td>\n",
       "    </tr>\n",
       "    <tr>\n",
       "      <th>3346</th>\n",
       "      <td>cysK</td>\n",
       "      <td>L_ArginineEX</td>\n",
       "      <td>2</td>\n",
       "    </tr>\n",
       "    <tr>\n",
       "      <th>3347</th>\n",
       "      <td>cysK</td>\n",
       "      <td>L_AspartateEX</td>\n",
       "      <td>2</td>\n",
       "    </tr>\n",
       "    <tr>\n",
       "      <th>3348</th>\n",
       "      <td>cysK</td>\n",
       "      <td>L_CystineEX</td>\n",
       "      <td>2</td>\n",
       "    </tr>\n",
       "    <tr>\n",
       "      <th>3349</th>\n",
       "      <td>cysK</td>\n",
       "      <td>L_GlutamateEX</td>\n",
       "      <td>2</td>\n",
       "    </tr>\n",
       "    <tr>\n",
       "      <th>3350</th>\n",
       "      <td>cysK</td>\n",
       "      <td>L_GlutamineEX</td>\n",
       "      <td>2</td>\n",
       "    </tr>\n",
       "    <tr>\n",
       "      <th>3351</th>\n",
       "      <td>cysK</td>\n",
       "      <td>L_LeucineEX</td>\n",
       "      <td>2</td>\n",
       "    </tr>\n",
       "    <tr>\n",
       "      <th>3352</th>\n",
       "      <td>cysK</td>\n",
       "      <td>L_SerineEX</td>\n",
       "      <td>2</td>\n",
       "    </tr>\n",
       "    <tr>\n",
       "      <th>3353</th>\n",
       "      <td>cysK</td>\n",
       "      <td>L_ValineEX</td>\n",
       "      <td>2</td>\n",
       "    </tr>\n",
       "    <tr>\n",
       "      <th>3354</th>\n",
       "      <td>cysK</td>\n",
       "      <td>UreaEX</td>\n",
       "      <td>2</td>\n",
       "    </tr>\n",
       "    <tr>\n",
       "      <th>0</th>\n",
       "      <td>TX50_RS00135</td>\n",
       "      <td>AmmoniaEX</td>\n",
       "      <td>1</td>\n",
       "    </tr>\n",
       "    <tr>\n",
       "      <th>1</th>\n",
       "      <td>TX50_RS00135</td>\n",
       "      <td>CyanateEX</td>\n",
       "      <td>1</td>\n",
       "    </tr>\n",
       "    <tr>\n",
       "      <th>2</th>\n",
       "      <td>TX50_RS00135</td>\n",
       "      <td>GlutathioneEX</td>\n",
       "      <td>1</td>\n",
       "    </tr>\n",
       "    <tr>\n",
       "      <th>3</th>\n",
       "      <td>TX50_RS00135</td>\n",
       "      <td>GlycineEX</td>\n",
       "      <td>1</td>\n",
       "    </tr>\n",
       "  </tbody>\n",
       "</table>\n",
       "</div>"
      ],
      "text/plain": [
       "              gene         uptake  0\n",
       "3339          cysK      AmmoniaEX  2\n",
       "3340          cysK      CyanateEX  2\n",
       "3341          cysK  GlutathioneEX  2\n",
       "3342          cysK      GlycineEX  2\n",
       "3343          cysK      GuanineEX  2\n",
       "3344          cysK    GuanosineEX  2\n",
       "3345          cysK    L_AlanineEX  2\n",
       "3346          cysK   L_ArginineEX  2\n",
       "3347          cysK  L_AspartateEX  2\n",
       "3348          cysK    L_CystineEX  2\n",
       "3349          cysK  L_GlutamateEX  2\n",
       "3350          cysK  L_GlutamineEX  2\n",
       "3351          cysK    L_LeucineEX  2\n",
       "3352          cysK     L_SerineEX  2\n",
       "3353          cysK     L_ValineEX  2\n",
       "3354          cysK         UreaEX  2\n",
       "0     TX50_RS00135      AmmoniaEX  1\n",
       "1     TX50_RS00135      CyanateEX  1\n",
       "2     TX50_RS00135  GlutathioneEX  1\n",
       "3     TX50_RS00135      GlycineEX  1"
      ]
     },
     "execution_count": 695,
     "metadata": {},
     "output_type": "execute_result"
    }
   ],
   "source": [
    "gene_uptake_knockout_df.groupby( ['gene','uptake'] ).size().reset_index().nlargest(columns=0, n=20)\n"
   ]
  },
  {
   "cell_type": "code",
   "execution_count": 696,
   "metadata": {},
   "outputs": [],
   "source": [
    "gpdf_padj = gene_uptake_knockout_df.pivot_table(index='gene',columns='uptake', values='stars', aggfunc='first',\n",
    "                                           fill_value='')\n"
   ]
  },
  {
   "cell_type": "code",
   "execution_count": 697,
   "metadata": {},
   "outputs": [
    {
     "data": {
      "text/html": [
       "<div>\n",
       "<style scoped>\n",
       "    .dataframe tbody tr th:only-of-type {\n",
       "        vertical-align: middle;\n",
       "    }\n",
       "\n",
       "    .dataframe tbody tr th {\n",
       "        vertical-align: top;\n",
       "    }\n",
       "\n",
       "    .dataframe thead th {\n",
       "        text-align: right;\n",
       "    }\n",
       "</style>\n",
       "<table border=\"1\" class=\"dataframe\">\n",
       "  <thead>\n",
       "    <tr style=\"text-align: right;\">\n",
       "      <th></th>\n",
       "      <th>Unnamed: 0</th>\n",
       "      <th>ids</th>\n",
       "      <th>growth</th>\n",
       "      <th>status</th>\n",
       "      <th>uptake</th>\n",
       "      <th>secretion</th>\n",
       "      <th>gid</th>\n",
       "      <th>knockout</th>\n",
       "      <th>rid</th>\n",
       "      <th>reaction</th>\n",
       "      <th>...</th>\n",
       "      <th>gene</th>\n",
       "      <th>product</th>\n",
       "      <th>status_de</th>\n",
       "      <th>sub</th>\n",
       "      <th>path</th>\n",
       "      <th>ecpath</th>\n",
       "      <th>baseMean</th>\n",
       "      <th>log2FoldChange</th>\n",
       "      <th>padj</th>\n",
       "      <th>stars</th>\n",
       "    </tr>\n",
       "  </thead>\n",
       "  <tbody>\n",
       "    <tr>\n",
       "      <th>0</th>\n",
       "      <td>0</td>\n",
       "      <td>{'PMM0951'}</td>\n",
       "      <td>NaN</td>\n",
       "      <td>infeasible</td>\n",
       "      <td>L_GlutamateEX</td>\n",
       "      <td>NaN</td>\n",
       "      <td>PMM0951</td>\n",
       "      <td>gene</td>\n",
       "      <td>NaN</td>\n",
       "      <td>NaN</td>\n",
       "      <td>...</td>\n",
       "      <td>carA</td>\n",
       "      <td>glutamine-hydrolyzing carbamoyl-phosphate synt...</td>\n",
       "      <td>down</td>\n",
       "      <td>09104 Nucleotide metabolism // 09105 Amino aci...</td>\n",
       "      <td>00240 Pyrimidine metabolism [PATH:ko00240] // ...</td>\n",
       "      <td>K01956  carA, CPA1; carbamoyl-phosphate syntha...</td>\n",
       "      <td>178.513724</td>\n",
       "      <td>-1.504660</td>\n",
       "      <td>1.544491e-08</td>\n",
       "      <td>***</td>\n",
       "    </tr>\n",
       "    <tr>\n",
       "      <th>1</th>\n",
       "      <td>1</td>\n",
       "      <td>{'PMM0796'}</td>\n",
       "      <td>NaN</td>\n",
       "      <td>infeasible</td>\n",
       "      <td>L_GlutamateEX</td>\n",
       "      <td>NaN</td>\n",
       "      <td>PMM0796</td>\n",
       "      <td>gene</td>\n",
       "      <td>NaN</td>\n",
       "      <td>NaN</td>\n",
       "      <td>...</td>\n",
       "      <td>hisA</td>\n",
       "      <td>1-(5-phosphoribosyl)-5-[(5-phosphoribosylamino...</td>\n",
       "      <td>no_significant</td>\n",
       "      <td>09105 Amino acid metabolism</td>\n",
       "      <td>00340 Histidine metabolism [PATH:ko00340]</td>\n",
       "      <td>K01814  hisA; phosphoribosylformimino-5-aminoi...</td>\n",
       "      <td>284.786091</td>\n",
       "      <td>0.285050</td>\n",
       "      <td>2.226182e-01</td>\n",
       "      <td></td>\n",
       "    </tr>\n",
       "    <tr>\n",
       "      <th>2</th>\n",
       "      <td>3</td>\n",
       "      <td>{'PMM0483'}</td>\n",
       "      <td>NaN</td>\n",
       "      <td>infeasible</td>\n",
       "      <td>L_GlutamateEX</td>\n",
       "      <td>NaN</td>\n",
       "      <td>PMM0483</td>\n",
       "      <td>gene</td>\n",
       "      <td>NaN</td>\n",
       "      <td>NaN</td>\n",
       "      <td>...</td>\n",
       "      <td>hemL</td>\n",
       "      <td>glutamate-1-semialdehyde 2,1-aminomutase</td>\n",
       "      <td>no_significant</td>\n",
       "      <td>09108 Metabolism of cofactors and vitamins // ...</td>\n",
       "      <td>00860 Porphyrin metabolism [PATH:ko00860] // 0...</td>\n",
       "      <td>K01845  hemL; glutamate-1-semialdehyde 2,1-ami...</td>\n",
       "      <td>2468.751490</td>\n",
       "      <td>0.459796</td>\n",
       "      <td>1.200598e-01</td>\n",
       "      <td></td>\n",
       "    </tr>\n",
       "    <tr>\n",
       "      <th>3</th>\n",
       "      <td>5</td>\n",
       "      <td>{'PMM0001'}</td>\n",
       "      <td>0.00001</td>\n",
       "      <td>optimal</td>\n",
       "      <td>L_GlutamateEX</td>\n",
       "      <td>NaN</td>\n",
       "      <td>PMM0001</td>\n",
       "      <td>gene</td>\n",
       "      <td>NaN</td>\n",
       "      <td>NaN</td>\n",
       "      <td>...</td>\n",
       "      <td>dnaN</td>\n",
       "      <td>DNA polymerase III subunit beta</td>\n",
       "      <td>no_significant</td>\n",
       "      <td>09124 Replication and repair // 09182 Protein ...</td>\n",
       "      <td>03030 DNA replication [PATH:ko03030] // 03430 ...</td>\n",
       "      <td>K02338  dnaN; DNA polymerase III subunit beta ...</td>\n",
       "      <td>1548.906501</td>\n",
       "      <td>0.228545</td>\n",
       "      <td>4.619685e-01</td>\n",
       "      <td></td>\n",
       "    </tr>\n",
       "    <tr>\n",
       "      <th>4</th>\n",
       "      <td>7</td>\n",
       "      <td>{'PMM1181'}</td>\n",
       "      <td>NaN</td>\n",
       "      <td>infeasible</td>\n",
       "      <td>L_GlutamateEX</td>\n",
       "      <td>NaN</td>\n",
       "      <td>PMM1181</td>\n",
       "      <td>gene</td>\n",
       "      <td>NaN</td>\n",
       "      <td>NaN</td>\n",
       "      <td>...</td>\n",
       "      <td>aroH</td>\n",
       "      <td>chorismate mutase</td>\n",
       "      <td>down</td>\n",
       "      <td>09105 Amino acid metabolism</td>\n",
       "      <td>00400 Phenylalanine, tyrosine and tryptophan b...</td>\n",
       "      <td>K06208  aroH; chorismate mutase [EC:5.4.99.5]</td>\n",
       "      <td>195.838847</td>\n",
       "      <td>-1.247608</td>\n",
       "      <td>8.508785e-09</td>\n",
       "      <td>***</td>\n",
       "    </tr>\n",
       "  </tbody>\n",
       "</table>\n",
       "<p>5 rows × 22 columns</p>\n",
       "</div>"
      ],
      "text/plain": [
       "   Unnamed: 0          ids   growth      status         uptake  secretion  \\\n",
       "0           0  {'PMM0951'}      NaN  infeasible  L_GlutamateEX        NaN   \n",
       "1           1  {'PMM0796'}      NaN  infeasible  L_GlutamateEX        NaN   \n",
       "2           3  {'PMM0483'}      NaN  infeasible  L_GlutamateEX        NaN   \n",
       "3           5  {'PMM0001'}  0.00001     optimal  L_GlutamateEX        NaN   \n",
       "4           7  {'PMM1181'}      NaN  infeasible  L_GlutamateEX        NaN   \n",
       "\n",
       "       gid knockout  rid reaction  ...  gene  \\\n",
       "0  PMM0951     gene  NaN      NaN  ...  carA   \n",
       "1  PMM0796     gene  NaN      NaN  ...  hisA   \n",
       "2  PMM0483     gene  NaN      NaN  ...  hemL   \n",
       "3  PMM0001     gene  NaN      NaN  ...  dnaN   \n",
       "4  PMM1181     gene  NaN      NaN  ...  aroH   \n",
       "\n",
       "                                             product       status_de  \\\n",
       "0  glutamine-hydrolyzing carbamoyl-phosphate synt...            down   \n",
       "1  1-(5-phosphoribosyl)-5-[(5-phosphoribosylamino...  no_significant   \n",
       "2           glutamate-1-semialdehyde 2,1-aminomutase  no_significant   \n",
       "3                    DNA polymerase III subunit beta  no_significant   \n",
       "4                                  chorismate mutase            down   \n",
       "\n",
       "                                                 sub  \\\n",
       "0  09104 Nucleotide metabolism // 09105 Amino aci...   \n",
       "1                        09105 Amino acid metabolism   \n",
       "2  09108 Metabolism of cofactors and vitamins // ...   \n",
       "3  09124 Replication and repair // 09182 Protein ...   \n",
       "4                        09105 Amino acid metabolism   \n",
       "\n",
       "                                                path  \\\n",
       "0  00240 Pyrimidine metabolism [PATH:ko00240] // ...   \n",
       "1          00340 Histidine metabolism [PATH:ko00340]   \n",
       "2  00860 Porphyrin metabolism [PATH:ko00860] // 0...   \n",
       "3  03030 DNA replication [PATH:ko03030] // 03430 ...   \n",
       "4  00400 Phenylalanine, tyrosine and tryptophan b...   \n",
       "\n",
       "                                              ecpath     baseMean  \\\n",
       "0  K01956  carA, CPA1; carbamoyl-phosphate syntha...   178.513724   \n",
       "1  K01814  hisA; phosphoribosylformimino-5-aminoi...   284.786091   \n",
       "2  K01845  hemL; glutamate-1-semialdehyde 2,1-ami...  2468.751490   \n",
       "3  K02338  dnaN; DNA polymerase III subunit beta ...  1548.906501   \n",
       "4      K06208  aroH; chorismate mutase [EC:5.4.99.5]   195.838847   \n",
       "\n",
       "  log2FoldChange          padj  stars  \n",
       "0      -1.504660  1.544491e-08    ***  \n",
       "1       0.285050  2.226182e-01         \n",
       "2       0.459796  1.200598e-01         \n",
       "3       0.228545  4.619685e-01         \n",
       "4      -1.247608  8.508785e-09    ***  \n",
       "\n",
       "[5 rows x 22 columns]"
      ]
     },
     "execution_count": 697,
     "metadata": {},
     "output_type": "execute_result"
    }
   ],
   "source": [
    "gene_uptake_knockout_df.head()"
   ]
  },
  {
   "cell_type": "code",
   "execution_count": 698,
   "metadata": {
    "scrolled": false
   },
   "outputs": [
    {
     "data": {
      "text/plain": [
       "09105 Amino acid metabolism                                 33\n",
       "09181 Protein families: metabolism                          32\n",
       "09101 Carbohydrate metabolism                               27\n",
       "09102 Energy metabolism                                     22\n",
       "09183 Protein families: signaling and cellular processes    21\n",
       "09108 Metabolism of cofactors and vitamins                  20\n",
       "09104 Nucleotide metabolism                                 18\n",
       "09106 Metabolism of other amino acids                       15\n",
       "09103 Lipid metabolism                                      12\n",
       "09107 Glycan biosynthesis and metabolism                    10\n",
       "09110 Biosynthesis of other secondary metabolites           10\n",
       "09132 Signal transduction                                   10\n",
       "09182 Protein families: genetic information processing       9\n",
       "09175 Drug resistance: antimicrobial                         6\n",
       "09111 Xenobiotics biodegradation and metabolism              6\n",
       "09109 Metabolism of terpenoids and polyketides               6\n",
       "09131 Membrane transport                                     4\n",
       "09161 Cancer: overview                                       4\n",
       "09166 Cardiovascular disease                                 3\n",
       "09145 Cellular community - prokaryotes                       3\n",
       "09143 Cell growth and death                                  3\n",
       "09167 Endocrine and metabolic disease                        3\n",
       "09171 Infectious disease: bacterial                          2\n",
       "09124 Replication and repair                                 2\n",
       "09122 Translation                                            2\n",
       "09141 Transport and catabolism                               2\n",
       "09176 Drug resistance: antineoplastic                        2\n",
       "09162 Cancer: specific types                                 1\n",
       "09152 Endocrine system                                       1\n",
       "09191 Unclassified: metabolism                               1\n",
       "09158 Development and regeneration                           1\n",
       "09123 Folding, sorting and degradation                       1\n",
       "09194 Poorly characterized                                   1\n",
       "09193 Unclassified: signaling and cellular processes         1\n",
       "09121 Transcription                                          1\n",
       "09156 Nervous system                                         1\n",
       "Name: value, dtype: int64"
      ]
     },
     "execution_count": 698,
     "metadata": {},
     "output_type": "execute_result"
    }
   ],
   "source": [
    "gene_uptake_knockout_df['sub'].drop_duplicates().str.split(' // ', \n",
    "                                         expand=True).melt().dropna()['value'].value_counts()"
   ]
  },
  {
   "cell_type": "code",
   "execution_count": 699,
   "metadata": {
    "scrolled": false
   },
   "outputs": [
    {
     "data": {
      "text/plain": [
       "09108 Metabolism of cofactors and vitamins                  1509\n",
       "09105 Amino acid metabolism                                 1279\n",
       "09181 Protein families: metabolism                          1140\n",
       "09102 Energy metabolism                                      964\n",
       "09101 Carbohydrate metabolism                                646\n",
       "09104 Nucleotide metabolism                                  642\n",
       "09183 Protein families: signaling and cellular processes     627\n",
       "09182 Protein families: genetic information processing       415\n",
       "09103 Lipid metabolism                                       336\n",
       "09106 Metabolism of other amino acids                        300\n",
       "09107 Glycan biosynthesis and metabolism                     289\n",
       "09110 Biosynthesis of other secondary metabolites            286\n",
       "09109 Metabolism of terpenoids and polyketides               282\n",
       "09131 Membrane transport                                     232\n",
       "09124 Replication and repair                                 192\n",
       "09132 Signal transduction                                    175\n",
       "09175 Drug resistance: antimicrobial                         128\n",
       "09191 Unclassified: metabolism                                77\n",
       "09111 Xenobiotics biodegradation and metabolism               67\n",
       "09145 Cellular community - prokaryotes                        64\n",
       "09143 Cell growth and death                                   47\n",
       "09166 Cardiovascular disease                                  33\n",
       "09167 Endocrine and metabolic disease                         33\n",
       "09161 Cancer: overview                                        32\n",
       "09122 Translation                                             32\n",
       "09176 Drug resistance: antineoplastic                         30\n",
       "09171 Infectious disease: bacterial                           18\n",
       "09193 Unclassified: signaling and cellular processes          16\n",
       "09194 Poorly characterized                                    16\n",
       "09158 Development and regeneration                            16\n",
       "09156 Nervous system                                          15\n",
       "09123 Folding, sorting and degradation                        15\n",
       "09141 Transport and catabolism                                14\n",
       "09152 Endocrine system                                         2\n",
       "09162 Cancer: specific types                                   1\n",
       "09121 Transcription                                            1\n",
       "Name: value, dtype: int64"
      ]
     },
     "execution_count": 699,
     "metadata": {},
     "output_type": "execute_result"
    }
   ],
   "source": [
    "gene_uptake_knockout_df['sub'].str.split(' // ', \n",
    "                                         expand=True).melt().dropna()['value'].value_counts()"
   ]
  },
  {
   "cell_type": "code",
   "execution_count": 756,
   "metadata": {},
   "outputs": [],
   "source": [
    "kegg_categories_map = {\n",
    "    '09183 Protein families: signaling and cellular processes' : 'Signal/cellular',\n",
    "    '09132 Signal transduction' : 'Signal/cellular',                                \n",
    "    '09193 Unclassified: signaling and cellular processes' : 'Signal/cellular',\n",
    "    '09143 Cell growth and death' : 'Signal/cellular',                              \n",
    "    #'09132 Signal transduction': 'Signal transduction',\n",
    "    '09109 Metabolism of terpenoids and polyketides' : 'Secondary',\n",
    "    '09182 Protein families: genetic information processing' : 'genetic info',\n",
    "    '09110 Biosynthesis of other secondary metabolites' : 'Secondary', \n",
    "    '09108 Metabolism of cofactors and vitamins': 'Secondary',\n",
    "    '09102 Energy metabolism' : 'Energy',\n",
    "    '09101 Carbohydrate metabolism': 'Carbohydrate',\n",
    "    '09104 Nucleotide metabolism' : 'Nucleotide',\n",
    "    '09105 Amino acid metabolism' : 'Amino acid',\n",
    "    '09106 Metabolism of other amino acids' : 'Amino acid',\n",
    "    #'09143 Cell growth and death', 'Cell growth and death',\n",
    "    #'09123 Folding, sorting and degradation' : 'Folding'\n",
    "    #'09141 Transport and catabolism' : ''\n",
    "#09124 Replication and repair                                 12\n",
    "    #'09131 Membrane transport' : 'Membrane transport',\n",
    "    '09103 Lipid metabolism' : 'Lipid',\n",
    "    '09107 Glycan biosynthesis and metabolism' : 'Glycan',\n",
    "}\n"
   ]
  },
  {
   "cell_type": "code",
   "execution_count": 757,
   "metadata": {},
   "outputs": [
    {
     "data": {
      "text/plain": [
       "Index(['gene_id', 'gene', 'product', 'status', 'main', 'sub', 'path', 'ecpath',\n",
       "       'baseMean', 'log2FoldChange', 'lfcSE', 'stat', 'pvalue', 'padj',\n",
       "       'contrast', 'Length', 'organism', 'protein_id'],\n",
       "      dtype='object')"
      ]
     },
     "execution_count": 757,
     "metadata": {},
     "output_type": "execute_result"
    }
   ],
   "source": [
    "deseq_df.columns"
   ]
  },
  {
   "cell_type": "code",
   "execution_count": 758,
   "metadata": {},
   "outputs": [],
   "source": [
    "kegg_rowanno = deseq_df[['sub', 'log2FoldChange']]\n",
    "kegg_rowanno.index= deseq_df['gene']\n",
    "kegg_rowanno = kegg_rowanno[~kegg_rowanno.index.duplicated(keep='first')]\n",
    "kegg_rowanno = kegg_rowanno.loc[gpdf.index,:]\n",
    "#kegg_rowanno = kegg_rowanno.to_frame(name='cat')"
   ]
  },
  {
   "cell_type": "code",
   "execution_count": 759,
   "metadata": {},
   "outputs": [
    {
     "data": {
      "text/plain": [
       "Index(['sub', 'log2FoldChange'], dtype='object')"
      ]
     },
     "execution_count": 759,
     "metadata": {},
     "output_type": "execute_result"
    }
   ],
   "source": [
    "kegg_rowanno.columns"
   ]
  },
  {
   "cell_type": "markdown",
   "metadata": {},
   "source": [
    "\n",
    "for i, j in kegg_categories_map.items():\n",
    "    kegg_rowanno[j] = kegg_rowanno.cat.str.contains(i)"
   ]
  },
  {
   "cell_type": "code",
   "execution_count": 760,
   "metadata": {},
   "outputs": [],
   "source": [
    "kegg_rowanno['sub'] = kegg_rowanno['sub'].fillna('')\n",
    "for i, j in kegg_categories_map.items():\n",
    "    kegg_rowanno.loc[kegg_rowanno['sub'].str.contains(i), 'Category']  = j\n",
    "kegg_rowanno.loc[kegg_rowanno['Category'].isna(), 'Category']  = 'Other'\n",
    "    "
   ]
  },
  {
   "cell_type": "code",
   "execution_count": 761,
   "metadata": {},
   "outputs": [
    {
     "data": {
      "text/plain": [
       "Amino acid         90\n",
       "Secondary          88\n",
       "Energy             67\n",
       "Signal/cellular    33\n",
       "Other              32\n",
       "Nucleotide         31\n",
       "Carbohydrate       23\n",
       "Lipid              21\n",
       "genetic info       19\n",
       "Glycan             19\n",
       "Name: Category, dtype: int64"
      ]
     },
     "execution_count": 761,
     "metadata": {},
     "output_type": "execute_result"
    }
   ],
   "source": [
    "kegg_rowanno.Category.value_counts()"
   ]
  },
  {
   "cell_type": "code",
   "execution_count": 762,
   "metadata": {},
   "outputs": [
    {
     "data": {
      "text/plain": [
       "                                      24\n",
       "09191 Unclassified: metabolism         6\n",
       "09194 Poorly characterized             1\n",
       "09181 Protein families: metabolism     1\n",
       "Name: value, dtype: int64"
      ]
     },
     "execution_count": 762,
     "metadata": {},
     "output_type": "execute_result"
    }
   ],
   "source": [
    "kegg_rowanno.loc[kegg_rowanno.Category.isin(['Other']), 'sub'].str.split(' // ', \n",
    "                                         expand=True).melt().dropna()['value'].value_counts()"
   ]
  },
  {
   "cell_type": "code",
   "execution_count": 763,
   "metadata": {},
   "outputs": [],
   "source": [
    "kegg_rowanno_sorted = kegg_rowanno.sort_values(by=['Category', 'log2FoldChange' ], ascending=[True, False])"
   ]
  },
  {
   "cell_type": "code",
   "execution_count": 764,
   "metadata": {},
   "outputs": [],
   "source": [
    "gpdf_sorted = gpdf.reindex(kegg_rowanno_sorted.index)\n",
    "gpdf_padj_sorted = gpdf_padj.reindex(kegg_rowanno_sorted.index)\n"
   ]
  },
  {
   "cell_type": "code",
   "execution_count": 765,
   "metadata": {},
   "outputs": [],
   "source": [
    "cl_labels = kegg_rowanno.Category.unique()\n",
    "cl_labels.sort()\n",
    "\n",
    "lut = dict(zip(cl_labels, sns.color_palette(palette='Set1', n_colors=len(cl_labels))))\n",
    "row_anno = kegg_rowanno_sorted.Category.map(lut)"
   ]
  },
  {
   "cell_type": "code",
   "execution_count": 766,
   "metadata": {
    "scrolled": false
   },
   "outputs": [
    {
     "data": {
      "text/plain": [
       "Text(0.5, 1, 'med4 uptake gene knockouts')"
      ]
     },
     "execution_count": 766,
     "metadata": {},
     "output_type": "execute_result"
    },
    {
     "data": {
      "image/png": "[encoded data removed]",
      "text/plain": [
       "<Figure size 360x720 with 5 Axes>"
      ]
     },
     "metadata": {
      "needs_background": "light"
     },
     "output_type": "display_data"
    }
   ],
   "source": [
    "from matplotlib.patches import Patch\n",
    "sel = ((gpdf != 0).sum(axis=1) >8) & ((gpdf != 0).sum(axis=1) < gpdf.shape[1])\n",
    "sns.clustermap(data=gpdf_sorted.loc[sel], \n",
    "               mask=(gpdf_sorted.loc[sel] == 0),\n",
    "               #annot=gpdf_padj_sorted.loc[sel], fmt='',\n",
    "               row_colors=row_anno.loc[sel],\n",
    "               figsize=(5,10), lw=0.001, cmap='coolwarm', center=0,\n",
    "              colors_ratio=0.04, \n",
    "               dendrogram_ratio=0.01,\n",
    "               linecolor='lightgrey',\n",
    "               row_cluster=False,\n",
    "               cbar_pos=(1, .2, .01, .4),\n",
    "               yticklabels=False,\n",
    "              )\n",
    "\n",
    "handles = [Patch(facecolor=lut[name]) for name in lut]\n",
    "plt.legend(handles, lut, title='Category',\n",
    "           bbox_to_anchor=(1.3, 1), bbox_transform=plt.gcf().transFigure, loc='upper right')\n",
    "\n",
    "plt.suptitle('med4 uptake gene knockouts', y=1)"
   ]
  },
  {
   "cell_type": "code",
   "execution_count": 768,
   "metadata": {
    "scrolled": false
   },
   "outputs": [
    {
     "data": {
      "text/plain": [
       "Text(0.5, 1, 'med4 uptake gene knockouts')"
      ]
     },
     "execution_count": 768,
     "metadata": {},
     "output_type": "execute_result"
    },
    {
     "data": {
      "image/png": "[encoded data removed]",
      "text/plain": [
       "<Figure size 360x720 with 5 Axes>"
      ]
     },
     "metadata": {
      "needs_background": "light"
     },
     "output_type": "display_data"
    }
   ],
   "source": [
    "from matplotlib.patches import Patch\n",
    "sel = (gpdf != 0).sum(axis=1) <=8\n",
    "sns.clustermap(data=gpdf_sorted.loc[sel], \n",
    "               mask=(gpdf_sorted.loc[sel] == 0),\n",
    "               annot=gpdf_padj_sorted.loc[sel], fmt='',\n",
    "               row_colors=row_anno.loc[sel],\n",
    "               figsize=(5,10), lw=0.01, cmap='coolwarm', center=0,\n",
    "              colors_ratio=0.04, \n",
    "               dendrogram_ratio=0.01,\n",
    "               linecolor='lightgrey',\n",
    "               row_cluster=False,\n",
    "               cbar_pos=(1, .2, .01, .4),\n",
    "              )\n",
    "\n",
    "handles = [Patch(facecolor=lut[name]) for name in lut]\n",
    "plt.legend(handles, lut, title='Category',\n",
    "           bbox_to_anchor=(1.3, 1), bbox_transform=plt.gcf().transFigure, loc='upper right')\n",
    "\n",
    "plt.suptitle('med4 uptake gene knockouts', y=1)"
   ]
  },
  {
   "cell_type": "code",
   "execution_count": null,
   "metadata": {},
   "outputs": [],
   "source": []
  },
  {
   "cell_type": "code",
   "execution_count": 722,
   "metadata": {
    "scrolled": false
   },
   "outputs": [
    {
     "data": {
      "text/plain": [
       "Text(0.5, 1, 'med4 uptake reaction knockouts')"
      ]
     },
     "execution_count": 722,
     "metadata": {},
     "output_type": "execute_result"
    },
    {
     "data": {
      "image/png": "[encoded data removed]",
      "text/plain": [
       "<Figure size 360x720 with 4 Axes>"
      ]
     },
     "metadata": {
      "needs_background": "light"
     },
     "output_type": "display_data"
    }
   ],
   "source": [
    "sel = rpdf.sum(axis=1)< 14\n",
    "sns.set_context('paper')\n",
    "sns.clustermap(data=rpdf.loc[sel], \n",
    "               yticklabels= rpdf.loc[sel].index.str.slice(0, 20),\n",
    "               figsize=(5,10), lw=0.01,\n",
    "               dendrogram_ratio=0.01,\n",
    "               linecolor='lightgrey',\n",
    "               cbar_pos=(1, .2, .01, .4),\n",
    "#                 #cmap='coolwarm',\n",
    "#                row_cluster=False,\n",
    "              )\n",
    "\n",
    "\n",
    "\n",
    "\n",
    "plt.suptitle('med4 uptake reaction knockouts', y=1)"
   ]
  },
  {
   "cell_type": "code",
   "execution_count": 774,
   "metadata": {},
   "outputs": [],
   "source": [
    "from openpyxl import load_workbook\n",
    "\n",
    "fpath = 'data/PRO_N_sources.xlsx'\n",
    "\n",
    "book = load_workbook(fpath)\n",
    "writer = pd.ExcelWriter(fpath, engine = 'openpyxl')\n",
    "writer.book = book\n",
    "writer.sheets = dict((ws.title, ws) for ws in book.worksheets)\n",
    "\n",
    "gene_uptake_knockout_df.to_excel(writer, sheet_name = 'gene_knockout_uptake')\n",
    "reaction_uptake_knockout_df.to_excel(writer, sheet_name = 'reactin_knockout_uptake')\n",
    "#writer.save()\n",
    "writer.close()"
   ]
  },
  {
   "cell_type": "code",
   "execution_count": 769,
   "metadata": {},
   "outputs": [
    {
     "data": {
      "text/html": [
       "<div>\n",
       "<style scoped>\n",
       "    .dataframe tbody tr th:only-of-type {\n",
       "        vertical-align: middle;\n",
       "    }\n",
       "\n",
       "    .dataframe tbody tr th {\n",
       "        vertical-align: top;\n",
       "    }\n",
       "\n",
       "    .dataframe thead th {\n",
       "        text-align: right;\n",
       "    }\n",
       "</style>\n",
       "<table border=\"1\" class=\"dataframe\">\n",
       "  <thead>\n",
       "    <tr style=\"text-align: right;\">\n",
       "      <th></th>\n",
       "      <th>Unnamed: 0</th>\n",
       "      <th>secretion</th>\n",
       "      <th>minimum</th>\n",
       "      <th>maximum</th>\n",
       "      <th>uptake</th>\n",
       "      <th>metabolite_uptake</th>\n",
       "      <th>N_uptake</th>\n",
       "      <th>C_uptake</th>\n",
       "      <th>metabolite_secretion</th>\n",
       "      <th>N_secretion</th>\n",
       "      <th>C_secretion</th>\n",
       "    </tr>\n",
       "  </thead>\n",
       "  <tbody>\n",
       "    <tr>\n",
       "      <th>0</th>\n",
       "      <td>0</td>\n",
       "      <td>B12EX</td>\n",
       "      <td>0.000000</td>\n",
       "      <td>7.941910</td>\n",
       "      <td>GuanosineEX</td>\n",
       "      <td>Guanosine[e]</td>\n",
       "      <td>False</td>\n",
       "      <td>False</td>\n",
       "      <td>Cobamide coenzyme</td>\n",
       "      <td>True</td>\n",
       "      <td>True</td>\n",
       "    </tr>\n",
       "    <tr>\n",
       "      <th>1</th>\n",
       "      <td>1</td>\n",
       "      <td>BiotinEX</td>\n",
       "      <td>0.000000</td>\n",
       "      <td>1.985477</td>\n",
       "      <td>GuanosineEX</td>\n",
       "      <td>Guanosine[e]</td>\n",
       "      <td>False</td>\n",
       "      <td>False</td>\n",
       "      <td>Biotin</td>\n",
       "      <td>True</td>\n",
       "      <td>True</td>\n",
       "    </tr>\n",
       "    <tr>\n",
       "      <th>2</th>\n",
       "      <td>2</td>\n",
       "      <td>MethanolEX</td>\n",
       "      <td>0.000042</td>\n",
       "      <td>1.985519</td>\n",
       "      <td>GuanosineEX</td>\n",
       "      <td>Guanosine[e]</td>\n",
       "      <td>False</td>\n",
       "      <td>False</td>\n",
       "      <td>Methanol</td>\n",
       "      <td>False</td>\n",
       "      <td>True</td>\n",
       "    </tr>\n",
       "    <tr>\n",
       "      <th>3</th>\n",
       "      <td>3</td>\n",
       "      <td>SAdenosyl4methylthio2oxobutanoateEX</td>\n",
       "      <td>0.000042</td>\n",
       "      <td>1.985519</td>\n",
       "      <td>GuanosineEX</td>\n",
       "      <td>Guanosine[e]</td>\n",
       "      <td>False</td>\n",
       "      <td>False</td>\n",
       "      <td>S-Adenosyl-4-methylthio-2-oxobutanoate</td>\n",
       "      <td>True</td>\n",
       "      <td>True</td>\n",
       "    </tr>\n",
       "    <tr>\n",
       "      <th>4</th>\n",
       "      <td>4</td>\n",
       "      <td>SMethyl5thioDriboseEX</td>\n",
       "      <td>0.000000</td>\n",
       "      <td>15.884229</td>\n",
       "      <td>GuanosineEX</td>\n",
       "      <td>Guanosine[e]</td>\n",
       "      <td>False</td>\n",
       "      <td>False</td>\n",
       "      <td>S-Methyl-5-thio-D-ribose</td>\n",
       "      <td>False</td>\n",
       "      <td>True</td>\n",
       "    </tr>\n",
       "  </tbody>\n",
       "</table>\n",
       "</div>"
      ],
      "text/plain": [
       "   Unnamed: 0                            secretion   minimum    maximum  \\\n",
       "0           0                                B12EX  0.000000   7.941910   \n",
       "1           1                             BiotinEX  0.000000   1.985477   \n",
       "2           2                           MethanolEX  0.000042   1.985519   \n",
       "3           3  SAdenosyl4methylthio2oxobutanoateEX  0.000042   1.985519   \n",
       "4           4                SMethyl5thioDriboseEX  0.000000  15.884229   \n",
       "\n",
       "        uptake metabolite_uptake  N_uptake  C_uptake  \\\n",
       "0  GuanosineEX      Guanosine[e]     False     False   \n",
       "1  GuanosineEX      Guanosine[e]     False     False   \n",
       "2  GuanosineEX      Guanosine[e]     False     False   \n",
       "3  GuanosineEX      Guanosine[e]     False     False   \n",
       "4  GuanosineEX      Guanosine[e]     False     False   \n",
       "\n",
       "                     metabolite_secretion  N_secretion  C_secretion  \n",
       "0                       Cobamide coenzyme         True         True  \n",
       "1                                  Biotin         True         True  \n",
       "2                                Methanol        False         True  \n",
       "3  S-Adenosyl-4-methylthio-2-oxobutanoate         True         True  \n",
       "4                S-Methyl-5-thio-D-ribose        False         True  "
      ]
     },
     "execution_count": 769,
     "metadata": {},
     "output_type": "execute_result"
    }
   ],
   "source": [
    "n_exchange_df.head()                          "
   ]
  },
  {
   "cell_type": "code",
   "execution_count": 770,
   "metadata": {},
   "outputs": [
    {
     "data": {
      "text/plain": [
       "(881, 11)"
      ]
     },
     "execution_count": 770,
     "metadata": {},
     "output_type": "execute_result"
    }
   ],
   "source": [
    "n_exchange_df.shape"
   ]
  },
  {
   "cell_type": "code",
   "execution_count": null,
   "metadata": {
    "scrolled": true
   },
   "outputs": [],
   "source": [
    "tdf = n_exchange_df\n",
    "dpath = 'gene_knockout_secreted_18082022'\n",
    "knockout_success = [\n",
    "    _gene_deletion_feeding_with_timeout(dpath, u, s, m, timeout=10)\n",
    "    for (u, s, m) in zip(tdf['uptake'], tdf['secretion'], tdf['maximum'])\n",
    "]\n"
   ]
  },
  {
   "cell_type": "code",
   "execution_count": null,
   "metadata": {},
   "outputs": [],
   "source": []
  },
  {
   "cell_type": "code",
   "execution_count": null,
   "metadata": {
    "scrolled": true
   },
   "outputs": [],
   "source": [
    "tdf = n_exchange_df.loc[n_exchange_df.knockout_success1 == 'timeout']\n",
    "dpath = 'gene_knockout_secreted_18082022'\n",
    "knockout_success = [\n",
    "    _gene_deletion_feeding_with_timeout(dpath, u, s, m, timeout=20)\n",
    "    for (u, s, m) in zip(tdf['uptake'], tdf['secretion'], tdf['maximum'])\n",
    "]\n"
   ]
  },
  {
   "cell_type": "code",
   "execution_count": null,
   "metadata": {},
   "outputs": [],
   "source": [
    "len(knockout_success)\n",
    "\n",
    "n_exchange_df.loc[n_exchange_df.knockout_success1 == 'timeout', 'knockout_success2'] = knockout_success"
   ]
  },
  {
   "cell_type": "code",
   "execution_count": null,
   "metadata": {},
   "outputs": [],
   "source": [
    "n_exchange_df.loc[\n",
    "    n_exchange_df.knockout_success1 != 'timeout', 'knockout_success2'\n",
    "] = n_exchange_df.loc[\n",
    "    n_exchange_df.knockout_success1 != 'timeout', 'knockout_success1'\n",
    "]"
   ]
  },
  {
   "cell_type": "code",
   "execution_count": null,
   "metadata": {},
   "outputs": [],
   "source": [
    "n_exchange_df.knockout_success2.value_counts()"
   ]
  },
  {
   "cell_type": "code",
   "execution_count": null,
   "metadata": {
    "scrolled": true
   },
   "outputs": [],
   "source": [
    "tdf = n_exchange_df.loc[n_exchange_df.knockout_success2 == 'timeout']\n",
    "dpath = 'gene_knockout_secreted_18082022'\n",
    "knockout_success = [\n",
    "    _gene_deletion_feeding_with_timeout(dpath, u, s, m, timeout=20)\n",
    "    for (u, s, m) in zip(tdf['uptake'], tdf['secretion'], tdf['maximum'])\n",
    "]\n"
   ]
  },
  {
   "cell_type": "code",
   "execution_count": null,
   "metadata": {},
   "outputs": [],
   "source": []
  },
  {
   "cell_type": "code",
   "execution_count": null,
   "metadata": {},
   "outputs": [],
   "source": [
    "len(knockout_success)\n",
    "\n",
    "n_exchange_df.loc[n_exchange_df.knockout_success2 == 'timeout', 'knockout_success3'] = knockout_success"
   ]
  },
  {
   "cell_type": "code",
   "execution_count": null,
   "metadata": {},
   "outputs": [],
   "source": [
    "n_exchange_df.loc[\n",
    "    n_exchange_df.knockout_success2 != 'timeout', 'knockout_success3'\n",
    "] = n_exchange_df.loc[\n",
    "    n_exchange_df.knockout_success2 != 'timeout', 'knockout_success2'\n",
    "]"
   ]
  },
  {
   "cell_type": "code",
   "execution_count": null,
   "metadata": {},
   "outputs": [],
   "source": [
    "n_exchange_df.knockout_success3.value_counts()"
   ]
  },
  {
   "cell_type": "code",
   "execution_count": null,
   "metadata": {},
   "outputs": [],
   "source": []
  },
  {
   "cell_type": "code",
   "execution_count": null,
   "metadata": {
    "scrolled": true
   },
   "outputs": [],
   "source": [
    "tdf = n_exchange_df.loc[n_exchange_df.knockout_success3 != 'success']\n",
    "dpath = 'gene_knockout_secreted_18082022'\n",
    "knockout_success = [\n",
    "    _gene_deletion_feeding_with_timeout(dpath, u, s, m, timeout=20)\n",
    "    for (u, s, m) in zip(tdf['uptake'], tdf['secretion'], tdf['maximum'])\n",
    "]\n"
   ]
  },
  {
   "cell_type": "code",
   "execution_count": null,
   "metadata": {},
   "outputs": [],
   "source": [
    "len(knockout_success)\n"
   ]
  },
  {
   "cell_type": "code",
   "execution_count": null,
   "metadata": {},
   "outputs": [],
   "source": []
  },
  {
   "cell_type": "code",
   "execution_count": null,
   "metadata": {},
   "outputs": [],
   "source": [
    "\n",
    "n_exchange_df.loc[n_exchange_df.knockout_success3 != 'success', 'knockout_success4'] = knockout_success"
   ]
  },
  {
   "cell_type": "code",
   "execution_count": null,
   "metadata": {},
   "outputs": [],
   "source": [
    "n_exchange_df.loc[\n",
    "    n_exchange_df.knockout_success3 == 'success', 'knockout_success4'\n",
    "] = n_exchange_df.loc[\n",
    "    n_exchange_df.knockout_success3 == 'success', 'knockout_success3'\n",
    "]"
   ]
  },
  {
   "cell_type": "code",
   "execution_count": null,
   "metadata": {},
   "outputs": [],
   "source": [
    "n_exchange_df.knockout_success4.value_counts()"
   ]
  },
  {
   "cell_type": "code",
   "execution_count": null,
   "metadata": {},
   "outputs": [],
   "source": [
    "dpath = 'gene_knockout_secreted_18082022'\n",
    "os.listdir(dpath)"
   ]
  },
  {
   "cell_type": "code",
   "execution_count": null,
   "metadata": {},
   "outputs": [],
   "source": [
    "knockout_df = pd.concat([pd.read_csv(os.path.join(dpath, i)) for i in os.listdir(dpath)])"
   ]
  },
  {
   "cell_type": "code",
   "execution_count": null,
   "metadata": {},
   "outputs": [],
   "source": [
    "knockout_df.groupby(['ids','uptake'])['secretion'].count()"
   ]
  },
  {
   "cell_type": "code",
   "execution_count": null,
   "metadata": {},
   "outputs": [],
   "source": [
    "knockout_df.groupby(['ids'])['secretion'].count().nlargest(30)"
   ]
  },
  {
   "cell_type": "code",
   "execution_count": null,
   "metadata": {},
   "outputs": [],
   "source": [
    "knockout_df.pivot_table(index=['ids'], columns=['secretion'], aggfunc='count', values='uptake')"
   ]
  },
  {
   "cell_type": "code",
   "execution_count": null,
   "metadata": {},
   "outputs": [],
   "source": [
    "knockout_df.pivot_table(index=['ids'], columns=['uptake'], aggfunc='count', values='secretion')"
   ]
  },
  {
   "cell_type": "code",
   "execution_count": null,
   "metadata": {},
   "outputs": [],
   "source": [
    "n_exchange_df.secretion.nunique()"
   ]
  },
  {
   "cell_type": "code",
   "execution_count": null,
   "metadata": {},
   "outputs": [],
   "source": []
  }
 ],
 "metadata": {
  "kernelspec": {
   "display_name": "Python 3 (ipykernel)",
   "language": "python",
   "name": "python3"
  },
  "language_info": {
   "codemirror_mode": {
    "name": "ipython",
    "version": 3
   },
   "file_extension": ".py",
   "mimetype": "text/x-python",
   "name": "python",
   "nbconvert_exporter": "python",
   "pygments_lexer": "ipython3",
   "version": "3.9.7"
  }
 },
 "nbformat": 4,
 "nbformat_minor": 2
}
